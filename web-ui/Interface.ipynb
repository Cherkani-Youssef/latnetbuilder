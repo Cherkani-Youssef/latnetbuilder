{
 "cells": [
  {
   "cell_type": "markdown",
   "metadata": {},
   "source": [
    "# Lattice Builder\n",
    "\n",
    "### Search for good rank-1 lattices\n",
    "\n",
    "This Web interface allows Lattice Builder users to call the executable program without having to construct the command line explicitly. Refer to the Lattice Builder Manual and to the reference paper for more information.\n",
    "\n",
    "Enter the construction parameters below, and press the Search button at the bottom. The results will show at the bottom. \n",
    "\n",
    "## Search criteria :"
   ]
  },
  {
   "cell_type": "code",
   "execution_count": 1,
   "metadata": {},
   "outputs": [],
   "source": [
    "import interface_latbuilder"
   ]
  },
  {
   "cell_type": "code",
   "execution_count": 2,
   "metadata": {},
   "outputs": [],
   "source": [
    "interface_latbuilder.LATBUILDER = '/home/pmarion/Documents/Stage_3A/latsoft/bin/latbuilder'"
   ]
  },
  {
   "cell_type": "code",
   "execution_count": 3,
   "metadata": {
    "scrolled": false
   },
   "outputs": [
    {
     "data": {
      "application/vnd.jupyter.widget-view+json": {
       "model_id": "1ff48ab58ea14cb89a9085ccbac25d95",
       "version_major": 2,
       "version_minor": 0
      },
      "text/html": [
       "<p>Failed to display Jupyter Widget of type <code>Tab</code>.</p>\n",
       "<p>\n",
       "  If you're reading this message in the Jupyter Notebook or JupyterLab Notebook, it may mean\n",
       "  that the widgets JavaScript is still loading. If this message persists, it\n",
       "  likely means that the widgets JavaScript library is either not installed or\n",
       "  not enabled. See the <a href=\"https://ipywidgets.readthedocs.io/en/stable/user_install.html\">Jupyter\n",
       "  Widgets Documentation</a> for setup instructions.\n",
       "</p>\n",
       "<p>\n",
       "  If you're reading this message in another frontend (for example, a static\n",
       "  rendering on GitHub or <a href=\"https://nbviewer.jupyter.org/\">NBViewer</a>),\n",
       "  it may mean that your frontend doesn't currently support widgets.\n",
       "</p>\n"
      ],
      "text/plain": [
       "Tab(children=(VBox(children=(Accordion(children=(HBox(children=(Text(value='', description='Modulus n=', layout=Layout(width='30%'), placeholder='e.g. 2^10 or 1024', style=DescriptionStyle(description_width='initial')), Checkbox(value=False, description='Embedded'), BoundedIntText(value=3, description='Dimension s:', layout=Layout(width='20%'), min=1, style=DescriptionStyle(description_width='initial')))),), _titles={'0': 'Basic Lattice properties'}), Accordion(children=(VBox(children=(HBox(children=(Checkbox(value=False, description='Normalization', style=DescriptionStyle(description_width='initial')), Checkbox(value=False, description='Low-Pass Filter', style=DescriptionStyle(description_width='initial')), Checkbox(value=False, description='Combiner', style=DescriptionStyle(description_width='initial')))), VBox(children=(HBox(children=(Dropdown(description='Normalization Type:', layout=Layout(width='30%'), options=('SL10 Palpha', 'DPW08 Palpha'), style=DescriptionStyle(description_width='initial'), value='SL10 Palpha'), HTML(value='<p style=\"color:red\"> Warning: DPW08 Palpha works only with product weights</p>'))), HBox(children=(Text(value='', description='Min Level (optional):', layout=Layout(margin='0px 10px 0px 0px', width='22%'), placeholder='1', style=DescriptionStyle(description_width='initial')), Text(value='', description='Max Level (optional):', layout=Layout(width='22%'), placeholder='10', style=DescriptionStyle(description_width='initial'))), layout=Layout(margin='0px 0px 0px 80px'))), layout=Layout(display='none')), Text(value='1', description='Low-Pass Threshold', layout=Layout(display='none', width='25%'), style=DescriptionStyle(description_width='initial')), HBox(children=(Dropdown(description='Combiner:', options=(('weighted sum', 'sum'), ('maximum weighted value', 'max'), ('weighted value of the highest level', 'level:max'), ('weighted value of a specific level', 'level:')), style=DescriptionStyle(description_width='initial'), value=None), BoundedIntText(value=1, description='Level:', layout=Layout(display='none', width='15%'), min=1)), layout=Layout(display='none')))),), layout=Layout(display='none'), selected_index=None, _titles={'0': 'For Embedded Lattices: multilevel filters and combiners (optional)'}), Accordion(children=(VBox(children=(HTMLMath(value='<p> Please note that: </p>                      <ul>                        <li> The Coordinate-Uniform method is generally faster, but requires \\\\(q = 2\\\\) </li>                         <li> The Spectral figure cannot be be evaluated by the Coordinate-Uniform method </li>                         <li> The \\\\(P_\\\\alpha \\\\) method requires \\\\( \\\\alpha \\\\in \\\\{ 2, 4, 6 \\\\} \\\\) </li>                      </ul>'), HBox(children=(Dropdown(description='Figure:', layout=Layout(width='15%'), options=('Palpha', 'Ralpha', 'Spectral'), style=DescriptionStyle(description_width='initial'), value='Palpha'), Text(value='2', description='Value of \\\\(\\\\alpha\\\\):', layout=Layout(width='15%'), style=DescriptionStyle(description_width='initial')), Checkbox(value=True, description='Coordinate-Uniform evaluation', style=DescriptionStyle(description_width='initial')), Text(value='2', description='Norm type \\\\(q>0\\\\) or \\\\(q\\\\) = \"inf\":', disabled=True, layout=Layout(width='24%'), style=DescriptionStyle(description_width='initial'))), layout=Layout(justify_content='space-between')))),), _titles={'0': 'Figure of Merit'}), Accordion(children=(VBox(children=(HTMLMath(value='The weights are of the form: \\\\(\\\\gamma_u^p (u \\\\subseteq \\\\{1, ... s\\\\})\\\\). You can specify below type of weights with their values (the actual weights are the sum of these).', layout=Layout(height='30px', width='inherit')), HBox(children=(Text(value='2', description='<b> Set Weights Power \\\\(p\\\\): </b>', layout=Layout(width='21%'), style=DescriptionStyle(description_width='initial')), Dropdown(description='<b> Add new weights: </b>', options=(('Product', 'product:'), ('Order-Dependent', 'order-dependent:'), ('POD', 'POD'), ('Projection-Dependent', 'projection-dependent')), style=DescriptionStyle(description_width='initial'), value=None)), layout=Layout(justify_content='space-around')), VBox(children=(VBox(children=(HBox(children=(HTML(value='<b> Product Weights </b>'), Label(value='$$\\\\gamma_u=\\\\prod_{j\\\\in u} \\\\gamma_j$$', layout=Layout(height='50px', width='100px')), Button(description='Remove', style=ButtonStyle(), tooltip='Remove this type of weights')), layout=Layout(justify_content='space-around')), VBox(children=(HBox(children=(HTMLMath(value='Set Coordinate Weights \\\\( \\\\gamma_j^p \\\\):', layout=Layout(width='30%')), HBox(children=(Text(value='0.1', layout=Layout(width='10%')), Text(value='0.1', layout=Layout(width='10%')), Text(value='0.1', layout=Layout(width='10%')))))), Text(value='', description='OR set all at once with (valid Python) expression: \\\\( \\\\gamma_j^p \\\\)=', layout=Layout(margin='0px 0px 0px 80px', width='550px'), placeholder='e.g.: 0.1**j', style=DescriptionStyle(description_width='initial'))))), layout=Layout(margin='30px 0px 0px 0px')),)))),), _titles={'0': 'Weights'}), Accordion(children=(VBox(children=(ToggleButtons(description='Choose one:', options=(('Evaluate/Extend', 'explicit:'), ('All space', 'exhaustive'), ('Korobov', 'Korobov'), ('CBC', 'CBC'), ('Fast CBC', 'fast-CBC')), style=ToggleButtonsStyle(description_width='initial'), value=None), HTMLMath(value=''), VBox(children=(HBox(children=(Label(value='Generating vector:'), Text(value='1', layout=Layout(width='10%'), style=DescriptionStyle(description_width='initial')), Text(value='1', layout=Layout(width='10%'), style=DescriptionStyle(description_width='initial')), Text(value='1', layout=Layout(width='10%'), style=DescriptionStyle(description_width='initial')))), Text(value='', description='If you want to extend, please specify the former modulus:', layout=Layout(width='65%'), placeholder='e.g. 2^8 or 256', style=DescriptionStyle(description_width='initial'))), layout=Layout(display='none')), HBox(children=(Checkbox(value=False, description='Random choice of \\\\(r\\\\) points'), Text(value='10', description='Set \\\\(r\\\\):')), layout=Layout(display='none')))),), _titles={'0': 'Construction Method'}), Accordion(children=(VBox(children=(HBox(children=(Checkbox(value=False, description='Normalization', style=DescriptionStyle(description_width='initial')), Checkbox(value=False, description='Low-Pass Filter', style=DescriptionStyle(description_width='initial')))), HBox(children=(Dropdown(description='Normalization Type:', layout=Layout(width='30%'), options=('SL10 Palpha', 'DPW08 Palpha'), style=DescriptionStyle(description_width='initial'), value='SL10 Palpha'), HTML(value='<p style=\"color:red\"> Warning: DPW08 Palpha works only with product weights</p>')), layout=Layout(display='none')), Text(value='1', description='Low-Pass Threshold', layout=Layout(display='none', width='25%'), style=DescriptionStyle(description_width='initial')))),), selected_index=None, _titles={'0': 'Filters (optional)'}), HBox(children=(Button(description='Search', style=ButtonStyle()), ToggleButton(value=False, button_style='warning', description='Abort search', disabled=True), Button(description='Construct command line', layout=Layout(width='200px'), style=ButtonStyle())), layout=Layout(margin='30px 0px 0px 0px')), HTML(value='', description='<b> Command line: </b>', layout=Layout(width='900px'), style=DescriptionStyle(description_width='initial')), HTML(value='', description='<b> Result: </b>', layout=Layout(width='900px')), ToggleButton(value=False, description='Display plot + code to generate points', disabled=True, layout=Layout(width='300px'), tooltip='Description'))), VBox(children=(Accordion(children=(HBox(children=(Text(value='', description='Modulus n=', layout=Layout(width='30%'), placeholder='e.g. 2^10 or 1024', style=DescriptionStyle(description_width='initial')), Checkbox(value=False, description='Embedded'), BoundedIntText(value=3, description='Dimension s:', layout=Layout(width='20%'), min=1, style=DescriptionStyle(description_width='initial')))),), _titles={'0': 'Basic Lattice properties'}), Accordion(children=(VBox(children=(HBox(children=(Checkbox(value=False, description='Normalization', style=DescriptionStyle(description_width='initial')), Checkbox(value=False, description='Low-Pass Filter', style=DescriptionStyle(description_width='initial')), Checkbox(value=False, description='Combiner', style=DescriptionStyle(description_width='initial')))), VBox(children=(HBox(children=(Dropdown(description='Normalization Type:', layout=Layout(width='30%'), options=('SL10 Palpha', 'DPW08 Palpha'), style=DescriptionStyle(description_width='initial'), value='SL10 Palpha'), HTML(value='<p style=\"color:red\"> Warning: DPW08 Palpha works only with product weights</p>'))), HBox(children=(Text(value='', description='Min Level (optional):', layout=Layout(margin='0px 10px 0px 0px', width='22%'), placeholder='1', style=DescriptionStyle(description_width='initial')), Text(value='', description='Max Level (optional):', layout=Layout(width='22%'), placeholder='10', style=DescriptionStyle(description_width='initial'))), layout=Layout(margin='0px 0px 0px 80px'))), layout=Layout(display='none')), Text(value='1', description='Low-Pass Threshold', layout=Layout(display='none', width='25%'), style=DescriptionStyle(description_width='initial')), HBox(children=(Dropdown(description='Combiner:', options=(('weighted sum', 'sum'), ('maximum weighted value', 'max'), ('weighted value of the highest level', 'level:max'), ('weighted value of a specific level', 'level:')), style=DescriptionStyle(description_width='initial'), value=None), BoundedIntText(value=1, description='Level:', layout=Layout(display='none', width='15%'), min=1)), layout=Layout(display='none')))),), layout=Layout(display='none'), selected_index=None, _titles={'0': 'For Embedded Lattices: multilevel filters and combiners (optional)'}), Accordion(children=(VBox(children=(HTMLMath(value='<p> Please note that: </p>                      <ul>                        <li> The Coordinate-Uniform method is generally faster, but requires \\\\(q = 2\\\\) </li>                         <li> The Spectral figure cannot be be evaluated by the Coordinate-Uniform method </li>                         <li> The \\\\(P_\\\\alpha \\\\) method requires \\\\( \\\\alpha \\\\in \\\\{ 2, 4, 6 \\\\} \\\\) </li>                      </ul>'), HBox(children=(Dropdown(description='Figure:', layout=Layout(width='15%'), options=('Palpha', 'Ralpha', 'Spectral'), style=DescriptionStyle(description_width='initial'), value='Palpha'), Text(value='2', description='Value of \\\\(\\\\alpha\\\\):', layout=Layout(width='15%'), style=DescriptionStyle(description_width='initial')), Checkbox(value=True, description='Coordinate-Uniform evaluation', style=DescriptionStyle(description_width='initial')), Text(value='2', description='Norm type \\\\(q>0\\\\) or \\\\(q\\\\) = \"inf\":', disabled=True, layout=Layout(width='24%'), style=DescriptionStyle(description_width='initial'))), layout=Layout(justify_content='space-between')))),), _titles={'0': 'Figure of Merit'}), Accordion(children=(VBox(children=(HTMLMath(value='The weights are of the form: \\\\(\\\\gamma_u^p (u \\\\subseteq \\\\{1, ... s\\\\})\\\\). You can specify below type of weights with their values (the actual weights are the sum of these).', layout=Layout(height='30px', width='inherit')), HBox(children=(Text(value='2', description='<b> Set Weights Power \\\\(p\\\\): </b>', layout=Layout(width='21%'), style=DescriptionStyle(description_width='initial')), Dropdown(description='<b> Add new weights: </b>', options=(('Product', 'product:'), ('Order-Dependent', 'order-dependent:'), ('POD', 'POD'), ('Projection-Dependent', 'projection-dependent')), style=DescriptionStyle(description_width='initial'), value=None)), layout=Layout(justify_content='space-around')), VBox(children=(VBox(children=(HBox(children=(HTML(value='<b> Product Weights </b>'), Label(value='$$\\\\gamma_u=\\\\prod_{j\\\\in u} \\\\gamma_j$$', layout=Layout(height='50px', width='100px')), Button(description='Remove', style=ButtonStyle(), tooltip='Remove this type of weights')), layout=Layout(justify_content='space-around')), VBox(children=(HBox(children=(HTMLMath(value='Set Coordinate Weights \\\\( \\\\gamma_j^p \\\\):', layout=Layout(width='30%')), HBox(children=(Text(value='0.1', layout=Layout(width='10%')), Text(value='0.1', layout=Layout(width='10%')), Text(value='0.1', layout=Layout(width='10%')))))), Text(value='', description='OR set all at once with (valid Python) expression: \\\\( \\\\gamma_j^p \\\\)=', layout=Layout(margin='0px 0px 0px 80px', width='550px'), placeholder='e.g.: 0.1**j', style=DescriptionStyle(description_width='initial'))))), layout=Layout(margin='30px 0px 0px 0px')),)))),), _titles={'0': 'Weights'}), Accordion(children=(VBox(children=(ToggleButtons(description='Choose one:', options=(('Evaluate/Extend', 'explicit:'), ('All space', 'exhaustive'), ('Korobov', 'Korobov'), ('CBC', 'CBC'), ('Fast CBC', 'fast-CBC')), style=ToggleButtonsStyle(description_width='initial'), value=None), HTMLMath(value=''), VBox(children=(HBox(children=(Label(value='Generating vector:'), Text(value='1', layout=Layout(width='10%'), style=DescriptionStyle(description_width='initial')), Text(value='1', layout=Layout(width='10%'), style=DescriptionStyle(description_width='initial')), Text(value='1', layout=Layout(width='10%'), style=DescriptionStyle(description_width='initial')))), Text(value='', description='If you want to extend, please specify the former modulus:', layout=Layout(width='65%'), placeholder='e.g. 2^8 or 256', style=DescriptionStyle(description_width='initial'))), layout=Layout(display='none')), HBox(children=(Checkbox(value=False, description='Random choice of \\\\(r\\\\) points'), Text(value='10', description='Set \\\\(r\\\\):')), layout=Layout(display='none')))),), _titles={'0': 'Construction Method'}), Accordion(children=(VBox(children=(HBox(children=(Checkbox(value=False, description='Normalization', style=DescriptionStyle(description_width='initial')), Checkbox(value=False, description='Low-Pass Filter', style=DescriptionStyle(description_width='initial')))), HBox(children=(Dropdown(description='Normalization Type:', layout=Layout(width='30%'), options=('SL10 Palpha', 'DPW08 Palpha'), style=DescriptionStyle(description_width='initial'), value='SL10 Palpha'), HTML(value='<p style=\"color:red\"> Warning: DPW08 Palpha works only with product weights</p>')), layout=Layout(display='none')), Text(value='1', description='Low-Pass Threshold', layout=Layout(display='none', width='25%'), style=DescriptionStyle(description_width='initial')))),), selected_index=None, _titles={'0': 'Filters (optional)'}), HBox(children=(Button(description='Search', style=ButtonStyle()), ToggleButton(value=False, button_style='warning', description='Abort search', disabled=True), Button(description='Construct command line', layout=Layout(width='200px'), style=ButtonStyle())), layout=Layout(margin='30px 0px 0px 0px')), HTML(value='', description='<b> Command line: </b>', layout=Layout(width='900px'), style=DescriptionStyle(description_width='initial')), HTML(value='', description='<b> Result: </b>', layout=Layout(width='900px')), ToggleButton(value=False, description='Display plot + code to generate points', disabled=True, layout=Layout(width='300px'), tooltip='Description')))), _titles={'0': 'Ordinary Lattice', '1': 'Polynomial Lattice'})"
      ]
     },
     "metadata": {},
     "output_type": "display_data"
    },
    {
     "data": {
      "application/vnd.jupyter.widget-view+json": {
       "model_id": "c217c6ecfbcf4b7cb43dfc2692408ecb",
       "version_major": 2,
       "version_minor": 0
      },
      "text/html": [
       "<p>Failed to display Jupyter Widget of type <code>Tab</code>.</p>\n",
       "<p>\n",
       "  If you're reading this message in the Jupyter Notebook or JupyterLab Notebook, it may mean\n",
       "  that the widgets JavaScript is still loading. If this message persists, it\n",
       "  likely means that the widgets JavaScript library is either not installed or\n",
       "  not enabled. See the <a href=\"https://ipywidgets.readthedocs.io/en/stable/user_install.html\">Jupyter\n",
       "  Widgets Documentation</a> for setup instructions.\n",
       "</p>\n",
       "<p>\n",
       "  If you're reading this message in another frontend (for example, a static\n",
       "  rendering on GitHub or <a href=\"https://nbviewer.jupyter.org/\">NBViewer</a>),\n",
       "  it may mean that your frontend doesn't currently support widgets.\n",
       "</p>\n"
      ],
      "text/plain": [
       "Tab(children=(HBox(children=(Figure(axes=[Axis(label='Coordinate 1', scale=LinearScale(max=1.0, min=0.0)), Axis(label='Coordinate 2', orientation='vertical', scale=LinearScale(max=1.0, min=0.0))], fig_margin={'top': 60, 'bottom': 60, 'left': 60, 'right': 60}, layout=Layout(height='650px', width='650px'), marks=[Scatter(colors=['steelblue'], default_size=20, interactions={'hover': 'tooltip'}, scales={'x': LinearScale(max=1.0, min=0.0), 'y': LinearScale(max=1.0, min=0.0)}, scales_metadata={'x': {'orientation': 'horizontal', 'dimension': 'x'}, 'y': {'orientation': 'vertical', 'dimension': 'y'}, 'color': {'dimension': 'color'}, 'size': {'dimension': 'size'}, 'opacity': {'dimension': 'opacity'}, 'rotation': {'dimension': 'rotation'}, 'skew': {'dimension': 'skew'}}, tooltip_style={'opacity': 0.9}, x=array([  0.00000000e+00,   9.76562500e-04,   1.95312500e-03, ...,\n",
       "         9.97070312e-01,   9.98046875e-01,   9.99023438e-01]), y=array([ 0.        ,  0.26855469,  0.53710938, ...,  0.19433594,\n",
       "        0.46289062,  0.73144531]))], scale_x=LinearScale(allow_padding=False, max=1.0, min=0.0), scale_y=LinearScale(allow_padding=False, max=1.0, min=0.0)), VBox(children=(BoundedIntText(value=1, description='x-axis', layout=Layout(width='150px'), max=3, min=1), BoundedIntText(value=2, description='y-axis', layout=Layout(width='150px'), max=3, min=1), BoundedIntText(value=10, description='Level', layout=Layout(width='150px'), max=10, min=1)))), layout=Layout(align_items='center')), Textarea(value='    int n = 1024;\\n    int s = 3;\\n    int a[] = {1, 275, 421};\\n    double points[n][s];\\n    int i, j;\\n    for (i = 0; i < n; i++)\\n        for (j = 0; j < s; j++)\\n            points[i][j] = ((long long)i * a[j]) % n / (double)n;', layout=Layout(height='200px', width='600px')), Textarea(value='    n = 1024;\\n    a = [1, 275, 421];\\n    points = [[(i * aj % n) / float(n) for aj in a] for i in range(n)]', layout=Layout(height='100px', width='600px')), Textarea(value='    n = 1024;\\n    a = [1, 275, 421];\\n    points = zeros(n,length(a));\\n    for i = 1:n\\n        points(i,:) = mod((i - 1) * a, n) / n;\\n    end', layout=Layout(height='150px', width='600px'))), _titles={'0': 'Plot', '1': 'C code', '2': 'Python code', '3': 'Matlab code'})"
      ]
     },
     "metadata": {},
     "output_type": "display_data"
    }
   ],
   "source": [
    "display(interface_latbuilder.main_gui)"
   ]
  },
  {
   "cell_type": "code",
   "execution_count": null,
   "metadata": {
    "collapsed": true
   },
   "outputs": [],
   "source": []
  }
 ],
 "metadata": {
  "kernelspec": {
   "display_name": "Python 3",
   "language": "python",
   "name": "python3"
  },
  "language_info": {
   "codemirror_mode": {
    "name": "ipython",
    "version": 3
   },
   "file_extension": ".py",
   "mimetype": "text/x-python",
   "name": "python",
   "nbconvert_exporter": "python",
   "pygments_lexer": "ipython3",
   "version": "3.6.3"
  }
 },
 "nbformat": 4,
 "nbformat_minor": 2
}
