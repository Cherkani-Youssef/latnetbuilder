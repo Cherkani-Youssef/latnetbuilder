{
 "cells": [
  {
   "cell_type": "markdown",
   "metadata": {},
   "source": [
    "# Lattice Builder\n",
    "\n",
    "### Search for good rank-1 lattices\n",
    "\n",
    "This Web interface allows Lattice Builder users to call the executable program without having to construct the command line explicitly. Refer to the Lattice Builder Manual and to the reference paper for more information.\n",
    "\n",
    "Enter the construction parameters below, and press the Search button at the bottom. The results will show at the bottom. \n",
    "\n",
    "## Search criteria :"
   ]
  },
  {
   "cell_type": "code",
   "execution_count": 1,
   "metadata": {
    "collapsed": true
   },
   "outputs": [],
   "source": [
    "import warnings\n",
    "warnings.simplefilter('ignore')"
   ]
  },
  {
   "cell_type": "code",
   "execution_count": 1,
   "metadata": {
    "collapsed": true,
    "scrolled": true
   },
   "outputs": [],
   "source": [
    "import interface_latbuilder"
   ]
  },
  {
   "cell_type": "code",
   "execution_count": 2,
   "metadata": {
    "collapsed": true
   },
   "outputs": [],
   "source": [
    "interface_latbuilder.LATBUILDER = '/home/pmarion/Documents/Stage_3A/latsoft/bin/latbuilder'"
   ]
  },
  {
   "cell_type": "code",
   "execution_count": 3,
   "metadata": {
    "scrolled": false
   },
   "outputs": [
    {
     "data": {
      "application/vnd.jupyter.widget-view+json": {
       "model_id": "c2e747de427345789f4d6862ac569fb2",
       "version_major": 2,
       "version_minor": 0
      },
      "text/html": [
       "<p>Failed to display Jupyter Widget of type <code>Tab</code>.</p>\n",
       "<p>\n",
       "  If you're reading this message in the Jupyter Notebook or JupyterLab Notebook, it may mean\n",
       "  that the widgets JavaScript is still loading. If this message persists, it\n",
       "  likely means that the widgets JavaScript library is either not installed or\n",
       "  not enabled. See the <a href=\"https://ipywidgets.readthedocs.io/en/stable/user_install.html\">Jupyter\n",
       "  Widgets Documentation</a> for setup instructions.\n",
       "</p>\n",
       "<p>\n",
       "  If you're reading this message in another frontend (for example, a static\n",
       "  rendering on GitHub or <a href=\"https://nbviewer.jupyter.org/\">NBViewer</a>),\n",
       "  it may mean that your frontend doesn't currently support widgets.\n",
       "</p>\n"
      ],
      "text/plain": [
       "Tab(children=(VBox(children=(Accordion(children=(HBox(children=(VBox(children=(Text(value='', description='Modulus n=', layout=Layout(width='95%'), placeholder='e.g. 2^10 or 1024', style=DescriptionStyle(description_width='initial')), Label(value='', layout=Layout(display='none'))), layout=Layout(width='50%')), Checkbox(value=False, description='Embedded'), BoundedIntText(value=3, description='Dimension s:', layout=Layout(width='20%'), min=1, style=DescriptionStyle(description_width='initial')))),), _titles={'0': 'Basic Lattice properties'}), Accordion(children=(VBox(children=(HBox(children=(Checkbox(value=False, description='Normalization', style=DescriptionStyle(description_width='initial')), Checkbox(value=False, description='Low-Pass Filter', style=DescriptionStyle(description_width='initial')), Checkbox(value=False, description='Combiner', style=DescriptionStyle(description_width='initial')))), VBox(children=(HBox(children=(Dropdown(description='Normalization Type:', layout=Layout(width='30%'), options=('SL10 Palpha', 'DPW08 Palpha'), style=DescriptionStyle(description_width='initial'), value='SL10 Palpha'), HTML(value='<p style=\"color:red\"> Warning: DPW08 Palpha works only with product weights</p>'))), HBox(children=(Text(value='', description='Min Level (optional):', layout=Layout(margin='0px 10px 0px 0px', width='22%'), placeholder='1', style=DescriptionStyle(description_width='initial')), Text(value='', description='Max Level (optional):', layout=Layout(width='22%'), placeholder='10', style=DescriptionStyle(description_width='initial'))), layout=Layout(margin='0px 0px 0px 80px'))), layout=Layout(display='none')), Text(value='1', description='Low-Pass Threshold', layout=Layout(display='none', width='25%'), style=DescriptionStyle(description_width='initial')), HBox(children=(Dropdown(description='Combiner:', options=(('weighted sum', 'sum'), ('maximum weighted value', 'max'), ('weighted value of the highest level', 'level:max'), ('weighted value of a specific level', 'level:')), style=DescriptionStyle(description_width='initial'), value=None), BoundedIntText(value=1, description='Level:', layout=Layout(display='none', width='15%'), min=1)), layout=Layout(display='none')))),), layout=Layout(display='none'), selected_index=None, _titles={'0': 'For Embedded Lattices: multilevel filters and combiners (optional)'}), Accordion(children=(VBox(children=(HTMLMath(value='<p> Please note that: </p>                      <ul>                        <li> The Coordinate-Uniform method is generally faster, but requires \\\\(q = 2\\\\) </li>                         <li> The Spectral figure cannot be be evaluated by the Coordinate-Uniform method </li>                         <li> The \\\\(P_\\\\alpha \\\\) method requires \\\\( \\\\alpha \\\\in \\\\{ 2, 4, 6 \\\\} \\\\) </li>                      </ul>'), HBox(children=(Dropdown(description='Figure:', layout=Layout(width='15%'), options=('Palpha', 'Ralpha', 'Spectral'), style=DescriptionStyle(description_width='initial'), value='Palpha'), Text(value='2', description='Value of \\\\(\\\\alpha\\\\):', layout=Layout(width='15%'), style=DescriptionStyle(description_width='initial')), Checkbox(value=True, description='Coordinate-Uniform evaluation', style=DescriptionStyle(description_width='initial')), Text(value='2', description='Norm type \\\\(q>0\\\\) or \\\\(q\\\\) = \"inf\":', disabled=True, layout=Layout(width='24%'), style=DescriptionStyle(description_width='initial'))), layout=Layout(justify_content='space-between')))),), _titles={'0': 'Figure of Merit'}), Accordion(children=(VBox(children=(HTMLMath(value='The weights are of the form: \\\\(\\\\gamma_u^p (u \\\\subseteq \\\\{1, ... s\\\\})\\\\). You can specify below type of weights with their values (the actual weights are the sum of these).', layout=Layout(height='30px', width='inherit')), HBox(children=(Text(value='2', description='<b> Set Weights Power \\\\(p\\\\): </b>', layout=Layout(width='21%'), style=DescriptionStyle(description_width='initial')), Dropdown(description='<b> Add new weights: </b>', options=(('Product', 'product:'), ('Order-Dependent', 'order-dependent:'), ('POD', 'POD'), ('Projection-Dependent', 'projection-dependent')), style=DescriptionStyle(description_width='initial'), value=None)), layout=Layout(justify_content='space-around')), VBox())),), _titles={'0': 'Weights'}), Accordion(children=(VBox(children=(ToggleButtons(description='Choose one:', options=(('Evaluate/Extend', 'explicit:'), ('All space', 'exhaustive'), ('Korobov', 'Korobov'), ('CBC', 'CBC'), ('Fast CBC', 'fast-CBC')), style=ToggleButtonsStyle(description_width='initial'), value=None), HTMLMath(value=''), VBox(children=(HBox(children=(Label(value='Generating vector:'), Text(value='1', layout=Layout(width='10%'), style=DescriptionStyle(description_width='initial')), Text(value='1', layout=Layout(width='10%'), style=DescriptionStyle(description_width='initial')), Text(value='1', layout=Layout(width='10%'), style=DescriptionStyle(description_width='initial')))), Text(value='', description='If you want to extend, please specify the former modulus:', layout=Layout(width='65%'), placeholder='e.g. 2^8 or 256', style=DescriptionStyle(description_width='initial'))), layout=Layout(display='none')), HBox(children=(Checkbox(value=False, description='Random choice of \\\\(r\\\\) points'), Text(value='10', description='Set \\\\(r\\\\):', layout=Layout(display='none'))), layout=Layout(display='none')))),), _titles={'0': 'Construction Method'}), Accordion(children=(VBox(children=(HBox(children=(Checkbox(value=False, description='Normalization', style=DescriptionStyle(description_width='initial')), Checkbox(value=False, description='Low-Pass Filter', style=DescriptionStyle(description_width='initial')))), HBox(children=(Dropdown(description='Normalization Type:', layout=Layout(width='30%'), options=('SL10 Palpha', 'DPW08 Palpha'), style=DescriptionStyle(description_width='initial'), value='SL10 Palpha'), HTML(value='<p style=\"color:red\"> Warning: DPW08 Palpha works only with product weights</p>', layout=Layout(display='none'))), layout=Layout(display='none')), Text(value='1', description='Low-Pass Threshold', layout=Layout(display='none', width='25%'), style=DescriptionStyle(description_width='initial')))),), selected_index=None, _titles={'0': 'Filters (optional)'}), HBox(children=(Button(description='Search', style=ButtonStyle()), ToggleButton(value=False, button_style='warning', description='Abort search', disabled=True), Button(description='Construct command line', layout=Layout(width='200px'), style=ButtonStyle())), layout=Layout(margin='30px 0px 0px 0px')), HTML(value='', description='<b> Command line: </b>', layout=Layout(width='900px'), style=DescriptionStyle(description_width='initial')), HTML(value='', description='<b> Result: </b>', layout=Layout(width='900px')), ToggleButton(value=False, description='Display plot + code to generate points', disabled=True, layout=Layout(width='300px'), tooltip='Description'), Label(value=''))), VBox(children=(Accordion(children=(HBox(children=(VBox(children=(Text(value='', description='Modulus n=', layout=Layout(width='95%'), placeholder='e.g. 2^10 or 1024', style=DescriptionStyle(description_width='initial')), Label(value='', layout=Layout(display='none'))), layout=Layout(width='50%')), Checkbox(value=False, description='Embedded'), BoundedIntText(value=3, description='Dimension s:', layout=Layout(width='20%'), min=1, style=DescriptionStyle(description_width='initial')))),), _titles={'0': 'Basic Lattice properties'}), Accordion(children=(VBox(children=(HBox(children=(Checkbox(value=False, description='Normalization', style=DescriptionStyle(description_width='initial')), Checkbox(value=False, description='Low-Pass Filter', style=DescriptionStyle(description_width='initial')), Checkbox(value=False, description='Combiner', style=DescriptionStyle(description_width='initial')))), VBox(children=(HBox(children=(Dropdown(description='Normalization Type:', layout=Layout(width='30%'), options=('SL10 Palpha', 'DPW08 Palpha'), style=DescriptionStyle(description_width='initial'), value='SL10 Palpha'), HTML(value='<p style=\"color:red\"> Warning: DPW08 Palpha works only with product weights</p>'))), HBox(children=(Text(value='', description='Min Level (optional):', layout=Layout(margin='0px 10px 0px 0px', width='22%'), placeholder='1', style=DescriptionStyle(description_width='initial')), Text(value='', description='Max Level (optional):', layout=Layout(width='22%'), placeholder='10', style=DescriptionStyle(description_width='initial'))), layout=Layout(margin='0px 0px 0px 80px'))), layout=Layout(display='none')), Text(value='1', description='Low-Pass Threshold', layout=Layout(display='none', width='25%'), style=DescriptionStyle(description_width='initial')), HBox(children=(Dropdown(description='Combiner:', options=(('weighted sum', 'sum'), ('maximum weighted value', 'max'), ('weighted value of the highest level', 'level:max'), ('weighted value of a specific level', 'level:')), style=DescriptionStyle(description_width='initial'), value=None), BoundedIntText(value=1, description='Level:', layout=Layout(display='none', width='15%'), min=1)), layout=Layout(display='none')))),), layout=Layout(display='none'), selected_index=None, _titles={'0': 'For Embedded Lattices: multilevel filters and combiners (optional)'}), Accordion(children=(VBox(children=(HTMLMath(value='<p> Please note that: </p>                      <ul>                        <li> The Coordinate-Uniform method is generally faster, but requires \\\\(q = 2\\\\) </li>                         <li> The Spectral figure cannot be be evaluated by the Coordinate-Uniform method </li>                         <li> The \\\\(P_\\\\alpha \\\\) method requires \\\\( \\\\alpha \\\\in \\\\{ 2, 4, 6 \\\\} \\\\) </li>                      </ul>'), HBox(children=(Dropdown(description='Figure:', layout=Layout(width='15%'), options=('Palpha', 'Ralpha', 'Spectral'), style=DescriptionStyle(description_width='initial'), value='Palpha'), Text(value='2', description='Value of \\\\(\\\\alpha\\\\):', layout=Layout(width='15%'), style=DescriptionStyle(description_width='initial')), Checkbox(value=True, description='Coordinate-Uniform evaluation', style=DescriptionStyle(description_width='initial')), Text(value='2', description='Norm type \\\\(q>0\\\\) or \\\\(q\\\\) = \"inf\":', disabled=True, layout=Layout(width='24%'), style=DescriptionStyle(description_width='initial'))), layout=Layout(justify_content='space-between')))),), _titles={'0': 'Figure of Merit'}), Accordion(children=(VBox(children=(HTMLMath(value='The weights are of the form: \\\\(\\\\gamma_u^p (u \\\\subseteq \\\\{1, ... s\\\\})\\\\). You can specify below type of weights with their values (the actual weights are the sum of these).', layout=Layout(height='30px', width='inherit')), HBox(children=(Text(value='2', description='<b> Set Weights Power \\\\(p\\\\): </b>', layout=Layout(width='21%'), style=DescriptionStyle(description_width='initial')), Dropdown(description='<b> Add new weights: </b>', options=(('Product', 'product:'), ('Order-Dependent', 'order-dependent:'), ('POD', 'POD'), ('Projection-Dependent', 'projection-dependent')), style=DescriptionStyle(description_width='initial'), value=None)), layout=Layout(justify_content='space-around')), VBox())),), _titles={'0': 'Weights'}), Accordion(children=(VBox(children=(ToggleButtons(description='Choose one:', options=(('Evaluate/Extend', 'explicit:'), ('All space', 'exhaustive'), ('Korobov', 'Korobov'), ('CBC', 'CBC'), ('Fast CBC', 'fast-CBC')), style=ToggleButtonsStyle(description_width='initial'), value=None), HTMLMath(value=''), VBox(children=(HBox(children=(Label(value='Generating vector:'), Text(value='1', layout=Layout(width='10%'), style=DescriptionStyle(description_width='initial')), Text(value='1', layout=Layout(width='10%'), style=DescriptionStyle(description_width='initial')), Text(value='1', layout=Layout(width='10%'), style=DescriptionStyle(description_width='initial')))), Text(value='', description='If you want to extend, please specify the former modulus:', layout=Layout(width='65%'), placeholder='e.g. 2^8 or 256', style=DescriptionStyle(description_width='initial'))), layout=Layout(display='none')), HBox(children=(Checkbox(value=False, description='Random choice of \\\\(r\\\\) points'), Text(value='10', description='Set \\\\(r\\\\):', layout=Layout(display='none'))), layout=Layout(display='none')))),), _titles={'0': 'Construction Method'}), Accordion(children=(VBox(children=(HBox(children=(Checkbox(value=False, description='Normalization', style=DescriptionStyle(description_width='initial')), Checkbox(value=False, description='Low-Pass Filter', style=DescriptionStyle(description_width='initial')))), HBox(children=(Dropdown(description='Normalization Type:', layout=Layout(width='30%'), options=('SL10 Palpha', 'DPW08 Palpha'), style=DescriptionStyle(description_width='initial'), value='SL10 Palpha'), HTML(value='<p style=\"color:red\"> Warning: DPW08 Palpha works only with product weights</p>', layout=Layout(display='none'))), layout=Layout(display='none')), Text(value='1', description='Low-Pass Threshold', layout=Layout(display='none', width='25%'), style=DescriptionStyle(description_width='initial')))),), selected_index=None, _titles={'0': 'Filters (optional)'}), HBox(children=(Button(description='Search', style=ButtonStyle()), ToggleButton(value=False, button_style='warning', description='Abort search', disabled=True), Button(description='Construct command line', layout=Layout(width='200px'), style=ButtonStyle())), layout=Layout(margin='30px 0px 0px 0px')), HTML(value='', description='<b> Command line: </b>', layout=Layout(width='900px'), style=DescriptionStyle(description_width='initial')), HTML(value='', description='<b> Result: </b>', layout=Layout(width='900px')), ToggleButton(value=False, description='Display plot + code to generate points', disabled=True, layout=Layout(width='300px'), tooltip='Description'), Label(value='')))), _titles={'0': 'Ordinary Lattice', '1': 'Polynomial Lattice'})"
      ]
     },
     "metadata": {},
     "output_type": "display_data"
    }
   ],
   "source": [
    "display(interface_latbuilder.gui.main_tab)"
   ]
  },
  {
   "cell_type": "code",
   "execution_count": null,
   "metadata": {
    "collapsed": true
   },
   "outputs": [],
   "source": []
  }
 ],
 "metadata": {
  "kernelspec": {
   "display_name": "Python 3",
   "language": "python",
   "name": "python3"
  },
  "language_info": {
   "codemirror_mode": {
    "name": "ipython",
    "version": 3
   },
   "file_extension": ".py",
   "mimetype": "text/x-python",
   "name": "python",
   "nbconvert_exporter": "python",
   "pygments_lexer": "ipython3",
   "version": "3.6.3"
  }
 },
 "nbformat": 4,
 "nbformat_minor": 2
}
