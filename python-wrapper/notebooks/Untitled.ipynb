{
 "cells": [
  {
   "cell_type": "code",
   "execution_count": 1,
   "metadata": {},
   "outputs": [],
   "source": [
    "import ipywidgets as widgets\n",
    "from matplotlib import pyplot as plt\n",
    "import threading\n",
    "import time\n",
    "import numpy as np"
   ]
  },
  {
   "cell_type": "code",
   "execution_count": 2,
   "metadata": {},
   "outputs": [],
   "source": [
    "class Test():\n",
    "    def __init__(self):\n",
    "        self.output = widgets.Tab(layout=widgets.Layout(display='none'))"
   ]
  },
  {
   "cell_type": "code",
   "execution_count": 3,
   "metadata": {},
   "outputs": [],
   "source": [
    "def add(tab):\n",
    "    time.sleep(0.1)\n",
    "    create_output(tab)"
   ]
  },
  {
   "cell_type": "code",
   "execution_count": 4,
   "metadata": {},
   "outputs": [],
   "source": [
    "def create_output(output):\n",
    "    output.output.layout.display = 'flex'\n",
    "\n",
    "    b1 = widgets.BoundedIntText()\n",
    "    b2 = widgets.BoundedIntText()\n",
    "    b3 = widgets.BoundedIntText()\n",
    "\n",
    "    pt_x = np.random.rand(1000)\n",
    "    pt_y = np.random.rand(1000)\n",
    "    fig = widgets.Output(layout=widgets.Layout(width='600px', height='500px'))\n",
    "    # if in_thread:\n",
    "    #time.sleep(1)\n",
    "    with fig:\n",
    "        plt.figure(figsize=(8,8))\n",
    "        plt.xlim(0, 1)\n",
    "        plt.ylim(0, 1)\n",
    "        plt.scatter(pt_x, pt_y, s=0.8)\n",
    "        plt.show()\n",
    "\n",
    "    plot = widgets.HBox([fig, widgets.VBox([b1, b2, b3, widgets.HTML('<p>Warning: the plot lags for 2^15 points and more. </p> <p>Level restricted to be less than 15.</p>')])], layout=widgets.Layout(align_items='center'))\n",
    "\n",
    "    def change_graph(b):\n",
    "        if b['name'] == 'value':\n",
    "            pt_x = np.random.rand(1000)\n",
    "            pt_y = np.random.rand(1000)\n",
    "            with fig:\n",
    "                plt.figure(figsize=(8,8))\n",
    "                plt.xlim(0, 1)\n",
    "                plt.ylim(0, 1)\n",
    "                plt.scatter(pt_x, pt_y, s=0.8)\n",
    "                plt.show()\n",
    "    b1.observe(change_graph)\n",
    "    b2.observe(change_graph)\n",
    "    b3.observe(change_graph)\n",
    "\n",
    "    code_C = widgets.Textarea(value=' ',\n",
    "        layout=widgets.Layout(width='600px', height='200px'))\n",
    "\n",
    "    code_python = widgets.Textarea(value= ' ',\n",
    "        layout=widgets.Layout(width='600px', height='100px'))\n",
    "\n",
    "    code_matlab = widgets.Textarea(value= ' ',\n",
    "        layout=widgets.Layout(width='600px', height='130px'))\n",
    "\n",
    "\n",
    "    output.output.children = [plot, code_C, code_python, code_matlab]\n",
    "    output.output.set_title(0, 'Plot')\n",
    "    output.output.set_title(1, 'C code')\n",
    "    output.output.set_title(2, 'Python code')\n",
    "    output.output.set_title(3, 'Matlab code')\n",
    "\n",
    " "
   ]
  },
  {
   "cell_type": "code",
   "execution_count": 5,
   "metadata": {},
   "outputs": [],
   "source": [
    "tab = Test()"
   ]
  },
  {
   "cell_type": "code",
   "execution_count": 6,
   "metadata": {},
   "outputs": [
    {
     "data": {
      "application/vnd.jupyter.widget-view+json": {
       "model_id": "699a4ed02ddc4cb2a4961499ea8552fd",
       "version_major": 2,
       "version_minor": 0
      },
      "text/plain": [
       "Tab(layout=Layout(display='none'))"
      ]
     },
     "metadata": {},
     "output_type": "display_data"
    }
   ],
   "source": [
    "display(tab.output)"
   ]
  },
  {
   "cell_type": "code",
   "execution_count": 7,
   "metadata": {},
   "outputs": [],
   "source": [
    "time.sleep(0.5)\n",
    "thread = threading.Thread(target=add, args=[tab])\n",
    "thread.start()"
   ]
  },
  {
   "cell_type": "code",
   "execution_count": null,
   "metadata": {},
   "outputs": [],
   "source": []
  }
 ],
 "metadata": {
  "kernelspec": {
   "display_name": "Python 3",
   "language": "python",
   "name": "python3"
  },
  "language_info": {
   "codemirror_mode": {
    "name": "ipython",
    "version": 3
   },
   "file_extension": ".py",
   "mimetype": "text/x-python",
   "name": "python",
   "nbconvert_exporter": "python",
   "pygments_lexer": "ipython3",
   "version": "3.6.5"
  }
 },
 "nbformat": 4,
 "nbformat_minor": 2
}
