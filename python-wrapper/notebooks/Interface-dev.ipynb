{
 "cells": [
  {
   "cell_type": "markdown",
   "metadata": {},
   "source": [
    "# Lattice Builder\n",
    "\n",
    "### Search for good rank-1 lattices\n",
    "\n",
    "This Web interface allows Lattice Builder users to call the executable program without having to construct the command line explicitly. Refer to the Lattice Builder Manual and to the reference paper for more information.\n",
    "\n",
    "Enter the construction parameters below, and press the Search button at the bottom. The results will show at the bottom. \n",
    "\n",
    "## Search criteria :"
   ]
  },
  {
   "cell_type": "code",
   "execution_count": 1,
   "metadata": {
    "collapsed": true
   },
   "outputs": [],
   "source": [
    "import warnings\n",
    "warnings.simplefilter('ignore')"
   ]
  },
  {
   "cell_type": "code",
   "execution_count": 2,
   "metadata": {
    "collapsed": true
   },
   "outputs": [],
   "source": [
    "import sys\n",
    "sys.path.insert(1, '../')\n",
    "#sys.stderr = open('stderr.txt', 'w')\n",
    "#sys.stdout = open('stdout.txt', 'w')"
   ]
  },
  {
   "cell_type": "code",
   "execution_count": 3,
   "metadata": {
    "collapsed": true
   },
   "outputs": [],
   "source": [
    "import latnetbuilder"
   ]
  },
  {
   "cell_type": "code",
   "execution_count": 4,
   "metadata": {
    "collapsed": true
   },
   "outputs": [],
   "source": [
    "latnetbuilder.LATBUILDER = '$HOME/Documents/Stage_3A/latsoft/bin/latnet'"
   ]
  },
  {
   "cell_type": "code",
   "execution_count": 5,
   "metadata": {
    "scrolled": false
   },
   "outputs": [
    {
     "data": {
      "application/vnd.jupyter.widget-view+json": {
       "model_id": "b5527ad6a6244bc9adad4932af5f1abf",
       "version_major": 2,
       "version_minor": 0
      },
      "text/html": [
       "<p>Failed to display Jupyter Widget of type <code>Tab</code>.</p>\n",
       "<p>\n",
       "  If you're reading this message in the Jupyter Notebook or JupyterLab Notebook, it may mean\n",
       "  that the widgets JavaScript is still loading. If this message persists, it\n",
       "  likely means that the widgets JavaScript library is either not installed or\n",
       "  not enabled. See the <a href=\"https://ipywidgets.readthedocs.io/en/stable/user_install.html\">Jupyter\n",
       "  Widgets Documentation</a> for setup instructions.\n",
       "</p>\n",
       "<p>\n",
       "  If you're reading this message in another frontend (for example, a static\n",
       "  rendering on GitHub or <a href=\"https://nbviewer.jupyter.org/\">NBViewer</a>),\n",
       "  it may mean that your frontend doesn't currently support widgets.\n",
       "</p>\n"
      ],
      "text/plain": [
       "Tab(children=(VBox(children=(Accordion(children=(VBox(children=(ToggleButtons(description='Choose one:', options=(('Ordinary', 'ordinary'), ('Polynomial', 'polynomial')), style=ToggleButtonsStyle(description_width='initial'), value='ordinary'), HTMLMath(value='TBC'))),), _titles={'0': 'Lattice Type'}), Accordion(children=(VBox(children=(ToggleButtons(description='Choose one:', options=(('Sobol', 'sobol'), ('Polynomial', 'polynomial'), ('Explicit', 'explicit')), style=ToggleButtonsStyle(description_width='initial'), value='sobol'), HTMLMath(value='<p> The nets follow the Sobol construction, and the software optimizes the direction numbers according to the figure of merit. The first matrix is always the same (reversed identity), so the first direction number is arbitrarly set to 0.</p>    <p style=\"color:red\"> Warning: Sobol construction associated with CBC exploration method and a Kernel figure of merit (\\\\(P_\\\\alpha\\\\) or R) does not make sense. </p>'), VBox(children=(Text(value='', description='Modulus n=', layout=Layout(width='400px'), placeholder='e.g. 01^10 or 00000000001', style=DescriptionStyle(description_width='initial')), Label(value='')), layout=Layout(display='none')))),), layout=Layout(display='none'), _titles={'0': 'Construction Method'}), Accordion(children=(HBox(children=(VBox(children=(Text(value='', description='Modulus n=', layout=Layout(width='95%'), placeholder='e.g. 2^10 or 1024', style=DescriptionStyle(description_width='initial')), Label(value='', layout=Layout(display='none'))), layout=Layout(width='50%')), Checkbox(value=False, description='Embedded'), BoundedIntText(value=3, description='Dimension s:', layout=Layout(width='20%'), min=1, style=DescriptionStyle(description_width='initial')))),), _titles={'0': 'Basic Lattice properties'}), Accordion(children=(VBox(children=(HBox(children=(Checkbox(value=False, description='Normalization', style=DescriptionStyle(description_width='initial')), Checkbox(value=False, description='Low-Pass Filter', style=DescriptionStyle(description_width='initial')), Checkbox(value=False, description='Combiner', style=DescriptionStyle(description_width='initial')))), VBox(children=(HBox(children=(Dropdown(description='Normalization Type:', layout=Layout(width='30%'), options=('SL10 Palpha', 'DPW08 Palpha'), style=DescriptionStyle(description_width='initial'), value='SL10 Palpha'), HTML(value='<span style=\"color:red\"> Warning: SL10 Palpha and DPW08 Palpha only work with Palpha figure of merit.</span>                                        <br><span style=\"color:red\"> DPW08 only works for product weights.</span>'))), HBox(children=(Text(value='', description='Min Level (optional):', layout=Layout(margin='0px 10px 0px 0px', width='22%'), placeholder='1', style=DescriptionStyle(description_width='initial')), Text(value='', description='Max Level (optional):', layout=Layout(width='22%'), placeholder='10', style=DescriptionStyle(description_width='initial'))), layout=Layout(margin='0px 0px 0px 80px'))), layout=Layout(display='none')), Text(value='1', description='Low-Pass Threshold', layout=Layout(display='none', width='25%'), style=DescriptionStyle(description_width='initial')), HBox(children=(Dropdown(description='Combiner:', options=(('weighted sum', 'sum'), ('maximum weighted value', 'max'), ('weighted value of the highest level', 'level:max'), ('weighted value of a specific level', 'level:')), style=DescriptionStyle(description_width='initial'), value='sum'), BoundedIntText(value=1, description='Level:', layout=Layout(display='none', width='15%'), min=1)), layout=Layout(display='none')))),), layout=Layout(display='none'), _titles={'0': 'For Multilevel Point Sets: Multilevel Filters and Combiners'}), Accordion(children=(VBox(children=(ToggleButtons(description='Choose one:', index=3, options=(('Evaluate/Extend', 'explicit:'), ('All space', 'exhaustive'), ('Korobov', 'Korobov'), ('CBC', 'CBC'), ('Fast CBC', 'fast-CBC')), style=ToggleButtonsStyle(description_width='initial'), value='CBC'), HBox(children=(HTMLMath(value='<p> All possible values of the components \\\\(a_j\\\\) of the generating vector \\\\(a=(a_1,…,a_s)\\\\) are examined the best ones are selected, one coordinate at a time. </p>    <p> If you tick \"random choice r of points\", a number r of randomly selected selected values for each component \\\\(a_j\\\\) will be examined instead of all possibilities.</p>'), Button(description='Evaluate from previous search', layout=Layout(display='none', margin='40px 0px 0px 0px', width='200px'), style=ButtonStyle())), layout=Layout(justify_content='space-around')), HBox(children=(Label(value='Generating vector:'), Text(value='1', layout=Layout(width='10%'), style=DescriptionStyle(description_width='initial')), Text(value='1', layout=Layout(width='10%'), style=DescriptionStyle(description_width='initial')), Text(value='1', layout=Layout(width='10%'), style=DescriptionStyle(description_width='initial'))), layout=Layout(display='none')), VBox(children=(HBox(children=(Label(value='Generating vector:'), Text(value='1', layout=Layout(width='10%'), style=DescriptionStyle(description_width='initial')), Text(value='1', layout=Layout(width='10%'), style=DescriptionStyle(description_width='initial')), Text(value='1', layout=Layout(width='10%'), style=DescriptionStyle(description_width='initial')))), Text(value='', description='If you want to extend, please specify the former modulus:', layout=Layout(width='65%'), placeholder='e.g. 2^8 or 256', style=DescriptionStyle(description_width='initial'))), layout=Layout(display='none')), Textarea(value='', layout=Layout(display='none', height='150px', width='inherit'), placeholder='1 0 0\\n0 1 0\\n0 0 1\\n\\n1 1 0\\n1 0 1\\n0 1 1'), HBox(children=(Checkbox(value=False, description='Random choice of r points'), Text(value='10', description='Set r:', layout=Layout(display='none')))), BoundedIntText(value=1, description='Minimal random dimension:', disabled=True, layout=Layout(display='none', margin='0px 0px 0px 80px', width='250px'), min=1, style=DescriptionStyle(description_width='initial')), VBox(children=(Button(description='Joe and Kuo direction numbers', layout=Layout(width='270px'), style=ButtonStyle()), Textarea(value='', layout=Layout(height='150px', width='inherit'), placeholder='0\\n1\\n1,1\\n1,3,5')), layout=Layout(display='none')))),), _titles={'0': 'Exploration Method'}), Accordion(children=(VBox(children=(HTMLMath(value='<p> Please note that: </p>                         <ul>                            <li> The Coordinate-Uniform method is generally faster, but requires q = 2 </li>                             <li> The Spectral figure cannot be be evaluated by the Coordinate-Uniform method </li>                             <li> The \\\\(P_\\\\alpha \\\\) method requires \\\\( \\\\alpha \\\\in \\\\{ 2, 4, 6 \\\\} \\\\) </li>                         </ul>'), HBox(children=(Dropdown(description='Figure:', layout=Layout(width='20%'), options=('Palpha', 'Ralpha', 'Spectral'), style=DescriptionStyle(description_width='initial'), value='Palpha'), Text(value='2', description='Value of \\\\(\\\\alpha\\\\):', layout=Layout(width='15%'), style=DescriptionStyle(description_width='initial')), Checkbox(value=True, description='Coordinate-Uniform evaluation', style=DescriptionStyle(description_width='initial')), Text(value='2', description='Norm type q > 0 or q = \"inf\":', disabled=True, layout=Layout(width='24%'), style=DescriptionStyle(description_width='initial'))), layout=Layout(justify_content='space-between')))),), _titles={'0': 'Figure of Merit'}), Accordion(children=(VBox(children=(HTMLMath(value='The weights are of the form: \\\\(\\\\gamma_u^q (u \\\\subseteq \\\\{1, ... s\\\\})\\\\). You can specify below type of weights with their values (the actual weights are the sum of these).See <a href=\"https://github.com/PierreMarion23/latbuilder/tree/dev/web-ui/weights_guidelines.md\" target=\"_blank\">this GitHub page</a> for guidelines on the choice of weights.', layout=Layout(width='inherit')), Dropdown(description='<b> Add new weights: </b>', options=(('Select type of weights', 'None'), ('Product', 'product:'), ('Order-Dependent', 'order-dependent:'), ('POD', 'POD'), ('Projection-Dependent', 'projection-dependent')), style=DescriptionStyle(description_width='initial'), value='None'), VBox(children=(VBox(children=(HBox(children=(HTML(value='<b> Order-Dependent Weights </b>'), Label(value='$$\\\\gamma_u=\\\\Gamma_{|u|}$$', layout=Layout(height='50px', width='100px')), Button(description='Remove', style=ButtonStyle(), tooltip='Remove this type of weights')), layout=Layout(justify_content='space-around')), VBox(children=(HBox(children=(HTMLMath(value='Set Order Weights \\\\( \\\\Gamma_k^q \\\\):', layout=Layout(width='170px')), HBox(children=(Text(value='0.8', layout=Layout(width='50px')), Text(value='0.64', layout=Layout(width='50px')), Text(value='0.512', layout=Layout(width='50px')))))), Text(value='', description='OR set all at once with (valid Python) expression: \\\\( \\\\Gamma_k^q \\\\) =', layout=Layout(margin='0px 0px 0px 80px', width='550px'), placeholder='0.8^k * (k <= 3)', style=DescriptionStyle(description_width='initial'))))), layout=Layout(margin='30px 0px 0px 0px')),)))),), _titles={'0': 'Weights'}), Accordion(children=(VBox(children=(HBox(children=(Checkbox(value=False, description='Normalization', style=DescriptionStyle(description_width='initial')), Checkbox(value=False, description='Low-Pass Filter', style=DescriptionStyle(description_width='initial')), Checkbox(value=False, description='k-bits Equidistribution', layout=Layout(display='none'), style=DescriptionStyle(description_width='initial'))), layout=Layout(justify_content='space-around')), HBox(children=(Dropdown(description='Normalization Type:', layout=Layout(width='30%'), options=('SL10 Palpha', 'DPW08 Palpha'), style=DescriptionStyle(description_width='initial'), value='SL10 Palpha'), HTML(value='<span style=\"color:red\"> Warning: SL10 Palpha and DPW08 Palpha only work with Palpha figure of merit.</span>                                        <br><span style=\"color:red\"> DPW08 only works for product weights.</span>')), layout=Layout(display='none')), Text(value='1', description='Low-Pass Threshold', layout=Layout(display='none', width='25%'), style=DescriptionStyle(description_width='initial')), HBox(children=(BoundedIntText(value=1, description='k-bits Equidistribution - set k:', layout=Layout(width='230px'), min=1, style=DescriptionStyle(description_width='initial')), Text(value='inf', description=\"Set weight w>0 or 'inf':\", layout=Layout(width='200px'), style=DescriptionStyle(description_width='initial'))), layout=Layout(display='none', justify_content='space-around')))),), selected_index=None, _titles={'0': 'Filters (optional)'}), HBox(children=(Button(description='Search', style=ButtonStyle()), ToggleButton(value=False, button_style='warning', description='Abort search', disabled=True), Button(description='Construct command line', layout=Layout(width='200px'), style=ButtonStyle())), layout=Layout(margin='30px 0px 0px 0px')), HTML(value='', description='<b> Command line: </b>', layout=Layout(width='900px'), style=DescriptionStyle(description_width='initial')), FloatProgress(value=0.0, bar_style='info', description='Number of dim explored:', layout=Layout(display='none'), max=1.0, style=ProgressStyle(description_width='initial')), FloatProgress(value=0.0, bar_style='info', description='Number of nets explored:', layout=Layout(display='none'), max=1.0, style=ProgressStyle(description_width='initial')), HTML(value='', description='<b> Result: </b>', layout=Layout(width='900px')), Tab(layout=Layout(display='none')))), VBox(children=(Accordion(children=(VBox(children=(ToggleButtons(description='Choose one:', options=(('Ordinary', 'ordinary'), ('Polynomial', 'polynomial')), style=ToggleButtonsStyle(description_width='initial'), value='ordinary'), HTMLMath(value='TBC'))),), _titles={'0': 'Lattice Type'}), Accordion(children=(VBox(children=(ToggleButtons(description='Choose one:', options=(('Sobol', 'sobol'), ('Polynomial', 'polynomial'), ('Explicit', 'explicit')), style=ToggleButtonsStyle(description_width='initial'), value='sobol'), HTMLMath(value='<p> The nets follow the Sobol construction, and the software optimizes the direction numbers according to the figure of merit. The first matrix is always the same (reversed identity), so the first direction number is arbitrarly set to 0.</p>    <p style=\"color:red\"> Warning: Sobol construction associated with CBC exploration method and a Kernel figure of merit (\\\\(P_\\\\alpha\\\\) or R) does not make sense. </p>'), VBox(children=(Text(value='', description='Modulus n=', layout=Layout(width='400px'), placeholder='e.g. 01^10 or 00000000001', style=DescriptionStyle(description_width='initial')), Label(value='')), layout=Layout(display='none')))),), layout=Layout(display='none'), _titles={'0': 'Construction Method'}), Accordion(children=(HBox(children=(VBox(children=(Text(value='', description='Modulus n=', layout=Layout(width='95%'), placeholder='e.g. 2^10 or 1024', style=DescriptionStyle(description_width='initial')), Label(value='', layout=Layout(display='none'))), layout=Layout(width='50%')), Checkbox(value=False, description='Embedded'), BoundedIntText(value=3, description='Dimension s:', layout=Layout(width='20%'), min=1, style=DescriptionStyle(description_width='initial')))),), _titles={'0': 'Basic Lattice properties'}), Accordion(children=(VBox(children=(HBox(children=(Checkbox(value=False, description='Normalization', style=DescriptionStyle(description_width='initial')), Checkbox(value=False, description='Low-Pass Filter', style=DescriptionStyle(description_width='initial')), Checkbox(value=False, description='Combiner', style=DescriptionStyle(description_width='initial')))), VBox(children=(HBox(children=(Dropdown(description='Normalization Type:', layout=Layout(width='30%'), options=('SL10 Palpha', 'DPW08 Palpha'), style=DescriptionStyle(description_width='initial'), value='SL10 Palpha'), HTML(value='<span style=\"color:red\"> Warning: SL10 Palpha and DPW08 Palpha only work with Palpha figure of merit.</span>                                        <br><span style=\"color:red\"> DPW08 only works for product weights.</span>'))), HBox(children=(Text(value='', description='Min Level (optional):', layout=Layout(margin='0px 10px 0px 0px', width='22%'), placeholder='1', style=DescriptionStyle(description_width='initial')), Text(value='', description='Max Level (optional):', layout=Layout(width='22%'), placeholder='10', style=DescriptionStyle(description_width='initial'))), layout=Layout(margin='0px 0px 0px 80px'))), layout=Layout(display='none')), Text(value='1', description='Low-Pass Threshold', layout=Layout(display='none', width='25%'), style=DescriptionStyle(description_width='initial')), HBox(children=(Dropdown(description='Combiner:', options=(('weighted sum', 'sum'), ('maximum weighted value', 'max'), ('weighted value of the highest level', 'level:max'), ('weighted value of a specific level', 'level:')), style=DescriptionStyle(description_width='initial'), value='sum'), BoundedIntText(value=1, description='Level:', layout=Layout(display='none', width='15%'), min=1)), layout=Layout(display='none')))),), layout=Layout(display='none'), _titles={'0': 'For Multilevel Point Sets: Multilevel Filters and Combiners'}), Accordion(children=(VBox(children=(ToggleButtons(description='Choose one:', index=3, options=(('Evaluate/Extend', 'explicit:'), ('All space', 'exhaustive'), ('Korobov', 'Korobov'), ('CBC', 'CBC'), ('Fast CBC', 'fast-CBC')), style=ToggleButtonsStyle(description_width='initial'), value='CBC'), HBox(children=(HTMLMath(value='<p> All possible values of the components \\\\(a_j\\\\) of the generating vector \\\\(a=(a_1,…,a_s)\\\\) are examined the best ones are selected, one coordinate at a time. </p>    <p> If you tick \"random choice r of points\", a number r of randomly selected selected values for each component \\\\(a_j\\\\) will be examined instead of all possibilities.</p>'), Button(description='Evaluate from previous search', layout=Layout(display='none', margin='40px 0px 0px 0px', width='200px'), style=ButtonStyle())), layout=Layout(justify_content='space-around')), HBox(children=(Label(value='Generating vector:'), Text(value='1', layout=Layout(width='10%'), style=DescriptionStyle(description_width='initial')), Text(value='1', layout=Layout(width='10%'), style=DescriptionStyle(description_width='initial')), Text(value='1', layout=Layout(width='10%'), style=DescriptionStyle(description_width='initial'))), layout=Layout(display='none')), VBox(children=(HBox(children=(Label(value='Generating vector:'), Text(value='1', layout=Layout(width='10%'), style=DescriptionStyle(description_width='initial')), Text(value='1', layout=Layout(width='10%'), style=DescriptionStyle(description_width='initial')), Text(value='1', layout=Layout(width='10%'), style=DescriptionStyle(description_width='initial')))), Text(value='', description='If you want to extend, please specify the former modulus:', layout=Layout(width='65%'), placeholder='e.g. 2^8 or 256', style=DescriptionStyle(description_width='initial'))), layout=Layout(display='none')), Textarea(value='', layout=Layout(display='none', height='150px', width='inherit'), placeholder='1 0 0\\n0 1 0\\n0 0 1\\n\\n1 1 0\\n1 0 1\\n0 1 1'), HBox(children=(Checkbox(value=False, description='Random choice of r points'), Text(value='10', description='Set r:', layout=Layout(display='none')))), BoundedIntText(value=1, description='Minimal random dimension:', disabled=True, layout=Layout(display='none', margin='0px 0px 0px 80px', width='250px'), min=1, style=DescriptionStyle(description_width='initial')), VBox(children=(Button(description='Joe and Kuo direction numbers', layout=Layout(width='270px'), style=ButtonStyle()), Textarea(value='', layout=Layout(height='150px', width='inherit'), placeholder='0\\n1\\n1,1\\n1,3,5')), layout=Layout(display='none')))),), _titles={'0': 'Exploration Method'}), Accordion(children=(VBox(children=(HTMLMath(value='<p> Please note that: </p>                         <ul>                            <li> The Coordinate-Uniform method is generally faster, but requires q = 2 </li>                             <li> The Spectral figure cannot be be evaluated by the Coordinate-Uniform method </li>                             <li> The \\\\(P_\\\\alpha \\\\) method requires \\\\( \\\\alpha \\\\in \\\\{ 2, 4, 6 \\\\} \\\\) </li>                         </ul>'), HBox(children=(Dropdown(description='Figure:', layout=Layout(width='20%'), options=('Palpha', 'Ralpha', 'Spectral'), style=DescriptionStyle(description_width='initial'), value='Palpha'), Text(value='2', description='Value of \\\\(\\\\alpha\\\\):', layout=Layout(width='15%'), style=DescriptionStyle(description_width='initial')), Checkbox(value=True, description='Coordinate-Uniform evaluation', style=DescriptionStyle(description_width='initial')), Text(value='2', description='Norm type q > 0 or q = \"inf\":', disabled=True, layout=Layout(width='24%'), style=DescriptionStyle(description_width='initial'))), layout=Layout(justify_content='space-between')))),), _titles={'0': 'Figure of Merit'}), Accordion(children=(VBox(children=(HTMLMath(value='The weights are of the form: \\\\(\\\\gamma_u^q (u \\\\subseteq \\\\{1, ... s\\\\})\\\\). You can specify below type of weights with their values (the actual weights are the sum of these).See <a href=\"https://github.com/PierreMarion23/latbuilder/tree/dev/web-ui/weights_guidelines.md\" target=\"_blank\">this GitHub page</a> for guidelines on the choice of weights.', layout=Layout(width='inherit')), Dropdown(description='<b> Add new weights: </b>', options=(('Select type of weights', 'None'), ('Product', 'product:'), ('Order-Dependent', 'order-dependent:'), ('POD', 'POD'), ('Projection-Dependent', 'projection-dependent')), style=DescriptionStyle(description_width='initial'), value='None'), VBox(children=(VBox(children=(HBox(children=(HTML(value='<b> Order-Dependent Weights </b>'), Label(value='$$\\\\gamma_u=\\\\Gamma_{|u|}$$', layout=Layout(height='50px', width='100px')), Button(description='Remove', style=ButtonStyle(), tooltip='Remove this type of weights')), layout=Layout(justify_content='space-around')), VBox(children=(HBox(children=(HTMLMath(value='Set Order Weights \\\\( \\\\Gamma_k^q \\\\):', layout=Layout(width='170px')), HBox(children=(Text(value='0.8', layout=Layout(width='50px')), Text(value='0.64', layout=Layout(width='50px')), Text(value='0.512', layout=Layout(width='50px')))))), Text(value='', description='OR set all at once with (valid Python) expression: \\\\( \\\\Gamma_k^q \\\\) =', layout=Layout(margin='0px 0px 0px 80px', width='550px'), placeholder='0.8^k * (k <= 3)', style=DescriptionStyle(description_width='initial'))))), layout=Layout(margin='30px 0px 0px 0px')),)))),), _titles={'0': 'Weights'}), Accordion(children=(VBox(children=(HBox(children=(Checkbox(value=False, description='Normalization', style=DescriptionStyle(description_width='initial')), Checkbox(value=False, description='Low-Pass Filter', style=DescriptionStyle(description_width='initial')), Checkbox(value=False, description='k-bits Equidistribution', layout=Layout(display='none'), style=DescriptionStyle(description_width='initial'))), layout=Layout(justify_content='space-around')), HBox(children=(Dropdown(description='Normalization Type:', layout=Layout(width='30%'), options=('SL10 Palpha', 'DPW08 Palpha'), style=DescriptionStyle(description_width='initial'), value='SL10 Palpha'), HTML(value='<span style=\"color:red\"> Warning: SL10 Palpha and DPW08 Palpha only work with Palpha figure of merit.</span>                                        <br><span style=\"color:red\"> DPW08 only works for product weights.</span>')), layout=Layout(display='none')), Text(value='1', description='Low-Pass Threshold', layout=Layout(display='none', width='25%'), style=DescriptionStyle(description_width='initial')), HBox(children=(BoundedIntText(value=1, description='k-bits Equidistribution - set k:', layout=Layout(width='230px'), min=1, style=DescriptionStyle(description_width='initial')), Text(value='inf', description=\"Set weight w>0 or 'inf':\", layout=Layout(width='200px'), style=DescriptionStyle(description_width='initial'))), layout=Layout(display='none', justify_content='space-around')))),), selected_index=None, _titles={'0': 'Filters (optional)'}), HBox(children=(Button(description='Search', style=ButtonStyle()), ToggleButton(value=False, button_style='warning', description='Abort search', disabled=True), Button(description='Construct command line', layout=Layout(width='200px'), style=ButtonStyle())), layout=Layout(margin='30px 0px 0px 0px')), HTML(value='', description='<b> Command line: </b>', layout=Layout(width='900px'), style=DescriptionStyle(description_width='initial')), FloatProgress(value=0.0, bar_style='info', description='Number of dim explored:', layout=Layout(display='none'), max=1.0, style=ProgressStyle(description_width='initial')), FloatProgress(value=0.0, bar_style='info', description='Number of nets explored:', layout=Layout(display='none'), max=1.0, style=ProgressStyle(description_width='initial')), HTML(value='', description='<b> Result: </b>', layout=Layout(width='900px')), Tab(layout=Layout(display='none'))))), _titles={'0': 'Ordinary Lattice', '1': 'Digital Net'})"
      ]
     },
     "metadata": {},
     "output_type": "display_data"
    }
   ],
   "source": [
    "latnetbuilder.gui"
   ]
  },
  {
   "cell_type": "code",
   "execution_count": 6,
   "metadata": {
    "collapsed": true
   },
   "outputs": [],
   "source": [
    "latnetbuilder.gui.process.kill()"
   ]
  },
  {
   "cell_type": "code",
   "execution_count": 10,
   "metadata": {
    "collapsed": true
   },
   "outputs": [],
   "source": [
    "from matplotlib import pyplot as plt"
   ]
  },
  {
   "cell_type": "code",
   "execution_count": 11,
   "metadata": {
    "collapsed": true
   },
   "outputs": [],
   "source": [
    "x = [0, 0.5]\n",
    "y = [1, 0.8]"
   ]
  },
  {
   "cell_type": "code",
   "execution_count": 12,
   "metadata": {},
   "outputs": [
    {
     "data": {
      "image/png": "[encoded data removed]",
      "text/plain": [
       "<Figure size 432x288 with 1 Axes>"
      ]
     },
     "metadata": {},
     "output_type": "display_data"
    }
   ],
   "source": [
    "plt.scatter(x, y)\n",
    "plt.show()"
   ]
  },
  {
   "cell_type": "code",
   "execution_count": 7,
   "metadata": {
    "collapsed": true
   },
   "outputs": [],
   "source": [
    "import ipywidgets as widgets\n",
    "from matplotlib import pyplot as plt"
   ]
  },
  {
   "cell_type": "code",
   "execution_count": null,
   "metadata": {
    "collapsed": true
   },
   "outputs": [],
   "source": []
  },
  {
   "cell_type": "code",
   "execution_count": 8,
   "metadata": {
    "collapsed": true
   },
   "outputs": [],
   "source": [
    "fig = widgets.Output(layout=widgets.Layout(width='600px', height='500px'))\n",
    "with fig:\n",
    "    plt.figure(figsize=(8,8))\n",
    "    x = [0.2, 0.5]\n",
    "    y = [0.3, 0.8]\n",
    "    plt.xlim(0, 1)\n",
    "    plt.ylim(0, 1)\n",
    "    plt.scatter(x, y, s=0.8)\n",
    "    plt.show()"
   ]
  },
  {
   "cell_type": "code",
   "execution_count": 9,
   "metadata": {},
   "outputs": [
    {
     "data": {
      "application/vnd.jupyter.widget-view+json": {
       "model_id": "5835a5d480d24b3b82261f82d5b75bad",
       "version_major": 2,
       "version_minor": 0
      },
      "text/html": [
       "<p>Failed to display Jupyter Widget of type <code>Output</code>.</p>\n",
       "<p>\n",
       "  If you're reading this message in the Jupyter Notebook or JupyterLab Notebook, it may mean\n",
       "  that the widgets JavaScript is still loading. If this message persists, it\n",
       "  likely means that the widgets JavaScript library is either not installed or\n",
       "  not enabled. See the <a href=\"https://ipywidgets.readthedocs.io/en/stable/user_install.html\">Jupyter\n",
       "  Widgets Documentation</a> for setup instructions.\n",
       "</p>\n",
       "<p>\n",
       "  If you're reading this message in another frontend (for example, a static\n",
       "  rendering on GitHub or <a href=\"https://nbviewer.jupyter.org/\">NBViewer</a>),\n",
       "  it may mean that your frontend doesn't currently support widgets.\n",
       "</p>\n"
      ],
      "text/plain": [
       "Output(layout=Layout(height='500px', width='600px'), outputs=({'output_type': 'display_data', 'data': {'text/plain': '<matplotlib.figure.Figure at 0x7fbcc0471be0>', 'image/png': 'iVBORw0KGgoAAAANSUhEUgAAAesAAAHWCAYAAABXF6HSAAAABHNCSVQICAgIfAhkiAAAAAlwSFlz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\\nrAFgOLEGgOHEGgCG+2eae93PtdO9GgAAAABJRU5ErkJggg==\\n'}, 'metadata': {}},))"
      ]
     },
     "metadata": {},
     "output_type": "display_data"
    }
   ],
   "source": [
    "fig"
   ]
  },
  {
   "cell_type": "code",
   "execution_count": null,
   "metadata": {
    "collapsed": true
   },
   "outputs": [],
   "source": []
  }
 ],
 "metadata": {
  "kernelspec": {
   "display_name": "Python 3",
   "language": "python",
   "name": "python3"
  },
  "language_info": {
   "codemirror_mode": {
    "name": "ipython",
    "version": 3
   },
   "file_extension": ".py",
   "mimetype": "text/x-python",
   "name": "python",
   "nbconvert_exporter": "python",
   "pygments_lexer": "ipython3",
   "version": "3.6.3"
  }
 },
 "nbformat": 4,
 "nbformat_minor": 2
}
