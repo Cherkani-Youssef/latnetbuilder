{
 "cells": [
  {
   "cell_type": "markdown",
   "metadata": {},
   "source": [
    "# LatNet Builder\n",
    "\n",
    "### Search for good rank-1 lattices\n",
    "\n",
    "This Web interface allows LatNet Builder users to call the executable program without having to construct the command line explicitly. Refer to the LatNet Builder Manual and to the reference paper for more information.\n",
    "\n",
    "Enter the construction parameters below, and press the Search button at the bottom. The results will show at the bottom. \n",
    "\n",
    "## Search criteria :"
   ]
  },
  {
   "cell_type": "code",
   "execution_count": 1,
   "metadata": {
    "collapsed": true
   },
   "outputs": [],
   "source": [
    "import sys\n",
    "sys.path.insert(1, '../')\n",
    "import latnetbuilder\n",
    "latnetbuilder.LATBUILDER = '$HOME/Documents/Stage_3A/latsoft/bin/latnetbuilder'"
   ]
  },
  {
   "cell_type": "code",
   "execution_count": 2,
   "metadata": {
    "scrolled": false
   },
   "outputs": [
    {
     "data": {
      "application/vnd.jupyter.widget-view+json": {
       "model_id": "fbc9a37b479c4f42a6cbe602b5591be5",
       "version_major": 2,
       "version_minor": 0
      },
      "text/plain": [
       "Tab(children=(VBox(children=(Accordion(children=(VBox(children=(ToggleButtons(description='Choose one:', optio…"
      ]
     },
     "metadata": {},
     "output_type": "display_data"
    }
   ],
   "source": [
    "latnetbuilder.gui"
   ]
  },
  {
   "cell_type": "code",
   "execution_count": null,
   "metadata": {
    "collapsed": true
   },
   "outputs": [],
   "source": []
  }
 ],
 "metadata": {
  "kernelspec": {
   "display_name": "Python 3",
   "language": "python",
   "name": "python3"
  },
  "language_info": {
   "codemirror_mode": {
    "name": "ipython",
    "version": 3
   },
   "file_extension": ".py",
   "mimetype": "text/x-python",
   "name": "python",
   "nbconvert_exporter": "python",
   "pygments_lexer": "ipython3",
   "version": "3.6.3"
  },
  "widgets": {
   "application/vnd.jupyter.widget-state+json": {
    "state": {
     "00f45e81ee3145d3aef678086cac255a": {
      "model_module": "@jupyter-widgets/controls",
      "model_module_version": "1.3.0",
      "model_name": "DescriptionStyleModel",
      "state": {
       "description_width": "initial"
      }
     },
     "0119bb76be7948db9017249eacc178f4": {
      "model_module": "@jupyter-widgets/controls",
      "model_module_version": "1.3.0",
      "model_name": "TextModel",
      "state": {
       "description": "Norm type q > 0 or q = \"inf\":",
       "disabled": true,
       "layout": "IPY_MODEL_47fa10921720433e89bc6b2b785c3740",
       "style": "IPY_MODEL_1ae6c10c1d2c411195523bf31529c4b4",
       "value": "2"
      }
     },
     "014133d7952f4a0bb12ceea6c0b0f3b2": {
      "model_module": "@jupyter-widgets/controls",
      "model_module_version": "1.3.0",
      "model_name": "FloatProgressModel",
      "state": {
       "bar_style": "info",
       "description": "Number of nets explored:",
       "layout": "IPY_MODEL_6766d92339b0430eb2013cab47d4abdf",
       "max": 1,
       "style": "IPY_MODEL_9d2b2cacf7874fdb90efffa7bb9559b5"
      }
     },
     "016a8e68366c44abb8cb69a3afadebe5": {
      "model_module": "@jupyter-widgets/controls",
      "model_module_version": "1.3.0",
      "model_name": "AccordionModel",
      "state": {
       "_titles": {
        "0": "Exploration Method"
       },
       "children": [
        "IPY_MODEL_8572f923b025486d82188777301b960c"
       ],
       "layout": "IPY_MODEL_8371f6bd46ca450584e62f3b1d4f6811"
      }
     },
     "018176d61c804b7e9045c2b049e55d26": {
      "model_module": "@jupyter-widgets/controls",
      "model_module_version": "1.3.0",
      "model_name": "BoundedIntTextModel",
      "state": {
       "description": "Coordinate on x-axis",
       "layout": "IPY_MODEL_6bd6173c19c2407183d3bc4846a6839c",
       "max": 3,
       "min": 1,
       "style": "IPY_MODEL_b89bb1b3e3424a1fb5a3a1e8692ffef0",
       "value": 1
      }
     },
     "0284240791bd405b8d21149a6b026994": {
      "model_module": "@jupyter-widgets/controls",
      "model_module_version": "1.3.0",
      "model_name": "DescriptionStyleModel",
      "state": {
       "description_width": "initial"
      }
     },
     "029729f9497649ea88ac2d913cd1e989": {
      "model_module": "@jupyter-widgets/controls",
      "model_module_version": "1.3.0",
      "model_name": "CheckboxModel",
      "state": {
       "description": "Normalization",
       "disabled": false,
       "layout": "IPY_MODEL_a546db092c79492ab9e4294bcdf562e5",
       "style": "IPY_MODEL_d6b6c69169d9447ebd57bf1fd77c9e4f",
       "value": false
      }
     },
     "02c3565a1cea4630981e9e2c3b394930": {
      "model_module": "@jupyter-widgets/base",
      "model_module_version": "1.1.0",
      "model_name": "LayoutModel",
      "state": {}
     },
     "0342cf9a4e7b4ef5b5a54c36c72e900d": {
      "model_module": "@jupyter-widgets/controls",
      "model_module_version": "1.3.0",
      "model_name": "DescriptionStyleModel",
      "state": {
       "description_width": ""
      }
     },
     "0437aa1befa946b0a2a8be8e0266e373": {
      "model_module": "@jupyter-widgets/controls",
      "model_module_version": "1.3.0",
      "model_name": "LabelModel",
      "state": {
       "layout": "IPY_MODEL_820e5e517a3e4409a092391dd1405421",
       "style": "IPY_MODEL_57a0879277124d1db38c59781d475671"
      }
     },
     "0497c2f6fd73428aae2905359b15253c": {
      "model_module": "@jupyter-widgets/controls",
      "model_module_version": "1.3.0",
      "model_name": "ButtonStyleModel",
      "state": {}
     },
     "05031fed03b54dd391ec68678c6ad216": {
      "model_module": "@jupyter-widgets/controls",
      "model_module_version": "1.3.0",
      "model_name": "DescriptionStyleModel",
      "state": {
       "description_width": "initial"
      }
     },
     "05283c82100d429895ecfad1be0393c5": {
      "model_module": "@jupyter-widgets/controls",
      "model_module_version": "1.3.0",
      "model_name": "DescriptionStyleModel",
      "state": {
       "description_width": ""
      }
     },
     "05eac4c5c3ff416e98490df2178ac32b": {
      "model_module": "@jupyter-widgets/controls",
      "model_module_version": "1.3.0",
      "model_name": "DescriptionStyleModel",
      "state": {
       "description_width": "initial"
      }
     },
     "061ea6687ba842a7876190e283a27c1c": {
      "model_module": "@jupyter-widgets/base",
      "model_module_version": "1.1.0",
      "model_name": "LayoutModel",
      "state": {}
     },
     "06fa110ff8e3476082fd2532fde8db70": {
      "model_module": "@jupyter-widgets/controls",
      "model_module_version": "1.3.0",
      "model_name": "DescriptionStyleModel",
      "state": {
       "description_width": ""
      }
     },
     "072bb9d859b9453fb9a1e6d706eff235": {
      "model_module": "@jupyter-widgets/controls",
      "model_module_version": "1.3.0",
      "model_name": "ToggleButtonsStyleModel",
      "state": {
       "button_width": "",
       "description_width": "initial"
      }
     },
     "07315c0bef544b84ae5e794ce26e8a30": {
      "model_module": "@jupyter-widgets/base",
      "model_module_version": "1.1.0",
      "model_name": "LayoutModel",
      "state": {
       "width": "50px"
      }
     },
     "0827c8e4469f4495a07e4d01398d8edb": {
      "model_module": "@jupyter-widgets/controls",
      "model_module_version": "1.3.0",
      "model_name": "TextModel",
      "state": {
       "layout": "IPY_MODEL_4d718282679b48e0b20b597072339b9e",
       "style": "IPY_MODEL_00f45e81ee3145d3aef678086cac255a",
       "value": "1"
      }
     },
     "08468f1d191c4cdebcede00e0326c8bd": {
      "model_module": "@jupyter-widgets/controls",
      "model_module_version": "1.3.0",
      "model_name": "DescriptionStyleModel",
      "state": {
       "description_width": "initial"
      }
     },
     "09113d07253843ab89a722e6bdec351a": {
      "model_module": "@jupyter-widgets/controls",
      "model_module_version": "1.3.0",
      "model_name": "DescriptionStyleModel",
      "state": {
       "description_width": "initial"
      }
     },
     "0974b77a368f4fd5bbf9ec2ac0c6e20e": {
      "model_module": "@jupyter-widgets/controls",
      "model_module_version": "1.3.0",
      "model_name": "HTMLModel",
      "state": {
       "layout": "IPY_MODEL_c4e0c7a0f801460e950b54cb87d30aaf",
       "style": "IPY_MODEL_e41f4a9c6d3f4775bf19622aa4ab8ba5",
       "value": "Optional <b>path to the folder for the outputs of LatNeBuilder</b>. The contents of the folder may be overwritten. If the folder does not exist, it is created. If no path is provided, no output folder is created."
      }
     },
     "09f7325b770e4fb98947120cccb92adc": {
      "model_module": "@jupyter-widgets/controls",
      "model_module_version": "1.3.0",
      "model_name": "DescriptionStyleModel",
      "state": {
       "description_width": "initial"
      }
     },
     "09f9d060f962473eb5411dd8fda5f3eb": {
      "model_module": "@jupyter-widgets/base",
      "model_module_version": "1.1.0",
      "model_name": "LayoutModel",
      "state": {
       "width": "95%"
      }
     },
     "0a1c2b71d8d148f79c8b3698d131ddb3": {
      "model_module": "@jupyter-widgets/base",
      "model_module_version": "1.1.0",
      "model_name": "LayoutModel",
      "state": {
       "height": "200px",
       "width": "600px"
      }
     },
     "0a750fb8c6124229a33e35caed25f28d": {
      "model_module": "@jupyter-widgets/controls",
      "model_module_version": "1.3.0",
      "model_name": "VBoxModel",
      "state": {
       "children": [
        "IPY_MODEL_3f10e7d4e3b94bec8ce629c968c5bf14",
        "IPY_MODEL_a8970143d3bc47109a94a96f0f532276"
       ],
       "layout": "IPY_MODEL_ac87dd9338094826bba0ba7b506303b4"
      }
     },
     "0d44e054dbf1404984e4aa6a08c718d1": {
      "model_module": "@jupyter-widgets/controls",
      "model_module_version": "1.3.0",
      "model_name": "HTMLModel",
      "state": {
       "layout": "IPY_MODEL_a15aaac224cf4461a45c2b020958da68",
       "style": "IPY_MODEL_05283c82100d429895ecfad1be0393c5",
       "value": "<b> Order-Dependent Weights </b>"
      }
     },
     "0d94638653cd41e7bdc6db2435afa7a1": {
      "model_module": "@jupyter-widgets/controls",
      "model_module_version": "1.3.0",
      "model_name": "HBoxModel",
      "state": {
       "children": [
        "IPY_MODEL_0d44e054dbf1404984e4aa6a08c718d1",
        "IPY_MODEL_4f6b67cd24d94c0ea02da73b6fa03284",
        "IPY_MODEL_ae9e9014ae484381b268552ba13bb686"
       ],
       "layout": "IPY_MODEL_e5750c2ccca04e4a912feaabf32ff622"
      }
     },
     "0dc65e01bc0e40f09efa03a44449ec59": {
      "model_module": "@jupyter-widgets/controls",
      "model_module_version": "1.3.0",
      "model_name": "AccordionModel",
      "state": {
       "_titles": {
        "0": "Exploration Method"
       },
       "children": [
        "IPY_MODEL_89841c251f7d4133b891572c730efbd5"
       ],
       "layout": "IPY_MODEL_582d988116e540bfb620b7b5cca6d6ee"
      }
     },
     "0dfa5959063e42eb8995be4d8b91f3dd": {
      "model_module": "@jupyter-widgets/base",
      "model_module_version": "1.1.0",
      "model_name": "LayoutModel",
      "state": {
       "width": "100px"
      }
     },
     "0e1be20d39fb4abe985181ae6acae787": {
      "model_module": "@jupyter-widgets/base",
      "model_module_version": "1.1.0",
      "model_name": "LayoutModel",
      "state": {}
     },
     "0e4246c64c4c4ab0b3421100a40c7ab9": {
      "model_module": "@jupyter-widgets/controls",
      "model_module_version": "1.3.0",
      "model_name": "TextModel",
      "state": {
       "layout": "IPY_MODEL_4b9b6b8b4b2843b8ad3b438c69f1e4ab",
       "style": "IPY_MODEL_9180edf1c7864c1ab23d7b91f3b7c959",
       "value": "1"
      }
     },
     "0e9965f186db424c8f7ca521cadd1469": {
      "model_module": "@jupyter-widgets/controls",
      "model_module_version": "1.3.0",
      "model_name": "AccordionModel",
      "state": {
       "_titles": {
        "0": "Weights"
       },
       "children": [
        "IPY_MODEL_c7c8d097065b4ecf97c4d3129180b22f"
       ],
       "layout": "IPY_MODEL_fa3101a872194170a8270e3550ab2e24"
      }
     },
     "0fb1382a4a7d4db5909d32b51c349697": {
      "model_module": "@jupyter-widgets/controls",
      "model_module_version": "1.3.0",
      "model_name": "ToggleButtonsStyleModel",
      "state": {
       "button_width": "",
       "description_width": "initial"
      }
     },
     "100b5a29dd054b55bd29f8527c768a00": {
      "model_module": "@jupyter-widgets/controls",
      "model_module_version": "1.3.0",
      "model_name": "TextModel",
      "state": {
       "description": "Min Level (optional):",
       "layout": "IPY_MODEL_4cc1eceeff914392994d84d0111fb6c8",
       "placeholder": "1",
       "style": "IPY_MODEL_41f9c9c8815e47fe93cb06c8f393e817"
      }
     },
     "11566e5102af426b8bc8ac2c0a209e6f": {
      "model_module": "@jupyter-widgets/base",
      "model_module_version": "1.1.0",
      "model_name": "LayoutModel",
      "state": {}
     },
     "128e6fae7ef7445483f4d6532ca63bdb": {
      "model_module": "@jupyter-widgets/base",
      "model_module_version": "1.1.0",
      "model_name": "LayoutModel",
      "state": {
       "width": "50px"
      }
     },
     "13310e1dbecb4ab39533e207cacda19a": {
      "model_module": "@jupyter-widgets/controls",
      "model_module_version": "1.3.0",
      "model_name": "TextareaModel",
      "state": {
       "layout": "IPY_MODEL_7300ac11bcfa4305a73b7622860fbc4d",
       "placeholder": "0\n1\n1,1\n1,3,5",
       "style": "IPY_MODEL_b45304b2ca8346e8bff30f29b1a9319e"
      }
     },
     "14b9a282d2004f0aafe4069fc0b6a0ce": {
      "model_module": "@jupyter-widgets/controls",
      "model_module_version": "1.3.0",
      "model_name": "LabelModel",
      "state": {
       "layout": "IPY_MODEL_1fb73d2cad9344e7a3aec3265b2be3a0",
       "style": "IPY_MODEL_dfa513f249bf4ee4934da3f4faecd010"
      }
     },
     "158c9b4e675e488f9a2ec9bbf2b122b9": {
      "model_module": "@jupyter-widgets/base",
      "model_module_version": "1.1.0",
      "model_name": "LayoutModel",
      "state": {}
     },
     "15f2690c6b6c4b75868e00ed091a3abc": {
      "model_module": "@jupyter-widgets/base",
      "model_module_version": "1.1.0",
      "model_name": "LayoutModel",
      "state": {
       "width": "100px"
      }
     },
     "1661d227a8e84545ba302b45fdb6f9ad": {
      "model_module": "@jupyter-widgets/controls",
      "model_module_version": "1.3.0",
      "model_name": "DescriptionStyleModel",
      "state": {
       "description_width": ""
      }
     },
     "1686333091274bd9909cf90c545055b0": {
      "model_module": "@jupyter-widgets/base",
      "model_module_version": "1.1.0",
      "model_name": "LayoutModel",
      "state": {
       "display": "none",
       "height": "150px",
       "width": "inherit"
      }
     },
     "177e85656b4447b89a7f8fece12270e4": {
      "model_module": "@jupyter-widgets/controls",
      "model_module_version": "1.3.0",
      "model_name": "HTMLMathModel",
      "state": {
       "layout": "IPY_MODEL_9b449214faed42749004255c0b047432",
       "style": "IPY_MODEL_9d31abb7590c4265afba1a638f17c20f",
       "value": "Fully projection-regular rank-1 Ordinary Lattice Rules"
      }
     },
     "185551e45c78494abab01b078b495cd4": {
      "model_module": "@jupyter-widgets/base",
      "model_module_version": "1.1.0",
      "model_name": "LayoutModel",
      "state": {
       "width": "180px"
      }
     },
     "18616590431846c6948ffa9861e66034": {
      "model_module": "@jupyter-widgets/controls",
      "model_module_version": "1.3.0",
      "model_name": "DescriptionStyleModel",
      "state": {
       "description_width": "initial"
      }
     },
     "186ab651a59e44d09a2bd9c2ed1de845": {
      "model_module": "@jupyter-widgets/base",
      "model_module_version": "1.1.0",
      "model_name": "LayoutModel",
      "state": {
       "width": "20%"
      }
     },
     "189aa7963565486f9a3a09ea802266b1": {
      "model_module": "@jupyter-widgets/base",
      "model_module_version": "1.1.0",
      "model_name": "LayoutModel",
      "state": {
       "align_items": "center"
      }
     },
     "19416800f0644ea6b03f4da08a8b3d22": {
      "model_module": "@jupyter-widgets/controls",
      "model_module_version": "1.3.0",
      "model_name": "DescriptionStyleModel",
      "state": {
       "description_width": "initial"
      }
     },
     "196bc056a4dc4c759e7d07c5fcf4ede2": {
      "model_module": "@jupyter-widgets/base",
      "model_module_version": "1.1.0",
      "model_name": "LayoutModel",
      "state": {}
     },
     "1a76f2e893d0430783ec66c0248ada20": {
      "model_module": "@jupyter-widgets/base",
      "model_module_version": "1.1.0",
      "model_name": "LayoutModel",
      "state": {
       "justify_content": "space-around"
      }
     },
     "1a9cfdff910a4455abb164939102fb07": {
      "model_module": "@jupyter-widgets/controls",
      "model_module_version": "1.3.0",
      "model_name": "TextModel",
      "state": {
       "description": "Set r:",
       "layout": "IPY_MODEL_5519b072efcb4c8a9e8cc604caacd4cc",
       "style": "IPY_MODEL_fb34df9c60ed427c80806d6d92e5d21a",
       "value": "10"
      }
     },
     "1ae6c10c1d2c411195523bf31529c4b4": {
      "model_module": "@jupyter-widgets/controls",
      "model_module_version": "1.3.0",
      "model_name": "DescriptionStyleModel",
      "state": {
       "description_width": "initial"
      }
     },
     "1afc3ca726cf4b398e3e766b408c6317": {
      "model_module": "@jupyter-widgets/controls",
      "model_module_version": "1.3.0",
      "model_name": "VBoxModel",
      "state": {
       "children": [
        "IPY_MODEL_d2d41c504f8d4d57812b2e919287efe8",
        "IPY_MODEL_13310e1dbecb4ab39533e207cacda19a"
       ],
       "layout": "IPY_MODEL_b657053b03044204b77d44a3e770df1a"
      }
     },
     "1b0ef04b92de4da79ea53b5a42a3ba3d": {
      "model_module": "@jupyter-widgets/controls",
      "model_module_version": "1.3.0",
      "model_name": "DescriptionStyleModel",
      "state": {
       "description_width": "initial"
      }
     },
     "1bef267e73f34fa8ae0640abed8defb0": {
      "model_module": "@jupyter-widgets/controls",
      "model_module_version": "1.3.0",
      "model_name": "HBoxModel",
      "state": {
       "children": [
        "IPY_MODEL_31321a9b3b5e47ef99645103a961f4cc",
        "IPY_MODEL_100b5a29dd054b55bd29f8527c768a00",
        "IPY_MODEL_af025a628b914491adeeb6b6ab5816f2"
       ],
       "layout": "IPY_MODEL_e801588c354249c6b173a7c9393a860c"
      }
     },
     "1bf1a89a15eb407895f3744b118a9aba": {
      "model_module": "@jupyter-widgets/controls",
      "model_module_version": "1.3.0",
      "model_name": "TabModel",
      "state": {
       "layout": "IPY_MODEL_62d4954f79b1476d82a1e78986fb07f1"
      }
     },
     "1bfc225661af4c089e10812db10f1795": {
      "model_module": "@jupyter-widgets/base",
      "model_module_version": "1.1.0",
      "model_name": "LayoutModel",
      "state": {
       "width": "200px"
      }
     },
     "1c76fc0f17004396bd9081e1a49d2dc7": {
      "model_module": "@jupyter-widgets/controls",
      "model_module_version": "1.3.0",
      "model_name": "DescriptionStyleModel",
      "state": {
       "description_width": ""
      }
     },
     "1c997d4ed8f248ce9b40dd302ab7a13f": {
      "model_module": "@jupyter-widgets/controls",
      "model_module_version": "1.3.0",
      "model_name": "CheckboxModel",
      "state": {
       "description": "Random choice of r points",
       "disabled": false,
       "layout": "IPY_MODEL_b9a9ede7a3cb4158ade946139faf7af8",
       "style": "IPY_MODEL_fc18702bef3e45a6a6adb9ab1d002065",
       "value": false
      }
     },
     "1dbc8e11bba74850858105345bea2a0e": {
      "model_module": "@jupyter-widgets/controls",
      "model_module_version": "1.3.0",
      "model_name": "DescriptionStyleModel",
      "state": {
       "description_width": "initial"
      }
     },
     "1e4320d795a041f59b79a2c0600015cd": {
      "model_module": "@jupyter-widgets/base",
      "model_module_version": "1.1.0",
      "model_name": "LayoutModel",
      "state": {}
     },
     "1e9a7726af7d4c32b3b2c2b9b597cdab": {
      "model_module": "@jupyter-widgets/controls",
      "model_module_version": "1.3.0",
      "model_name": "TextModel",
      "state": {
       "description": "Value of \\(\\alpha\\):",
       "layout": "IPY_MODEL_2aa188ef91b7482ba0f5dad825b7ff0f",
       "style": "IPY_MODEL_ff6396de3d874b169911f91e4e2e0aa3",
       "value": "2"
      }
     },
     "1e9ddadc44324965b7765e0ed5ae622b": {
      "model_module": "@jupyter-widgets/controls",
      "model_module_version": "1.3.0",
      "model_name": "DescriptionStyleModel",
      "state": {
       "description_width": "initial"
      }
     },
     "1ee046ff8d6b4609b35145efc47d3f68": {
      "model_module": "@jupyter-widgets/controls",
      "model_module_version": "1.3.0",
      "model_name": "DescriptionStyleModel",
      "state": {
       "description_width": "initial"
      }
     },
     "1ef6772fdbfe481d883165693b89e8a7": {
      "model_module": "@jupyter-widgets/controls",
      "model_module_version": "1.3.0",
      "model_name": "DescriptionStyleModel",
      "state": {
       "description_width": ""
      }
     },
     "1f149df6df074855ac5e3bcf83a88e72": {
      "model_module": "@jupyter-widgets/controls",
      "model_module_version": "1.3.0",
      "model_name": "ToggleButtonsModel",
      "state": {
       "_options_labels": [
        "Ordinary",
        "Polynomial"
       ],
       "button_style": "",
       "description": "Choose one:",
       "icons": [],
       "index": 0,
       "layout": "IPY_MODEL_75afe65807de477ea3890f0bfe213b01",
       "style": "IPY_MODEL_cb393a26d88448898edefefdee78c166",
       "tooltips": []
      }
     },
     "1f36d833c9a04a4abc04ed736d954139": {
      "model_module": "@jupyter-widgets/base",
      "model_module_version": "1.1.0",
      "model_name": "LayoutModel",
      "state": {}
     },
     "1fb73d2cad9344e7a3aec3265b2be3a0": {
      "model_module": "@jupyter-widgets/base",
      "model_module_version": "1.1.0",
      "model_name": "LayoutModel",
      "state": {
       "display": "none"
      }
     },
     "1feb5b380cfe40698bc3f35d6317f5fb": {
      "model_module": "@jupyter-widgets/controls",
      "model_module_version": "1.3.0",
      "model_name": "ToggleButtonsModel",
      "state": {
       "_options_labels": [
        "Sobol",
        "Polynomial",
        "Explicit"
       ],
       "button_style": "",
       "description": "Choose one:",
       "icons": [],
       "index": 0,
       "layout": "IPY_MODEL_7e552be932ee4f58b6845aea5209ac84",
       "style": "IPY_MODEL_d089982d96484fd692045792fbd64ac7",
       "tooltips": []
      }
     },
     "1fff1ca333474c8ba4219440118ca608": {
      "model_module": "@jupyter-widgets/base",
      "model_module_version": "1.1.0",
      "model_name": "LayoutModel",
      "state": {
       "width": "900px"
      }
     },
     "2039feb74f96424d881ae6821a28313d": {
      "model_module": "@jupyter-widgets/controls",
      "model_module_version": "1.3.0",
      "model_name": "AccordionModel",
      "state": {
       "_titles": {
        "0": "Basic Lattice properties"
       },
       "children": [
        "IPY_MODEL_a3442a2c16eb4a63bab2c04efc34c086"
       ],
       "layout": "IPY_MODEL_5e4c2df4f5e64c15bc47edf6ce63bff4"
      }
     },
     "206e3963025948f48e2d8d79de1520bd": {
      "model_module": "@jupyter-widgets/controls",
      "model_module_version": "1.3.0",
      "model_name": "DescriptionStyleModel",
      "state": {
       "description_width": ""
      }
     },
     "209d0710b6664b4bb347e422e1ae47aa": {
      "model_module": "@jupyter-widgets/controls",
      "model_module_version": "1.3.0",
      "model_name": "DropdownModel",
      "state": {
       "_options_labels": [
        "Select type of weights",
        "Product",
        "Order-Dependent",
        "POD",
        "Projection-Dependent"
       ],
       "description": "<b> Add new weights: </b>",
       "index": 0,
       "layout": "IPY_MODEL_b558c746e7ea4934acf1a4959d6df0d9",
       "style": "IPY_MODEL_83809af68b5f434589b248ac8174690a"
      }
     },
     "20fb98ee5d264c3ca2316e7f2285c780": {
      "model_module": "@jupyter-widgets/controls",
      "model_module_version": "1.3.0",
      "model_name": "BoundedIntTextModel",
      "state": {
       "description": "Minimal random dimension:",
       "disabled": true,
       "layout": "IPY_MODEL_33f92a84367246a697800d7817c0492a",
       "min": 1,
       "style": "IPY_MODEL_ca4bf62705314a7283add8ce252035f3",
       "value": 1
      }
     },
     "22967557a3904db1bc4c517de9073be2": {
      "model_module": "@jupyter-widgets/controls",
      "model_module_version": "1.3.0",
      "model_name": "AccordionModel",
      "state": {
       "_titles": {
        "0": "Construction Method"
       },
       "children": [
        "IPY_MODEL_958bd5e2475a44c187be000845df9204"
       ],
       "layout": "IPY_MODEL_f6d5cf0b500845869d7cd7d48de7fb18"
      }
     },
     "22d179e6f2be4c678648b9937ffedad0": {
      "model_module": "@jupyter-widgets/base",
      "model_module_version": "1.1.0",
      "model_name": "LayoutModel",
      "state": {}
     },
     "23ba3a12069740b1a9cb01adb253a2e1": {
      "model_module": "@jupyter-widgets/controls",
      "model_module_version": "1.3.0",
      "model_name": "ButtonStyleModel",
      "state": {}
     },
     "24955e487f1a42e081ec81141303cf10": {
      "model_module": "@jupyter-widgets/controls",
      "model_module_version": "1.3.0",
      "model_name": "HTMLModel",
      "state": {
       "layout": "IPY_MODEL_72ac86d93a214adba150f2d75d43df70",
       "style": "IPY_MODEL_06fa110ff8e3476082fd2532fde8db70",
       "value": "<b> Order-Dependent Weights </b>"
      }
     },
     "25599e9dd5ef42c597c195c0862db282": {
      "model_module": "@jupyter-widgets/controls",
      "model_module_version": "1.3.0",
      "model_name": "HBoxModel",
      "state": {
       "children": [
        "IPY_MODEL_299de7799c6f4d33acbf0a2397c1bd03",
        "IPY_MODEL_975c350f05c64e518c6c527b554130cf",
        "IPY_MODEL_fc6ee3a8d9cc4d0b85559d02f98bc434"
       ],
       "layout": "IPY_MODEL_4a6ff54d4e3141638959e1cc23f4ccdf"
      }
     },
     "274cc67d8ad543e7bcc99836ee9e6dfe": {
      "model_module": "@jupyter-widgets/controls",
      "model_module_version": "1.3.0",
      "model_name": "CheckboxModel",
      "state": {
       "description": "Multilevel",
       "disabled": false,
       "layout": "IPY_MODEL_8b1c26d2f1bd49048082eec236180266",
       "style": "IPY_MODEL_8f8cad8ea59d4b3c8719de2bb04272dc",
       "value": false
      }
     },
     "299de7799c6f4d33acbf0a2397c1bd03": {
      "model_module": "@jupyter-widgets/controls",
      "model_module_version": "1.3.0",
      "model_name": "TextModel",
      "state": {
       "layout": "IPY_MODEL_aeae744c103d453d9ac411b3999ff851",
       "style": "IPY_MODEL_85f7f56439c447d9803074cfa87c130e",
       "value": "1"
      }
     },
     "2aa188ef91b7482ba0f5dad825b7ff0f": {
      "model_module": "@jupyter-widgets/base",
      "model_module_version": "1.1.0",
      "model_name": "LayoutModel",
      "state": {
       "width": "15%"
      }
     },
     "2ab171d4ecb44f90913211f1eae06ff7": {
      "model_module": "@jupyter-widgets/base",
      "model_module_version": "1.1.0",
      "model_name": "LayoutModel",
      "state": {
       "display": "none"
      }
     },
     "2afb46547ad540a38314d1bdea8bdf70": {
      "model_module": "@jupyter-widgets/controls",
      "model_module_version": "1.3.0",
      "model_name": "HBoxModel",
      "state": {
       "children": [
        "IPY_MODEL_8eae0e87793546d0ad98827962e61142",
        "IPY_MODEL_9884974992dc49a88b804ab9ad7ad082",
        "IPY_MODEL_b341c4a13d29475b9eb5c303278988a9"
       ],
       "layout": "IPY_MODEL_0e1be20d39fb4abe985181ae6acae787"
      }
     },
     "2cc69a330d544b41ac77b3e59c7a6ad9": {
      "model_module": "@jupyter-widgets/controls",
      "model_module_version": "1.3.0",
      "model_name": "DescriptionStyleModel",
      "state": {
       "description_width": "initial"
      }
     },
     "2cf78f2ec3cf47648bdeb5b907d9e773": {
      "model_module": "@jupyter-widgets/controls",
      "model_module_version": "1.3.0",
      "model_name": "DescriptionStyleModel",
      "state": {
       "description_width": "initial"
      }
     },
     "2de29c3b7d2344a0b957a755d053af29": {
      "model_module": "@jupyter-widgets/controls",
      "model_module_version": "1.3.0",
      "model_name": "DescriptionStyleModel",
      "state": {
       "description_width": ""
      }
     },
     "2e57174c926c40f38dbf555c39f2daf3": {
      "model_module": "@jupyter-widgets/controls",
      "model_module_version": "1.3.0",
      "model_name": "TextModel",
      "state": {
       "layout": "IPY_MODEL_6ea7c082526a4b39ae09e11656e7f426",
       "style": "IPY_MODEL_18616590431846c6948ffa9861e66034",
       "value": "1"
      }
     },
     "2e83690d5c88416b991b34bba7ffee08": {
      "model_module": "@jupyter-widgets/controls",
      "model_module_version": "1.3.0",
      "model_name": "TabModel",
      "state": {
       "_titles": {
        "0": "Plot",
        "1": "C code",
        "2": "Python code",
        "3": "Matlab code"
       },
       "children": [
        "IPY_MODEL_b61b432c10af48bebf17f7a2024e282d",
        "IPY_MODEL_6f68bb372d424e929990e616836513c1",
        "IPY_MODEL_89b5e9321f144ae7b9572189976dd6f3",
        "IPY_MODEL_e28967a67bf64a62ae1602d9f0f541d8"
       ],
       "layout": "IPY_MODEL_e86e29d980854c16bb9afa0328597d39"
      }
     },
     "2e9419e7306d451ba3cbdeaf125fb79c": {
      "model_module": "@jupyter-widgets/base",
      "model_module_version": "1.1.0",
      "model_name": "LayoutModel",
      "state": {
       "width": "50px"
      }
     },
     "2fd078461e254b34832c2460196e30df": {
      "model_module": "@jupyter-widgets/controls",
      "model_module_version": "1.3.0",
      "model_name": "DescriptionStyleModel",
      "state": {
       "description_width": "initial"
      }
     },
     "30462de3c273419598cbf76de0d19ef1": {
      "model_module": "@jupyter-widgets/controls",
      "model_module_version": "1.3.0",
      "model_name": "DescriptionStyleModel",
      "state": {
       "description_width": "initial"
      }
     },
     "30741fdaa73a430f99ced22de2b655de": {
      "model_module": "@jupyter-widgets/base",
      "model_module_version": "1.1.0",
      "model_name": "LayoutModel",
      "state": {
       "width": "180px"
      }
     },
     "31321a9b3b5e47ef99645103a961f4cc": {
      "model_module": "@jupyter-widgets/controls",
      "model_module_version": "1.3.0",
      "model_name": "CheckboxModel",
      "state": {
       "description": "Normalization",
       "disabled": false,
       "layout": "IPY_MODEL_ba97fae2ba964719ad2c59d61f7e1419",
       "style": "IPY_MODEL_ed97cf44d75f48eba0c99b95598d460c",
       "value": false
      }
     },
     "313d8a2d10774a558a3ecb314fd469ba": {
      "model_module": "@jupyter-widgets/base",
      "model_module_version": "1.1.0",
      "model_name": "LayoutModel",
      "state": {
       "align_items": "center"
      }
     },
     "3262954851ba419d8087ac1d3729ea74": {
      "model_module": "@jupyter-widgets/controls",
      "model_module_version": "1.3.0",
      "model_name": "VBoxModel",
      "state": {
       "children": [
        "IPY_MODEL_cd6412e5128e4507ad576acf5aceb7c6",
        "IPY_MODEL_22967557a3904db1bc4c517de9073be2",
        "IPY_MODEL_2039feb74f96424d881ae6821a28313d",
        "IPY_MODEL_0dc65e01bc0e40f09efa03a44449ec59",
        "IPY_MODEL_f873ad8341a7491fa58e1eaa988e1a32",
        "IPY_MODEL_0e9965f186db424c8f7ca521cadd1469",
        "IPY_MODEL_485aebf83af64020aa3c1bb6c77c3795",
        "IPY_MODEL_558fc97cfce24cbeaec50fe94b9193bd",
        "IPY_MODEL_93a82164a2f64d1fa8b858f9ac8a4f20",
        "IPY_MODEL_c7cf4fb3c39546e4b4e7632f23dd0d06",
        "IPY_MODEL_014133d7952f4a0bb12ceea6c0b0f3b2",
        "IPY_MODEL_96b637a87ff747ed8f2ec643f1cec7ce",
        "IPY_MODEL_2e83690d5c88416b991b34bba7ffee08"
       ],
       "layout": "IPY_MODEL_df84a6a443da446091cff86a7d23576b"
      }
     },
     "328b91588a564c6598532e1d44a390b4": {
      "model_module": "@jupyter-widgets/base",
      "model_module_version": "1.1.0",
      "model_name": "LayoutModel",
      "state": {
       "display": "none",
       "width": "15%"
      }
     },
     "33491d78e9894581bec5af3dd4377542": {
      "model_module": "@jupyter-widgets/base",
      "model_module_version": "1.1.0",
      "model_name": "LayoutModel",
      "state": {
       "width": "50px"
      }
     },
     "33926ab0588c41239a1e7ab5ec6661e1": {
      "model_module": "@jupyter-widgets/base",
      "model_module_version": "1.1.0",
      "model_name": "LayoutModel",
      "state": {}
     },
     "33dfaf7450644d66a7da5bb2696e1fe8": {
      "model_module": "@jupyter-widgets/controls",
      "model_module_version": "1.3.0",
      "model_name": "DescriptionStyleModel",
      "state": {
       "description_width": ""
      }
     },
     "33f92a84367246a697800d7817c0492a": {
      "model_module": "@jupyter-widgets/base",
      "model_module_version": "1.1.0",
      "model_name": "LayoutModel",
      "state": {
       "display": "none",
       "margin": "0px 0px 0px 80px",
       "width": "250px"
      }
     },
     "345a033905904066806efddb563dc5d0": {
      "model_module": "@jupyter-widgets/base",
      "model_module_version": "1.1.0",
      "model_name": "LayoutModel",
      "state": {
       "display": "none",
       "margin": "0px 0px 0px 80px",
       "width": "250px"
      }
     },
     "34a0976b3998498682616fe05490271f": {
      "model_module": "@jupyter-widgets/base",
      "model_module_version": "1.1.0",
      "model_name": "LayoutModel",
      "state": {
       "display": "flex"
      }
     },
     "3589354b34754ac3ae2a5e20bade2880": {
      "model_module": "@jupyter-widgets/controls",
      "model_module_version": "1.3.0",
      "model_name": "ToggleButtonsStyleModel",
      "state": {
       "button_width": "",
       "description_width": "initial"
      }
     },
     "35a0a4b7bcba41f59d94a27f0a680254": {
      "model_module": "@jupyter-widgets/base",
      "model_module_version": "1.1.0",
      "model_name": "LayoutModel",
      "state": {}
     },
     "35d89494bbed4c569fe69d3e7d08727f": {
      "model_module": "@jupyter-widgets/base",
      "model_module_version": "1.1.0",
      "model_name": "LayoutModel",
      "state": {}
     },
     "36bc76eab9ac49ca92dd1ab863de6eb2": {
      "model_module": "@jupyter-widgets/base",
      "model_module_version": "1.1.0",
      "model_name": "LayoutModel",
      "state": {
       "width": "500px"
      }
     },
     "37556655fbc6478580959f5fca31a3c9": {
      "model_module": "@jupyter-widgets/base",
      "model_module_version": "1.1.0",
      "model_name": "LayoutModel",
      "state": {
       "width": "100px"
      }
     },
     "383b74d6ba374d20af5eb3fbc4276be7": {
      "model_module": "@jupyter-widgets/base",
      "model_module_version": "1.1.0",
      "model_name": "LayoutModel",
      "state": {}
     },
     "38441fb0bd2243bb879033110fbf5c25": {
      "model_module": "@jupyter-widgets/controls",
      "model_module_version": "1.3.0",
      "model_name": "ToggleButtonsModel",
      "state": {
       "_options_labels": [
        "Ordinary",
        "Polynomial"
       ],
       "button_style": "",
       "description": "Choose one:",
       "icons": [],
       "index": 0,
       "layout": "IPY_MODEL_c15627a46b8746c5b68565116cfa36aa",
       "style": "IPY_MODEL_6d4ad7c7a7cf40f784a5d77fd28bc950",
       "tooltips": []
      }
     },
     "39a09e886b8240f182968a75fb3f254e": {
      "model_module": "@jupyter-widgets/base",
      "model_module_version": "1.1.0",
      "model_name": "LayoutModel",
      "state": {
       "width": "200px"
      }
     },
     "3aa07019496e40529e88818e397e4e8d": {
      "model_module": "@jupyter-widgets/controls",
      "model_module_version": "1.3.0",
      "model_name": "DescriptionStyleModel",
      "state": {
       "description_width": ""
      }
     },
     "3b494c2423d0439490df527b0c18ed25": {
      "model_module": "@jupyter-widgets/controls",
      "model_module_version": "1.3.0",
      "model_name": "HBoxModel",
      "state": {
       "children": [
        "IPY_MODEL_c363904628484557b2568cdbe99fe45d",
        "IPY_MODEL_49bdf42e742d4d1792798a22a6b031fa"
       ],
       "layout": "IPY_MODEL_1a76f2e893d0430783ec66c0248ada20"
      }
     },
     "3b61a60bfeb04753b95097e6c9ace479": {
      "model_module": "@jupyter-widgets/controls",
      "model_module_version": "1.3.0",
      "model_name": "DescriptionStyleModel",
      "state": {
       "description_width": ""
      }
     },
     "3b64fb9ba63541bc97f04a81d4c0515d": {
      "model_module": "@jupyter-widgets/controls",
      "model_module_version": "1.3.0",
      "model_name": "AccordionModel",
      "state": {
       "_titles": {
        "0": "Construction Method"
       },
       "children": [
        "IPY_MODEL_70aeee6991b04d44a587502ae7b423ab"
       ],
       "layout": "IPY_MODEL_81419119844548fe9d9b65fdc3ebfad4"
      }
     },
     "3ca54161792243859a64f0b8b34fb54e": {
      "model_module": "@jupyter-widgets/controls",
      "model_module_version": "1.3.0",
      "model_name": "DescriptionStyleModel",
      "state": {
       "description_width": ""
      }
     },
     "3cc9cf82e8a5433c9dfa131d9cc1fd3f": {
      "model_module": "@jupyter-widgets/controls",
      "model_module_version": "1.3.0",
      "model_name": "TextModel",
      "state": {
       "description": "Modulus n=",
       "layout": "IPY_MODEL_b89aa83a773c4e17a2a89c2d6a018d09",
       "placeholder": "e.g. 2^10 (default) or 1024",
       "style": "IPY_MODEL_08468f1d191c4cdebcede00e0326c8bd"
      }
     },
     "3d1f391365bd474fa21bfbff5334d17a": {
      "model_module": "@jupyter-widgets/controls",
      "model_module_version": "1.3.0",
      "model_name": "TextModel",
      "state": {
       "description": "Low-Pass Threshold",
       "layout": "IPY_MODEL_a7cd38ecc7c24692baaabb6fddd1cb94",
       "style": "IPY_MODEL_1e9ddadc44324965b7765e0ed5ae622b",
       "value": "1"
      }
     },
     "3f10e7d4e3b94bec8ce629c968c5bf14": {
      "model_module": "@jupyter-widgets/controls",
      "model_module_version": "1.3.0",
      "model_name": "BoundedIntTextModel",
      "state": {
       "description": "Dimension s:",
       "layout": "IPY_MODEL_e2a2a3b4147e4fcc8c7002ead5cbe312",
       "min": 1,
       "style": "IPY_MODEL_b80ed47c503248e1910c8f028d43863f",
       "value": 3
      }
     },
     "3f818fb5316e414993508e8bd8338c00": {
      "model_module": "@jupyter-widgets/controls",
      "model_module_version": "1.3.0",
      "model_name": "HTMLModel",
      "state": {
       "description": "<b> Result: </b>",
       "layout": "IPY_MODEL_57e3d570c17a424bbdf94efba2aba018",
       "style": "IPY_MODEL_3aa07019496e40529e88818e397e4e8d",
       "value": "<span> <b> Number of points </b>: 1024 </span><p> <b> Generating Vector </b>: [1, 275, 167] </p><p> <b> Merit value </b>: 0.00327879 </p> <p> <b> CPU Time </b>: 0.00493301 seconds </p>"
      }
     },
     "40296686c2ac4858bd227c484f86ddf9": {
      "model_module": "@jupyter-widgets/controls",
      "model_module_version": "1.3.0",
      "model_name": "HTMLModel",
      "state": {
       "description": "<b> Result: </b>",
       "layout": "IPY_MODEL_c6a1152fdd6644d8a1822eebecec7495",
       "style": "IPY_MODEL_4e9a368f3a8e4e7297d42f08e1b7ab2a"
      }
     },
     "41435b8f32e346a48b40e0a87f19ba9a": {
      "model_module": "@jupyter-widgets/base",
      "model_module_version": "1.1.0",
      "model_name": "LayoutModel",
      "state": {}
     },
     "418b91f0916b4c67a787d6157fd2d893": {
      "model_module": "@jupyter-widgets/controls",
      "model_module_version": "1.3.0",
      "model_name": "HTMLModel",
      "state": {
       "description": "<b> Command line: </b>",
       "layout": "IPY_MODEL_e4c63db188624164bc6a51e76f6fbbf4",
       "style": "IPY_MODEL_e2ed3aa70d234d7ca9d7fd89e4145b1f"
      }
     },
     "41b3c2870a844370abf85d79590682ab": {
      "model_module": "@jupyter-widgets/controls",
      "model_module_version": "1.3.0",
      "model_name": "DescriptionStyleModel",
      "state": {
       "description_width": "initial"
      }
     },
     "41db975e8c4044caa7b0f34b787d1ba2": {
      "model_module": "@jupyter-widgets/controls",
      "model_module_version": "1.3.0",
      "model_name": "VBoxModel",
      "state": {
       "children": [
        "IPY_MODEL_69b19d597dfd4248908460d34a21b257",
        "IPY_MODEL_f5e1b40e304340dda806b98d7097abe9"
       ],
       "layout": "IPY_MODEL_a7e32b48790b44f79d73ac0378224d1c"
      }
     },
     "41f9c9c8815e47fe93cb06c8f393e817": {
      "model_module": "@jupyter-widgets/controls",
      "model_module_version": "1.3.0",
      "model_name": "DescriptionStyleModel",
      "state": {
       "description_width": "initial"
      }
     },
     "43cb0f84f23240a0b0ac75d517f074ed": {
      "model_module": "@jupyter-widgets/base",
      "model_module_version": "1.1.0",
      "model_name": "LayoutModel",
      "state": {}
     },
     "43dd9c77df694ed3887b4d219093af38": {
      "model_module": "@jupyter-widgets/base",
      "model_module_version": "1.1.0",
      "model_name": "LayoutModel",
      "state": {
       "display": "none"
      }
     },
     "44dcf31cbf084f53a033db5d3c6b7c47": {
      "model_module": "@jupyter-widgets/base",
      "model_module_version": "1.1.0",
      "model_name": "LayoutModel",
      "state": {
       "width": "90%"
      }
     },
     "4505c9327e5146e0bc2a54c98c23c9f2": {
      "model_module": "@jupyter-widgets/base",
      "model_module_version": "1.1.0",
      "model_name": "LayoutModel",
      "state": {
       "justify_content": "space-around"
      }
     },
     "455ad4a900d34d64a69f7913d7fe0ce9": {
      "model_module": "@jupyter-widgets/controls",
      "model_module_version": "1.3.0",
      "model_name": "ButtonStyleModel",
      "state": {}
     },
     "456c153eaba647c78a4d7b95525bab0e": {
      "model_module": "@jupyter-widgets/controls",
      "model_module_version": "1.3.0",
      "model_name": "TextModel",
      "state": {
       "description": "If you want to extend, please specify the former modulus:",
       "layout": "IPY_MODEL_69e5089292f14cdabd77a191e1ee2e4e",
       "placeholder": "e.g. 2^8 or 256",
       "style": "IPY_MODEL_7544e5593aec4a76befe9b35811e4efa"
      }
     },
     "476fae569abe4ad495ab2622650e130a": {
      "model_module": "@jupyter-widgets/controls",
      "model_module_version": "1.3.0",
      "model_name": "TextModel",
      "state": {
       "description": "Value of \\(\\alpha\\):",
       "layout": "IPY_MODEL_6c98c12f983049699efd2430be7d9312",
       "style": "IPY_MODEL_b12e767eccff4d6d9e3d31dcbe33cb3d",
       "value": "2"
      }
     },
     "47873e9bdbbd443ea516f4dd81ef6f08": {
      "model_module": "@jupyter-widgets/controls",
      "model_module_version": "1.3.0",
      "model_name": "TextModel",
      "state": {
       "description": "OR set all at once with (valid Python) expression: \\( \\Gamma_k^q \\) =",
       "layout": "IPY_MODEL_a7cf2d92d29b49a0aedf139cbd99c2cd",
       "placeholder": "0.8^k * (k <= 3)",
       "style": "IPY_MODEL_6d2e6d890b2e485a82f5f0c4bbe5dc06"
      }
     },
     "479896335a1148409513207337464602": {
      "model_module": "@jupyter-widgets/controls",
      "model_module_version": "1.3.0",
      "model_name": "DescriptionStyleModel",
      "state": {
       "description_width": "initial"
      }
     },
     "47e03b9fa04447f1804ce2696bf44c85": {
      "model_module": "@jupyter-widgets/controls",
      "model_module_version": "1.3.0",
      "model_name": "VBoxModel",
      "state": {
       "children": [
        "IPY_MODEL_3cc9cf82e8a5433c9dfa131d9cc1fd3f",
        "IPY_MODEL_0437aa1befa946b0a2a8be8e0266e373"
       ],
       "layout": "IPY_MODEL_d8ed01bb3c054e41b9393d968b328cdc"
      }
     },
     "47fa10921720433e89bc6b2b785c3740": {
      "model_module": "@jupyter-widgets/base",
      "model_module_version": "1.1.0",
      "model_name": "LayoutModel",
      "state": {
       "width": "24%"
      }
     },
     "4821c64f3ab24281890510c71dafceca": {
      "model_module": "@jupyter-widgets/base",
      "model_module_version": "1.1.0",
      "model_name": "LayoutModel",
      "state": {
       "height": "130px",
       "width": "600px"
      }
     },
     "485aebf83af64020aa3c1bb6c77c3795": {
      "model_module": "@jupyter-widgets/controls",
      "model_module_version": "1.3.0",
      "model_name": "VBoxModel",
      "state": {
       "children": [
        "IPY_MODEL_0974b77a368f4fd5bbf9ec2ac0c6e20e",
        "IPY_MODEL_6cd572bd98cd4b5b989e205169b3cc06"
       ],
       "layout": "IPY_MODEL_ba07160fd0c2433db04e172cd67124ce"
      }
     },
     "486d7b3df24c4593a36271138b723b3a": {
      "model_module": "@jupyter-widgets/controls",
      "model_module_version": "1.3.0",
      "model_name": "TextModel",
      "state": {
       "description": "Min Level (optional):",
       "layout": "IPY_MODEL_d1b0751a710b4bdfbadb1ec4b11d74d1",
       "placeholder": "1",
       "style": "IPY_MODEL_f5fdb654ad55418a84b9bb1fb68bfe88"
      }
     },
     "49bdf42e742d4d1792798a22a6b031fa": {
      "model_module": "@jupyter-widgets/controls",
      "model_module_version": "1.3.0",
      "model_name": "ButtonModel",
      "state": {
       "description": "Evaluate from previous search",
       "layout": "IPY_MODEL_b4fb5583aec14d3e99f13e84f85a7f40",
       "style": "IPY_MODEL_23ba3a12069740b1a9cb01adb253a2e1"
      }
     },
     "49ea4b8cc9d841a3a6cb98e6dc856a84": {
      "model_module": "@jupyter-widgets/controls",
      "model_module_version": "1.3.0",
      "model_name": "HBoxModel",
      "state": {
       "children": [
        "IPY_MODEL_ad2bbbf622ae40e3b683030bd3d50682",
        "IPY_MODEL_4e6c9efb59d949c29b1464c6835e8bac",
        "IPY_MODEL_70bc5df2015f42d5b2584975d4b316ab"
       ],
       "layout": "IPY_MODEL_35a0a4b7bcba41f59d94a27f0a680254"
      }
     },
     "4a6ff54d4e3141638959e1cc23f4ccdf": {
      "model_module": "@jupyter-widgets/base",
      "model_module_version": "1.1.0",
      "model_name": "LayoutModel",
      "state": {
       "display": "none"
      }
     },
     "4b9b6b8b4b2843b8ad3b438c69f1e4ab": {
      "model_module": "@jupyter-widgets/base",
      "model_module_version": "1.1.0",
      "model_name": "LayoutModel",
      "state": {
       "width": "100px"
      }
     },
     "4cc1eceeff914392994d84d0111fb6c8": {
      "model_module": "@jupyter-widgets/base",
      "model_module_version": "1.1.0",
      "model_name": "LayoutModel",
      "state": {
       "display": "none",
       "margin": "0px 10px 0px 0px",
       "width": "180px"
      }
     },
     "4d0664dda9cb44f38b72648327e5df22": {
      "model_module": "@jupyter-widgets/controls",
      "model_module_version": "1.3.0",
      "model_name": "TabModel",
      "state": {
       "_titles": {
        "0": "Plot",
        "1": "C code",
        "2": "Python code",
        "3": "Matlab code"
       },
       "children": [
        "IPY_MODEL_d8b4007238e64133b49f6ccadf11cb0e",
        "IPY_MODEL_ded13bad0615483ba368bf82d3a5de31",
        "IPY_MODEL_70ecaf7f7e80486a991d8f47f0971e3c",
        "IPY_MODEL_5f820e285d0d477cb23848f9338ee618"
       ],
       "layout": "IPY_MODEL_34a0976b3998498682616fe05490271f"
      }
     },
     "4d718282679b48e0b20b597072339b9e": {
      "model_module": "@jupyter-widgets/base",
      "model_module_version": "1.1.0",
      "model_name": "LayoutModel",
      "state": {
       "width": "100px"
      }
     },
     "4dd1d94d86ba4016b197010eaa3d1ecc": {
      "model_module": "@jupyter-widgets/base",
      "model_module_version": "1.1.0",
      "model_name": "LayoutModel",
      "state": {
       "width": "inherit"
      }
     },
     "4e6c9efb59d949c29b1464c6835e8bac": {
      "model_module": "@jupyter-widgets/controls",
      "model_module_version": "1.3.0",
      "model_name": "TextModel",
      "state": {
       "layout": "IPY_MODEL_2e9419e7306d451ba3cbdeaf125fb79c",
       "style": "IPY_MODEL_1661d227a8e84545ba302b45fdb6f9ad",
       "value": "0.64"
      }
     },
     "4e9a368f3a8e4e7297d42f08e1b7ab2a": {
      "model_module": "@jupyter-widgets/controls",
      "model_module_version": "1.3.0",
      "model_name": "DescriptionStyleModel",
      "state": {
       "description_width": ""
      }
     },
     "4f1ca6def24649c09ee76e2918ee925d": {
      "model_module": "@jupyter-widgets/base",
      "model_module_version": "1.1.0",
      "model_name": "LayoutModel",
      "state": {}
     },
     "4f6b67cd24d94c0ea02da73b6fa03284": {
      "model_module": "@jupyter-widgets/controls",
      "model_module_version": "1.3.0",
      "model_name": "LabelModel",
      "state": {
       "layout": "IPY_MODEL_a1c354f3287140378847c4dd3255c74c",
       "style": "IPY_MODEL_741872af2bf445ea8f95cdd848718386",
       "value": "$$\\gamma_u=\\Gamma_{|u|}$$"
      }
     },
     "4fda62a912bc4dd986666b6d6400baa2": {
      "model_module": "@jupyter-widgets/base",
      "model_module_version": "1.1.0",
      "model_name": "LayoutModel",
      "state": {}
     },
     "4fde2c1481f64fe7a7573d2661bdb78a": {
      "model_module": "@jupyter-widgets/controls",
      "model_module_version": "1.3.0",
      "model_name": "ToggleButtonsModel",
      "state": {
       "_options_labels": [
        "Evaluate/Extend",
        "All space",
        "Korobov",
        "CBC",
        "Fast CBC"
       ],
       "button_style": "",
       "description": "Choose one:",
       "icons": [],
       "index": 4,
       "layout": "IPY_MODEL_4f1ca6def24649c09ee76e2918ee925d",
       "style": "IPY_MODEL_3589354b34754ac3ae2a5e20bade2880",
       "tooltips": []
      }
     },
     "505c44ee73634bb1acfa909909a4a443": {
      "model_module": "@jupyter-widgets/controls",
      "model_module_version": "1.3.0",
      "model_name": "DescriptionStyleModel",
      "state": {
       "description_width": "initial"
      }
     },
     "511ee61251a944998b795126258a6f3c": {
      "model_module": "@jupyter-widgets/controls",
      "model_module_version": "1.3.0",
      "model_name": "TextModel",
      "state": {
       "layout": "IPY_MODEL_15f2690c6b6c4b75868e00ed091a3abc",
       "style": "IPY_MODEL_e8dd5fa214f440828a2ce579d3da6ac1",
       "value": "1"
      }
     },
     "527b0ee75a93418aa7d4625f3ed3fbf2": {
      "model_module": "@jupyter-widgets/controls",
      "model_module_version": "1.3.0",
      "model_name": "TextModel",
      "state": {
       "description": "Path:",
       "layout": "IPY_MODEL_f6ecf9694a93454faa00f45179e21c8c",
       "placeholder": "e.g. output or /home/output",
       "style": "IPY_MODEL_58565cb434d64889ad636e0f56c52882"
      }
     },
     "53736421c66b44278fdc471c413b8bfd": {
      "model_module": "@jupyter-widgets/base",
      "model_module_version": "1.1.0",
      "model_name": "LayoutModel",
      "state": {}
     },
     "53db8ed9a76548d889b3b19ff46ef8c9": {
      "model_module": "@jupyter-widgets/controls",
      "model_module_version": "1.3.0",
      "model_name": "DescriptionStyleModel",
      "state": {
       "description_width": "initial"
      }
     },
     "53f83c6b6bd14b81b6d8118496f93a97": {
      "model_module": "@jupyter-widgets/controls",
      "model_module_version": "1.3.0",
      "model_name": "DescriptionStyleModel",
      "state": {
       "description_width": "initial"
      }
     },
     "549042f356614918a859f0d52a775a25": {
      "model_module": "@jupyter-widgets/controls",
      "model_module_version": "1.3.0",
      "model_name": "DropdownModel",
      "state": {
       "_options_labels": [
        "Palpha",
        "Ralpha",
        "Spectral"
       ],
       "description": "Figure:",
       "index": 0,
       "layout": "IPY_MODEL_186ab651a59e44d09a2bd9c2ed1de845",
       "style": "IPY_MODEL_1dbc8e11bba74850858105345bea2a0e"
      }
     },
     "54e8d62baf5c4d1f8333ebde7e1a3fd8": {
      "model_module": "@jupyter-widgets/controls",
      "model_module_version": "1.3.0",
      "model_name": "VBoxModel",
      "state": {
       "children": [
        "IPY_MODEL_d0216d554a0a4429a60e65618470d16b",
        "IPY_MODEL_695680d5014f41fd82a9a9d86ccdb14a"
       ],
       "layout": "IPY_MODEL_87027249bea14458afa3d0a355a8a2f8"
      }
     },
     "5519b072efcb4c8a9e8cc604caacd4cc": {
      "model_module": "@jupyter-widgets/base",
      "model_module_version": "1.1.0",
      "model_name": "LayoutModel",
      "state": {
       "display": "none"
      }
     },
     "558fc97cfce24cbeaec50fe94b9193bd": {
      "model_module": "@jupyter-widgets/controls",
      "model_module_version": "1.3.0",
      "model_name": "HBoxModel",
      "state": {
       "children": [
        "IPY_MODEL_7aa5aa44d42c4910b5377d8af78040b8",
        "IPY_MODEL_af61999cf3bc402db2f28a3c20b436e7",
        "IPY_MODEL_b52eae8092554330a3d5a0f332d24082"
       ],
       "layout": "IPY_MODEL_e39c1ff80f0e4bafbf811f73319cc46f"
      }
     },
     "55a50987d1d449759fe223442aaa360c": {
      "model_module": "@jupyter-widgets/controls",
      "model_module_version": "1.3.0",
      "model_name": "DescriptionStyleModel",
      "state": {
       "description_width": ""
      }
     },
     "5766f0f2cbf04425a38b3efd383bb677": {
      "model_module": "@jupyter-widgets/controls",
      "model_module_version": "1.3.0",
      "model_name": "LabelModel",
      "state": {
       "layout": "IPY_MODEL_76b0519600844e279f21d34700e84ef6",
       "style": "IPY_MODEL_33dfaf7450644d66a7da5bb2696e1fe8",
       "value": "$$\\gamma_u=\\Gamma_{|u|}$$"
      }
     },
     "576a68952b504858b05f47265bab1204": {
      "model_module": "@jupyter-widgets/base",
      "model_module_version": "1.1.0",
      "model_name": "LayoutModel",
      "state": {}
     },
     "57a0879277124d1db38c59781d475671": {
      "model_module": "@jupyter-widgets/controls",
      "model_module_version": "1.3.0",
      "model_name": "DescriptionStyleModel",
      "state": {
       "description_width": ""
      }
     },
     "57b74ec690d24c44a4e0b9a6269dd708": {
      "model_module": "@jupyter-widgets/base",
      "model_module_version": "1.1.0",
      "model_name": "LayoutModel",
      "state": {}
     },
     "57e3d570c17a424bbdf94efba2aba018": {
      "model_module": "@jupyter-widgets/base",
      "model_module_version": "1.1.0",
      "model_name": "LayoutModel",
      "state": {
       "width": "900px"
      }
     },
     "57ebd26b32344ee2adc4c6d07ee0afe0": {
      "model_module": "@jupyter-widgets/controls",
      "model_module_version": "1.3.0",
      "model_name": "FloatProgressModel",
      "state": {
       "bar_style": "info",
       "description": "Number of dim explored:",
       "layout": "IPY_MODEL_fb65f658f2644c00b3d0d64d51984029",
       "max": 1,
       "style": "IPY_MODEL_8de8a4b05e0345b4809076f923eef7b1"
      }
     },
     "582d988116e540bfb620b7b5cca6d6ee": {
      "model_module": "@jupyter-widgets/base",
      "model_module_version": "1.1.0",
      "model_name": "LayoutModel",
      "state": {}
     },
     "58565cb434d64889ad636e0f56c52882": {
      "model_module": "@jupyter-widgets/controls",
      "model_module_version": "1.3.0",
      "model_name": "DescriptionStyleModel",
      "state": {
       "description_width": "initial"
      }
     },
     "58a9a99061da4f87b0d7c5e3a325933f": {
      "model_module": "@jupyter-widgets/controls",
      "model_module_version": "1.3.0",
      "model_name": "HBoxModel",
      "state": {
       "children": [
        "IPY_MODEL_029729f9497649ea88ac2d913cd1e989",
        "IPY_MODEL_486d7b3df24c4593a36271138b723b3a",
        "IPY_MODEL_9ee442509e7b4d8898e3fd7c93feb3d5"
       ],
       "layout": "IPY_MODEL_a8368b2848124f19b849fe1bbcd8da43"
      }
     },
     "590f4e6f66a14fb683796031127e7d54": {
      "model_module": "@jupyter-widgets/base",
      "model_module_version": "1.1.0",
      "model_name": "LayoutModel",
      "state": {
       "width": "100px"
      }
     },
     "59d0ad59d95a44adb316cd3ff996bda5": {
      "model_module": "@jupyter-widgets/controls",
      "model_module_version": "1.3.0",
      "model_name": "VBoxModel",
      "state": {
       "children": [
        "IPY_MODEL_c72aa763c9eb48ef8716d0e0b5fb6ba5",
        "IPY_MODEL_f5e7d60527124c19b11b861b82512217"
       ],
       "layout": "IPY_MODEL_f999f1199dc148dd930ab4b0d468d037"
      }
     },
     "5a3103b77f2547e58f1bf8492f4b43f3": {
      "model_module": "@jupyter-widgets/base",
      "model_module_version": "1.1.0",
      "model_name": "LayoutModel",
      "state": {}
     },
     "5a5dd89fa6b1453d94a8874d42a7e72b": {
      "model_module": "@jupyter-widgets/base",
      "model_module_version": "1.1.0",
      "model_name": "LayoutModel",
      "state": {
       "display": "none"
      }
     },
     "5aaf9b77e54a4ea5a170ee55519f0d76": {
      "model_module": "@jupyter-widgets/base",
      "model_module_version": "1.1.0",
      "model_name": "LayoutModel",
      "state": {
       "display": "none"
      }
     },
     "5b241509841746809085057a7070019f": {
      "model_module": "@jupyter-widgets/controls",
      "model_module_version": "1.3.0",
      "model_name": "DescriptionStyleModel",
      "state": {
       "description_width": "initial"
      }
     },
     "5b3bfd34fce84b298cdc09b05df0a924": {
      "model_module": "@jupyter-widgets/base",
      "model_module_version": "1.1.0",
      "model_name": "LayoutModel",
      "state": {
       "width": "20%"
      }
     },
     "5c41ef66ec65444b838f7f77e77c9101": {
      "model_module": "@jupyter-widgets/base",
      "model_module_version": "1.1.0",
      "model_name": "LayoutModel",
      "state": {}
     },
     "5cb5cbd81ed64e62879bf0b2f55bb398": {
      "model_module": "@jupyter-widgets/base",
      "model_module_version": "1.1.0",
      "model_name": "LayoutModel",
      "state": {}
     },
     "5ce72f9a87744ab79b3385667ade692c": {
      "model_module": "@jupyter-widgets/base",
      "model_module_version": "1.1.0",
      "model_name": "LayoutModel",
      "state": {}
     },
     "5e4c2df4f5e64c15bc47edf6ce63bff4": {
      "model_module": "@jupyter-widgets/base",
      "model_module_version": "1.1.0",
      "model_name": "LayoutModel",
      "state": {}
     },
     "5ead6a0b8f99463d877ca7b014d512b3": {
      "model_module": "@jupyter-widgets/base",
      "model_module_version": "1.1.0",
      "model_name": "LayoutModel",
      "state": {
       "height": "150px",
       "width": "inherit"
      }
     },
     "5eb70ab3235449afb48bf69da62ad310": {
      "model_module": "@jupyter-widgets/base",
      "model_module_version": "1.1.0",
      "model_name": "LayoutModel",
      "state": {
       "height": "500px",
       "width": "600px"
      }
     },
     "5eda8779a5e74588994df2cc37fbf384": {
      "model_module": "@jupyter-widgets/controls",
      "model_module_version": "1.3.0",
      "model_name": "AccordionModel",
      "state": {
       "_titles": {
        "0": "Basic Lattice properties"
       },
       "children": [
        "IPY_MODEL_944e9c78ed3f498e82dc992b11080222"
       ],
       "layout": "IPY_MODEL_383b74d6ba374d20af5eb3fbc4276be7"
      }
     },
     "5f51fcbe31614fa2be80b04d3f3af2bb": {
      "model_module": "@jupyter-widgets/controls",
      "model_module_version": "1.3.0",
      "model_name": "DescriptionStyleModel",
      "state": {
       "description_width": "initial"
      }
     },
     "5f820e285d0d477cb23848f9338ee618": {
      "model_module": "@jupyter-widgets/controls",
      "model_module_version": "1.3.0",
      "model_name": "TextareaModel",
      "state": {
       "layout": "IPY_MODEL_c3a627979ac54b859d2de2e4377c1861",
       "style": "IPY_MODEL_c5667b3ca5ca418199dfc96aac6e5e28",
       "value": "n = 1024;\na = [1, 275, 167];\npoints = zeros(n,length(a));\nfor i = 1:n\n    points(i,:) = mod((i - 1) * a, n) / n;\nend"
      }
     },
     "5fa7a8e2dfd64dd5b8add939182d20a6": {
      "model_module": "@jupyter-widgets/controls",
      "model_module_version": "1.3.0",
      "model_name": "DropdownModel",
      "state": {
       "_options_labels": [
        "Select type of weights",
        "Product",
        "Order-Dependent",
        "POD",
        "Projection-Dependent"
       ],
       "description": "<b> Add new weights: </b>",
       "index": 0,
       "layout": "IPY_MODEL_efe561933ff54288b3b9c9adb4627a88",
       "style": "IPY_MODEL_fc9257379eba4888b43505dde9d8d67c"
      }
     },
     "605979e520914a1fba03c995617f95a4": {
      "model_module": "@jupyter-widgets/controls",
      "model_module_version": "1.3.0",
      "model_name": "AccordionModel",
      "state": {
       "_titles": {
        "0": "Weights"
       },
       "children": [
        "IPY_MODEL_a6fd1f6aeb4e474ca778f20856f6ec7e"
       ],
       "layout": "IPY_MODEL_02c3565a1cea4630981e9e2c3b394930"
      }
     },
     "610bc11100de4379a622a7e8922912e7": {
      "model_module": "@jupyter-widgets/controls",
      "model_module_version": "1.3.0",
      "model_name": "DescriptionStyleModel",
      "state": {
       "description_width": ""
      }
     },
     "6174394bcdea4891b5bd1e07527fd739": {
      "model_module": "@jupyter-widgets/controls",
      "model_module_version": "1.3.0",
      "model_name": "HTMLMathModel",
      "state": {
       "layout": "IPY_MODEL_c24aeb06be574d93a68f26c2b3b2ccc3",
       "style": "IPY_MODEL_e32e0500bc2f4abe89ed210e3b235fd6",
       "value": "Set Order Weights \\( \\Gamma_k^q \\):"
      }
     },
     "61bb6a1034a940e68e3e850c179a1294": {
      "model_module": "@jupyter-widgets/controls",
      "model_module_version": "1.3.0",
      "model_name": "HBoxModel",
      "state": {
       "children": [
        "IPY_MODEL_1c997d4ed8f248ce9b40dd302ab7a13f",
        "IPY_MODEL_1a9cfdff910a4455abb164939102fb07"
       ],
       "layout": "IPY_MODEL_5a5dd89fa6b1453d94a8874d42a7e72b"
      }
     },
     "6220761f08864d52ba5d40b90c8eebbf": {
      "model_module": "@jupyter-widgets/controls",
      "model_module_version": "1.3.0",
      "model_name": "TextareaModel",
      "state": {
       "layout": "IPY_MODEL_6d71c5f34e554901a6ed260f0ccbabf1",
       "placeholder": "1 0 0\n0 1 0\n0 0 1\n\n1 1 0\n1 0 1\n0 1 1",
       "style": "IPY_MODEL_d4789affe72049e388fe667f55153e84"
      }
     },
     "62d4954f79b1476d82a1e78986fb07f1": {
      "model_module": "@jupyter-widgets/base",
      "model_module_version": "1.1.0",
      "model_name": "LayoutModel",
      "state": {
       "display": "none"
      }
     },
     "62f5d8ee637f4fe4b4f86cb1f3d8b9ee": {
      "model_module": "@jupyter-widgets/controls",
      "model_module_version": "1.3.0",
      "model_name": "VBoxModel",
      "state": {
       "children": [
        "IPY_MODEL_6f042cf7a39547269a4bbd54d36fcb91",
        "IPY_MODEL_527b0ee75a93418aa7d4625f3ed3fbf2"
       ],
       "layout": "IPY_MODEL_22d179e6f2be4c678648b9937ffedad0"
      }
     },
     "6437bb601d17443fa63411ea94aa0223": {
      "model_module": "@jupyter-widgets/controls",
      "model_module_version": "1.3.0",
      "model_name": "DescriptionStyleModel",
      "state": {
       "description_width": ""
      }
     },
     "655e11e2eaec4a4ba15c921da01651fa": {
      "model_module": "@jupyter-widgets/controls",
      "model_module_version": "1.3.0",
      "model_name": "DescriptionStyleModel",
      "state": {
       "description_width": ""
      }
     },
     "666cead5d3784f92813267707c41c6d6": {
      "model_module": "@jupyter-widgets/base",
      "model_module_version": "1.1.0",
      "model_name": "LayoutModel",
      "state": {}
     },
     "66b41bd4fa5848b9933c5beac524c509": {
      "model_module": "@jupyter-widgets/base",
      "model_module_version": "1.1.0",
      "model_name": "LayoutModel",
      "state": {
       "width": "inherit"
      }
     },
     "6766d92339b0430eb2013cab47d4abdf": {
      "model_module": "@jupyter-widgets/base",
      "model_module_version": "1.1.0",
      "model_name": "LayoutModel",
      "state": {
       "display": "none"
      }
     },
     "67a519249f814bbc82cb0c650f480cab": {
      "model_module": "@jupyter-widgets/controls",
      "model_module_version": "1.3.0",
      "model_name": "DescriptionStyleModel",
      "state": {
       "description_width": ""
      }
     },
     "67dc72d0da064f25b6e0700a48d870ca": {
      "model_module": "@jupyter-widgets/base",
      "model_module_version": "1.1.0",
      "model_name": "LayoutModel",
      "state": {}
     },
     "6891f45e857148ada000ab5b5f96ad72": {
      "model_module": "@jupyter-widgets/base",
      "model_module_version": "1.1.0",
      "model_name": "LayoutModel",
      "state": {
       "display": "none"
      }
     },
     "68f126a21486456b95b354f6e6db70d4": {
      "model_module": "@jupyter-widgets/controls",
      "model_module_version": "1.3.0",
      "model_name": "HBoxModel",
      "state": {
       "children": [
        "IPY_MODEL_549042f356614918a859f0d52a775a25",
        "IPY_MODEL_476fae569abe4ad495ab2622650e130a",
        "IPY_MODEL_b747bf85c4e7418da1d9514de3c98f18",
        "IPY_MODEL_b8d560524e0443cd88c8ca52855874d7"
       ],
       "layout": "IPY_MODEL_eb305a1090c34bbc9ed03eb80b852a2b"
      }
     },
     "694972d0be894bb08d461a13498b978e": {
      "model_module": "@jupyter-widgets/controls",
      "model_module_version": "1.3.0",
      "model_name": "DescriptionStyleModel",
      "state": {
       "description_width": ""
      }
     },
     "695680d5014f41fd82a9a9d86ccdb14a": {
      "model_module": "@jupyter-widgets/controls",
      "model_module_version": "1.3.0",
      "model_name": "BoundedIntTextModel",
      "state": {
       "description": "Interlacing d:",
       "disabled": true,
       "layout": "IPY_MODEL_79f43065fad4450dad028db5bc53b08a",
       "min": 1,
       "style": "IPY_MODEL_2cc69a330d544b41ac77b3e59c7a6ad9",
       "value": 1
      }
     },
     "69b19d597dfd4248908460d34a21b257": {
      "model_module": "@jupyter-widgets/controls",
      "model_module_version": "1.3.0",
      "model_name": "ButtonModel",
      "state": {
       "description": "Joe and Kuo direction numbers",
       "layout": "IPY_MODEL_e3e09bdcbaaa46c88d2c23df8eaa946a",
       "style": "IPY_MODEL_0497c2f6fd73428aae2905359b15253c"
      }
     },
     "69e5089292f14cdabd77a191e1ee2e4e": {
      "model_module": "@jupyter-widgets/base",
      "model_module_version": "1.1.0",
      "model_name": "LayoutModel",
      "state": {
       "width": "65%"
      }
     },
     "6b3c9e820bde447bb2e7d05cc842a177": {
      "model_module": "@jupyter-widgets/base",
      "model_module_version": "1.1.0",
      "model_name": "LayoutModel",
      "state": {}
     },
     "6bc2bd2022844c90b4374604c649f4d9": {
      "model_module": "@jupyter-widgets/base",
      "model_module_version": "1.1.0",
      "model_name": "LayoutModel",
      "state": {}
     },
     "6bd6173c19c2407183d3bc4846a6839c": {
      "model_module": "@jupyter-widgets/base",
      "model_module_version": "1.1.0",
      "model_name": "LayoutModel",
      "state": {
       "width": "180px"
      }
     },
     "6c98c12f983049699efd2430be7d9312": {
      "model_module": "@jupyter-widgets/base",
      "model_module_version": "1.1.0",
      "model_name": "LayoutModel",
      "state": {
       "width": "15%"
      }
     },
     "6cadb6a5fbde48fbba84c857155fd412": {
      "model_module": "@jupyter-widgets/base",
      "model_module_version": "1.1.0",
      "model_name": "LayoutModel",
      "state": {
       "height": "200px",
       "width": "600px"
      }
     },
     "6cd572bd98cd4b5b989e205169b3cc06": {
      "model_module": "@jupyter-widgets/controls",
      "model_module_version": "1.3.0",
      "model_name": "TextModel",
      "state": {
       "description": "Path:",
       "layout": "IPY_MODEL_36bc76eab9ac49ca92dd1ab863de6eb2",
       "placeholder": "e.g. output or /home/output",
       "style": "IPY_MODEL_09113d07253843ab89a722e6bdec351a"
      }
     },
     "6cf467048c83477185bd8f10a0e85f4e": {
      "model_module": "@jupyter-widgets/base",
      "model_module_version": "1.1.0",
      "model_name": "LayoutModel",
      "state": {
       "display": "none",
       "width": "25%"
      }
     },
     "6d2e6d890b2e485a82f5f0c4bbe5dc06": {
      "model_module": "@jupyter-widgets/controls",
      "model_module_version": "1.3.0",
      "model_name": "DescriptionStyleModel",
      "state": {
       "description_width": "initial"
      }
     },
     "6d4ad7c7a7cf40f784a5d77fd28bc950": {
      "model_module": "@jupyter-widgets/controls",
      "model_module_version": "1.3.0",
      "model_name": "ToggleButtonsStyleModel",
      "state": {
       "button_width": "",
       "description_width": "initial"
      }
     },
     "6d71c5f34e554901a6ed260f0ccbabf1": {
      "model_module": "@jupyter-widgets/base",
      "model_module_version": "1.1.0",
      "model_name": "LayoutModel",
      "state": {
       "display": "none",
       "height": "150px",
       "width": "inherit"
      }
     },
     "6d92bddaa946435daf6e1324048e6c1e": {
      "model_module": "@jupyter-widgets/controls",
      "model_module_version": "1.3.0",
      "model_name": "DescriptionStyleModel",
      "state": {
       "description_width": "initial"
      }
     },
     "6d9c4d35603043f79983bb28fa49149f": {
      "model_module": "@jupyter-widgets/controls",
      "model_module_version": "1.3.0",
      "model_name": "BoundedIntTextModel",
      "state": {
       "description": "Coordinate on y-axis",
       "layout": "IPY_MODEL_30741fdaa73a430f99ced22de2b655de",
       "max": 3,
       "min": 1,
       "style": "IPY_MODEL_479896335a1148409513207337464602",
       "value": 2
      }
     },
     "6db3e4edfaae4703b970ab0bf79590b8": {
      "model_module": "@jupyter-widgets/controls",
      "model_module_version": "1.3.0",
      "model_name": "DescriptionStyleModel",
      "state": {
       "description_width": ""
      }
     },
     "6deb0a67dae6488cb019d619097c3ee2": {
      "model_module": "@jupyter-widgets/controls",
      "model_module_version": "1.3.0",
      "model_name": "DescriptionStyleModel",
      "state": {
       "description_width": "initial"
      }
     },
     "6e0958251b7e40e9a9eda609aee7ca91": {
      "model_module": "@jupyter-widgets/base",
      "model_module_version": "1.1.0",
      "model_name": "LayoutModel",
      "state": {}
     },
     "6e4d50e29f7346d4a538b9c3db7396ed": {
      "model_module": "@jupyter-widgets/base",
      "model_module_version": "1.1.0",
      "model_name": "LayoutModel",
      "state": {}
     },
     "6ea7c082526a4b39ae09e11656e7f426": {
      "model_module": "@jupyter-widgets/base",
      "model_module_version": "1.1.0",
      "model_name": "LayoutModel",
      "state": {
       "width": "100px"
      }
     },
     "6eef151aa01c4f80a915e3d95bbd0e5c": {
      "model_module": "@jupyter-widgets/base",
      "model_module_version": "1.1.0",
      "model_name": "LayoutModel",
      "state": {
       "width": "170px"
      }
     },
     "6f042cf7a39547269a4bbd54d36fcb91": {
      "model_module": "@jupyter-widgets/controls",
      "model_module_version": "1.3.0",
      "model_name": "HTMLModel",
      "state": {
       "layout": "IPY_MODEL_4fda62a912bc4dd986666b6d6400baa2",
       "style": "IPY_MODEL_09f7325b770e4fb98947120cccb92adc",
       "value": "Optional <b>path to the folder for the outputs of LatNeBuilder</b>. The contents of the folder may be overwritten. If the folder does not exist, it is created. If no path is provided, no output folder is created."
      }
     },
     "6f61f405f5f047ef84e55b6852c7b543": {
      "model_module": "@jupyter-widgets/controls",
      "model_module_version": "1.3.0",
      "model_name": "DescriptionStyleModel",
      "state": {
       "description_width": ""
      }
     },
     "6f68bb372d424e929990e616836513c1": {
      "model_module": "@jupyter-widgets/controls",
      "model_module_version": "1.3.0",
      "model_name": "TextareaModel",
      "state": {
       "layout": "IPY_MODEL_0a1c2b71d8d148f79c8b3698d131ddb3",
       "style": "IPY_MODEL_b2608a67f75f4da799f5dcc16393c956",
       "value": "int n = 1024;\nint s = 3;\nint a[] =  { 1, 275, 167 } ;\ndouble points[n][s];\nint i, j;\nfor (i = 0; i < n; i++){\n    for (j = 0; j < s; j++){\n        points[i][j] = ((long long)i * a[j]) % n / (double)n;\n    }\n}"
      }
     },
     "6f8bcd147bf64989a28e895872c9b62e": {
      "model_module": "@jupyter-widgets/base",
      "model_module_version": "1.1.0",
      "model_name": "LayoutModel",
      "state": {
       "width": "180px"
      }
     },
     "6fac326cabf74522a237fb14557f5587": {
      "model_module": "@jupyter-widgets/controls",
      "model_module_version": "1.3.0",
      "model_name": "HBoxModel",
      "state": {
       "children": [
        "IPY_MODEL_c9c5826b658e4ac9bad4191e7cd0b364",
        "IPY_MODEL_7d964edfd75e46f0b5571f645d82770b",
        "IPY_MODEL_fbf1815198b6484abb3cf38e07df0e90"
       ],
       "layout": "IPY_MODEL_d1c5007ce914460e9f3647dbbb17a3eb"
      }
     },
     "7091edea9019494095c7fab0e1ab4266": {
      "model_module": "@jupyter-widgets/base",
      "model_module_version": "1.1.0",
      "model_name": "LayoutModel",
      "state": {
       "width": "50%"
      }
     },
     "70aeee6991b04d44a587502ae7b423ab": {
      "model_module": "@jupyter-widgets/controls",
      "model_module_version": "1.3.0",
      "model_name": "VBoxModel",
      "state": {
       "children": [
        "IPY_MODEL_a951c008900f4a7f986f0c9b8a519b04",
        "IPY_MODEL_fdf31850a6f74cc68eea4882ba87bdde"
       ],
       "layout": "IPY_MODEL_d9e090f8bdff45fb8e4292e7cc55ecce"
      }
     },
     "70bc5df2015f42d5b2584975d4b316ab": {
      "model_module": "@jupyter-widgets/controls",
      "model_module_version": "1.3.0",
      "model_name": "TextModel",
      "state": {
       "layout": "IPY_MODEL_07315c0bef544b84ae5e794ce26e8a30",
       "style": "IPY_MODEL_cece50573cd74c5da247f6cb334de07c",
       "value": "0.512"
      }
     },
     "70ecaf7f7e80486a991d8f47f0971e3c": {
      "model_module": "@jupyter-widgets/controls",
      "model_module_version": "1.3.0",
      "model_name": "TextareaModel",
      "state": {
       "layout": "IPY_MODEL_7f1d82f2f9ba43dd97f3c8f89f4b298b",
       "style": "IPY_MODEL_6437bb601d17443fa63411ea94aa0223",
       "value": "n = 1024\na = [1, 275, 167]\npoints = [[(i * aj % n) / float(n) for aj in a] for i in range(n)]"
      }
     },
     "71c78d66cf284b0b9923e22aba511662": {
      "model_module": "@jupyter-widgets/base",
      "model_module_version": "1.1.0",
      "model_name": "LayoutModel",
      "state": {
       "display": "none",
       "margin": "40px 0px 0px 0px",
       "width": "200px"
      }
     },
     "726d12e4b1fa462095a516c183f6fbbd": {
      "model_module": "@jupyter-widgets/controls",
      "model_module_version": "1.3.0",
      "model_name": "TextModel",
      "state": {
       "layout": "IPY_MODEL_0dfa5959063e42eb8995be4d8b91f3dd",
       "style": "IPY_MODEL_1b0ef04b92de4da79ea53b5a42a3ba3d",
       "value": "1"
      }
     },
     "72ac86d93a214adba150f2d75d43df70": {
      "model_module": "@jupyter-widgets/base",
      "model_module_version": "1.1.0",
      "model_name": "LayoutModel",
      "state": {}
     },
     "7300ac11bcfa4305a73b7622860fbc4d": {
      "model_module": "@jupyter-widgets/base",
      "model_module_version": "1.1.0",
      "model_name": "LayoutModel",
      "state": {
       "height": "150px",
       "width": "inherit"
      }
     },
     "7352f5b81a8140aa8f8ae8665fa1cc7f": {
      "model_module": "@jupyter-widgets/base",
      "model_module_version": "1.1.0",
      "model_name": "LayoutModel",
      "state": {}
     },
     "73807f5e9da245ba86794aeb0828fa84": {
      "model_module": "@jupyter-widgets/base",
      "model_module_version": "1.1.0",
      "model_name": "LayoutModel",
      "state": {
       "width": "100px"
      }
     },
     "741872af2bf445ea8f95cdd848718386": {
      "model_module": "@jupyter-widgets/controls",
      "model_module_version": "1.3.0",
      "model_name": "DescriptionStyleModel",
      "state": {
       "description_width": ""
      }
     },
     "7544e5593aec4a76befe9b35811e4efa": {
      "model_module": "@jupyter-widgets/controls",
      "model_module_version": "1.3.0",
      "model_name": "DescriptionStyleModel",
      "state": {
       "description_width": "initial"
      }
     },
     "75afe65807de477ea3890f0bfe213b01": {
      "model_module": "@jupyter-widgets/base",
      "model_module_version": "1.1.0",
      "model_name": "LayoutModel",
      "state": {}
     },
     "763d550881f044d3b343b5f39e23475b": {
      "model_module": "@jupyter-widgets/controls",
      "model_module_version": "1.3.0",
      "model_name": "VBoxModel",
      "state": {
       "children": [
        "IPY_MODEL_92c4d99622194978977394409a974cb0",
        "IPY_MODEL_c1cc62270c0a4bffaeb0fcba83a85812",
        "IPY_MODEL_c35dfa5650d44746bb2c108ce7692f8c",
        "IPY_MODEL_1bef267e73f34fa8ae0640abed8defb0",
        "IPY_MODEL_8302ab94a8ef41f783f12e658d14deb3"
       ],
       "layout": "IPY_MODEL_cfef05c29deb44f09751d020bd7b587f"
      }
     },
     "76b0519600844e279f21d34700e84ef6": {
      "model_module": "@jupyter-widgets/base",
      "model_module_version": "1.1.0",
      "model_name": "LayoutModel",
      "state": {
       "height": "50px",
       "width": "100px"
      }
     },
     "76c52881e750430ca0b34ab939c6b799": {
      "model_module": "@jupyter-widgets/controls",
      "model_module_version": "1.3.0",
      "model_name": "AccordionModel",
      "state": {
       "_titles": {
        "0": "Lattice Type"
       },
       "children": [
        "IPY_MODEL_8ffc20a1292640d194c64b1975035cd1"
       ],
       "layout": "IPY_MODEL_ae55015cf6604fd782f635b2580db558"
      }
     },
     "7843190bebdd4272be93749ed179d6d0": {
      "model_module": "@jupyter-widgets/controls",
      "model_module_version": "1.3.0",
      "model_name": "DescriptionStyleModel",
      "state": {
       "description_width": "initial"
      }
     },
     "79f43065fad4450dad028db5bc53b08a": {
      "model_module": "@jupyter-widgets/base",
      "model_module_version": "1.1.0",
      "model_name": "LayoutModel",
      "state": {
       "width": "90%"
      }
     },
     "7aa5aa44d42c4910b5377d8af78040b8": {
      "model_module": "@jupyter-widgets/controls",
      "model_module_version": "1.3.0",
      "model_name": "ButtonModel",
      "state": {
       "description": "Search",
       "layout": "IPY_MODEL_35d89494bbed4c569fe69d3e7d08727f",
       "style": "IPY_MODEL_e8ad6ef4c60e40638e61be1e40e89d12"
      }
     },
     "7bfe590295d04dedb53f353737ad980f": {
      "model_module": "@jupyter-widgets/controls",
      "model_module_version": "1.3.0",
      "model_name": "VBoxModel",
      "state": {
       "children": [
        "IPY_MODEL_bfda9bb1aac543ab95b8ec66dec31d9f",
        "IPY_MODEL_d47c11ef0ac9441ba51a9a46c1a0b45a"
       ],
       "layout": "IPY_MODEL_6e4d50e29f7346d4a538b9c3db7396ed"
      }
     },
     "7d964edfd75e46f0b5571f645d82770b": {
      "model_module": "@jupyter-widgets/controls",
      "model_module_version": "1.3.0",
      "model_name": "ToggleButtonModel",
      "state": {
       "description": "Abort search",
       "disabled": true,
       "layout": "IPY_MODEL_86732569364749ceba2318402b587fcd",
       "style": "IPY_MODEL_0342cf9a4e7b4ef5b5a54c36c72e900d"
      }
     },
     "7e552be932ee4f58b6845aea5209ac84": {
      "model_module": "@jupyter-widgets/base",
      "model_module_version": "1.1.0",
      "model_name": "LayoutModel",
      "state": {}
     },
     "7ea8013f8d4347e5beb686ba8542f9a8": {
      "model_module": "@jupyter-widgets/controls",
      "model_module_version": "1.3.0",
      "model_name": "DescriptionStyleModel",
      "state": {
       "description_width": ""
      }
     },
     "7f1d82f2f9ba43dd97f3c8f89f4b298b": {
      "model_module": "@jupyter-widgets/base",
      "model_module_version": "1.1.0",
      "model_name": "LayoutModel",
      "state": {
       "height": "100px",
       "width": "600px"
      }
     },
     "7f3d85f2216e436a8883d57fe085c5de": {
      "model_module": "@jupyter-widgets/base",
      "model_module_version": "1.1.0",
      "model_name": "LayoutModel",
      "state": {}
     },
     "7fcec8a396d94524b13574ad38738a5a": {
      "model_module": "@jupyter-widgets/base",
      "model_module_version": "1.1.0",
      "model_name": "LayoutModel",
      "state": {}
     },
     "80f98816a8f24181bf324f3fd8212be8": {
      "model_module": "@jupyter-widgets/controls",
      "model_module_version": "1.3.0",
      "model_name": "DescriptionStyleModel",
      "state": {
       "description_width": "initial"
      }
     },
     "81419119844548fe9d9b65fdc3ebfad4": {
      "model_module": "@jupyter-widgets/base",
      "model_module_version": "1.1.0",
      "model_name": "LayoutModel",
      "state": {
       "display": "none"
      }
     },
     "820e5e517a3e4409a092391dd1405421": {
      "model_module": "@jupyter-widgets/base",
      "model_module_version": "1.1.0",
      "model_name": "LayoutModel",
      "state": {
       "display": "none"
      }
     },
     "824cdbe8b3954b59b2b7003b1c52646d": {
      "model_module": "@jupyter-widgets/base",
      "model_module_version": "1.1.0",
      "model_name": "LayoutModel",
      "state": {
       "width": "50px"
      }
     },
     "82684bc8c8c04d1d8584db0437bdfb45": {
      "model_module": "@jupyter-widgets/base",
      "model_module_version": "1.1.0",
      "model_name": "LayoutModel",
      "state": {}
     },
     "8302ab94a8ef41f783f12e658d14deb3": {
      "model_module": "@jupyter-widgets/controls",
      "model_module_version": "1.3.0",
      "model_name": "HBoxModel",
      "state": {
       "children": [
        "IPY_MODEL_a0029871b1d2465b95252e4d5c609744",
        "IPY_MODEL_a648d2f9733642159c45a07766c88e21"
       ],
       "layout": "IPY_MODEL_d96ec21e218445a6b08cc466a0e0f3a6"
      }
     },
     "832ff4b59cda439e916f976bfbd18b8c": {
      "model_module": "@jupyter-widgets/base",
      "model_module_version": "1.1.0",
      "model_name": "LayoutModel",
      "state": {}
     },
     "833c42901a1743ad9b7189196266fc0c": {
      "model_module": "@jupyter-widgets/base",
      "model_module_version": "1.1.0",
      "model_name": "LayoutModel",
      "state": {}
     },
     "8371f6bd46ca450584e62f3b1d4f6811": {
      "model_module": "@jupyter-widgets/base",
      "model_module_version": "1.1.0",
      "model_name": "LayoutModel",
      "state": {}
     },
     "83809af68b5f434589b248ac8174690a": {
      "model_module": "@jupyter-widgets/controls",
      "model_module_version": "1.3.0",
      "model_name": "DescriptionStyleModel",
      "state": {
       "description_width": "initial"
      }
     },
     "856635fe1dd7422fb26f5d74e6805c23": {
      "model_module": "@jupyter-widgets/controls",
      "model_module_version": "1.3.0",
      "model_name": "DescriptionStyleModel",
      "state": {
       "description_width": ""
      }
     },
     "8572f923b025486d82188777301b960c": {
      "model_module": "@jupyter-widgets/controls",
      "model_module_version": "1.3.0",
      "model_name": "VBoxModel",
      "state": {
       "children": [
        "IPY_MODEL_4fde2c1481f64fe7a7573d2661bdb78a",
        "IPY_MODEL_a207359152564fb682aa1718966dfbe3",
        "IPY_MODEL_25599e9dd5ef42c597c195c0862db282",
        "IPY_MODEL_c0301114afe940b3ae91e9dc53f4bd39",
        "IPY_MODEL_aebcdc92997b42d2a0302bf31488171f",
        "IPY_MODEL_61bb6a1034a940e68e3e850c179a1294",
        "IPY_MODEL_20fb98ee5d264c3ca2316e7f2285c780",
        "IPY_MODEL_1afc3ca726cf4b398e3e766b408c6317"
       ],
       "layout": "IPY_MODEL_c9856a9b12ca4dc7a0087c0072e58828"
      }
     },
     "85f7f56439c447d9803074cfa87c130e": {
      "model_module": "@jupyter-widgets/controls",
      "model_module_version": "1.3.0",
      "model_name": "DescriptionStyleModel",
      "state": {
       "description_width": "initial"
      }
     },
     "862a13b20cc54fe393fc40c8bbebdc61": {
      "model_module": "@jupyter-widgets/base",
      "model_module_version": "1.1.0",
      "model_name": "LayoutModel",
      "state": {
       "width": "65%"
      }
     },
     "86732569364749ceba2318402b587fcd": {
      "model_module": "@jupyter-widgets/base",
      "model_module_version": "1.1.0",
      "model_name": "LayoutModel",
      "state": {}
     },
     "87027249bea14458afa3d0a355a8a2f8": {
      "model_module": "@jupyter-widgets/base",
      "model_module_version": "1.1.0",
      "model_name": "LayoutModel",
      "state": {
       "width": "20%"
      }
     },
     "87cec06e3cec4ac4850ec3e159a719d8": {
      "model_module": "@jupyter-widgets/controls",
      "model_module_version": "1.3.0",
      "model_name": "HBoxModel",
      "state": {
       "children": [
        "IPY_MODEL_b7d59171132e474981fecd2a086572cc",
        "IPY_MODEL_3d1f391365bd474fa21bfbff5334d17a"
       ],
       "layout": "IPY_MODEL_832ff4b59cda439e916f976bfbd18b8c"
      }
     },
     "885e05667f814662855ea2e360164109": {
      "model_module": "@jupyter-widgets/controls",
      "model_module_version": "1.3.0",
      "model_name": "DescriptionStyleModel",
      "state": {
       "description_width": ""
      }
     },
     "8907fc298f0147f5b96de50e9a3e7e1b": {
      "model_module": "@jupyter-widgets/controls",
      "model_module_version": "1.3.0",
      "model_name": "ButtonStyleModel",
      "state": {}
     },
     "89841c251f7d4133b891572c730efbd5": {
      "model_module": "@jupyter-widgets/controls",
      "model_module_version": "1.3.0",
      "model_name": "VBoxModel",
      "state": {
       "children": [
        "IPY_MODEL_eab792943359432eb50901f1fbece53a",
        "IPY_MODEL_3b494c2423d0439490df527b0c18ed25",
        "IPY_MODEL_d682571935e843a5be11f11655f4aa2b",
        "IPY_MODEL_59d0ad59d95a44adb316cd3ff996bda5",
        "IPY_MODEL_6220761f08864d52ba5d40b90c8eebbf",
        "IPY_MODEL_fec4a81e85e9490ca694d6058a814fa7",
        "IPY_MODEL_eef569ee6b3a4cc683ce1b5887a55def",
        "IPY_MODEL_41db975e8c4044caa7b0f34b787d1ba2"
       ],
       "layout": "IPY_MODEL_a63b9bd793884917ac764f4d50d4f831"
      }
     },
     "89b5e9321f144ae7b9572189976dd6f3": {
      "model_module": "@jupyter-widgets/controls",
      "model_module_version": "1.3.0",
      "model_name": "TextareaModel",
      "state": {
       "layout": "IPY_MODEL_c0f5c474c3c9450da8b3d9220bb2b63f",
       "style": "IPY_MODEL_55a50987d1d449759fe223442aaa360c",
       "value": "n = 1024\na = [1, 275, 167]\npoints = [[(i * aj % n) / float(n) for aj in a] for i in range(n)]"
      }
     },
     "8a4cb8bcd2d3415d974cd1cfe122def5": {
      "model_module": "@jupyter-widgets/controls",
      "model_module_version": "1.3.0",
      "model_name": "HBoxModel",
      "state": {
       "children": [
        "IPY_MODEL_8f71886dc5bd4d17bf916a0014a8eafc",
        "IPY_MODEL_49ea4b8cc9d841a3a6cb98e6dc856a84"
       ],
       "layout": "IPY_MODEL_e1bd2505d77a4d25823a3d74532fc20e"
      }
     },
     "8a54a9b384c24d08a047ecef3230ce5a": {
      "model_module": "@jupyter-widgets/base",
      "model_module_version": "1.1.0",
      "model_name": "LayoutModel",
      "state": {
       "height": "500px",
       "width": "600px"
      }
     },
     "8b1c26d2f1bd49048082eec236180266": {
      "model_module": "@jupyter-widgets/base",
      "model_module_version": "1.1.0",
      "model_name": "LayoutModel",
      "state": {}
     },
     "8c5df0b554e1437bb55f9f036fa432ae": {
      "model_module": "@jupyter-widgets/controls",
      "model_module_version": "1.3.0",
      "model_name": "DescriptionStyleModel",
      "state": {
       "description_width": "initial"
      }
     },
     "8d1f1425df8f40e0a2fd6ada19f028ed": {
      "model_module": "@jupyter-widgets/base",
      "model_module_version": "1.1.0",
      "model_name": "LayoutModel",
      "state": {
       "display": "none"
      }
     },
     "8de8a4b05e0345b4809076f923eef7b1": {
      "model_module": "@jupyter-widgets/controls",
      "model_module_version": "1.3.0",
      "model_name": "ProgressStyleModel",
      "state": {
       "description_width": "initial"
      }
     },
     "8eae0e87793546d0ad98827962e61142": {
      "model_module": "@jupyter-widgets/controls",
      "model_module_version": "1.3.0",
      "model_name": "TextModel",
      "state": {
       "layout": "IPY_MODEL_128e6fae7ef7445483f4d6532ca63bdb",
       "style": "IPY_MODEL_b8c1e59edc914ccdb402c43f5a63a74b",
       "value": "0.8"
      }
     },
     "8f71886dc5bd4d17bf916a0014a8eafc": {
      "model_module": "@jupyter-widgets/controls",
      "model_module_version": "1.3.0",
      "model_name": "HTMLMathModel",
      "state": {
       "layout": "IPY_MODEL_6eef151aa01c4f80a915e3d95bbd0e5c",
       "style": "IPY_MODEL_885e05667f814662855ea2e360164109",
       "value": "Set Order Weights \\( \\Gamma_k^q \\):"
      }
     },
     "8f8cad8ea59d4b3c8719de2bb04272dc": {
      "model_module": "@jupyter-widgets/controls",
      "model_module_version": "1.3.0",
      "model_name": "DescriptionStyleModel",
      "state": {
       "description_width": ""
      }
     },
     "8ffc20a1292640d194c64b1975035cd1": {
      "model_module": "@jupyter-widgets/controls",
      "model_module_version": "1.3.0",
      "model_name": "VBoxModel",
      "state": {
       "children": [
        "IPY_MODEL_1f149df6df074855ac5e3bcf83a88e72",
        "IPY_MODEL_177e85656b4447b89a7f8fece12270e4"
       ],
       "layout": "IPY_MODEL_c3b3deae496145e08df38906bebc6ca2"
      }
     },
     "9180edf1c7864c1ab23d7b91f3b7c959": {
      "model_module": "@jupyter-widgets/controls",
      "model_module_version": "1.3.0",
      "model_name": "DescriptionStyleModel",
      "state": {
       "description_width": "initial"
      }
     },
     "92c4d99622194978977394409a974cb0": {
      "model_module": "@jupyter-widgets/controls",
      "model_module_version": "1.3.0",
      "model_name": "HTMLMathModel",
      "state": {
       "layout": "IPY_MODEL_67dc72d0da064f25b6e0700a48d870ca",
       "style": "IPY_MODEL_3ca54161792243859a64f0b8b34fb54e",
       "value": "<p> Please note (and see the documentation for more details) that: </p>                         <ul>                            <li> The list of available figures of merit depend on the point set type and the interlacing factor. </li>                            <li> The \\(P_\\alpha \\) method requires \\( \\alpha \\in \\{ 2, 4, 6 \\} \\), while \\(R_\\alpha \\) and \\(IA_\\alpha \\) require \\( \\alpha > 0 \\). </li>                             <li> The Coordinate-Uniform (CU) evaluation method is generally faster, but requires q = 2.<br>Depending on the point set type and the figure, this option is mandatory, optional or impossible.</li>                             <li> The possibility to choose the norm type depends on the point set type, the figure, and the CU option.</li>                            <li> The t-value is the only figure for which weights, norm type and CU evaluation do not make sense.</li>                        </ul>"
      }
     },
     "92c55dae07bd43bb82b8825b161bc265": {
      "model_module": "@jupyter-widgets/controls",
      "model_module_version": "1.3.0",
      "model_name": "DescriptionStyleModel",
      "state": {
       "description_width": ""
      }
     },
     "93a82164a2f64d1fa8b858f9ac8a4f20": {
      "model_module": "@jupyter-widgets/controls",
      "model_module_version": "1.3.0",
      "model_name": "HTMLModel",
      "state": {
       "description": "<b> Command line: </b>",
       "layout": "IPY_MODEL_e3d7b43ad66645819c04237e1ad906e1",
       "style": "IPY_MODEL_53db8ed9a76548d889b3b19ff46ef8c9"
      }
     },
     "93cf0410faf24e8695a7e8874aa8955d": {
      "model_module": "@jupyter-widgets/controls",
      "model_module_version": "1.3.0",
      "model_name": "VBoxModel",
      "state": {
       "children": [
        "IPY_MODEL_38441fb0bd2243bb879033110fbf5c25",
        "IPY_MODEL_a505716523c14bd2bbfa5456f9c6a067"
       ],
       "layout": "IPY_MODEL_d18dcc37db2c430dade768122c1fd9e3"
      }
     },
     "944e9c78ed3f498e82dc992b11080222": {
      "model_module": "@jupyter-widgets/controls",
      "model_module_version": "1.3.0",
      "model_name": "HBoxModel",
      "state": {
       "children": [
        "IPY_MODEL_47e03b9fa04447f1804ce2696bf44c85",
        "IPY_MODEL_274cc67d8ad543e7bcc99836ee9e6dfe",
        "IPY_MODEL_54e8d62baf5c4d1f8333ebde7e1a3fd8"
       ],
       "layout": "IPY_MODEL_b661c566f59148c68a576df902b31bb3"
      }
     },
     "958bd5e2475a44c187be000845df9204": {
      "model_module": "@jupyter-widgets/controls",
      "model_module_version": "1.3.0",
      "model_name": "VBoxModel",
      "state": {
       "children": [
        "IPY_MODEL_1feb5b380cfe40698bc3f35d6317f5fb",
        "IPY_MODEL_d94e5dccd790443396e3a81a49024307"
       ],
       "layout": "IPY_MODEL_33926ab0588c41239a1e7ab5ec6661e1"
      }
     },
     "958f9e66a9104e489b2e64c0bebb4a5c": {
      "model_module": "@jupyter-widgets/controls",
      "model_module_version": "1.3.0",
      "model_name": "DescriptionStyleModel",
      "state": {
       "description_width": ""
      }
     },
     "95a26056d02a4d09b9246703206d30e5": {
      "model_module": "@jupyter-widgets/controls",
      "model_module_version": "1.3.0",
      "model_name": "DescriptionStyleModel",
      "state": {
       "description_width": "initial"
      }
     },
     "960765c808b7457bb6acf98aae103804": {
      "model_module": "@jupyter-widgets/controls",
      "model_module_version": "1.3.0",
      "model_name": "HBoxModel",
      "state": {
       "children": [
        "IPY_MODEL_973b8a23bef3477ea7c3c57de47ca5ca",
        "IPY_MODEL_511ee61251a944998b795126258a6f3c",
        "IPY_MODEL_b91c0da20152449ea5f23c35eb766852"
       ],
       "layout": "IPY_MODEL_11566e5102af426b8bc8ac2c0a209e6f"
      }
     },
     "96af4ff7393449da95fa921b09f0375f": {
      "model_module": "@jupyter-widgets/controls",
      "model_module_version": "1.3.0",
      "model_name": "VBoxModel",
      "state": {
       "children": [
        "IPY_MODEL_cec61227213442078903cd39e09ff5aa",
        "IPY_MODEL_14b9a282d2004f0aafe4069fc0b6a0ce"
       ],
       "layout": "IPY_MODEL_7091edea9019494095c7fab0e1ab4266"
      }
     },
     "96b637a87ff747ed8f2ec643f1cec7ce": {
      "model_module": "@jupyter-widgets/controls",
      "model_module_version": "1.3.0",
      "model_name": "HTMLModel",
      "state": {
       "description": "<b> Result: </b>",
       "layout": "IPY_MODEL_1fff1ca333474c8ba4219440118ca608",
       "style": "IPY_MODEL_856635fe1dd7422fb26f5d74e6805c23",
       "value": "<span> <b> Number of points </b>: 1024 </span><p> <b> Generating Vector </b>: [1, 275, 167] </p><p> <b> Merit value </b>: 0.00327879 </p> <p> <b> CPU Time </b>: 0.00354419 seconds </p>"
      }
     },
     "96e178dd76db4ae18a6aaefb9ab08e33": {
      "model_module": "@jupyter-widgets/controls",
      "model_module_version": "1.3.0",
      "model_name": "VBoxModel",
      "state": {
       "children": [
        "IPY_MODEL_d25030e4bbbb4e9aa231dfa2a246e73d",
        "IPY_MODEL_dd8bcf3d97694c12ac225e58612dee04"
       ],
       "layout": "IPY_MODEL_41435b8f32e346a48b40e0a87f19ba9a"
      }
     },
     "973b8a23bef3477ea7c3c57de47ca5ca": {
      "model_module": "@jupyter-widgets/controls",
      "model_module_version": "1.3.0",
      "model_name": "TextModel",
      "state": {
       "layout": "IPY_MODEL_c750c46a7d5c4cc9815950036b9e4dd0",
       "style": "IPY_MODEL_b734df545cd34737a831993e8d59274d",
       "value": "1"
      }
     },
     "975c350f05c64e518c6c527b554130cf": {
      "model_module": "@jupyter-widgets/controls",
      "model_module_version": "1.3.0",
      "model_name": "TextModel",
      "state": {
       "layout": "IPY_MODEL_37556655fbc6478580959f5fca31a3c9",
       "style": "IPY_MODEL_cc5f2af8dbde4a61a7335a8d75eaa177",
       "value": "1"
      }
     },
     "9763926f70cb4b20a6fb62aedd2e03f0": {
      "model_module": "@jupyter-widgets/controls",
      "model_module_version": "1.3.0",
      "model_name": "TabModel",
      "state": {
       "_titles": {
        "0": "Ordinary Lattice",
        "1": "Digital Net"
       },
       "children": [
        "IPY_MODEL_3262954851ba419d8087ac1d3729ea74",
        "IPY_MODEL_3262954851ba419d8087ac1d3729ea74"
       ],
       "layout": "IPY_MODEL_c23466032ef04ceab17ae943c4ed5283"
      }
     },
     "9820945a693940f2854c9aa6316ed702": {
      "model_module": "@jupyter-widgets/controls",
      "model_module_version": "1.3.0",
      "model_name": "HTMLModel",
      "state": {
       "description": "<b> Result: </b>",
       "layout": "IPY_MODEL_d5269dc041c54faca063d1d56a491ee3",
       "style": "IPY_MODEL_7ea8013f8d4347e5beb686ba8542f9a8"
      }
     },
     "9884974992dc49a88b804ab9ad7ad082": {
      "model_module": "@jupyter-widgets/controls",
      "model_module_version": "1.3.0",
      "model_name": "TextModel",
      "state": {
       "layout": "IPY_MODEL_824cdbe8b3954b59b2b7003b1c52646d",
       "style": "IPY_MODEL_958f9e66a9104e489b2e64c0bebb4a5c",
       "value": "0.64"
      }
     },
     "9a79d1afd57441449c7da7acd8f0653b": {
      "model_module": "@jupyter-widgets/controls",
      "model_module_version": "1.3.0",
      "model_name": "HTMLModel",
      "state": {
       "description": "<b> Command line: </b>",
       "layout": "IPY_MODEL_d0fc96e500aa4d32a392be9ca3ac15de",
       "style": "IPY_MODEL_6deb0a67dae6488cb019d619097c3ee2"
      }
     },
     "9ab11e5a8bfe407da197e1e17b6348b9": {
      "model_module": "@jupyter-widgets/controls",
      "model_module_version": "1.3.0",
      "model_name": "ButtonStyleModel",
      "state": {}
     },
     "9b449214faed42749004255c0b047432": {
      "model_module": "@jupyter-widgets/base",
      "model_module_version": "1.1.0",
      "model_name": "LayoutModel",
      "state": {}
     },
     "9b88ef8235bc415cbff404ae52cf771e": {
      "model_module": "@jupyter-widgets/base",
      "model_module_version": "1.1.0",
      "model_name": "LayoutModel",
      "state": {
       "display": "none",
       "width": "180px"
      }
     },
     "9ba1c95235b74aaabefbf21ca25a0a7d": {
      "model_module": "@jupyter-widgets/controls",
      "model_module_version": "1.3.0",
      "model_name": "VBoxModel",
      "state": {
       "children": [
        "IPY_MODEL_0d94638653cd41e7bdc6db2435afa7a1",
        "IPY_MODEL_f7c4ac57db4e4f789fe5b42c73b82e4f"
       ],
       "layout": "IPY_MODEL_dc66b16acb5242398a3b230f6dc9279a"
      }
     },
     "9be6a990fe19491f8f5ef246136e2f76": {
      "model_module": "@jupyter-widgets/controls",
      "model_module_version": "1.3.0",
      "model_name": "HTMLMathModel",
      "state": {
       "layout": "IPY_MODEL_6e0958251b7e40e9a9eda609aee7ca91",
       "style": "IPY_MODEL_c9ae622f92f94d9ab50b875dc15540b5",
       "value": "<p> All possible values of the components components \\(a_j\\) of the generating vector \\(a=(a_1,…,a_s)\\) are examined and the best ones are selected, one coordinate at a time. </p>    <p> Computation is accelerated by using fast Fourier transforms. </p>    <p style=\"color:red\"> Requires the Coordinate-Uniform evaluation method.</p>"
      }
     },
     "9bf7f987834646a483bfd7ff41372ecb": {
      "model_module": "@jupyter-widgets/controls",
      "model_module_version": "1.3.0",
      "model_name": "DropdownModel",
      "state": {
       "_options_labels": [
        "weighted sum",
        "maximum weighted value",
        "weighted value of the highest level",
        "weighted value of a specific level"
       ],
       "description": "Combiner:",
       "index": 0,
       "layout": "IPY_MODEL_53736421c66b44278fdc471c413b8bfd",
       "style": "IPY_MODEL_19416800f0644ea6b03f4da08a8b3d22"
      }
     },
     "9c548d5c10a14f91a118fbbd277026aa": {
      "model_module": "@jupyter-widgets/base",
      "model_module_version": "1.1.0",
      "model_name": "LayoutModel",
      "state": {
       "display": "none"
      }
     },
     "9d2b2cacf7874fdb90efffa7bb9559b5": {
      "model_module": "@jupyter-widgets/controls",
      "model_module_version": "1.3.0",
      "model_name": "ProgressStyleModel",
      "state": {
       "description_width": "initial"
      }
     },
     "9d31abb7590c4265afba1a638f17c20f": {
      "model_module": "@jupyter-widgets/controls",
      "model_module_version": "1.3.0",
      "model_name": "DescriptionStyleModel",
      "state": {
       "description_width": ""
      }
     },
     "9d7f79db8b784d30bab4141182b8a0d2": {
      "model_module": "@jupyter-widgets/base",
      "model_module_version": "1.1.0",
      "model_name": "LayoutModel",
      "state": {}
     },
     "9d86cb1f714c42bba6ae4b7709fb60fc": {
      "model_module": "@jupyter-widgets/controls",
      "model_module_version": "1.3.0",
      "model_name": "DescriptionStyleModel",
      "state": {
       "description_width": "initial"
      }
     },
     "9ee442509e7b4d8898e3fd7c93feb3d5": {
      "model_module": "@jupyter-widgets/controls",
      "model_module_version": "1.3.0",
      "model_name": "TextModel",
      "state": {
       "description": "Max Level (optional):",
       "layout": "IPY_MODEL_9b88ef8235bc415cbff404ae52cf771e",
       "placeholder": "10",
       "style": "IPY_MODEL_80f98816a8f24181bf324f3fd8212be8"
      }
     },
     "9fd2c01829344a5f9351a0904565c5fc": {
      "model_module": "@jupyter-widgets/base",
      "model_module_version": "1.1.0",
      "model_name": "LayoutModel",
      "state": {
       "margin": "30px 0px 0px 0px"
      }
     },
     "a0029871b1d2465b95252e4d5c609744": {
      "model_module": "@jupyter-widgets/controls",
      "model_module_version": "1.3.0",
      "model_name": "CheckboxModel",
      "state": {
       "description": "Low-Pass Filter",
       "disabled": false,
       "layout": "IPY_MODEL_1e4320d795a041f59b79a2c0600015cd",
       "style": "IPY_MODEL_05eac4c5c3ff416e98490df2178ac32b",
       "value": false
      }
     },
     "a15aaac224cf4461a45c2b020958da68": {
      "model_module": "@jupyter-widgets/base",
      "model_module_version": "1.1.0",
      "model_name": "LayoutModel",
      "state": {}
     },
     "a1c354f3287140378847c4dd3255c74c": {
      "model_module": "@jupyter-widgets/base",
      "model_module_version": "1.1.0",
      "model_name": "LayoutModel",
      "state": {
       "height": "50px",
       "width": "100px"
      }
     },
     "a207359152564fb682aa1718966dfbe3": {
      "model_module": "@jupyter-widgets/controls",
      "model_module_version": "1.3.0",
      "model_name": "HBoxModel",
      "state": {
       "children": [
        "IPY_MODEL_9be6a990fe19491f8f5ef246136e2f76",
        "IPY_MODEL_be39b39eae24404a9dee960740d8021e"
       ],
       "layout": "IPY_MODEL_f03f3f6361e04e39aeee65d02a0589ad"
      }
     },
     "a3442a2c16eb4a63bab2c04efc34c086": {
      "model_module": "@jupyter-widgets/controls",
      "model_module_version": "1.3.0",
      "model_name": "HBoxModel",
      "state": {
       "children": [
        "IPY_MODEL_96af4ff7393449da95fa921b09f0375f",
        "IPY_MODEL_aca8ed5765af498489fa25a7f34bbf20",
        "IPY_MODEL_0a750fb8c6124229a33e35caed25f28d"
       ],
       "layout": "IPY_MODEL_189aa7963565486f9a3a09ea802266b1"
      }
     },
     "a39c7cd363bb4c168dbdf8eec83a0df3": {
      "model_module": "@jupyter-widgets/base",
      "model_module_version": "1.1.0",
      "model_name": "LayoutModel",
      "state": {
       "display": "none",
       "width": "180px"
      }
     },
     "a4bb8d91d9d847feafbd5281fbcf0466": {
      "model_module": "@jupyter-widgets/base",
      "model_module_version": "1.1.0",
      "model_name": "LayoutModel",
      "state": {}
     },
     "a505716523c14bd2bbfa5456f9c6a067": {
      "model_module": "@jupyter-widgets/controls",
      "model_module_version": "1.3.0",
      "model_name": "HTMLMathModel",
      "state": {
       "layout": "IPY_MODEL_d94b6ca7402a4a31b9581ef024337683",
       "style": "IPY_MODEL_f15535f5f99448f5acf05473dc77dcd1",
       "value": "Fully projection-regular rank-1 Ordinary Lattice Rules"
      }
     },
     "a546db092c79492ab9e4294bcdf562e5": {
      "model_module": "@jupyter-widgets/base",
      "model_module_version": "1.1.0",
      "model_name": "LayoutModel",
      "state": {}
     },
     "a63b9bd793884917ac764f4d50d4f831": {
      "model_module": "@jupyter-widgets/base",
      "model_module_version": "1.1.0",
      "model_name": "LayoutModel",
      "state": {}
     },
     "a648d2f9733642159c45a07766c88e21": {
      "model_module": "@jupyter-widgets/controls",
      "model_module_version": "1.3.0",
      "model_name": "TextModel",
      "state": {
       "description": "Low-Pass Threshold",
       "layout": "IPY_MODEL_6cf467048c83477185bd8f10a0e85f4e",
       "style": "IPY_MODEL_1ee046ff8d6b4609b35145efc47d3f68",
       "value": "1"
      }
     },
     "a67af3a6c5eb4ef49aa73e50738b4f83": {
      "model_module": "@jupyter-widgets/controls",
      "model_module_version": "1.3.0",
      "model_name": "TabModel",
      "state": {
       "layout": "IPY_MODEL_8d1f1425df8f40e0a2fd6ada19f028ed"
      }
     },
     "a682e2e71a934436bf2a76f27cd47d78": {
      "model_module": "@jupyter-widgets/controls",
      "model_module_version": "1.3.0",
      "model_name": "DropdownModel",
      "state": {
       "_options_labels": [
        "weighted sum",
        "maximum weighted value",
        "weighted value of the highest level",
        "weighted value of a specific level"
       ],
       "description": "Combiner:",
       "index": 0,
       "layout": "IPY_MODEL_7352f5b81a8140aa8f8ae8665fa1cc7f",
       "style": "IPY_MODEL_53f83c6b6bd14b81b6d8118496f93a97"
      }
     },
     "a6fd1f6aeb4e474ca778f20856f6ec7e": {
      "model_module": "@jupyter-widgets/controls",
      "model_module_version": "1.3.0",
      "model_name": "VBoxModel",
      "state": {
       "children": [
        "IPY_MODEL_fc9f041212154ff0b8b389dcd1249659",
        "IPY_MODEL_5fa7a8e2dfd64dd5b8add939182d20a6",
        "IPY_MODEL_ba1cab09658041f1840be6185e483b44"
       ],
       "layout": "IPY_MODEL_e8edc114fd4d4a808b82567f11ef8521"
      }
     },
     "a753a246089a47edbadc1495c36cb79d": {
      "model_module": "@jupyter-widgets/base",
      "model_module_version": "1.1.0",
      "model_name": "LayoutModel",
      "state": {}
     },
     "a7cd38ecc7c24692baaabb6fddd1cb94": {
      "model_module": "@jupyter-widgets/base",
      "model_module_version": "1.1.0",
      "model_name": "LayoutModel",
      "state": {
       "display": "none",
       "width": "25%"
      }
     },
     "a7cf2d92d29b49a0aedf139cbd99c2cd": {
      "model_module": "@jupyter-widgets/base",
      "model_module_version": "1.1.0",
      "model_name": "LayoutModel",
      "state": {
       "margin": "0px 0px 0px 80px",
       "width": "550px"
      }
     },
     "a7e32b48790b44f79d73ac0378224d1c": {
      "model_module": "@jupyter-widgets/base",
      "model_module_version": "1.1.0",
      "model_name": "LayoutModel",
      "state": {
       "display": "none"
      }
     },
     "a8368b2848124f19b849fe1bbcd8da43": {
      "model_module": "@jupyter-widgets/base",
      "model_module_version": "1.1.0",
      "model_name": "LayoutModel",
      "state": {}
     },
     "a86607face2a489995e01ea43fc97ff2": {
      "model_module": "@jupyter-widgets/base",
      "model_module_version": "1.1.0",
      "model_name": "LayoutModel",
      "state": {}
     },
     "a8970143d3bc47109a94a96f0f532276": {
      "model_module": "@jupyter-widgets/controls",
      "model_module_version": "1.3.0",
      "model_name": "BoundedIntTextModel",
      "state": {
       "description": "Interlacing d:",
       "disabled": true,
       "layout": "IPY_MODEL_f00ed3eeb66a4e64a532f3df13c15203",
       "min": 1,
       "style": "IPY_MODEL_5f51fcbe31614fa2be80b04d3f3af2bb",
       "value": 1
      }
     },
     "a951c008900f4a7f986f0c9b8a519b04": {
      "model_module": "@jupyter-widgets/controls",
      "model_module_version": "1.3.0",
      "model_name": "ToggleButtonsModel",
      "state": {
       "_options_labels": [
        "Sobol",
        "Polynomial",
        "Explicit"
       ],
       "button_style": "",
       "description": "Choose one:",
       "icons": [],
       "index": 0,
       "layout": "IPY_MODEL_5ce72f9a87744ab79b3385667ade692c",
       "style": "IPY_MODEL_0fb1382a4a7d4db5909d32b51c349697",
       "tooltips": []
      }
     },
     "a958f9e719de431093d8aa076e64ccea": {
      "model_module": "@jupyter-widgets/controls",
      "model_module_version": "1.3.0",
      "model_name": "DropdownModel",
      "state": {
       "_options_labels": [
        "Palpha",
        "Ralpha",
        "Spectral"
       ],
       "description": "Figure:",
       "index": 0,
       "layout": "IPY_MODEL_5b3bfd34fce84b298cdc09b05df0a924",
       "style": "IPY_MODEL_2fd078461e254b34832c2460196e30df"
      }
     },
     "ab599e16c82e41feb2271c80294a75d8": {
      "model_module": "@jupyter-widgets/controls",
      "model_module_version": "1.3.0",
      "model_name": "HBoxModel",
      "state": {
       "children": [
        "IPY_MODEL_9bf7f987834646a483bfd7ff41372ecb",
        "IPY_MODEL_c75f1908f1c7435199c36acd93ddb734"
       ],
       "layout": "IPY_MODEL_6891f45e857148ada000ab5b5f96ad72"
      }
     },
     "abb08c022f9f401db2162c4741ab085b": {
      "model_module": "@jupyter-widgets/controls",
      "model_module_version": "1.3.0",
      "model_name": "ButtonStyleModel",
      "state": {}
     },
     "abf93f22549341c9aa1f02a141b7e6bb": {
      "model_module": "@jupyter-widgets/controls",
      "model_module_version": "1.3.0",
      "model_name": "AccordionModel",
      "state": {
       "_titles": {
        "0": "Figure of Merit"
       },
       "children": [
        "IPY_MODEL_e03d673e52a64e53a7bfec8f7e47ad16"
       ],
       "layout": "IPY_MODEL_82684bc8c8c04d1d8584db0437bdfb45"
      }
     },
     "ac87dd9338094826bba0ba7b506303b4": {
      "model_module": "@jupyter-widgets/base",
      "model_module_version": "1.1.0",
      "model_name": "LayoutModel",
      "state": {
       "width": "20%"
      }
     },
     "aca8ed5765af498489fa25a7f34bbf20": {
      "model_module": "@jupyter-widgets/controls",
      "model_module_version": "1.3.0",
      "model_name": "CheckboxModel",
      "state": {
       "description": "Multilevel",
       "disabled": false,
       "layout": "IPY_MODEL_a753a246089a47edbadc1495c36cb79d",
       "style": "IPY_MODEL_b32e80d7dfce42638947525ad5603e4d",
       "value": false
      }
     },
     "ad2bbbf622ae40e3b683030bd3d50682": {
      "model_module": "@jupyter-widgets/controls",
      "model_module_version": "1.3.0",
      "model_name": "TextModel",
      "state": {
       "layout": "IPY_MODEL_33491d78e9894581bec5af3dd4377542",
       "style": "IPY_MODEL_e8c5b40ce1fc4f628f0dbe3395e76b8c",
       "value": "0.8"
      }
     },
     "ae55015cf6604fd782f635b2580db558": {
      "model_module": "@jupyter-widgets/base",
      "model_module_version": "1.1.0",
      "model_name": "LayoutModel",
      "state": {}
     },
     "ae9e9014ae484381b268552ba13bb686": {
      "model_module": "@jupyter-widgets/controls",
      "model_module_version": "1.3.0",
      "model_name": "ButtonModel",
      "state": {
       "description": "Remove",
       "layout": "IPY_MODEL_57b74ec690d24c44a4e0b9a6269dd708",
       "style": "IPY_MODEL_de6b98b9f6174c248d0a871d18654a61",
       "tooltip": "Remove this type of weights"
      }
     },
     "aeae744c103d453d9ac411b3999ff851": {
      "model_module": "@jupyter-widgets/base",
      "model_module_version": "1.1.0",
      "model_name": "LayoutModel",
      "state": {
       "width": "100px"
      }
     },
     "aebcdc92997b42d2a0302bf31488171f": {
      "model_module": "@jupyter-widgets/controls",
      "model_module_version": "1.3.0",
      "model_name": "TextareaModel",
      "state": {
       "layout": "IPY_MODEL_1686333091274bd9909cf90c545055b0",
       "placeholder": "1 0 0\n0 1 0\n0 0 1\n\n1 1 0\n1 0 1\n0 1 1",
       "style": "IPY_MODEL_2de29c3b7d2344a0b957a755d053af29"
      }
     },
     "af025a628b914491adeeb6b6ab5816f2": {
      "model_module": "@jupyter-widgets/controls",
      "model_module_version": "1.3.0",
      "model_name": "TextModel",
      "state": {
       "description": "Max Level (optional):",
       "layout": "IPY_MODEL_a39c7cd363bb4c168dbdf8eec83a0df3",
       "placeholder": "10",
       "style": "IPY_MODEL_7843190bebdd4272be93749ed179d6d0"
      }
     },
     "af61999cf3bc402db2f28a3c20b436e7": {
      "model_module": "@jupyter-widgets/controls",
      "model_module_version": "1.3.0",
      "model_name": "ToggleButtonModel",
      "state": {
       "description": "Abort search",
       "disabled": true,
       "layout": "IPY_MODEL_158c9b4e675e488f9a2ec9bbf2b122b9",
       "style": "IPY_MODEL_67a519249f814bbc82cb0c650f480cab"
      }
     },
     "b028f42cb03a4f3299bfc691a20aa60e": {
      "model_module": "@jupyter-widgets/controls",
      "model_module_version": "1.3.0",
      "model_name": "TextModel",
      "state": {
       "layout": "IPY_MODEL_d1553b913e874a93a0b75eb5857b51b9",
       "style": "IPY_MODEL_41b3c2870a844370abf85d79590682ab",
       "value": "1"
      }
     },
     "b04bcdf176b9478ebeae557764c33dc1": {
      "model_module": "@jupyter-widgets/controls",
      "model_module_version": "1.3.0",
      "model_name": "DescriptionStyleModel",
      "state": {
       "description_width": "initial"
      }
     },
     "b12e767eccff4d6d9e3d31dcbe33cb3d": {
      "model_module": "@jupyter-widgets/controls",
      "model_module_version": "1.3.0",
      "model_name": "DescriptionStyleModel",
      "state": {
       "description_width": "initial"
      }
     },
     "b2608a67f75f4da799f5dcc16393c956": {
      "model_module": "@jupyter-widgets/controls",
      "model_module_version": "1.3.0",
      "model_name": "DescriptionStyleModel",
      "state": {
       "description_width": ""
      }
     },
     "b278e3fcd40f45aea0e7e0006ed75aa4": {
      "model_module": "@jupyter-widgets/controls",
      "model_module_version": "1.3.0",
      "model_name": "CheckboxModel",
      "state": {
       "description": "Coordinate-Uniform evaluation",
       "disabled": false,
       "layout": "IPY_MODEL_5c41ef66ec65444b838f7f77e77c9101",
       "style": "IPY_MODEL_5b241509841746809085057a7070019f",
       "value": true
      }
     },
     "b32e80d7dfce42638947525ad5603e4d": {
      "model_module": "@jupyter-widgets/controls",
      "model_module_version": "1.3.0",
      "model_name": "DescriptionStyleModel",
      "state": {
       "description_width": ""
      }
     },
     "b341c4a13d29475b9eb5c303278988a9": {
      "model_module": "@jupyter-widgets/controls",
      "model_module_version": "1.3.0",
      "model_name": "TextModel",
      "state": {
       "layout": "IPY_MODEL_e07df3797cb7416aa6ce99da75f60c47",
       "style": "IPY_MODEL_92c55dae07bd43bb82b8825b161bc265",
       "value": "0.512"
      }
     },
     "b431488ff1ac46d284534e3cfc077157": {
      "model_module": "@jupyter-widgets/base",
      "model_module_version": "1.1.0",
      "model_name": "LayoutModel",
      "state": {}
     },
     "b45304b2ca8346e8bff30f29b1a9319e": {
      "model_module": "@jupyter-widgets/controls",
      "model_module_version": "1.3.0",
      "model_name": "DescriptionStyleModel",
      "state": {
       "description_width": ""
      }
     },
     "b4fb5583aec14d3e99f13e84f85a7f40": {
      "model_module": "@jupyter-widgets/base",
      "model_module_version": "1.1.0",
      "model_name": "LayoutModel",
      "state": {
       "display": "none",
       "margin": "40px 0px 0px 0px",
       "width": "200px"
      }
     },
     "b52eae8092554330a3d5a0f332d24082": {
      "model_module": "@jupyter-widgets/controls",
      "model_module_version": "1.3.0",
      "model_name": "ButtonModel",
      "state": {
       "description": "Construct command line",
       "layout": "IPY_MODEL_39a09e886b8240f182968a75fb3f254e",
       "style": "IPY_MODEL_455ad4a900d34d64a69f7913d7fe0ce9"
      }
     },
     "b558c746e7ea4934acf1a4959d6df0d9": {
      "model_module": "@jupyter-widgets/base",
      "model_module_version": "1.1.0",
      "model_name": "LayoutModel",
      "state": {}
     },
     "b61b432c10af48bebf17f7a2024e282d": {
      "model_module": "@jupyter-widgets/controls",
      "model_module_version": "1.3.0",
      "model_name": "HBoxModel",
      "state": {
       "children": [
        "IPY_MODEL_d58ccae2e6dc43e4a5764f3fe5bd84c4",
        "IPY_MODEL_c7c867c89cf2440fbd2ba40d895c2398"
       ],
       "layout": "IPY_MODEL_313d8a2d10774a558a3ecb314fd469ba"
      }
     },
     "b656a46c81774d60823b4e61cb7b97bb": {
      "model_module": "@jupyter-widgets/base",
      "model_module_version": "1.1.0",
      "model_name": "LayoutModel",
      "state": {
       "width": "900px"
      }
     },
     "b657053b03044204b77d44a3e770df1a": {
      "model_module": "@jupyter-widgets/base",
      "model_module_version": "1.1.0",
      "model_name": "LayoutModel",
      "state": {
       "display": "none"
      }
     },
     "b661c566f59148c68a576df902b31bb3": {
      "model_module": "@jupyter-widgets/base",
      "model_module_version": "1.1.0",
      "model_name": "LayoutModel",
      "state": {
       "align_items": "center"
      }
     },
     "b734df545cd34737a831993e8d59274d": {
      "model_module": "@jupyter-widgets/controls",
      "model_module_version": "1.3.0",
      "model_name": "DescriptionStyleModel",
      "state": {
       "description_width": "initial"
      }
     },
     "b747bf85c4e7418da1d9514de3c98f18": {
      "model_module": "@jupyter-widgets/controls",
      "model_module_version": "1.3.0",
      "model_name": "CheckboxModel",
      "state": {
       "description": "Coordinate-Uniform evaluation",
       "disabled": false,
       "layout": "IPY_MODEL_9d7f79db8b784d30bab4141182b8a0d2",
       "style": "IPY_MODEL_d17c59eba3a34641ab22fbf9a5efd5e5",
       "value": true
      }
     },
     "b7d59171132e474981fecd2a086572cc": {
      "model_module": "@jupyter-widgets/controls",
      "model_module_version": "1.3.0",
      "model_name": "CheckboxModel",
      "state": {
       "description": "Low-Pass Filter",
       "disabled": false,
       "layout": "IPY_MODEL_666cead5d3784f92813267707c41c6d6",
       "style": "IPY_MODEL_0284240791bd405b8d21149a6b026994",
       "value": false
      }
     },
     "b80ed47c503248e1910c8f028d43863f": {
      "model_module": "@jupyter-widgets/controls",
      "model_module_version": "1.3.0",
      "model_name": "DescriptionStyleModel",
      "state": {
       "description_width": "initial"
      }
     },
     "b89aa83a773c4e17a2a89c2d6a018d09": {
      "model_module": "@jupyter-widgets/base",
      "model_module_version": "1.1.0",
      "model_name": "LayoutModel",
      "state": {
       "width": "95%"
      }
     },
     "b89bb1b3e3424a1fb5a3a1e8692ffef0": {
      "model_module": "@jupyter-widgets/controls",
      "model_module_version": "1.3.0",
      "model_name": "DescriptionStyleModel",
      "state": {
       "description_width": "initial"
      }
     },
     "b8c1e59edc914ccdb402c43f5a63a74b": {
      "model_module": "@jupyter-widgets/controls",
      "model_module_version": "1.3.0",
      "model_name": "DescriptionStyleModel",
      "state": {
       "description_width": ""
      }
     },
     "b8d560524e0443cd88c8ca52855874d7": {
      "model_module": "@jupyter-widgets/controls",
      "model_module_version": "1.3.0",
      "model_name": "TextModel",
      "state": {
       "description": "Norm type q > 0 or q = \"inf\":",
       "disabled": true,
       "layout": "IPY_MODEL_f0f48f1d7924473b91b2987e349790ef",
       "style": "IPY_MODEL_f88f1df43b544cf0b3fefb73e37cac6b",
       "value": "2"
      }
     },
     "b91c0da20152449ea5f23c35eb766852": {
      "model_module": "@jupyter-widgets/controls",
      "model_module_version": "1.3.0",
      "model_name": "TextModel",
      "state": {
       "layout": "IPY_MODEL_590f4e6f66a14fb683796031127e7d54",
       "style": "IPY_MODEL_8c5df0b554e1437bb55f9f036fa432ae",
       "value": "1"
      }
     },
     "b9a9ede7a3cb4158ade946139faf7af8": {
      "model_module": "@jupyter-widgets/base",
      "model_module_version": "1.1.0",
      "model_name": "LayoutModel",
      "state": {}
     },
     "ba07160fd0c2433db04e172cd67124ce": {
      "model_module": "@jupyter-widgets/base",
      "model_module_version": "1.1.0",
      "model_name": "LayoutModel",
      "state": {}
     },
     "ba1cab09658041f1840be6185e483b44": {
      "model_module": "@jupyter-widgets/controls",
      "model_module_version": "1.3.0",
      "model_name": "VBoxModel",
      "state": {
       "children": [
        "IPY_MODEL_fb0728345a9549688f32033c841ac9c5"
       ],
       "layout": "IPY_MODEL_1f36d833c9a04a4abc04ed736d954139"
      }
     },
     "ba97fae2ba964719ad2c59d61f7e1419": {
      "model_module": "@jupyter-widgets/base",
      "model_module_version": "1.1.0",
      "model_name": "LayoutModel",
      "state": {}
     },
     "bab23a066f4d49179bed191d76bd9cc1": {
      "model_module": "@jupyter-widgets/base",
      "model_module_version": "1.1.0",
      "model_name": "LayoutModel",
      "state": {
       "display": "none"
      }
     },
     "bb506aa299794c7a8b951aa9c8a90933": {
      "model_module": "@jupyter-widgets/controls",
      "model_module_version": "1.3.0",
      "model_name": "ProgressStyleModel",
      "state": {
       "description_width": "initial"
      }
     },
     "bb9ff8dda10c4e2d81c5201837feb645": {
      "model_module": "@jupyter-widgets/controls",
      "model_module_version": "1.3.0",
      "model_name": "DescriptionStyleModel",
      "state": {
       "description_width": ""
      }
     },
     "bba143b2231045199e19c040327db458": {
      "model_module": "@jupyter-widgets/controls",
      "model_module_version": "1.3.0",
      "model_name": "DescriptionStyleModel",
      "state": {
       "description_width": "initial"
      }
     },
     "bc66fb258d474e65b6bbaf75aa434e9e": {
      "model_module": "@jupyter-widgets/controls",
      "model_module_version": "1.3.0",
      "model_name": "HTMLMathModel",
      "state": {
       "layout": "IPY_MODEL_4dd1d94d86ba4016b197010eaa3d1ecc",
       "style": "IPY_MODEL_206e3963025948f48e2d8d79de1520bd",
       "value": "The weights are of the form: \\(\\gamma_u^q (u \\subseteq \\{1, ... s\\})\\). You can specify below type of weights with their values (the actual weights are the sum of these).See <a href=\"https://github.com/PierreMarion23/latbuilder/tree/dev/web-ui/weights_guidelines.md\" target=\"_blank\">this GitHub page</a> for guidelines on the choice of weights."
      }
     },
     "bca31af23ab44773b9e690127795aebc": {
      "model_module": "@jupyter-widgets/base",
      "model_module_version": "1.1.0",
      "model_name": "LayoutModel",
      "state": {}
     },
     "bd0cf813a30a4db6b661b482da42c6de": {
      "model_module": "@jupyter-widgets/base",
      "model_module_version": "1.1.0",
      "model_name": "LayoutModel",
      "state": {}
     },
     "be1a2006b30b4b6cbd2ca9869838727a": {
      "model_module": "@jupyter-widgets/controls",
      "model_module_version": "1.3.0",
      "model_name": "CheckboxModel",
      "state": {
       "description": "Random choice of r points",
       "disabled": false,
       "layout": "IPY_MODEL_a86607face2a489995e01ea43fc97ff2",
       "style": "IPY_MODEL_694972d0be894bb08d461a13498b978e",
       "value": false
      }
     },
     "be39b39eae24404a9dee960740d8021e": {
      "model_module": "@jupyter-widgets/controls",
      "model_module_version": "1.3.0",
      "model_name": "ButtonModel",
      "state": {
       "description": "Evaluate from previous search",
       "layout": "IPY_MODEL_71c78d66cf284b0b9923e22aba511662",
       "style": "IPY_MODEL_f0fe814c772f4ae68d7f598b526cd7b8"
      }
     },
     "bfda9bb1aac543ab95b8ec66dec31d9f": {
      "model_module": "@jupyter-widgets/controls",
      "model_module_version": "1.3.0",
      "model_name": "HBoxModel",
      "state": {
       "children": [
        "IPY_MODEL_6174394bcdea4891b5bd1e07527fd739",
        "IPY_MODEL_2afb46547ad540a38314d1bdea8bdf70"
       ],
       "layout": "IPY_MODEL_e7c3b90b7951442f85fb124f42be3d93"
      }
     },
     "c0301114afe940b3ae91e9dc53f4bd39": {
      "model_module": "@jupyter-widgets/controls",
      "model_module_version": "1.3.0",
      "model_name": "VBoxModel",
      "state": {
       "children": [
        "IPY_MODEL_960765c808b7457bb6acf98aae103804",
        "IPY_MODEL_456c153eaba647c78a4d7b95525bab0e"
       ],
       "layout": "IPY_MODEL_bab23a066f4d49179bed191d76bd9cc1"
      }
     },
     "c0f5c474c3c9450da8b3d9220bb2b63f": {
      "model_module": "@jupyter-widgets/base",
      "model_module_version": "1.1.0",
      "model_name": "LayoutModel",
      "state": {
       "height": "100px",
       "width": "600px"
      }
     },
     "c15627a46b8746c5b68565116cfa36aa": {
      "model_module": "@jupyter-widgets/base",
      "model_module_version": "1.1.0",
      "model_name": "LayoutModel",
      "state": {}
     },
     "c192a1dc6d17420d963a63c73b09a132": {
      "model_module": "@jupyter-widgets/controls",
      "model_module_version": "1.3.0",
      "model_name": "HBoxModel",
      "state": {
       "children": [
        "IPY_MODEL_24955e487f1a42e081ec81141303cf10",
        "IPY_MODEL_5766f0f2cbf04425a38b3efd383bb677",
        "IPY_MODEL_f6dbdbe11f1a4ac2bdb1e779a58efbf4"
       ],
       "layout": "IPY_MODEL_4505c9327e5146e0bc2a54c98c23c9f2"
      }
     },
     "c1cc62270c0a4bffaeb0fcba83a85812": {
      "model_module": "@jupyter-widgets/controls",
      "model_module_version": "1.3.0",
      "model_name": "HBoxModel",
      "state": {
       "children": [
        "IPY_MODEL_a958f9e719de431093d8aa076e64ccea",
        "IPY_MODEL_1e9a7726af7d4c32b3b2c2b9b597cdab",
        "IPY_MODEL_b278e3fcd40f45aea0e7e0006ed75aa4",
        "IPY_MODEL_0119bb76be7948db9017249eacc178f4"
       ],
       "layout": "IPY_MODEL_d9055a74ccb04d2e870799aac0eba697"
      }
     },
     "c1da02a7d752484cbfa4a1b694fa6775": {
      "model_module": "@jupyter-widgets/base",
      "model_module_version": "1.1.0",
      "model_name": "LayoutModel",
      "state": {
       "margin": "0px 0px 0px 80px",
       "width": "550px"
      }
     },
     "c23466032ef04ceab17ae943c4ed5283": {
      "model_module": "@jupyter-widgets/base",
      "model_module_version": "1.1.0",
      "model_name": "LayoutModel",
      "state": {}
     },
     "c24aeb06be574d93a68f26c2b3b2ccc3": {
      "model_module": "@jupyter-widgets/base",
      "model_module_version": "1.1.0",
      "model_name": "LayoutModel",
      "state": {
       "width": "170px"
      }
     },
     "c35dfa5650d44746bb2c108ce7692f8c": {
      "model_module": "@jupyter-widgets/controls",
      "model_module_version": "1.3.0",
      "model_name": "HBoxModel",
      "state": {
       "children": [
        "IPY_MODEL_a682e2e71a934436bf2a76f27cd47d78",
        "IPY_MODEL_cce22344677b4692a2f7789de784b87f"
       ],
       "layout": "IPY_MODEL_f8effb670604427d9e4826836ede232e"
      }
     },
     "c363904628484557b2568cdbe99fe45d": {
      "model_module": "@jupyter-widgets/controls",
      "model_module_version": "1.3.0",
      "model_name": "HTMLMathModel",
      "state": {
       "layout": "IPY_MODEL_f8de0847d3ef4f398e08b1e071c5a10e",
       "style": "IPY_MODEL_6db3e4edfaae4703b970ab0bf79590b8",
       "value": "<p> All possible values of the components components \\(a_j\\) of the generating vector \\(a=(a_1,…,a_s)\\) are examined and the best ones are selected, one coordinate at a time. </p>    <p> Computation is accelerated by using fast Fourier transforms. </p>    <p style=\"color:red\"> Requires the Coordinate-Uniform evaluation method.</p>"
      }
     },
     "c3a627979ac54b859d2de2e4377c1861": {
      "model_module": "@jupyter-widgets/base",
      "model_module_version": "1.1.0",
      "model_name": "LayoutModel",
      "state": {
       "height": "130px",
       "width": "600px"
      }
     },
     "c3b3deae496145e08df38906bebc6ca2": {
      "model_module": "@jupyter-widgets/base",
      "model_module_version": "1.1.0",
      "model_name": "LayoutModel",
      "state": {}
     },
     "c47eaac6a42a47f3ab91cee9e4e5d463": {
      "model_module": "@jupyter-widgets/base",
      "model_module_version": "1.1.0",
      "model_name": "LayoutModel",
      "state": {
       "align_items": "center"
      }
     },
     "c4e0c7a0f801460e950b54cb87d30aaf": {
      "model_module": "@jupyter-widgets/base",
      "model_module_version": "1.1.0",
      "model_name": "LayoutModel",
      "state": {}
     },
     "c5667b3ca5ca418199dfc96aac6e5e28": {
      "model_module": "@jupyter-widgets/controls",
      "model_module_version": "1.3.0",
      "model_name": "DescriptionStyleModel",
      "state": {
       "description_width": ""
      }
     },
     "c6a1152fdd6644d8a1822eebecec7495": {
      "model_module": "@jupyter-widgets/base",
      "model_module_version": "1.1.0",
      "model_name": "LayoutModel",
      "state": {
       "width": "900px"
      }
     },
     "c72aa763c9eb48ef8716d0e0b5fb6ba5": {
      "model_module": "@jupyter-widgets/controls",
      "model_module_version": "1.3.0",
      "model_name": "HBoxModel",
      "state": {
       "children": [
        "IPY_MODEL_2e57174c926c40f38dbf555c39f2daf3",
        "IPY_MODEL_b028f42cb03a4f3299bfc691a20aa60e",
        "IPY_MODEL_0e4246c64c4c4ab0b3421100a40c7ab9"
       ],
       "layout": "IPY_MODEL_d3ea5d7ff02a489f8a54dadd9c5fd2f5"
      }
     },
     "c750c46a7d5c4cc9815950036b9e4dd0": {
      "model_module": "@jupyter-widgets/base",
      "model_module_version": "1.1.0",
      "model_name": "LayoutModel",
      "state": {
       "width": "100px"
      }
     },
     "c75f1908f1c7435199c36acd93ddb734": {
      "model_module": "@jupyter-widgets/controls",
      "model_module_version": "1.3.0",
      "model_name": "BoundedIntTextModel",
      "state": {
       "description": "Level:",
       "layout": "IPY_MODEL_328b91588a564c6598532e1d44a390b4",
       "min": 1,
       "style": "IPY_MODEL_1ef6772fdbfe481d883165693b89e8a7",
       "value": 1
      }
     },
     "c7c867c89cf2440fbd2ba40d895c2398": {
      "model_module": "@jupyter-widgets/controls",
      "model_module_version": "1.3.0",
      "model_name": "VBoxModel",
      "state": {
       "children": [
        "IPY_MODEL_018176d61c804b7e9045c2b049e55d26",
        "IPY_MODEL_6d9c4d35603043f79983bb28fa49149f"
       ],
       "layout": "IPY_MODEL_bca31af23ab44773b9e690127795aebc"
      }
     },
     "c7c8d097065b4ecf97c4d3129180b22f": {
      "model_module": "@jupyter-widgets/controls",
      "model_module_version": "1.3.0",
      "model_name": "VBoxModel",
      "state": {
       "children": [
        "IPY_MODEL_bc66fb258d474e65b6bbaf75aa434e9e",
        "IPY_MODEL_209d0710b6664b4bb347e422e1ae47aa",
        "IPY_MODEL_d3f3fdcd7d2040d89d87cadfe996eb82"
       ],
       "layout": "IPY_MODEL_061ea6687ba842a7876190e283a27c1c"
      }
     },
     "c7cf4fb3c39546e4b4e7632f23dd0d06": {
      "model_module": "@jupyter-widgets/controls",
      "model_module_version": "1.3.0",
      "model_name": "FloatProgressModel",
      "state": {
       "bar_style": "info",
       "description": "Number of dim explored:",
       "layout": "IPY_MODEL_43dd9c77df694ed3887b4d219093af38",
       "max": 1,
       "style": "IPY_MODEL_bb506aa299794c7a8b951aa9c8a90933"
      }
     },
     "c9856a9b12ca4dc7a0087c0072e58828": {
      "model_module": "@jupyter-widgets/base",
      "model_module_version": "1.1.0",
      "model_name": "LayoutModel",
      "state": {}
     },
     "c9ae622f92f94d9ab50b875dc15540b5": {
      "model_module": "@jupyter-widgets/controls",
      "model_module_version": "1.3.0",
      "model_name": "DescriptionStyleModel",
      "state": {
       "description_width": ""
      }
     },
     "c9c5826b658e4ac9bad4191e7cd0b364": {
      "model_module": "@jupyter-widgets/controls",
      "model_module_version": "1.3.0",
      "model_name": "ButtonModel",
      "state": {
       "description": "Search",
       "layout": "IPY_MODEL_833c42901a1743ad9b7189196266fc0c",
       "style": "IPY_MODEL_9ab11e5a8bfe407da197e1e17b6348b9"
      }
     },
     "ca4bf62705314a7283add8ce252035f3": {
      "model_module": "@jupyter-widgets/controls",
      "model_module_version": "1.3.0",
      "model_name": "DescriptionStyleModel",
      "state": {
       "description_width": "initial"
      }
     },
     "cb393a26d88448898edefefdee78c166": {
      "model_module": "@jupyter-widgets/controls",
      "model_module_version": "1.3.0",
      "model_name": "ToggleButtonsStyleModel",
      "state": {
       "button_width": "",
       "description_width": "initial"
      }
     },
     "cbb4059134454280a11785b4357a6578": {
      "model_module": "@jupyter-widgets/controls",
      "model_module_version": "1.3.0",
      "model_name": "TextModel",
      "state": {
       "layout": "IPY_MODEL_73807f5e9da245ba86794aeb0828fa84",
       "style": "IPY_MODEL_9d86cb1f714c42bba6ae4b7709fb60fc",
       "value": "1"
      }
     },
     "cc5f2af8dbde4a61a7335a8d75eaa177": {
      "model_module": "@jupyter-widgets/controls",
      "model_module_version": "1.3.0",
      "model_name": "DescriptionStyleModel",
      "state": {
       "description_width": "initial"
      }
     },
     "cce22344677b4692a2f7789de784b87f": {
      "model_module": "@jupyter-widgets/controls",
      "model_module_version": "1.3.0",
      "model_name": "BoundedIntTextModel",
      "state": {
       "description": "Level:",
       "layout": "IPY_MODEL_f2bdd19dbaf446a7bd08f1971b6b7e27",
       "min": 1,
       "style": "IPY_MODEL_d18a0ca8c36146859a50ac8ec8629306",
       "value": 1
      }
     },
     "cd5076e18d6041e4ba975ae327fc610a": {
      "model_module": "@jupyter-widgets/controls",
      "model_module_version": "1.3.0",
      "model_name": "HTMLModel",
      "state": {
       "description": "<b> Command line: </b>",
       "layout": "IPY_MODEL_b656a46c81774d60823b4e61cb7b97bb",
       "style": "IPY_MODEL_05031fed03b54dd391ec68678c6ad216"
      }
     },
     "cd6412e5128e4507ad576acf5aceb7c6": {
      "model_module": "@jupyter-widgets/controls",
      "model_module_version": "1.3.0",
      "model_name": "AccordionModel",
      "state": {
       "_titles": {
        "0": "Lattice Type"
       },
       "children": [
        "IPY_MODEL_93cf0410faf24e8695a7e8874aa8955d"
       ],
       "layout": "IPY_MODEL_a4bb8d91d9d847feafbd5281fbcf0466"
      }
     },
     "cec61227213442078903cd39e09ff5aa": {
      "model_module": "@jupyter-widgets/controls",
      "model_module_version": "1.3.0",
      "model_name": "TextModel",
      "state": {
       "description": "Modulus n=",
       "layout": "IPY_MODEL_09f9d060f962473eb5411dd8fda5f3eb",
       "placeholder": "e.g. 2^10 (default) or 1024",
       "style": "IPY_MODEL_b04bcdf176b9478ebeae557764c33dc1"
      }
     },
     "cece50573cd74c5da247f6cb334de07c": {
      "model_module": "@jupyter-widgets/controls",
      "model_module_version": "1.3.0",
      "model_name": "DescriptionStyleModel",
      "state": {
       "description_width": ""
      }
     },
     "cfef05c29deb44f09751d020bd7b587f": {
      "model_module": "@jupyter-widgets/base",
      "model_module_version": "1.1.0",
      "model_name": "LayoutModel",
      "state": {}
     },
     "d0216d554a0a4429a60e65618470d16b": {
      "model_module": "@jupyter-widgets/controls",
      "model_module_version": "1.3.0",
      "model_name": "BoundedIntTextModel",
      "state": {
       "description": "Dimension s:",
       "layout": "IPY_MODEL_44dcf31cbf084f53a033db5d3c6b7c47",
       "min": 1,
       "style": "IPY_MODEL_2cf78f2ec3cf47648bdeb5b907d9e773",
       "value": 3
      }
     },
     "d0495e1036f34d048f8950e936d52c1f": {
      "model_module": "@jupyter-widgets/controls",
      "model_module_version": "1.3.0",
      "model_name": "HTMLMathModel",
      "state": {
       "layout": "IPY_MODEL_b431488ff1ac46d284534e3cfc077157",
       "style": "IPY_MODEL_f64ab005731a40b6bce0eef0fb452939",
       "value": "<p> Please note (and see the documentation for more details) that: </p>                         <ul>                            <li> The list of available figures of merit depend on the point set type and the interlacing factor. </li>                            <li> The \\(P_\\alpha \\) method requires \\( \\alpha \\in \\{ 2, 4, 6 \\} \\), while \\(R_\\alpha \\) and \\(IA_\\alpha \\) require \\( \\alpha > 0 \\). </li>                             <li> The Coordinate-Uniform (CU) evaluation method is generally faster, but requires q = 2.<br>Depending on the point set type and the figure, this option is mandatory, optional or impossible.</li>                             <li> The possibility to choose the norm type depends on the point set type, the figure, and the CU option.</li>                            <li> The t-value is the only figure for which weights, norm type and CU evaluation do not make sense.</li>                        </ul>"
      }
     },
     "d089982d96484fd692045792fbd64ac7": {
      "model_module": "@jupyter-widgets/controls",
      "model_module_version": "1.3.0",
      "model_name": "ToggleButtonsStyleModel",
      "state": {
       "button_width": "",
       "description_width": "initial"
      }
     },
     "d0fc96e500aa4d32a392be9ca3ac15de": {
      "model_module": "@jupyter-widgets/base",
      "model_module_version": "1.1.0",
      "model_name": "LayoutModel",
      "state": {
       "width": "900px"
      }
     },
     "d1553b913e874a93a0b75eb5857b51b9": {
      "model_module": "@jupyter-widgets/base",
      "model_module_version": "1.1.0",
      "model_name": "LayoutModel",
      "state": {
       "width": "100px"
      }
     },
     "d17c59eba3a34641ab22fbf9a5efd5e5": {
      "model_module": "@jupyter-widgets/controls",
      "model_module_version": "1.3.0",
      "model_name": "DescriptionStyleModel",
      "state": {
       "description_width": "initial"
      }
     },
     "d18a0ca8c36146859a50ac8ec8629306": {
      "model_module": "@jupyter-widgets/controls",
      "model_module_version": "1.3.0",
      "model_name": "DescriptionStyleModel",
      "state": {
       "description_width": ""
      }
     },
     "d18dcc37db2c430dade768122c1fd9e3": {
      "model_module": "@jupyter-widgets/base",
      "model_module_version": "1.1.0",
      "model_name": "LayoutModel",
      "state": {}
     },
     "d1b0751a710b4bdfbadb1ec4b11d74d1": {
      "model_module": "@jupyter-widgets/base",
      "model_module_version": "1.1.0",
      "model_name": "LayoutModel",
      "state": {
       "display": "none",
       "margin": "0px 10px 0px 0px",
       "width": "180px"
      }
     },
     "d1c5007ce914460e9f3647dbbb17a3eb": {
      "model_module": "@jupyter-widgets/base",
      "model_module_version": "1.1.0",
      "model_name": "LayoutModel",
      "state": {
       "margin": "30px 0px 0px 0px"
      }
     },
     "d25030e4bbbb4e9aa231dfa2a246e73d": {
      "model_module": "@jupyter-widgets/controls",
      "model_module_version": "1.3.0",
      "model_name": "BoundedIntTextModel",
      "state": {
       "description": "Coordinate on x-axis",
       "layout": "IPY_MODEL_6f8bcd147bf64989a28e895872c9b62e",
       "max": 3,
       "min": 1,
       "style": "IPY_MODEL_bba143b2231045199e19c040327db458",
       "value": 1
      }
     },
     "d2d41c504f8d4d57812b2e919287efe8": {
      "model_module": "@jupyter-widgets/controls",
      "model_module_version": "1.3.0",
      "model_name": "ButtonModel",
      "state": {
       "description": "Joe and Kuo direction numbers",
       "layout": "IPY_MODEL_eccd221904f6408b8829bb5af7f81399",
       "style": "IPY_MODEL_8907fc298f0147f5b96de50e9a3e7e1b"
      }
     },
     "d3ea5d7ff02a489f8a54dadd9c5fd2f5": {
      "model_module": "@jupyter-widgets/base",
      "model_module_version": "1.1.0",
      "model_name": "LayoutModel",
      "state": {}
     },
     "d3f3fdcd7d2040d89d87cadfe996eb82": {
      "model_module": "@jupyter-widgets/controls",
      "model_module_version": "1.3.0",
      "model_name": "VBoxModel",
      "state": {
       "children": [
        "IPY_MODEL_9ba1c95235b74aaabefbf21ca25a0a7d"
       ],
       "layout": "IPY_MODEL_7f3d85f2216e436a8883d57fe085c5de"
      }
     },
     "d4789affe72049e388fe667f55153e84": {
      "model_module": "@jupyter-widgets/controls",
      "model_module_version": "1.3.0",
      "model_name": "DescriptionStyleModel",
      "state": {
       "description_width": ""
      }
     },
     "d47c11ef0ac9441ba51a9a46c1a0b45a": {
      "model_module": "@jupyter-widgets/controls",
      "model_module_version": "1.3.0",
      "model_name": "TextModel",
      "state": {
       "description": "OR set all at once with (valid Python) expression: \\( \\Gamma_k^q \\) =",
       "layout": "IPY_MODEL_c1da02a7d752484cbfa4a1b694fa6775",
       "placeholder": "0.8^k * (k <= 3)",
       "style": "IPY_MODEL_db5d59b524b749d1afc08dc604f5cbdd"
      }
     },
     "d5269dc041c54faca063d1d56a491ee3": {
      "model_module": "@jupyter-widgets/base",
      "model_module_version": "1.1.0",
      "model_name": "LayoutModel",
      "state": {
       "width": "900px"
      }
     },
     "d58ccae2e6dc43e4a5764f3fe5bd84c4": {
      "model_module": "@jupyter-widgets/output",
      "model_module_version": "1.0.0",
      "model_name": "OutputModel",
      "state": {
       "layout": "IPY_MODEL_5eb70ab3235449afb48bf69da62ad310"
      }
     },
     "d682571935e843a5be11f11655f4aa2b": {
      "model_module": "@jupyter-widgets/controls",
      "model_module_version": "1.3.0",
      "model_name": "HBoxModel",
      "state": {
       "children": [
        "IPY_MODEL_726d12e4b1fa462095a516c183f6fbbd",
        "IPY_MODEL_0827c8e4469f4495a07e4d01398d8edb",
        "IPY_MODEL_cbb4059134454280a11785b4357a6578"
       ],
       "layout": "IPY_MODEL_2ab171d4ecb44f90913211f1eae06ff7"
      }
     },
     "d6b6c69169d9447ebd57bf1fd77c9e4f": {
      "model_module": "@jupyter-widgets/controls",
      "model_module_version": "1.3.0",
      "model_name": "DescriptionStyleModel",
      "state": {
       "description_width": "initial"
      }
     },
     "d8b4007238e64133b49f6ccadf11cb0e": {
      "model_module": "@jupyter-widgets/controls",
      "model_module_version": "1.3.0",
      "model_name": "HBoxModel",
      "state": {
       "children": [
        "IPY_MODEL_fd917ad8ffb34a04a28e3b8f2b85c95c",
        "IPY_MODEL_96e178dd76db4ae18a6aaefb9ab08e33"
       ],
       "layout": "IPY_MODEL_c47eaac6a42a47f3ab91cee9e4e5d463"
      }
     },
     "d8ed01bb3c054e41b9393d968b328cdc": {
      "model_module": "@jupyter-widgets/base",
      "model_module_version": "1.1.0",
      "model_name": "LayoutModel",
      "state": {
       "width": "50%"
      }
     },
     "d9055a74ccb04d2e870799aac0eba697": {
      "model_module": "@jupyter-widgets/base",
      "model_module_version": "1.1.0",
      "model_name": "LayoutModel",
      "state": {
       "justify_content": "space-between"
      }
     },
     "d94b6ca7402a4a31b9581ef024337683": {
      "model_module": "@jupyter-widgets/base",
      "model_module_version": "1.1.0",
      "model_name": "LayoutModel",
      "state": {}
     },
     "d94e5dccd790443396e3a81a49024307": {
      "model_module": "@jupyter-widgets/controls",
      "model_module_version": "1.3.0",
      "model_name": "HTMLMathModel",
      "state": {
       "layout": "IPY_MODEL_5cb5cbd81ed64e62879bf0b2f55bb398",
       "style": "IPY_MODEL_610bc11100de4379a622a7e8922912e7",
       "value": "<p> The nets follow the Sobol construction, and the direction numbers are optimized. The first matrix is always the same (reversed identity), so the first direction number is arbitrarly set to 0.</p>"
      }
     },
     "d96ec21e218445a6b08cc466a0e0f3a6": {
      "model_module": "@jupyter-widgets/base",
      "model_module_version": "1.1.0",
      "model_name": "LayoutModel",
      "state": {}
     },
     "d9e090f8bdff45fb8e4292e7cc55ecce": {
      "model_module": "@jupyter-widgets/base",
      "model_module_version": "1.1.0",
      "model_name": "LayoutModel",
      "state": {}
     },
     "da7a92c0058d4921b44432f40b2b8cbd": {
      "model_module": "@jupyter-widgets/base",
      "model_module_version": "1.1.0",
      "model_name": "LayoutModel",
      "state": {
       "display": "none"
      }
     },
     "db5d59b524b749d1afc08dc604f5cbdd": {
      "model_module": "@jupyter-widgets/controls",
      "model_module_version": "1.3.0",
      "model_name": "DescriptionStyleModel",
      "state": {
       "description_width": "initial"
      }
     },
     "dc66b16acb5242398a3b230f6dc9279a": {
      "model_module": "@jupyter-widgets/base",
      "model_module_version": "1.1.0",
      "model_name": "LayoutModel",
      "state": {
       "margin": "30px 0px 0px 0px"
      }
     },
     "dd8bcf3d97694c12ac225e58612dee04": {
      "model_module": "@jupyter-widgets/controls",
      "model_module_version": "1.3.0",
      "model_name": "BoundedIntTextModel",
      "state": {
       "description": "Coordinate on y-axis",
       "layout": "IPY_MODEL_185551e45c78494abab01b078b495cd4",
       "max": 3,
       "min": 1,
       "style": "IPY_MODEL_95a26056d02a4d09b9246703206d30e5",
       "value": 2
      }
     },
     "de6b98b9f6174c248d0a871d18654a61": {
      "model_module": "@jupyter-widgets/controls",
      "model_module_version": "1.3.0",
      "model_name": "ButtonStyleModel",
      "state": {}
     },
     "ded13bad0615483ba368bf82d3a5de31": {
      "model_module": "@jupyter-widgets/controls",
      "model_module_version": "1.3.0",
      "model_name": "TextareaModel",
      "state": {
       "layout": "IPY_MODEL_6cadb6a5fbde48fbba84c857155fd412",
       "style": "IPY_MODEL_f19e7765b0f9497d9cac01ec0d4e9769",
       "value": "int n = 1024;\nint s = 3;\nint a[] =  { 1, 275, 167 } ;\ndouble points[n][s];\nint i, j;\nfor (i = 0; i < n; i++){\n    for (j = 0; j < s; j++){\n        points[i][j] = ((long long)i * a[j]) % n / (double)n;\n    }\n}"
      }
     },
     "df84a6a443da446091cff86a7d23576b": {
      "model_module": "@jupyter-widgets/base",
      "model_module_version": "1.1.0",
      "model_name": "LayoutModel",
      "state": {}
     },
     "dfa513f249bf4ee4934da3f4faecd010": {
      "model_module": "@jupyter-widgets/controls",
      "model_module_version": "1.3.0",
      "model_name": "DescriptionStyleModel",
      "state": {
       "description_width": ""
      }
     },
     "e03d673e52a64e53a7bfec8f7e47ad16": {
      "model_module": "@jupyter-widgets/controls",
      "model_module_version": "1.3.0",
      "model_name": "VBoxModel",
      "state": {
       "children": [
        "IPY_MODEL_d0495e1036f34d048f8950e936d52c1f",
        "IPY_MODEL_68f126a21486456b95b354f6e6db70d4",
        "IPY_MODEL_ab599e16c82e41feb2271c80294a75d8",
        "IPY_MODEL_58a9a99061da4f87b0d7c5e3a325933f",
        "IPY_MODEL_87cec06e3cec4ac4850ec3e159a719d8"
       ],
       "layout": "IPY_MODEL_576a68952b504858b05f47265bab1204"
      }
     },
     "e07df3797cb7416aa6ce99da75f60c47": {
      "model_module": "@jupyter-widgets/base",
      "model_module_version": "1.1.0",
      "model_name": "LayoutModel",
      "state": {
       "width": "50px"
      }
     },
     "e1bd2505d77a4d25823a3d74532fc20e": {
      "model_module": "@jupyter-widgets/base",
      "model_module_version": "1.1.0",
      "model_name": "LayoutModel",
      "state": {}
     },
     "e28967a67bf64a62ae1602d9f0f541d8": {
      "model_module": "@jupyter-widgets/controls",
      "model_module_version": "1.3.0",
      "model_name": "TextareaModel",
      "state": {
       "layout": "IPY_MODEL_4821c64f3ab24281890510c71dafceca",
       "style": "IPY_MODEL_1c76fc0f17004396bd9081e1a49d2dc7",
       "value": "n = 1024;\na = [1, 275, 167];\npoints = zeros(n,length(a));\nfor i = 1:n\n    points(i,:) = mod((i - 1) * a, n) / n;\nend"
      }
     },
     "e2a2a3b4147e4fcc8c7002ead5cbe312": {
      "model_module": "@jupyter-widgets/base",
      "model_module_version": "1.1.0",
      "model_name": "LayoutModel",
      "state": {
       "width": "90%"
      }
     },
     "e2ed3aa70d234d7ca9d7fd89e4145b1f": {
      "model_module": "@jupyter-widgets/controls",
      "model_module_version": "1.3.0",
      "model_name": "DescriptionStyleModel",
      "state": {
       "description_width": "initial"
      }
     },
     "e32e0500bc2f4abe89ed210e3b235fd6": {
      "model_module": "@jupyter-widgets/controls",
      "model_module_version": "1.3.0",
      "model_name": "DescriptionStyleModel",
      "state": {
       "description_width": ""
      }
     },
     "e39c1ff80f0e4bafbf811f73319cc46f": {
      "model_module": "@jupyter-widgets/base",
      "model_module_version": "1.1.0",
      "model_name": "LayoutModel",
      "state": {
       "margin": "30px 0px 0px 0px"
      }
     },
     "e3d7b43ad66645819c04237e1ad906e1": {
      "model_module": "@jupyter-widgets/base",
      "model_module_version": "1.1.0",
      "model_name": "LayoutModel",
      "state": {
       "width": "900px"
      }
     },
     "e3e09bdcbaaa46c88d2c23df8eaa946a": {
      "model_module": "@jupyter-widgets/base",
      "model_module_version": "1.1.0",
      "model_name": "LayoutModel",
      "state": {
       "width": "270px"
      }
     },
     "e41f4a9c6d3f4775bf19622aa4ab8ba5": {
      "model_module": "@jupyter-widgets/controls",
      "model_module_version": "1.3.0",
      "model_name": "DescriptionStyleModel",
      "state": {
       "description_width": "initial"
      }
     },
     "e4c63db188624164bc6a51e76f6fbbf4": {
      "model_module": "@jupyter-widgets/base",
      "model_module_version": "1.1.0",
      "model_name": "LayoutModel",
      "state": {
       "width": "900px"
      }
     },
     "e5750c2ccca04e4a912feaabf32ff622": {
      "model_module": "@jupyter-widgets/base",
      "model_module_version": "1.1.0",
      "model_name": "LayoutModel",
      "state": {
       "justify_content": "space-around"
      }
     },
     "e6a06381331a4dc19233514360e8e00c": {
      "model_module": "@jupyter-widgets/controls",
      "model_module_version": "1.3.0",
      "model_name": "TextModel",
      "state": {
       "description": "Set r:",
       "layout": "IPY_MODEL_5aaf9b77e54a4ea5a170ee55519f0d76",
       "style": "IPY_MODEL_6f61f405f5f047ef84e55b6852c7b543",
       "value": "10"
      }
     },
     "e73a609a361048019c8848d501fe516e": {
      "model_module": "@jupyter-widgets/controls",
      "model_module_version": "1.3.0",
      "model_name": "FloatProgressModel",
      "state": {
       "bar_style": "info",
       "description": "Number of nets explored:",
       "layout": "IPY_MODEL_9c548d5c10a14f91a118fbbd277026aa",
       "max": 1,
       "style": "IPY_MODEL_fbfd73967f204ad49ac64c027fb4c5a6"
      }
     },
     "e7c3b90b7951442f85fb124f42be3d93": {
      "model_module": "@jupyter-widgets/base",
      "model_module_version": "1.1.0",
      "model_name": "LayoutModel",
      "state": {}
     },
     "e801588c354249c6b173a7c9393a860c": {
      "model_module": "@jupyter-widgets/base",
      "model_module_version": "1.1.0",
      "model_name": "LayoutModel",
      "state": {}
     },
     "e86e29d980854c16bb9afa0328597d39": {
      "model_module": "@jupyter-widgets/base",
      "model_module_version": "1.1.0",
      "model_name": "LayoutModel",
      "state": {
       "display": "flex"
      }
     },
     "e8ad6ef4c60e40638e61be1e40e89d12": {
      "model_module": "@jupyter-widgets/controls",
      "model_module_version": "1.3.0",
      "model_name": "ButtonStyleModel",
      "state": {}
     },
     "e8c5b40ce1fc4f628f0dbe3395e76b8c": {
      "model_module": "@jupyter-widgets/controls",
      "model_module_version": "1.3.0",
      "model_name": "DescriptionStyleModel",
      "state": {
       "description_width": ""
      }
     },
     "e8dd5fa214f440828a2ce579d3da6ac1": {
      "model_module": "@jupyter-widgets/controls",
      "model_module_version": "1.3.0",
      "model_name": "DescriptionStyleModel",
      "state": {
       "description_width": "initial"
      }
     },
     "e8edc114fd4d4a808b82567f11ef8521": {
      "model_module": "@jupyter-widgets/base",
      "model_module_version": "1.1.0",
      "model_name": "LayoutModel",
      "state": {}
     },
     "eab792943359432eb50901f1fbece53a": {
      "model_module": "@jupyter-widgets/controls",
      "model_module_version": "1.3.0",
      "model_name": "ToggleButtonsModel",
      "state": {
       "_options_labels": [
        "Evaluate/Extend",
        "All space",
        "Korobov",
        "CBC",
        "Fast CBC"
       ],
       "button_style": "",
       "description": "Choose one:",
       "icons": [],
       "index": 4,
       "layout": "IPY_MODEL_196bc056a4dc4c759e7d07c5fcf4ede2",
       "style": "IPY_MODEL_072bb9d859b9453fb9a1e6d706eff235",
       "tooltips": []
      }
     },
     "eb305a1090c34bbc9ed03eb80b852a2b": {
      "model_module": "@jupyter-widgets/base",
      "model_module_version": "1.1.0",
      "model_name": "LayoutModel",
      "state": {
       "justify_content": "space-between"
      }
     },
     "eccd221904f6408b8829bb5af7f81399": {
      "model_module": "@jupyter-widgets/base",
      "model_module_version": "1.1.0",
      "model_name": "LayoutModel",
      "state": {
       "width": "270px"
      }
     },
     "ed97cf44d75f48eba0c99b95598d460c": {
      "model_module": "@jupyter-widgets/controls",
      "model_module_version": "1.3.0",
      "model_name": "DescriptionStyleModel",
      "state": {
       "description_width": "initial"
      }
     },
     "eef569ee6b3a4cc683ce1b5887a55def": {
      "model_module": "@jupyter-widgets/controls",
      "model_module_version": "1.3.0",
      "model_name": "BoundedIntTextModel",
      "state": {
       "description": "Minimal random dimension:",
       "disabled": true,
       "layout": "IPY_MODEL_345a033905904066806efddb563dc5d0",
       "min": 1,
       "style": "IPY_MODEL_505c44ee73634bb1acfa909909a4a443",
       "value": 1
      }
     },
     "efe561933ff54288b3b9c9adb4627a88": {
      "model_module": "@jupyter-widgets/base",
      "model_module_version": "1.1.0",
      "model_name": "LayoutModel",
      "state": {}
     },
     "f00ed3eeb66a4e64a532f3df13c15203": {
      "model_module": "@jupyter-widgets/base",
      "model_module_version": "1.1.0",
      "model_name": "LayoutModel",
      "state": {
       "width": "90%"
      }
     },
     "f03f3f6361e04e39aeee65d02a0589ad": {
      "model_module": "@jupyter-widgets/base",
      "model_module_version": "1.1.0",
      "model_name": "LayoutModel",
      "state": {
       "justify_content": "space-around"
      }
     },
     "f0f48f1d7924473b91b2987e349790ef": {
      "model_module": "@jupyter-widgets/base",
      "model_module_version": "1.1.0",
      "model_name": "LayoutModel",
      "state": {
       "width": "24%"
      }
     },
     "f0fe814c772f4ae68d7f598b526cd7b8": {
      "model_module": "@jupyter-widgets/controls",
      "model_module_version": "1.3.0",
      "model_name": "ButtonStyleModel",
      "state": {}
     },
     "f15535f5f99448f5acf05473dc77dcd1": {
      "model_module": "@jupyter-widgets/controls",
      "model_module_version": "1.3.0",
      "model_name": "DescriptionStyleModel",
      "state": {
       "description_width": ""
      }
     },
     "f19e7765b0f9497d9cac01ec0d4e9769": {
      "model_module": "@jupyter-widgets/controls",
      "model_module_version": "1.3.0",
      "model_name": "DescriptionStyleModel",
      "state": {
       "description_width": ""
      }
     },
     "f2bdd19dbaf446a7bd08f1971b6b7e27": {
      "model_module": "@jupyter-widgets/base",
      "model_module_version": "1.1.0",
      "model_name": "LayoutModel",
      "state": {
       "display": "none",
       "width": "15%"
      }
     },
     "f504574e0a3a47bfaad03b0278b3741c": {
      "model_module": "@jupyter-widgets/controls",
      "model_module_version": "1.3.0",
      "model_name": "ButtonStyleModel",
      "state": {}
     },
     "f5e1b40e304340dda806b98d7097abe9": {
      "model_module": "@jupyter-widgets/controls",
      "model_module_version": "1.3.0",
      "model_name": "TextareaModel",
      "state": {
       "layout": "IPY_MODEL_5ead6a0b8f99463d877ca7b014d512b3",
       "placeholder": "0\n1\n1,1\n1,3,5",
       "style": "IPY_MODEL_bb9ff8dda10c4e2d81c5201837feb645"
      }
     },
     "f5e7d60527124c19b11b861b82512217": {
      "model_module": "@jupyter-widgets/controls",
      "model_module_version": "1.3.0",
      "model_name": "TextModel",
      "state": {
       "description": "If you want to extend, please specify the former modulus:",
       "layout": "IPY_MODEL_862a13b20cc54fe393fc40c8bbebdc61",
       "placeholder": "e.g. 2^8 or 256",
       "style": "IPY_MODEL_30462de3c273419598cbf76de0d19ef1"
      }
     },
     "f5fdb654ad55418a84b9bb1fb68bfe88": {
      "model_module": "@jupyter-widgets/controls",
      "model_module_version": "1.3.0",
      "model_name": "DescriptionStyleModel",
      "state": {
       "description_width": "initial"
      }
     },
     "f64ab005731a40b6bce0eef0fb452939": {
      "model_module": "@jupyter-widgets/controls",
      "model_module_version": "1.3.0",
      "model_name": "DescriptionStyleModel",
      "state": {
       "description_width": ""
      }
     },
     "f6d5cf0b500845869d7cd7d48de7fb18": {
      "model_module": "@jupyter-widgets/base",
      "model_module_version": "1.1.0",
      "model_name": "LayoutModel",
      "state": {
       "display": "none"
      }
     },
     "f6dbdbe11f1a4ac2bdb1e779a58efbf4": {
      "model_module": "@jupyter-widgets/controls",
      "model_module_version": "1.3.0",
      "model_name": "ButtonModel",
      "state": {
       "description": "Remove",
       "layout": "IPY_MODEL_6bc2bd2022844c90b4374604c649f4d9",
       "style": "IPY_MODEL_f504574e0a3a47bfaad03b0278b3741c",
       "tooltip": "Remove this type of weights"
      }
     },
     "f6ecf9694a93454faa00f45179e21c8c": {
      "model_module": "@jupyter-widgets/base",
      "model_module_version": "1.1.0",
      "model_name": "LayoutModel",
      "state": {
       "width": "500px"
      }
     },
     "f7c4ac57db4e4f789fe5b42c73b82e4f": {
      "model_module": "@jupyter-widgets/controls",
      "model_module_version": "1.3.0",
      "model_name": "VBoxModel",
      "state": {
       "children": [
        "IPY_MODEL_8a4cb8bcd2d3415d974cd1cfe122def5",
        "IPY_MODEL_47873e9bdbbd443ea516f4dd81ef6f08"
       ],
       "layout": "IPY_MODEL_5a3103b77f2547e58f1bf8492f4b43f3"
      }
     },
     "f873ad8341a7491fa58e1eaa988e1a32": {
      "model_module": "@jupyter-widgets/controls",
      "model_module_version": "1.3.0",
      "model_name": "AccordionModel",
      "state": {
       "_titles": {
        "0": "Figure of Merit"
       },
       "children": [
        "IPY_MODEL_763d550881f044d3b343b5f39e23475b"
       ],
       "layout": "IPY_MODEL_7fcec8a396d94524b13574ad38738a5a"
      }
     },
     "f88f1df43b544cf0b3fefb73e37cac6b": {
      "model_module": "@jupyter-widgets/controls",
      "model_module_version": "1.3.0",
      "model_name": "DescriptionStyleModel",
      "state": {
       "description_width": "initial"
      }
     },
     "f8de0847d3ef4f398e08b1e071c5a10e": {
      "model_module": "@jupyter-widgets/base",
      "model_module_version": "1.1.0",
      "model_name": "LayoutModel",
      "state": {}
     },
     "f8effb670604427d9e4826836ede232e": {
      "model_module": "@jupyter-widgets/base",
      "model_module_version": "1.1.0",
      "model_name": "LayoutModel",
      "state": {
       "display": "none"
      }
     },
     "f999f1199dc148dd930ab4b0d468d037": {
      "model_module": "@jupyter-widgets/base",
      "model_module_version": "1.1.0",
      "model_name": "LayoutModel",
      "state": {
       "display": "none"
      }
     },
     "fa3101a872194170a8270e3550ab2e24": {
      "model_module": "@jupyter-widgets/base",
      "model_module_version": "1.1.0",
      "model_name": "LayoutModel",
      "state": {}
     },
     "fa6d5e058de64fb1823fecece02f59e0": {
      "model_module": "@jupyter-widgets/base",
      "model_module_version": "1.1.0",
      "model_name": "LayoutModel",
      "state": {
       "width": "100px"
      }
     },
     "fb0728345a9549688f32033c841ac9c5": {
      "model_module": "@jupyter-widgets/controls",
      "model_module_version": "1.3.0",
      "model_name": "VBoxModel",
      "state": {
       "children": [
        "IPY_MODEL_c192a1dc6d17420d963a63c73b09a132",
        "IPY_MODEL_7bfe590295d04dedb53f353737ad980f"
       ],
       "layout": "IPY_MODEL_9fd2c01829344a5f9351a0904565c5fc"
      }
     },
     "fb34df9c60ed427c80806d6d92e5d21a": {
      "model_module": "@jupyter-widgets/controls",
      "model_module_version": "1.3.0",
      "model_name": "DescriptionStyleModel",
      "state": {
       "description_width": ""
      }
     },
     "fb65f658f2644c00b3d0d64d51984029": {
      "model_module": "@jupyter-widgets/base",
      "model_module_version": "1.1.0",
      "model_name": "LayoutModel",
      "state": {
       "display": "none"
      }
     },
     "fbc9a37b479c4f42a6cbe602b5591be5": {
      "model_module": "@jupyter-widgets/controls",
      "model_module_version": "1.3.0",
      "model_name": "TabModel",
      "state": {
       "_titles": {
        "0": "Ordinary Lattice",
        "1": "Digital Net"
       },
       "children": [
        "IPY_MODEL_ffc4ec87fb8c49289eece6921ff0e3be",
        "IPY_MODEL_ffc4ec87fb8c49289eece6921ff0e3be"
       ],
       "layout": "IPY_MODEL_6b3c9e820bde447bb2e7d05cc842a177"
      }
     },
     "fbf1815198b6484abb3cf38e07df0e90": {
      "model_module": "@jupyter-widgets/controls",
      "model_module_version": "1.3.0",
      "model_name": "ButtonModel",
      "state": {
       "description": "Construct command line",
       "layout": "IPY_MODEL_1bfc225661af4c089e10812db10f1795",
       "style": "IPY_MODEL_abb08c022f9f401db2162c4741ab085b"
      }
     },
     "fbfd73967f204ad49ac64c027fb4c5a6": {
      "model_module": "@jupyter-widgets/controls",
      "model_module_version": "1.3.0",
      "model_name": "ProgressStyleModel",
      "state": {
       "description_width": "initial"
      }
     },
     "fc18702bef3e45a6a6adb9ab1d002065": {
      "model_module": "@jupyter-widgets/controls",
      "model_module_version": "1.3.0",
      "model_name": "DescriptionStyleModel",
      "state": {
       "description_width": ""
      }
     },
     "fc6ee3a8d9cc4d0b85559d02f98bc434": {
      "model_module": "@jupyter-widgets/controls",
      "model_module_version": "1.3.0",
      "model_name": "TextModel",
      "state": {
       "layout": "IPY_MODEL_fa6d5e058de64fb1823fecece02f59e0",
       "style": "IPY_MODEL_6d92bddaa946435daf6e1324048e6c1e",
       "value": "1"
      }
     },
     "fc9257379eba4888b43505dde9d8d67c": {
      "model_module": "@jupyter-widgets/controls",
      "model_module_version": "1.3.0",
      "model_name": "DescriptionStyleModel",
      "state": {
       "description_width": "initial"
      }
     },
     "fc9f041212154ff0b8b389dcd1249659": {
      "model_module": "@jupyter-widgets/controls",
      "model_module_version": "1.3.0",
      "model_name": "HTMLMathModel",
      "state": {
       "layout": "IPY_MODEL_66b41bd4fa5848b9933c5beac524c509",
       "style": "IPY_MODEL_3b61a60bfeb04753b95097e6c9ace479",
       "value": "The weights are of the form: \\(\\gamma_u^q (u \\subseteq \\{1, ... s\\})\\). You can specify below type of weights with their values (the actual weights are the sum of these).See <a href=\"https://github.com/PierreMarion23/latbuilder/tree/dev/web-ui/weights_guidelines.md\" target=\"_blank\">this GitHub page</a> for guidelines on the choice of weights."
      }
     },
     "fd917ad8ffb34a04a28e3b8f2b85c95c": {
      "model_module": "@jupyter-widgets/output",
      "model_module_version": "1.0.0",
      "model_name": "OutputModel",
      "state": {
       "layout": "IPY_MODEL_8a54a9b384c24d08a047ecef3230ce5a",
       "outputs": [
        {
         "data": {
          "image/png": "iVBORw0KGgoAAAANSUhEUgAAAesAAAHWCAYAAABXF6HSAAAABHNCSVQICAgIfAhkiAAAAAlwSFlz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\ngg==\n",
          "text/plain": "<matplotlib.figure.Figure at 0x7f8ff6b14eb8>"
         },
         "metadata": {},
         "output_type": "display_data"
        }
       ]
      }
     },
     "fdf31850a6f74cc68eea4882ba87bdde": {
      "model_module": "@jupyter-widgets/controls",
      "model_module_version": "1.3.0",
      "model_name": "HTMLMathModel",
      "state": {
       "layout": "IPY_MODEL_43cb0f84f23240a0b0ac75d517f074ed",
       "style": "IPY_MODEL_655e11e2eaec4a4ba15c921da01651fa",
       "value": "<p> The nets follow the Sobol construction, and the direction numbers are optimized. The first matrix is always the same (reversed identity), so the first direction number is arbitrarly set to 0.</p>"
      }
     },
     "fec4a81e85e9490ca694d6058a814fa7": {
      "model_module": "@jupyter-widgets/controls",
      "model_module_version": "1.3.0",
      "model_name": "HBoxModel",
      "state": {
       "children": [
        "IPY_MODEL_be1a2006b30b4b6cbd2ca9869838727a",
        "IPY_MODEL_e6a06381331a4dc19233514360e8e00c"
       ],
       "layout": "IPY_MODEL_da7a92c0058d4921b44432f40b2b8cbd"
      }
     },
     "ff6396de3d874b169911f91e4e2e0aa3": {
      "model_module": "@jupyter-widgets/controls",
      "model_module_version": "1.3.0",
      "model_name": "DescriptionStyleModel",
      "state": {
       "description_width": "initial"
      }
     },
     "ffc4ec87fb8c49289eece6921ff0e3be": {
      "model_module": "@jupyter-widgets/controls",
      "model_module_version": "1.3.0",
      "model_name": "VBoxModel",
      "state": {
       "children": [
        "IPY_MODEL_76c52881e750430ca0b34ab939c6b799",
        "IPY_MODEL_3b64fb9ba63541bc97f04a81d4c0515d",
        "IPY_MODEL_5eda8779a5e74588994df2cc37fbf384",
        "IPY_MODEL_016a8e68366c44abb8cb69a3afadebe5",
        "IPY_MODEL_abf93f22549341c9aa1f02a141b7e6bb",
        "IPY_MODEL_605979e520914a1fba03c995617f95a4",
        "IPY_MODEL_62f5d8ee637f4fe4b4f86cb1f3d8b9ee",
        "IPY_MODEL_6fac326cabf74522a237fb14557f5587",
        "IPY_MODEL_418b91f0916b4c67a787d6157fd2d893",
        "IPY_MODEL_57ebd26b32344ee2adc4c6d07ee0afe0",
        "IPY_MODEL_e73a609a361048019c8848d501fe516e",
        "IPY_MODEL_3f818fb5316e414993508e8bd8338c00",
        "IPY_MODEL_4d0664dda9cb44f38b72648327e5df22"
       ],
       "layout": "IPY_MODEL_bd0cf813a30a4db6b661b482da42c6de"
      }
     }
    },
    "version_major": 2,
    "version_minor": 0
   }
  }
 },
 "nbformat": 4,
 "nbformat_minor": 2
}
