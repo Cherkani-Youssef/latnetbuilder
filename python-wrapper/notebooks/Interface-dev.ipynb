{
 "cells": [
  {
   "cell_type": "markdown",
   "metadata": {},
   "source": [
    "# Lattice Builder\n",
    "\n",
    "### Search for good rank-1 lattices\n",
    "\n",
    "This Web interface allows Lattice Builder users to call the executable program without having to construct the command line explicitly. Refer to the Lattice Builder Manual and to the reference paper for more information.\n",
    "\n",
    "Enter the construction parameters below, and press the Search button at the bottom. The results will show at the bottom. \n",
    "\n",
    "## Search criteria :"
   ]
  },
  {
   "cell_type": "code",
   "execution_count": 1,
   "metadata": {
    "collapsed": true
   },
   "outputs": [],
   "source": [
    "import warnings\n",
    "warnings.simplefilter('ignore')"
   ]
  },
  {
   "cell_type": "code",
   "execution_count": 2,
   "metadata": {
    "collapsed": true
   },
   "outputs": [],
   "source": [
    "import sys\n",
    "sys.path.insert(1, '../')\n",
    "#sys.stderr = open('stderr.txt', 'w')\n",
    "#sys.stdout = open('stdout.txt', 'w')"
   ]
  },
  {
   "cell_type": "code",
   "execution_count": 3,
   "metadata": {},
   "outputs": [],
   "source": [
    "import latnetbuilder"
   ]
  },
  {
   "cell_type": "code",
   "execution_count": 4,
   "metadata": {},
   "outputs": [],
   "source": [
    "latnetbuilder.LATBUILDER = '$HOME/Documents/Stage_3A/latsoft/bin/latnet'"
   ]
  },
  {
   "cell_type": "code",
   "execution_count": 5,
   "metadata": {
    "scrolled": false
   },
   "outputs": [
    {
     "data": {
      "application/vnd.jupyter.widget-view+json": {
       "model_id": "0e5d8d3dea094f70be3e877df313763c",
       "version_major": 2,
       "version_minor": 0
      },
      "text/html": [
       "<p>Failed to display Jupyter Widget of type <code>Tab</code>.</p>\n",
       "<p>\n",
       "  If you're reading this message in the Jupyter Notebook or JupyterLab Notebook, it may mean\n",
       "  that the widgets JavaScript is still loading. If this message persists, it\n",
       "  likely means that the widgets JavaScript library is either not installed or\n",
       "  not enabled. See the <a href=\"https://ipywidgets.readthedocs.io/en/stable/user_install.html\">Jupyter\n",
       "  Widgets Documentation</a> for setup instructions.\n",
       "</p>\n",
       "<p>\n",
       "  If you're reading this message in another frontend (for example, a static\n",
       "  rendering on GitHub or <a href=\"https://nbviewer.jupyter.org/\">NBViewer</a>),\n",
       "  it may mean that your frontend doesn't currently support widgets.\n",
       "</p>\n"
      ],
      "text/plain": [
       "Tab(children=(VBox(children=(Accordion(children=(VBox(children=(ToggleButtons(description='Choose one:', options=(('Ordinary', 'ordinary'), ('Polynomial', 'polynomial')), style=ToggleButtonsStyle(description_width='initial'), value='ordinary'), HTMLMath(value='TBC'))),), _titles={'0': 'Lattice Type'}), Accordion(children=(VBox(children=(ToggleButtons(description='Choose one:', options=(('Sobol', 'sobol'), ('Polynomial', 'polynomial'), ('Explicit', 'explicit')), style=ToggleButtonsStyle(description_width='initial'), value='sobol'), HTMLMath(value='<p> The nets follow the Sobol construction, and the software optimizes the direction numbers according to the figure of merit. The first matrix is always the same (reversed identity), so the first direction number is arbitrarly set to 0.</p>    <p style=\"color:red\"> Warning: Sobol construction associated with CBC exploration method and a Kernel figure of merit (\\\\(P_\\\\alpha\\\\) or R) does not make sense. </p>'), VBox(children=(Text(value='', description='Modulus n=', layout=Layout(width='400px'), placeholder='e.g. 01^10 or 00000000001', style=DescriptionStyle(description_width='initial')), Label(value='')), layout=Layout(display='none')))),), layout=Layout(display='none'), _titles={'0': 'Construction Method'}), Accordion(children=(HBox(children=(VBox(children=(Text(value='', description='Modulus n=', layout=Layout(width='95%'), placeholder='e.g. 2^10 or 1024', style=DescriptionStyle(description_width='initial')), Label(value='', layout=Layout(display='none'))), layout=Layout(width='50%')), Checkbox(value=False, description='Embedded'), BoundedIntText(value=3, description='Dimension s:', layout=Layout(width='20%'), min=1, style=DescriptionStyle(description_width='initial')))),), _titles={'0': 'Basic Lattice properties'}), Accordion(children=(VBox(children=(HBox(children=(Checkbox(value=False, description='Normalization', style=DescriptionStyle(description_width='initial')), Checkbox(value=False, description='Low-Pass Filter', style=DescriptionStyle(description_width='initial')), Checkbox(value=False, description='Combiner', style=DescriptionStyle(description_width='initial')))), VBox(children=(HBox(children=(Dropdown(description='Normalization Type:', layout=Layout(width='30%'), options=('SL10 Palpha', 'DPW08 Palpha'), style=DescriptionStyle(description_width='initial'), value='SL10 Palpha'), HTML(value='<span style=\"color:red\"> Warning: SL10 Palpha and DPW08 Palpha only work with Palpha figure of merit.</span>                                        <br><span style=\"color:red\"> DPW08 only works for product weights.</span>'))), HBox(children=(Text(value='', description='Min Level (optional):', layout=Layout(margin='0px 10px 0px 0px', width='22%'), placeholder='1', style=DescriptionStyle(description_width='initial')), Text(value='', description='Max Level (optional):', layout=Layout(width='22%'), placeholder='10', style=DescriptionStyle(description_width='initial'))), layout=Layout(margin='0px 0px 0px 80px'))), layout=Layout(display='none')), Text(value='1', description='Low-Pass Threshold', layout=Layout(display='none', width='25%'), style=DescriptionStyle(description_width='initial')), HBox(children=(Dropdown(description='Combiner:', options=(('weighted sum', 'sum'), ('maximum weighted value', 'max'), ('weighted value of the highest level', 'level:max'), ('weighted value of a specific level', 'level:')), style=DescriptionStyle(description_width='initial'), value='sum'), BoundedIntText(value=1, description='Level:', layout=Layout(display='none', width='15%'), min=1)), layout=Layout(display='none')))),), layout=Layout(display='none'), _titles={'0': 'For Multilevel Point Sets: Multilevel Filters and Combiners'}), Accordion(children=(VBox(children=(ToggleButtons(description='Choose one:', index=3, options=(('Evaluate/Extend', 'explicit:'), ('All space', 'exhaustive'), ('Korobov', 'Korobov'), ('CBC', 'CBC'), ('Fast CBC', 'fast-CBC')), style=ToggleButtonsStyle(description_width='initial'), value='CBC'), HBox(children=(HTMLMath(value='<p> All possible values of the components \\\\(a_j\\\\) of the generating vector \\\\(a=(a_1,…,a_s)\\\\) are examined the best ones are selected, one coordinate at a time. </p>    <p> If you tick \"random choice r of points\", a number r of randomly selected selected values for each component \\\\(a_j\\\\) will be examined instead of all possibilities.</p>'), Button(description='Evaluate from previous search', layout=Layout(display='none', margin='40px 0px 0px 0px', width='200px'), style=ButtonStyle())), layout=Layout(justify_content='space-around')), HBox(children=(Label(value='Generating vector:'), Text(value='1', layout=Layout(width='10%'), style=DescriptionStyle(description_width='initial')), Text(value='1', layout=Layout(width='10%'), style=DescriptionStyle(description_width='initial')), Text(value='1', layout=Layout(width='10%'), style=DescriptionStyle(description_width='initial'))), layout=Layout(display='none')), VBox(children=(HBox(children=(Label(value='Generating vector:'), Text(value='1', layout=Layout(width='10%'), style=DescriptionStyle(description_width='initial')), Text(value='1', layout=Layout(width='10%'), style=DescriptionStyle(description_width='initial')), Text(value='1', layout=Layout(width='10%'), style=DescriptionStyle(description_width='initial')))), Text(value='', description='If you want to extend, please specify the former modulus:', layout=Layout(width='65%'), placeholder='e.g. 2^8 or 256', style=DescriptionStyle(description_width='initial'))), layout=Layout(display='none')), Textarea(value='', layout=Layout(display='none', height='150px', width='inherit'), placeholder='1 0 0\\n0 1 0\\n0 0 1\\n\\n1 1 0\\n1 0 1\\n0 1 1'), HBox(children=(Checkbox(value=False, description='Random choice of r points'), Text(value='10', description='Set r:', layout=Layout(display='none')))), BoundedIntText(value=1, description='Minimal random dimension:', disabled=True, layout=Layout(display='none', margin='0px 0px 0px 80px', width='250px'), min=1, style=DescriptionStyle(description_width='initial')), VBox(children=(Button(description='Joe and Kuo direction numbers', layout=Layout(width='270px'), style=ButtonStyle()), Textarea(value='', layout=Layout(height='150px', width='inherit'), placeholder='0\\n1\\n1,1\\n1,3,5')), layout=Layout(display='none')))),), _titles={'0': 'Exploration Method'}), Accordion(children=(VBox(children=(HTMLMath(value='<p> Please note that: </p>                         <ul>                            <li> The Coordinate-Uniform method is generally faster, but requires q = 2 </li>                             <li> The Spectral figure cannot be be evaluated by the Coordinate-Uniform method </li>                             <li> The \\\\(P_\\\\alpha \\\\) method requires \\\\( \\\\alpha \\\\in \\\\{ 2, 4, 6 \\\\} \\\\) </li>                         </ul>'), HBox(children=(Dropdown(description='Figure:', layout=Layout(width='20%'), options=('Palpha', 'Ralpha', 'Spectral'), style=DescriptionStyle(description_width='initial'), value='Palpha'), Text(value='2', description='Value of \\\\(\\\\alpha\\\\):', layout=Layout(width='15%'), style=DescriptionStyle(description_width='initial')), Checkbox(value=True, description='Coordinate-Uniform evaluation', style=DescriptionStyle(description_width='initial')), Text(value='2', description='Norm type q > 0 or q = \"inf\":', disabled=True, layout=Layout(width='24%'), style=DescriptionStyle(description_width='initial'))), layout=Layout(justify_content='space-between')))),), _titles={'0': 'Figure of Merit'}), Accordion(children=(VBox(children=(HTMLMath(value='The weights are of the form: \\\\(\\\\gamma_u^q (u \\\\subseteq \\\\{1, ... s\\\\})\\\\). You can specify below type of weights with their values (the actual weights are the sum of these).See <a href=\"https://github.com/PierreMarion23/latbuilder/tree/dev/web-ui/weights_guidelines.md\" target=\"_blank\">this GitHub page</a> for guidelines on the choice of weights.', layout=Layout(width='inherit')), Dropdown(description='<b> Add new weights: </b>', options=(('Select type of weights', 'None'), ('Product', 'product:'), ('Order-Dependent', 'order-dependent:'), ('POD', 'POD'), ('Projection-Dependent', 'projection-dependent')), style=DescriptionStyle(description_width='initial'), value='None'), VBox(children=(VBox(children=(HBox(children=(HTML(value='<b> Order-Dependent Weights </b>'), Label(value='$$\\\\gamma_u=\\\\Gamma_{|u|}$$', layout=Layout(height='50px', width='100px')), Button(description='Remove', style=ButtonStyle(), tooltip='Remove this type of weights')), layout=Layout(justify_content='space-around')), VBox(children=(HBox(children=(HTMLMath(value='Set Order Weights \\\\( \\\\Gamma_k^q \\\\):', layout=Layout(width='170px')), HBox(children=(Text(value='0.8', layout=Layout(width='50px')), Text(value='0.64', layout=Layout(width='50px')), Text(value='0.512', layout=Layout(width='50px')))))), Text(value='', description='OR set all at once with (valid Python) expression: \\\\( \\\\Gamma_k^q \\\\) =', layout=Layout(margin='0px 0px 0px 80px', width='550px'), placeholder='0.8^k * (k <= 3)', style=DescriptionStyle(description_width='initial'))))), layout=Layout(margin='30px 0px 0px 0px')),)))),), _titles={'0': 'Weights'}), Accordion(children=(VBox(children=(HBox(children=(Checkbox(value=False, description='Normalization', style=DescriptionStyle(description_width='initial')), Checkbox(value=False, description='Low-Pass Filter', style=DescriptionStyle(description_width='initial')), Checkbox(value=False, description='k-bits Equidistribution', layout=Layout(display='none'), style=DescriptionStyle(description_width='initial'))), layout=Layout(justify_content='space-around')), HBox(children=(Dropdown(description='Normalization Type:', layout=Layout(width='30%'), options=('SL10 Palpha', 'DPW08 Palpha'), style=DescriptionStyle(description_width='initial'), value='SL10 Palpha'), HTML(value='<span style=\"color:red\"> Warning: SL10 Palpha and DPW08 Palpha only work with Palpha figure of merit.</span>                                        <br><span style=\"color:red\"> DPW08 only works for product weights.</span>')), layout=Layout(display='none')), Text(value='1', description='Low-Pass Threshold', layout=Layout(display='none', width='25%'), style=DescriptionStyle(description_width='initial')), HBox(children=(BoundedIntText(value=1, description='k-bits Equidistribution - set k:', layout=Layout(width='230px'), min=1, style=DescriptionStyle(description_width='initial')), Text(value='inf', description=\"Set weight w>0 or 'inf':\", layout=Layout(width='200px'), style=DescriptionStyle(description_width='initial'))), layout=Layout(display='none', justify_content='space-around')))),), selected_index=None, _titles={'0': 'Filters (optional)'}), HBox(children=(Button(description='Search', style=ButtonStyle()), ToggleButton(value=False, button_style='warning', description='Abort search', disabled=True), Button(description='Construct command line', layout=Layout(width='200px'), style=ButtonStyle())), layout=Layout(margin='30px 0px 0px 0px')), HTML(value='', description='<b> Command line: </b>', layout=Layout(width='900px'), style=DescriptionStyle(description_width='initial')), FloatProgress(value=0.0, bar_style='info', description='Number of dim explored:', layout=Layout(display='none'), max=1.0, style=ProgressStyle(description_width='initial')), FloatProgress(value=0.0, bar_style='info', description='Number of nets explored:', layout=Layout(display='none'), max=1.0, style=ProgressStyle(description_width='initial')), HTML(value='', description='<b> Result: </b>', layout=Layout(width='900px')), Tab(layout=Layout(display='none')))), VBox(children=(Accordion(children=(VBox(children=(ToggleButtons(description='Choose one:', options=(('Ordinary', 'ordinary'), ('Polynomial', 'polynomial')), style=ToggleButtonsStyle(description_width='initial'), value='ordinary'), HTMLMath(value='TBC'))),), _titles={'0': 'Lattice Type'}), Accordion(children=(VBox(children=(ToggleButtons(description='Choose one:', options=(('Sobol', 'sobol'), ('Polynomial', 'polynomial'), ('Explicit', 'explicit')), style=ToggleButtonsStyle(description_width='initial'), value='sobol'), HTMLMath(value='<p> The nets follow the Sobol construction, and the software optimizes the direction numbers according to the figure of merit. The first matrix is always the same (reversed identity), so the first direction number is arbitrarly set to 0.</p>    <p style=\"color:red\"> Warning: Sobol construction associated with CBC exploration method and a Kernel figure of merit (\\\\(P_\\\\alpha\\\\) or R) does not make sense. </p>'), VBox(children=(Text(value='', description='Modulus n=', layout=Layout(width='400px'), placeholder='e.g. 01^10 or 00000000001', style=DescriptionStyle(description_width='initial')), Label(value='')), layout=Layout(display='none')))),), layout=Layout(display='none'), _titles={'0': 'Construction Method'}), Accordion(children=(HBox(children=(VBox(children=(Text(value='', description='Modulus n=', layout=Layout(width='95%'), placeholder='e.g. 2^10 or 1024', style=DescriptionStyle(description_width='initial')), Label(value='', layout=Layout(display='none'))), layout=Layout(width='50%')), Checkbox(value=False, description='Embedded'), BoundedIntText(value=3, description='Dimension s:', layout=Layout(width='20%'), min=1, style=DescriptionStyle(description_width='initial')))),), _titles={'0': 'Basic Lattice properties'}), Accordion(children=(VBox(children=(HBox(children=(Checkbox(value=False, description='Normalization', style=DescriptionStyle(description_width='initial')), Checkbox(value=False, description='Low-Pass Filter', style=DescriptionStyle(description_width='initial')), Checkbox(value=False, description='Combiner', style=DescriptionStyle(description_width='initial')))), VBox(children=(HBox(children=(Dropdown(description='Normalization Type:', layout=Layout(width='30%'), options=('SL10 Palpha', 'DPW08 Palpha'), style=DescriptionStyle(description_width='initial'), value='SL10 Palpha'), HTML(value='<span style=\"color:red\"> Warning: SL10 Palpha and DPW08 Palpha only work with Palpha figure of merit.</span>                                        <br><span style=\"color:red\"> DPW08 only works for product weights.</span>'))), HBox(children=(Text(value='', description='Min Level (optional):', layout=Layout(margin='0px 10px 0px 0px', width='22%'), placeholder='1', style=DescriptionStyle(description_width='initial')), Text(value='', description='Max Level (optional):', layout=Layout(width='22%'), placeholder='10', style=DescriptionStyle(description_width='initial'))), layout=Layout(margin='0px 0px 0px 80px'))), layout=Layout(display='none')), Text(value='1', description='Low-Pass Threshold', layout=Layout(display='none', width='25%'), style=DescriptionStyle(description_width='initial')), HBox(children=(Dropdown(description='Combiner:', options=(('weighted sum', 'sum'), ('maximum weighted value', 'max'), ('weighted value of the highest level', 'level:max'), ('weighted value of a specific level', 'level:')), style=DescriptionStyle(description_width='initial'), value='sum'), BoundedIntText(value=1, description='Level:', layout=Layout(display='none', width='15%'), min=1)), layout=Layout(display='none')))),), layout=Layout(display='none'), _titles={'0': 'For Multilevel Point Sets: Multilevel Filters and Combiners'}), Accordion(children=(VBox(children=(ToggleButtons(description='Choose one:', index=3, options=(('Evaluate/Extend', 'explicit:'), ('All space', 'exhaustive'), ('Korobov', 'Korobov'), ('CBC', 'CBC'), ('Fast CBC', 'fast-CBC')), style=ToggleButtonsStyle(description_width='initial'), value='CBC'), HBox(children=(HTMLMath(value='<p> All possible values of the components \\\\(a_j\\\\) of the generating vector \\\\(a=(a_1,…,a_s)\\\\) are examined the best ones are selected, one coordinate at a time. </p>    <p> If you tick \"random choice r of points\", a number r of randomly selected selected values for each component \\\\(a_j\\\\) will be examined instead of all possibilities.</p>'), Button(description='Evaluate from previous search', layout=Layout(display='none', margin='40px 0px 0px 0px', width='200px'), style=ButtonStyle())), layout=Layout(justify_content='space-around')), HBox(children=(Label(value='Generating vector:'), Text(value='1', layout=Layout(width='10%'), style=DescriptionStyle(description_width='initial')), Text(value='1', layout=Layout(width='10%'), style=DescriptionStyle(description_width='initial')), Text(value='1', layout=Layout(width='10%'), style=DescriptionStyle(description_width='initial'))), layout=Layout(display='none')), VBox(children=(HBox(children=(Label(value='Generating vector:'), Text(value='1', layout=Layout(width='10%'), style=DescriptionStyle(description_width='initial')), Text(value='1', layout=Layout(width='10%'), style=DescriptionStyle(description_width='initial')), Text(value='1', layout=Layout(width='10%'), style=DescriptionStyle(description_width='initial')))), Text(value='', description='If you want to extend, please specify the former modulus:', layout=Layout(width='65%'), placeholder='e.g. 2^8 or 256', style=DescriptionStyle(description_width='initial'))), layout=Layout(display='none')), Textarea(value='', layout=Layout(display='none', height='150px', width='inherit'), placeholder='1 0 0\\n0 1 0\\n0 0 1\\n\\n1 1 0\\n1 0 1\\n0 1 1'), HBox(children=(Checkbox(value=False, description='Random choice of r points'), Text(value='10', description='Set r:', layout=Layout(display='none')))), BoundedIntText(value=1, description='Minimal random dimension:', disabled=True, layout=Layout(display='none', margin='0px 0px 0px 80px', width='250px'), min=1, style=DescriptionStyle(description_width='initial')), VBox(children=(Button(description='Joe and Kuo direction numbers', layout=Layout(width='270px'), style=ButtonStyle()), Textarea(value='', layout=Layout(height='150px', width='inherit'), placeholder='0\\n1\\n1,1\\n1,3,5')), layout=Layout(display='none')))),), _titles={'0': 'Exploration Method'}), Accordion(children=(VBox(children=(HTMLMath(value='<p> Please note that: </p>                         <ul>                            <li> The Coordinate-Uniform method is generally faster, but requires q = 2 </li>                             <li> The Spectral figure cannot be be evaluated by the Coordinate-Uniform method </li>                             <li> The \\\\(P_\\\\alpha \\\\) method requires \\\\( \\\\alpha \\\\in \\\\{ 2, 4, 6 \\\\} \\\\) </li>                         </ul>'), HBox(children=(Dropdown(description='Figure:', layout=Layout(width='20%'), options=('Palpha', 'Ralpha', 'Spectral'), style=DescriptionStyle(description_width='initial'), value='Palpha'), Text(value='2', description='Value of \\\\(\\\\alpha\\\\):', layout=Layout(width='15%'), style=DescriptionStyle(description_width='initial')), Checkbox(value=True, description='Coordinate-Uniform evaluation', style=DescriptionStyle(description_width='initial')), Text(value='2', description='Norm type q > 0 or q = \"inf\":', disabled=True, layout=Layout(width='24%'), style=DescriptionStyle(description_width='initial'))), layout=Layout(justify_content='space-between')))),), _titles={'0': 'Figure of Merit'}), Accordion(children=(VBox(children=(HTMLMath(value='The weights are of the form: \\\\(\\\\gamma_u^q (u \\\\subseteq \\\\{1, ... s\\\\})\\\\). You can specify below type of weights with their values (the actual weights are the sum of these).See <a href=\"https://github.com/PierreMarion23/latbuilder/tree/dev/web-ui/weights_guidelines.md\" target=\"_blank\">this GitHub page</a> for guidelines on the choice of weights.', layout=Layout(width='inherit')), Dropdown(description='<b> Add new weights: </b>', options=(('Select type of weights', 'None'), ('Product', 'product:'), ('Order-Dependent', 'order-dependent:'), ('POD', 'POD'), ('Projection-Dependent', 'projection-dependent')), style=DescriptionStyle(description_width='initial'), value='None'), VBox(children=(VBox(children=(HBox(children=(HTML(value='<b> Order-Dependent Weights </b>'), Label(value='$$\\\\gamma_u=\\\\Gamma_{|u|}$$', layout=Layout(height='50px', width='100px')), Button(description='Remove', style=ButtonStyle(), tooltip='Remove this type of weights')), layout=Layout(justify_content='space-around')), VBox(children=(HBox(children=(HTMLMath(value='Set Order Weights \\\\( \\\\Gamma_k^q \\\\):', layout=Layout(width='170px')), HBox(children=(Text(value='0.8', layout=Layout(width='50px')), Text(value='0.64', layout=Layout(width='50px')), Text(value='0.512', layout=Layout(width='50px')))))), Text(value='', description='OR set all at once with (valid Python) expression: \\\\( \\\\Gamma_k^q \\\\) =', layout=Layout(margin='0px 0px 0px 80px', width='550px'), placeholder='0.8^k * (k <= 3)', style=DescriptionStyle(description_width='initial'))))), layout=Layout(margin='30px 0px 0px 0px')),)))),), _titles={'0': 'Weights'}), Accordion(children=(VBox(children=(HBox(children=(Checkbox(value=False, description='Normalization', style=DescriptionStyle(description_width='initial')), Checkbox(value=False, description='Low-Pass Filter', style=DescriptionStyle(description_width='initial')), Checkbox(value=False, description='k-bits Equidistribution', layout=Layout(display='none'), style=DescriptionStyle(description_width='initial'))), layout=Layout(justify_content='space-around')), HBox(children=(Dropdown(description='Normalization Type:', layout=Layout(width='30%'), options=('SL10 Palpha', 'DPW08 Palpha'), style=DescriptionStyle(description_width='initial'), value='SL10 Palpha'), HTML(value='<span style=\"color:red\"> Warning: SL10 Palpha and DPW08 Palpha only work with Palpha figure of merit.</span>                                        <br><span style=\"color:red\"> DPW08 only works for product weights.</span>')), layout=Layout(display='none')), Text(value='1', description='Low-Pass Threshold', layout=Layout(display='none', width='25%'), style=DescriptionStyle(description_width='initial')), HBox(children=(BoundedIntText(value=1, description='k-bits Equidistribution - set k:', layout=Layout(width='230px'), min=1, style=DescriptionStyle(description_width='initial')), Text(value='inf', description=\"Set weight w>0 or 'inf':\", layout=Layout(width='200px'), style=DescriptionStyle(description_width='initial'))), layout=Layout(display='none', justify_content='space-around')))),), selected_index=None, _titles={'0': 'Filters (optional)'}), HBox(children=(Button(description='Search', style=ButtonStyle()), ToggleButton(value=False, button_style='warning', description='Abort search', disabled=True), Button(description='Construct command line', layout=Layout(width='200px'), style=ButtonStyle())), layout=Layout(margin='30px 0px 0px 0px')), HTML(value='', description='<b> Command line: </b>', layout=Layout(width='900px'), style=DescriptionStyle(description_width='initial')), FloatProgress(value=0.0, bar_style='info', description='Number of dim explored:', layout=Layout(display='none'), max=1.0, style=ProgressStyle(description_width='initial')), FloatProgress(value=0.0, bar_style='info', description='Number of nets explored:', layout=Layout(display='none'), max=1.0, style=ProgressStyle(description_width='initial')), HTML(value='', description='<b> Result: </b>', layout=Layout(width='900px')), Tab(layout=Layout(display='none'))))), _titles={'0': 'Ordinary Lattice', '1': 'Digital Net'})"
      ]
     },
     "metadata": {},
     "output_type": "display_data"
    }
   ],
   "source": [
    "latnetbuilder.gui"
   ]
  },
  {
   "cell_type": "code",
   "execution_count": 6,
   "metadata": {
    "collapsed": true
   },
   "outputs": [],
   "source": [
    "s = latnetbuilder.SearchLattice()"
   ]
  },
  {
   "cell_type": "code",
   "execution_count": 7,
   "metadata": {
    "collapsed": true
   },
   "outputs": [],
   "source": [
    "s.lattice_type = 'polynomial'\n",
    "s.modulus = '01^10'\n",
    "s.figure_of_merit = 'CU:P2'\n",
    "s.exploration_method = 'CBC'\n",
    "s.dimension = 6\n",
    "s.weights = ['order-dependent:0:0.8,0.64,0.512']"
   ]
  },
  {
   "cell_type": "code",
   "execution_count": 8,
   "metadata": {},
   "outputs": [
    {
     "name": "stdout",
     "output_type": "stream",
     "text": [
      "Result:\n",
      "Lattice Size: 1024 \n",
      "Generating Vector: [[1], [1, 0, 0, 0, 0, 1, 0, 0, 1, 1], [1, 0, 0, 1, 0, 1, 0, 1], [1, 1, 0, 0, 1, 1, 0, 1, 1], [1, 0, 1, 1, 1, 0, 1], [1, 0, 1, 0, 0, 0, 0, 0, 1]] \n",
      "Merit value: 0.0190175 \n",
      "CPU Time: 0.968692 s\n"
     ]
    }
   ],
   "source": [
    "s.execute()"
   ]
  },
  {
   "cell_type": "code",
   "execution_count": 9,
   "metadata": {},
   "outputs": [
    {
     "data": {
      "application/vnd.jupyter.widget-view+json": {
       "model_id": "1073185de5cb47fba01576d1c5656888",
       "version_major": 2,
       "version_minor": 0
      },
      "text/html": [
       "<p>Failed to display Jupyter Widget of type <code>Tab</code>.</p>\n",
       "<p>\n",
       "  If you're reading this message in the Jupyter Notebook or JupyterLab Notebook, it may mean\n",
       "  that the widgets JavaScript is still loading. If this message persists, it\n",
       "  likely means that the widgets JavaScript library is either not installed or\n",
       "  not enabled. See the <a href=\"https://ipywidgets.readthedocs.io/en/stable/user_install.html\">Jupyter\n",
       "  Widgets Documentation</a> for setup instructions.\n",
       "</p>\n",
       "<p>\n",
       "  If you're reading this message in another frontend (for example, a static\n",
       "  rendering on GitHub or <a href=\"https://nbviewer.jupyter.org/\">NBViewer</a>),\n",
       "  it may mean that your frontend doesn't currently support widgets.\n",
       "</p>\n"
      ],
      "text/plain": [
       "Tab(layout=Layout(display='none'))"
      ]
     },
     "metadata": {},
     "output_type": "display_data"
    }
   ],
   "source": [
    "s.rich_output()"
   ]
  },
  {
   "cell_type": "code",
   "execution_count": 10,
   "metadata": {
    "collapsed": true
   },
   "outputs": [],
   "source": [
    "x = s.points()"
   ]
  },
  {
   "cell_type": "code",
   "execution_count": 11,
   "metadata": {},
   "outputs": [
    {
     "data": {
      "text/plain": [
       "(1024, 6)"
      ]
     },
     "execution_count": 11,
     "metadata": {},
     "output_type": "execute_result"
    }
   ],
   "source": [
    "x.shape"
   ]
  },
  {
   "cell_type": "code",
   "execution_count": 12,
   "metadata": {
    "collapsed": true
   },
   "outputs": [],
   "source": [
    "s2 = latnetbuilder.SearchNet()"
   ]
  },
  {
   "cell_type": "code",
   "execution_count": 13,
   "metadata": {
    "collapsed": true
   },
   "outputs": [],
   "source": [
    "s2.construction = 'sobol'\n",
    "s2.modulus = '2^10'\n",
    "s2.figure_of_merit = 't-value'\n",
    "s2.exploration_method = 'full-CBC'\n",
    "s2.dimension = 6\n",
    "s2.weights = ['order-dependent:0:0.8,0.64,0.512']"
   ]
  },
  {
   "cell_type": "code",
   "execution_count": 14,
   "metadata": {},
   "outputs": [
    {
     "name": "stdout",
     "output_type": "stream",
     "text": [
      "Result:\n",
      "Lattice Size: 1024 \n",
      "Generating Vector: [[0], [1], [1, 1], [1, 3, 7], [1, 3, 3], [1, 3, 3, 11]] \n",
      "Merit value: 35.84 \n",
      "CPU Time: 0.10965 s\n"
     ]
    }
   ],
   "source": [
    "s2.execute()"
   ]
  },
  {
   "cell_type": "code",
   "execution_count": 15,
   "metadata": {
    "collapsed": true
   },
   "outputs": [],
   "source": [
    "x = s2.points()"
   ]
  },
  {
   "cell_type": "code",
   "execution_count": 16,
   "metadata": {},
   "outputs": [
    {
     "data": {
      "text/plain": [
       "(1024, 6)"
      ]
     },
     "execution_count": 16,
     "metadata": {},
     "output_type": "execute_result"
    }
   ],
   "source": [
    "x.shape"
   ]
  },
  {
   "cell_type": "code",
   "execution_count": 17,
   "metadata": {},
   "outputs": [
    {
     "data": {
      "application/vnd.jupyter.widget-view+json": {
       "model_id": "0d8f4412192d402caa0a95f77a1d1c8f",
       "version_major": 2,
       "version_minor": 0
      },
      "text/html": [
       "<p>Failed to display Jupyter Widget of type <code>Tab</code>.</p>\n",
       "<p>\n",
       "  If you're reading this message in the Jupyter Notebook or JupyterLab Notebook, it may mean\n",
       "  that the widgets JavaScript is still loading. If this message persists, it\n",
       "  likely means that the widgets JavaScript library is either not installed or\n",
       "  not enabled. See the <a href=\"https://ipywidgets.readthedocs.io/en/stable/user_install.html\">Jupyter\n",
       "  Widgets Documentation</a> for setup instructions.\n",
       "</p>\n",
       "<p>\n",
       "  If you're reading this message in another frontend (for example, a static\n",
       "  rendering on GitHub or <a href=\"https://nbviewer.jupyter.org/\">NBViewer</a>),\n",
       "  it may mean that your frontend doesn't currently support widgets.\n",
       "</p>\n"
      ],
      "text/plain": [
       "Tab(children=(HTML(value='No plot to show.'), Textarea(value='\\n#include <vector>\\n#include <array>\\n#include <algorithm>\\n#include <math.h>\\n\\ntypedef std::vector<unsigned int> GenValue ;\\ntypedef std::pair<unsigned int, unsigned int> PrimitivePolynomial; \\ntypedef std::vector<std::vector<bool>> Matrix;\\n\\nconst unsigned int dim = 6; \\nunsigned int m = 10;\\nstd::vector<GenValue> genValues  {  { 0 } ,  { 1 } ,  { 1, 1 } ,  { 1, 3, 7 } ,  { 1, 3, 3 } ,  { 1, 3, 3, 11 }  } ;\\n\\n\\n// primitive polynomials are hard-coded because their computation is really complex.\\nstatic const std::array<unsigned int, dim> degrees =\\n{\\n    1, 2, 3, 3, 4, 4\\n};\\n\\nstatic const std::array<unsigned long, dim> representations =\\n{\\n    0, 1, 1, 2, 1, 4\\n};\\n\\nPrimitivePolynomial  nthPrimitivePolynomial(unsigned int n)\\n{\\n    return std::pair<unsigned int, unsigned int>(degrees[n-1], representations[n-1]);\\n}\\n\\n/** Compute the element-wise product of two vector and reduce the resulting vector using the exclusive or operator.\\n * @param a first vector\\n * @param b second vector \\n */ \\nunsigned int xor_prod_reduce(const std::vector<unsigned int>& a, const std::vector<unsigned int>& b)\\n{\\n    unsigned int res = 0;\\n    unsigned int n = a.size();\\n    for (unsigned int i = 0; i<n; ++i){\\n        res ^= a[i]*b[i];\\n    }\\n    return res;\\n}\\n\\n/** Compute the m-bit binary representation of the given integer. The most significant bit is the leftest non zero\\n * bit in the returned vector.\\n * @param num non-negative integer\\n * @param unsigned int size of the binary representation\\n */\\nstd::vector<unsigned int> bin_vector(unsigned int num, unsigned int m)\\n{\\n    std::vector<unsigned int> res(m);\\n    for(unsigned int i = 0; i<m; ++i){\\n        res[m-i-1] = num % 2;\\n        num = num >> 1;\\n    }\\n    return res;\\n}\\n\\nunsigned int getmsb (unsigned long long x){\\n    unsigned int r = 0;\\n    if (x < 1) return 0;\\n    while (x >>= 1) r++;\\n    return r;\\n}\\n\\nint numPoints(const Matrix& matrix){\\n    return pow(2, matrix.size());\\n}\\n\\nstd::vector<unsigned long> getColsReverse(const Matrix& matrix){\\n    std::vector<unsigned long> res(matrix.size(), 0);\\n    for (unsigned int j=0; j<matrix.size(); j++){\\n        unsigned long s = 0;\\n        for (unsigned int i=0; i<matrix.size(); i++){\\n            s += matrix[i][j] << (matrix.size() - i -1);\\n        }\\n        res[j] = s;\\n    }\\n    return res;\\n}\\n\\n\\nMatrix createGeneratingMatrix(const GenValue& genValue, unsigned int m, unsigned int coord) \\n    {\\n        // GeneratingMatrix tmp = new GeneratingMatrix(m,m);\\n        std::vector<std::vector<bool>> tmp (m, std::vector<bool>(m, 0));\\n\\n        for(unsigned int k = 0; k<m; ++k){\\n            tmp[k][k] = 1; // start with identity\\n        }\\n\\n        if (coord==1) // special case for the first dimension\\n        {\\n            return tmp;\\n        }\\n\\n        // compute the vector defining the linear recurrence on the columns of the matrix\\n\\n        PrimitivePolynomial p = nthPrimitivePolynomial(coord-1);\\n        auto degree = p.first;\\n        auto poly_rep = p.second;\\n\\n        std::vector<unsigned int> a = bin_vector(poly_rep,degree-1);\\n        a.push_back(1);\\n\\n        for(unsigned int i = 0; i<degree; ++i){\\n            a[i] *= 2 << i;\\n        }\\n\\n        // initialization of the first columns\\n\\n        for(unsigned int k = 0; k < std::min(degree,m); ++k){\\n            auto dirNum = bin_vector(genValue[k],k+1);\\n\\n            for(unsigned int i = 0; i<k; ++i){\\n                tmp[i][k] = dirNum[i];\\n            }\\n        }\\n\\n        if (m > degree)\\n        {\\n            std::vector<unsigned int> reg(degree); // register for the linear reccurence\\n            std::reverse_copy(genValue.begin(),genValue.end(), reg.begin()); // should be reversed\\n\\n            // computation of the recurrence\\n            for(unsigned int k = degree; k<m; ++k){\\n                unsigned int new_num = xor_prod_reduce(a,reg) ^ reg[degree-1];\\n                reg.pop_back();\\n                reg.insert(reg.begin(),new_num);\\n                auto dirNum = bin_vector(new_num,k+1);\\n                for(unsigned int i = 0; i<k; ++i){\\n                    tmp[i][k] = dirNum[i];\\n                }\\n            }\\n        }\\n\\n        return tmp;\\n    }\\n\\n\\nstd::vector<std::vector<double>> points(std::vector<Matrix> matrices, std::vector<unsigned int> graycode){\\n    std::vector<std::vector<double>> points;\\n    int nbPoints = numPoints(matrices[0]);\\n    for (int i=0; i<nbPoints; i++){\\n        points.push_back(std::vector<double>());\\n    }\\n\\n    for (int j=0; j < matrices.size(); j++){\\n        Matrix matrix = matrices[j];\\n        std::vector<unsigned long> cols = getColsReverse(matrix);\\n        std::vector<unsigned long> m_permutation = std::vector<unsigned long>(nbPoints, 0);\\n        points[0].push_back(0);\\n        for (unsigned int i=1; i<m_permutation.size(); ++i){\\n            m_permutation[i] = m_permutation[i-1] ^ cols[graycode[i-1]];\\n            points[i].push_back(((double) m_permutation[i]) / nbPoints);\\n        }\\n    }\\n    return points;\\n}\\n\\n\\nstd::vector<Matrix> matrices = std::vector<Matrix>();\\nfor (unsigned int i=0; i<dim; i++){\\n    matrices.push_back(createGeneratingMatrix(genValues[i], m, i+1));\\n}\\n\\nstd::vector<unsigned int> graycode = std::vector<unsigned int>();\\nfor(unsigned int i=0; i < pow(2, m); i++){\\n        graycode.push_back(getmsb(((i >> 1) ^ i)^(((i+1) >> 1) ^ (i+1))));\\n}\\n\\nstd::vector<std::vector<double>> myPoints = points(matrices, graycode);', layout=Layout(height='700px', width='600px')), Textarea(value='import csv\\nimport numpy as np\\n\\ns = 6\\nm = 10\\ninit_numbers = [[0], [1], [1, 1], [1, 3, 7], [1, 3, 3], [1, 3, 3, 11]]\\nprim_polys = np.array([[1, 0], [2, 1], [3, 1], [3, 2], [4, 1], [4, 4]])\\n\\ndef bin_array(num, m):\\n    \"\"\"Convert a positive integer num into an m-bit bit vector\"\"\"\\n    return np.array(list(np.binary_repr(num).zfill(m))).astype(np.int8)\\n\\ndef sobol_generating_matrix(coord,init_numbers,m):\\n    C = np.eye(m,dtype = np.int)\\n    if coord==1:\\n        return C\\n    degree = prim_polys[coord-2,0]\\n    a = np.zeros(degree,dtype=np.int)\\n    a[:-1] = bin_array(prim_polys[coord-2,1],degree-1)\\n    a[-1] = 1\\n    exp = np.array([2<<k for k in range(degree)])\\n    a = a*exp\\n    assert len(init_numbers)==degree\\n    for k in range(min(degree,m)):\\n        assert init_numbers[k] < (2<<k)\\n        assert init_numbers[k] % 2 == 1\\n        C[:k, k] = bin_array(init_numbers[k],k+1)[:k]\\n    tmp = np.flipud(np.copy(init_numbers))\\n    for k in range(degree,m):\\n        new_num = np.bitwise_xor.reduce(tmp*a) ^ tmp[-1]\\n        tmp[1:]=tmp[:-1]\\n        tmp[0] = new_num\\n        C[:k,k] = bin_array(new_num,k+1)[:k]\\n    return C\\n\\npoints = []\\nmatrices = [sobol_generating_matrix(j, init_numbers[j-1], m) for j in range(1, s+1)]\\nnb_points = 2**m\\nmult = np.array([2**(-k) for k in range(1, m+1)])\\n\\nfor x in range(nb_points):\\n    x_coord = []\\n    for matrice in matrices:\\n        binary_repr = np.array([((x>>i)&1) for i in range(m)])\\n        prod = np.mod(matrice.dot(binary_repr), 2)\\n        x_coord.append(prod.dot(mult))\\n    points.append(x_coord)', layout=Layout(height='700px', width='600px'))), layout=Layout(display='flex'), _titles={'0': 'Plot', '1': 'C++11 code', '2': 'Python code'})"
      ]
     },
     "metadata": {},
     "output_type": "display_data"
    }
   ],
   "source": [
    "s2.rich_output()"
   ]
  },
  {
   "cell_type": "code",
   "execution_count": null,
   "metadata": {
    "collapsed": true
   },
   "outputs": [],
   "source": []
  }
 ],
 "metadata": {
  "kernelspec": {
   "display_name": "Python 3",
   "language": "python",
   "name": "python3"
  },
  "language_info": {
   "codemirror_mode": {
    "name": "ipython",
    "version": 3
   },
   "file_extension": ".py",
   "mimetype": "text/x-python",
   "name": "python",
   "nbconvert_exporter": "python",
   "pygments_lexer": "ipython3",
   "version": "3.6.3"
  }
 },
 "nbformat": 4,
 "nbformat_minor": 2
}
