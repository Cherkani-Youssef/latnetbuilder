{
 "cells": [
  {
   "cell_type": "markdown",
   "metadata": {},
   "source": [
    "# LatNet Builder\n",
    "\n",
    "### Search for good rank-1 lattices\n",
    "\n",
    "This Web interface allows LatNet Builder users to call the executable program without having to construct the command line explicitly. Refer to the LatNet Manual and to the reference paper for more information.\n",
    "\n",
    "Enter the construction parameters below, and press the Search button at the bottom. The results will show at the bottom. \n",
    "\n",
    "## Search criteria :"
   ]
  },
  {
   "cell_type": "code",
   "execution_count": 1,
   "metadata": {},
   "outputs": [],
   "source": [
    "import latnetbuilder"
   ]
  },
  {
   "cell_type": "code",
   "execution_count": 2,
   "metadata": {
    "scrolled": false
   },
   "outputs": [
    {
     "data": {
      "application/vnd.jupyter.widget-view+json": {
       "model_id": "c4084a40dc7148178c89b81a590bf3fd",
       "version_major": 2,
       "version_minor": 0
      },
      "text/plain": [
       "Tab(children=(VBox(children=(Accordion(children=(VBox(children=(ToggleButtons(description='Choose one:', optio…"
      ]
     },
     "metadata": {},
     "output_type": "display_data"
    }
   ],
   "source": [
    "display(latnetbuilder.gui)"
   ]
  },
  {
   "cell_type": "code",
   "execution_count": null,
   "metadata": {
    "collapsed": true
   },
   "outputs": [],
   "source": []
  }
 ],
 "metadata": {
  "kernelspec": {
   "display_name": "Python 3",
   "language": "python",
   "name": "python3"
  },
  "language_info": {
   "codemirror_mode": {
    "name": "ipython",
    "version": 3
   },
   "file_extension": ".py",
   "mimetype": "text/x-python",
   "name": "python",
   "nbconvert_exporter": "python",
   "pygments_lexer": "ipython3",
   "version": "3.6.5"
  },
  "widgets": {
   "application/vnd.jupyter.widget-state+json": {
    "state": {
     "00a608aa0bd84d8fbe91df7c7fa567f5": {
      "model_module": "@jupyter-widgets/base",
      "model_module_version": "1.1.0",
      "model_name": "LayoutModel",
      "state": {}
     },
     "00aaa13758fc40e592f705f02e732245": {
      "model_module": "@jupyter-widgets/base",
      "model_module_version": "1.1.0",
      "model_name": "LayoutModel",
      "state": {
       "width": "65%"
      }
     },
     "00de5fcc2aa447939370676130fd74a8": {
      "model_module": "@jupyter-widgets/controls",
      "model_module_version": "1.3.0",
      "model_name": "VBoxModel",
      "state": {
       "children": [
        "IPY_MODEL_c31e1d5a85be4e37a34432d36e8c3546"
       ],
       "layout": "IPY_MODEL_9833fb8a452f4615b6d39c05bea33de0"
      }
     },
     "027349f87d8e414ea3175249d2bfdce8": {
      "model_module": "@jupyter-widgets/controls",
      "model_module_version": "1.3.0",
      "model_name": "DescriptionStyleModel",
      "state": {
       "description_width": "initial"
      }
     },
     "03064919683b49d3a72ad959b7cfc4a9": {
      "model_module": "@jupyter-widgets/base",
      "model_module_version": "1.1.0",
      "model_name": "LayoutModel",
      "state": {}
     },
     "0332bf99fb5e438d83d7b18d09b79786": {
      "model_module": "@jupyter-widgets/controls",
      "model_module_version": "1.3.0",
      "model_name": "DescriptionStyleModel",
      "state": {
       "description_width": ""
      }
     },
     "037d3bbc0e99411a8782682def5546ae": {
      "model_module": "@jupyter-widgets/controls",
      "model_module_version": "1.3.0",
      "model_name": "FloatProgressModel",
      "state": {
       "bar_style": "info",
       "description": "Number of nets explored:",
       "layout": "IPY_MODEL_32bf74e042e94e3e85df3e1caa7fa05d",
       "max": 1,
       "style": "IPY_MODEL_fd4187ff568f4a8e8359941593f7d469"
      }
     },
     "043448852b5e4dd78ea2bf5458a5f53c": {
      "model_module": "@jupyter-widgets/controls",
      "model_module_version": "1.3.0",
      "model_name": "BoundedIntTextModel",
      "state": {
       "description": "Level:",
       "layout": "IPY_MODEL_252d46e0387f48e589ce2c026e18391c",
       "min": 1,
       "style": "IPY_MODEL_acbe83db0f1844e89c43d9b95207dc62",
       "value": 1
      }
     },
     "045ea6e0f03c4c47b41cf61f4880ff44": {
      "model_module": "@jupyter-widgets/controls",
      "model_module_version": "1.3.0",
      "model_name": "HTMLMathModel",
      "state": {
       "layout": "IPY_MODEL_6b559ab3bf5448eb8b94ccd0805fee01",
       "style": "IPY_MODEL_3776c65db1e94453b9c361e5e80350dc",
       "value": "<p> All possible values of the components components \\(a_j\\) of the generating vector \\(a=(a_1,…,a_s)\\) are examined and the best ones are selected, one coordinate at a time. </p>    <p> Computation is accelerated by using fast Fourier transforms. </p>    <p style=\"color:red\"> Requires the Coordinate-Uniform evaluation method.</p>"
      }
     },
     "04eede84c91e44178f2e448a58dd85ea": {
      "model_module": "@jupyter-widgets/controls",
      "model_module_version": "1.3.0",
      "model_name": "VBoxModel",
      "state": {
       "children": [
        "IPY_MODEL_379c75481c114618a40db35013137f1e",
        "IPY_MODEL_65b74bd263684b24a5669807c3bdf24a",
        "IPY_MODEL_1b1ffdab6c7a4a029d36b05a01232a2b",
        "IPY_MODEL_18a281e8cec1440e92033730a2804b6e",
        "IPY_MODEL_595f4390db164f79b116177d418dbf6e"
       ],
       "layout": "IPY_MODEL_b339dfdaec78479abda543aca47a9a42"
      }
     },
     "059ef7aeaeaa4e6dab03483862897e51": {
      "model_module": "@jupyter-widgets/controls",
      "model_module_version": "1.3.0",
      "model_name": "HBoxModel",
      "state": {
       "children": [
        "IPY_MODEL_4fc57a6c71f042419a6a867cab5db693",
        "IPY_MODEL_a535b283bbde439a929c282163284bcb"
       ],
       "layout": "IPY_MODEL_33e6ba386ed948438bd9b5b64e8f9610"
      }
     },
     "05bb206ee39e4eaa8c84fc7b0c7526c0": {
      "model_module": "@jupyter-widgets/controls",
      "model_module_version": "1.3.0",
      "model_name": "DescriptionStyleModel",
      "state": {
       "description_width": ""
      }
     },
     "061f193d11dd489593e62fa1b94033c6": {
      "model_module": "@jupyter-widgets/controls",
      "model_module_version": "1.3.0",
      "model_name": "BoundedIntTextModel",
      "state": {
       "description": "Level:",
       "layout": "IPY_MODEL_605ec10ced564fe098db4ee2c0767138",
       "min": 1,
       "style": "IPY_MODEL_fc2d4e97867f4a36815ca19adc4c1634",
       "value": 1
      }
     },
     "065bb978030a4273bdd59bdffb95ab24": {
      "model_module": "@jupyter-widgets/base",
      "model_module_version": "1.1.0",
      "model_name": "LayoutModel",
      "state": {}
     },
     "071bbcae53a64ce68e9f290464aed217": {
      "model_module": "@jupyter-widgets/base",
      "model_module_version": "1.1.0",
      "model_name": "LayoutModel",
      "state": {}
     },
     "0761853cdcf24e5e929b01c293c28122": {
      "model_module": "@jupyter-widgets/controls",
      "model_module_version": "1.3.0",
      "model_name": "DropdownModel",
      "state": {
       "_options_labels": [
        "Palpha",
        "Ralpha",
        "Spectral"
       ],
       "description": "Figure:",
       "index": 0,
       "layout": "IPY_MODEL_b68f519d786f44b2b582d5ca8bd03527",
       "style": "IPY_MODEL_cd05205a23fb4120af0fdf7a84ea00d5"
      }
     },
     "07b818790a914b0293ea6c0d29671d8b": {
      "model_module": "@jupyter-widgets/controls",
      "model_module_version": "1.3.0",
      "model_name": "VBoxModel",
      "state": {
       "children": [
        "IPY_MODEL_7132b722002a423988bc7c064593c86f",
        "IPY_MODEL_254b1e24f6d94a808b89b68126c76f15",
        "IPY_MODEL_00de5fcc2aa447939370676130fd74a8"
       ],
       "layout": "IPY_MODEL_071bbcae53a64ce68e9f290464aed217"
      }
     },
     "07bfa78ccae74f88ba466e608ba2a5e6": {
      "model_module": "@jupyter-widgets/controls",
      "model_module_version": "1.3.0",
      "model_name": "HTMLMathModel",
      "state": {
       "layout": "IPY_MODEL_b18ff4ab4c7747af9d057bea078b0468",
       "style": "IPY_MODEL_73b299c6c6d240059976e578f0ec52e5",
       "value": "<p> All possible values of the components components \\(a_j\\) of the generating vector \\(a=(a_1,…,a_s)\\) are examined and the best ones are selected, one coordinate at a time. </p>    <p> Computation is accelerated by using fast Fourier transforms. </p>    <p style=\"color:red\"> Requires the Coordinate-Uniform evaluation method.</p>"
      }
     },
     "080396bac16346dfb9de720dd552f689": {
      "model_module": "@jupyter-widgets/controls",
      "model_module_version": "1.3.0",
      "model_name": "ButtonStyleModel",
      "state": {}
     },
     "0912091573514497b42e17e977de43d0": {
      "model_module": "@jupyter-widgets/controls",
      "model_module_version": "1.3.0",
      "model_name": "ButtonModel",
      "state": {
       "description": "Construct command line",
       "layout": "IPY_MODEL_15415932d8054c998e9e1fb0072a9a24",
       "style": "IPY_MODEL_2464693a68f2414395dc3ac617af47ea"
      }
     },
     "099a90a749a84a36a1d601a73ddd06a6": {
      "model_module": "@jupyter-widgets/controls",
      "model_module_version": "1.3.0",
      "model_name": "AccordionModel",
      "state": {
       "_titles": {
        "0": "Exploration Method"
       },
       "children": [
        "IPY_MODEL_53852fbda98841a29eb8a0957cfcb8a5"
       ],
       "layout": "IPY_MODEL_7570f2ef7b0e49e5b2626f8953459093"
      }
     },
     "09a01a55a7b34ac39b404a51531bfd91": {
      "model_module": "@jupyter-widgets/base",
      "model_module_version": "1.1.0",
      "model_name": "LayoutModel",
      "state": {
       "justify_content": "space-around"
      }
     },
     "09a8e37ac1eb4bf0a9ad160bf8d74811": {
      "model_module": "@jupyter-widgets/base",
      "model_module_version": "1.1.0",
      "model_name": "LayoutModel",
      "state": {
       "display": "none"
      }
     },
     "09d5289b1acb46f5b0ab3203e3838545": {
      "model_module": "@jupyter-widgets/base",
      "model_module_version": "1.1.0",
      "model_name": "LayoutModel",
      "state": {
       "width": "180px"
      }
     },
     "0a7e7b68aca84a009e599f00def51724": {
      "model_module": "@jupyter-widgets/controls",
      "model_module_version": "1.3.0",
      "model_name": "ButtonModel",
      "state": {
       "description": "Evaluate from previous search",
       "layout": "IPY_MODEL_0fbb42e2a5fc463fb917b7bdd439efa0",
       "style": "IPY_MODEL_76a59af9b44c401cb20d42cd6ee54187"
      }
     },
     "0ab6d543767f41f688d2cd2a6f82619f": {
      "model_module": "@jupyter-widgets/base",
      "model_module_version": "1.1.0",
      "model_name": "LayoutModel",
      "state": {}
     },
     "0ac9339c0fae4341b744dd3a8130d614": {
      "model_module": "@jupyter-widgets/controls",
      "model_module_version": "1.3.0",
      "model_name": "DescriptionStyleModel",
      "state": {
       "description_width": "initial"
      }
     },
     "0bb69b4140c84cbf8a383993983a9ea3": {
      "model_module": "@jupyter-widgets/controls",
      "model_module_version": "1.3.0",
      "model_name": "DescriptionStyleModel",
      "state": {
       "description_width": ""
      }
     },
     "0bdcb7c0478343d2ae33dbf0bb485d8d": {
      "model_module": "@jupyter-widgets/controls",
      "model_module_version": "1.3.0",
      "model_name": "DescriptionStyleModel",
      "state": {
       "description_width": ""
      }
     },
     "0c55a0d6967449feba5a721cb0abb1b5": {
      "model_module": "@jupyter-widgets/base",
      "model_module_version": "1.1.0",
      "model_name": "LayoutModel",
      "state": {
       "height": "150px",
       "width": "inherit"
      }
     },
     "0c898e25cedc4d05a30b76332221b878": {
      "model_module": "@jupyter-widgets/controls",
      "model_module_version": "1.3.0",
      "model_name": "TextModel",
      "state": {
       "layout": "IPY_MODEL_4cf64178dcfe4ac1946c3e43ae8a2cec",
       "style": "IPY_MODEL_23d906f384c240d29a42080e180fb4ef",
       "value": "0.512"
      }
     },
     "0df894b8f0a44ac69d36b7ead3f36887": {
      "model_module": "@jupyter-widgets/controls",
      "model_module_version": "1.3.0",
      "model_name": "TabModel",
      "state": {
       "_titles": {
        "0": "Plot",
        "1": "C code",
        "2": "Python code",
        "3": "Matlab code"
       },
       "children": [
        "IPY_MODEL_e4410fa931114e38b08b1347b15a423e",
        "IPY_MODEL_605e63c00e8f4402a0cd57ef94c13ae2",
        "IPY_MODEL_659f57a7f55b4d10b32108adba8b4547",
        "IPY_MODEL_805ab00915d0424c91cce492f30fd02b"
       ],
       "layout": "IPY_MODEL_8ab7c360ee7a449b8c8d917c973dfaa8"
      }
     },
     "0e05a4246a3c46138e7cbb0087eee1d4": {
      "model_module": "@jupyter-widgets/controls",
      "model_module_version": "1.3.0",
      "model_name": "DescriptionStyleModel",
      "state": {
       "description_width": "initial"
      }
     },
     "0e34f62d0d04458b8e33fbed638fb94e": {
      "model_module": "@jupyter-widgets/base",
      "model_module_version": "1.1.0",
      "model_name": "LayoutModel",
      "state": {
       "width": "500px"
      }
     },
     "0eb2eaf5ea674bec8d2878b5a0c02e86": {
      "model_module": "@jupyter-widgets/controls",
      "model_module_version": "1.3.0",
      "model_name": "DescriptionStyleModel",
      "state": {
       "description_width": ""
      }
     },
     "0f0ef00e736541a38095cb2b418095d7": {
      "model_module": "@jupyter-widgets/base",
      "model_module_version": "1.1.0",
      "model_name": "LayoutModel",
      "state": {
       "height": "50px",
       "width": "100px"
      }
     },
     "0fbb42e2a5fc463fb917b7bdd439efa0": {
      "model_module": "@jupyter-widgets/base",
      "model_module_version": "1.1.0",
      "model_name": "LayoutModel",
      "state": {
       "display": "none",
       "margin": "40px 0px 0px 0px",
       "width": "200px"
      }
     },
     "0fe05035ed494dcda50beac173659a75": {
      "model_module": "@jupyter-widgets/base",
      "model_module_version": "1.1.0",
      "model_name": "LayoutModel",
      "state": {}
     },
     "1054d50d56d047818c7653525ef6b053": {
      "model_module": "@jupyter-widgets/controls",
      "model_module_version": "1.3.0",
      "model_name": "DescriptionStyleModel",
      "state": {
       "description_width": ""
      }
     },
     "1063d6db89694bf1af3c786331ce47c7": {
      "model_module": "@jupyter-widgets/controls",
      "model_module_version": "1.3.0",
      "model_name": "DescriptionStyleModel",
      "state": {
       "description_width": ""
      }
     },
     "106eda9ae8954fe7bf0d03378a776c6e": {
      "model_module": "@jupyter-widgets/controls",
      "model_module_version": "1.3.0",
      "model_name": "DescriptionStyleModel",
      "state": {
       "description_width": "initial"
      }
     },
     "127b4ff4bc4846acb599c1433069cba8": {
      "model_module": "@jupyter-widgets/controls",
      "model_module_version": "1.3.0",
      "model_name": "AccordionModel",
      "state": {
       "_titles": {
        "0": "Construction Method"
       },
       "children": [
        "IPY_MODEL_6ef1f1052bf54ac09bd1458da58331c8"
       ],
       "layout": "IPY_MODEL_8d552f73d6cb4f458c513ef21eb4b59f"
      }
     },
     "141027ee1b814d7a9a2fa73a1b434f9c": {
      "model_module": "@jupyter-widgets/controls",
      "model_module_version": "1.3.0",
      "model_name": "VBoxModel",
      "state": {
       "children": [
        "IPY_MODEL_8d4e33abcdfa4d518701d533e795a253",
        "IPY_MODEL_8de04df574f149968d21ec0e467f48b3"
       ],
       "layout": "IPY_MODEL_1951f114bf974b15972994fde32cdb37"
      }
     },
     "14481eab4af44e98b97bc862bb4c55fe": {
      "model_module": "@jupyter-widgets/base",
      "model_module_version": "1.1.0",
      "model_name": "LayoutModel",
      "state": {}
     },
     "145d870677dc4b6e94f6c6a672a57df8": {
      "model_module": "@jupyter-widgets/base",
      "model_module_version": "1.1.0",
      "model_name": "LayoutModel",
      "state": {}
     },
     "14a28fb71f57458e9cf052608596cadc": {
      "model_module": "@jupyter-widgets/base",
      "model_module_version": "1.1.0",
      "model_name": "LayoutModel",
      "state": {
       "width": "50%"
      }
     },
     "14aa011a20404331868bc29d9eb029c8": {
      "model_module": "@jupyter-widgets/controls",
      "model_module_version": "1.3.0",
      "model_name": "CheckboxModel",
      "state": {
       "description": "Low-Pass Filter",
       "disabled": false,
       "layout": "IPY_MODEL_33834a8e7a394610b32d6c1b96d4b56a",
       "style": "IPY_MODEL_ef8ecc09790e43c8ae5773de34e14dcb",
       "value": false
      }
     },
     "15189f6dcccd41fe824fcdd9c25d29f1": {
      "model_module": "@jupyter-widgets/controls",
      "model_module_version": "1.3.0",
      "model_name": "ToggleButtonsModel",
      "state": {
       "_options_labels": [
        "Sobol",
        "Polynomial",
        "Explicit"
       ],
       "button_style": "",
       "description": "Choose one:",
       "icons": [],
       "index": 0,
       "layout": "IPY_MODEL_d5483944464645d596032ed16d1291d7",
       "style": "IPY_MODEL_797525f309f742fa8f8704f8670600da",
       "tooltips": []
      }
     },
     "15415932d8054c998e9e1fb0072a9a24": {
      "model_module": "@jupyter-widgets/base",
      "model_module_version": "1.1.0",
      "model_name": "LayoutModel",
      "state": {
       "width": "200px"
      }
     },
     "15815d9cbfe747aa9810d560702a46de": {
      "model_module": "@jupyter-widgets/controls",
      "model_module_version": "1.3.0",
      "model_name": "DescriptionStyleModel",
      "state": {
       "description_width": ""
      }
     },
     "15903decfc0a4780b27f673555728ad2": {
      "model_module": "@jupyter-widgets/base",
      "model_module_version": "1.1.0",
      "model_name": "LayoutModel",
      "state": {}
     },
     "15c12b2f8b394e2992ee151b07b044eb": {
      "model_module": "@jupyter-widgets/controls",
      "model_module_version": "1.3.0",
      "model_name": "FloatProgressModel",
      "state": {
       "bar_style": "info",
       "description": "Number of dim explored:",
       "layout": "IPY_MODEL_e1ef8d8821c640638142ad800a07f8f2",
       "max": 1,
       "style": "IPY_MODEL_cbaeca9b50794abeb66ee72cfdc5e43b"
      }
     },
     "1662ad5482014c8f9246de8c5ad12653": {
      "model_module": "@jupyter-widgets/base",
      "model_module_version": "1.1.0",
      "model_name": "LayoutModel",
      "state": {}
     },
     "1691f0108b0d49578199cc62407e5bc1": {
      "model_module": "@jupyter-widgets/base",
      "model_module_version": "1.1.0",
      "model_name": "LayoutModel",
      "state": {}
     },
     "16c2145e553d46818fb5629f82325ba9": {
      "model_module": "@jupyter-widgets/base",
      "model_module_version": "1.1.0",
      "model_name": "LayoutModel",
      "state": {}
     },
     "1710dee4f34d45fa839741d6c5cb9791": {
      "model_module": "@jupyter-widgets/controls",
      "model_module_version": "1.3.0",
      "model_name": "TextModel",
      "state": {
       "layout": "IPY_MODEL_ef172eef77924a5488c25854dda2bdcb",
       "style": "IPY_MODEL_ee452c5d60fa48f19654102588b72171",
       "value": "1"
      }
     },
     "17340070a3284e3db27d3c7763c1ad61": {
      "model_module": "@jupyter-widgets/controls",
      "model_module_version": "1.3.0",
      "model_name": "VBoxModel",
      "state": {
       "children": [
        "IPY_MODEL_574ca72c7c0d4274991b0055be6900b7",
        "IPY_MODEL_62234f4966fb42869b43d07e4e97c88f",
        "IPY_MODEL_4dd1330d935944f7afe96e2551210c9b",
        "IPY_MODEL_3b915ba3eeb3429a9fd5379b7b856985",
        "IPY_MODEL_eee54475bd234b64b3b9c99d9bbf12ad",
        "IPY_MODEL_b88470cc8b8247688171be8c9aee3897",
        "IPY_MODEL_a5fc361309e44fbeb2380aac4afed18b",
        "IPY_MODEL_bc33681d7c80478397aa7ce1d2748e8f"
       ],
       "layout": "IPY_MODEL_65a8254fcb6a4cf697b4a5bed5d38e3f"
      }
     },
     "17e731e3938941da9797b39a30126963": {
      "model_module": "@jupyter-widgets/base",
      "model_module_version": "1.1.0",
      "model_name": "LayoutModel",
      "state": {
       "display": "none"
      }
     },
     "18a281e8cec1440e92033730a2804b6e": {
      "model_module": "@jupyter-widgets/controls",
      "model_module_version": "1.3.0",
      "model_name": "HBoxModel",
      "state": {
       "children": [
        "IPY_MODEL_b2f890ab9d3148b0bb4f7f199af59fcf",
        "IPY_MODEL_5d8d0d2b5a1e48649aded96506faa88f",
        "IPY_MODEL_f87788ba83fe4e0aa5071e7f099f1f9e"
       ],
       "layout": "IPY_MODEL_7951b096070e4997811cece61cdd6516"
      }
     },
     "18f4b98fab3f40e4b2a6ec880b2735dc": {
      "model_module": "@jupyter-widgets/controls",
      "model_module_version": "1.3.0",
      "model_name": "TextModel",
      "state": {
       "layout": "IPY_MODEL_8bc9969c91aa4a1497a3d54e4b6d5a7a",
       "style": "IPY_MODEL_15815d9cbfe747aa9810d560702a46de",
       "value": "0.8"
      }
     },
     "1951f114bf974b15972994fde32cdb37": {
      "model_module": "@jupyter-widgets/base",
      "model_module_version": "1.1.0",
      "model_name": "LayoutModel",
      "state": {
       "width": "20%"
      }
     },
     "195ae6c8b69442c9ab1dea3444590f02": {
      "model_module": "@jupyter-widgets/controls",
      "model_module_version": "1.3.0",
      "model_name": "DescriptionStyleModel",
      "state": {
       "description_width": "initial"
      }
     },
     "19bf81b6fb3f4c40b296a43f3bd86f82": {
      "model_module": "@jupyter-widgets/base",
      "model_module_version": "1.1.0",
      "model_name": "LayoutModel",
      "state": {
       "margin": "30px 0px 0px 0px"
      }
     },
     "1a66f56b000248188c126516e7f1775a": {
      "model_module": "@jupyter-widgets/controls",
      "model_module_version": "1.3.0",
      "model_name": "DescriptionStyleModel",
      "state": {
       "description_width": "initial"
      }
     },
     "1af81b448b704bbdb8623d037824901c": {
      "model_module": "@jupyter-widgets/controls",
      "model_module_version": "1.3.0",
      "model_name": "HBoxModel",
      "state": {
       "children": [
        "IPY_MODEL_3d14896d96f740b59a40d727b6718c97",
        "IPY_MODEL_d2d0cca5f81b4982b5c9cd1e9d229908",
        "IPY_MODEL_0912091573514497b42e17e977de43d0"
       ],
       "layout": "IPY_MODEL_19bf81b6fb3f4c40b296a43f3bd86f82"
      }
     },
     "1b1ffdab6c7a4a029d36b05a01232a2b": {
      "model_module": "@jupyter-widgets/controls",
      "model_module_version": "1.3.0",
      "model_name": "HBoxModel",
      "state": {
       "children": [
        "IPY_MODEL_62b418710b60466e82514051b61d9eda",
        "IPY_MODEL_061f193d11dd489593e62fa1b94033c6"
       ],
       "layout": "IPY_MODEL_e46d50e240a14e2491c00c03e5b05b96"
      }
     },
     "1b70ca58dd8547c5b5c187adfef65647": {
      "model_module": "@jupyter-widgets/controls",
      "model_module_version": "1.3.0",
      "model_name": "VBoxModel",
      "state": {
       "children": [
        "IPY_MODEL_059ef7aeaeaa4e6dab03483862897e51",
        "IPY_MODEL_b0a15a37aeae4774a9f6e1545be5366d"
       ],
       "layout": "IPY_MODEL_145d870677dc4b6e94f6c6a672a57df8"
      }
     },
     "1b8e133439d148359e7019495c134ca1": {
      "model_module": "@jupyter-widgets/controls",
      "model_module_version": "1.3.0",
      "model_name": "HTMLModel",
      "state": {
       "layout": "IPY_MODEL_9653ce62322f4fb3b06b17a1a8ea7493",
       "style": "IPY_MODEL_c052a44047844e6cb1d2d89bb105befd",
       "value": "<b> Order-Dependent Weights </b>"
      }
     },
     "1ba3c39c26d54ac6b920d98e8a28a2c7": {
      "model_module": "@jupyter-widgets/base",
      "model_module_version": "1.1.0",
      "model_name": "LayoutModel",
      "state": {}
     },
     "1dd30479c1124c0ea1c961ed7a108c51": {
      "model_module": "@jupyter-widgets/base",
      "model_module_version": "1.1.0",
      "model_name": "LayoutModel",
      "state": {
       "width": "100px"
      }
     },
     "1fd642a25e474fc8af4a23bc82382eb2": {
      "model_module": "@jupyter-widgets/base",
      "model_module_version": "1.1.0",
      "model_name": "LayoutModel",
      "state": {
       "width": "90%"
      }
     },
     "203560a883b8436fad3df22d05985386": {
      "model_module": "@jupyter-widgets/base",
      "model_module_version": "1.1.0",
      "model_name": "LayoutModel",
      "state": {
       "width": "900px"
      }
     },
     "203aaa7918e043ff90a1be6cd0d1587b": {
      "model_module": "@jupyter-widgets/controls",
      "model_module_version": "1.3.0",
      "model_name": "TextModel",
      "state": {
       "description": "Modulus n=",
       "layout": "IPY_MODEL_6d890ee39a3540598e7240b3e12c0b2f",
       "placeholder": "e.g. 2^10 (default) or 1024",
       "style": "IPY_MODEL_2df622ee4e7443db973169fe70b7cbbd"
      }
     },
     "20a3ce2709d541f5abe0caaf021da7e9": {
      "model_module": "@jupyter-widgets/base",
      "model_module_version": "1.1.0",
      "model_name": "LayoutModel",
      "state": {}
     },
     "2153706dd6f448e4b9fdf6a29146e46b": {
      "model_module": "@jupyter-widgets/controls",
      "model_module_version": "1.3.0",
      "model_name": "HTMLModel",
      "state": {
       "description": "<b> Command line: </b>",
       "layout": "IPY_MODEL_9a92e9055bfa43ef8fc4bf8cbae1a4e3",
       "style": "IPY_MODEL_45ed4ec711fc49899588b28db3f7bf32"
      }
     },
     "228183c606aa4b9aa231b7fe0d72b2c7": {
      "model_module": "@jupyter-widgets/controls",
      "model_module_version": "1.3.0",
      "model_name": "TextModel",
      "state": {
       "layout": "IPY_MODEL_620d0f0f86bc48b9a4b5f597c7a50590",
       "style": "IPY_MODEL_a9d5776e39e94d329067f05b81dbdfff",
       "value": "0.64"
      }
     },
     "22fe7cc15b8746fea2c73bdb48c53e1d": {
      "model_module": "@jupyter-widgets/controls",
      "model_module_version": "1.3.0",
      "model_name": "DescriptionStyleModel",
      "state": {
       "description_width": ""
      }
     },
     "23661e0c73ec4815aa21a0014b11644f": {
      "model_module": "@jupyter-widgets/controls",
      "model_module_version": "1.3.0",
      "model_name": "TextModel",
      "state": {
       "description": "Set r:",
       "layout": "IPY_MODEL_b3f80e06084941f891763e13ad6fc9e5",
       "style": "IPY_MODEL_05bb206ee39e4eaa8c84fc7b0c7526c0",
       "value": "10"
      }
     },
     "23d906f384c240d29a42080e180fb4ef": {
      "model_module": "@jupyter-widgets/controls",
      "model_module_version": "1.3.0",
      "model_name": "DescriptionStyleModel",
      "state": {
       "description_width": ""
      }
     },
     "24119223049a4cf8869660e69ce770b0": {
      "model_module": "@jupyter-widgets/controls",
      "model_module_version": "1.3.0",
      "model_name": "TextModel",
      "state": {
       "description": "Path:",
       "layout": "IPY_MODEL_0e34f62d0d04458b8e33fbed638fb94e",
       "placeholder": "e.g. output or /home/output",
       "style": "IPY_MODEL_9a3e4bad56cf48fb8f5c8f892aa5918d"
      }
     },
     "2464693a68f2414395dc3ac617af47ea": {
      "model_module": "@jupyter-widgets/controls",
      "model_module_version": "1.3.0",
      "model_name": "ButtonStyleModel",
      "state": {}
     },
     "24e51b20a4cd4ae49ff515addae208be": {
      "model_module": "@jupyter-widgets/controls",
      "model_module_version": "1.3.0",
      "model_name": "TextModel",
      "state": {
       "layout": "IPY_MODEL_c74772b4075a48109d4ff195c6ef11f4",
       "style": "IPY_MODEL_8468cd49fecd406493fcf651ef48aab6",
       "value": "1"
      }
     },
     "252d46e0387f48e589ce2c026e18391c": {
      "model_module": "@jupyter-widgets/base",
      "model_module_version": "1.1.0",
      "model_name": "LayoutModel",
      "state": {
       "display": "none",
       "width": "15%"
      }
     },
     "254b1e24f6d94a808b89b68126c76f15": {
      "model_module": "@jupyter-widgets/controls",
      "model_module_version": "1.3.0",
      "model_name": "DropdownModel",
      "state": {
       "_options_labels": [
        "Select type of weights",
        "Product",
        "Order-Dependent",
        "POD",
        "Projection-Dependent"
       ],
       "description": "<b> Add new weights: </b>",
       "index": 0,
       "layout": "IPY_MODEL_39a43cda4d064bdb941153143f7f290d",
       "style": "IPY_MODEL_af51f80e07f645839d7f440b64d11b0d"
      }
     },
     "258cda373b2d4819b5a07782b2f5eec6": {
      "model_module": "@jupyter-widgets/base",
      "model_module_version": "1.1.0",
      "model_name": "LayoutModel",
      "state": {}
     },
     "26367bb864d545549de883009ea094b1": {
      "model_module": "@jupyter-widgets/controls",
      "model_module_version": "1.3.0",
      "model_name": "DescriptionStyleModel",
      "state": {
       "description_width": "initial"
      }
     },
     "26482a90d1434cb19eb914dfdea1ed9b": {
      "model_module": "@jupyter-widgets/controls",
      "model_module_version": "1.3.0",
      "model_name": "AccordionModel",
      "state": {
       "_titles": {
        "0": "Weights"
       },
       "children": [
        "IPY_MODEL_344580ca923840178e21fdf5a86f5538"
       ],
       "layout": "IPY_MODEL_8d4262b92c3e4851924daaaa235553cc"
      }
     },
     "26d9a9c5aa114961849745488e56c721": {
      "model_module": "@jupyter-widgets/base",
      "model_module_version": "1.1.0",
      "model_name": "LayoutModel",
      "state": {
       "display": "none",
       "margin": "0px 10px 0px 0px",
       "width": "180px"
      }
     },
     "26f70408d6c44586a1e054b5d994282c": {
      "model_module": "@jupyter-widgets/controls",
      "model_module_version": "1.3.0",
      "model_name": "DescriptionStyleModel",
      "state": {
       "description_width": "initial"
      }
     },
     "27348ff4cf6f43f3bc0ff96d36985e2b": {
      "model_module": "@jupyter-widgets/controls",
      "model_module_version": "1.3.0",
      "model_name": "ButtonStyleModel",
      "state": {}
     },
     "27645d5d80e64bd786c309a24c3b116b": {
      "model_module": "@jupyter-widgets/controls",
      "model_module_version": "1.3.0",
      "model_name": "HBoxModel",
      "state": {
       "children": [
        "IPY_MODEL_f5ef5cb6d0784b048e1aeb3457d12429",
        "IPY_MODEL_1710dee4f34d45fa839741d6c5cb9791",
        "IPY_MODEL_c7ba9f580e2f44f8ac3909cd4c8f07ca"
       ],
       "layout": "IPY_MODEL_8d0e23add2b9481da7a92ad51f0ce287"
      }
     },
     "27eb9f315a014ec5910d557d7f83d4f0": {
      "model_module": "@jupyter-widgets/controls",
      "model_module_version": "1.3.0",
      "model_name": "ButtonStyleModel",
      "state": {}
     },
     "2809bb18c17546d4b906a3658dc162a8": {
      "model_module": "@jupyter-widgets/base",
      "model_module_version": "1.1.0",
      "model_name": "LayoutModel",
      "state": {
       "align_items": "center"
      }
     },
     "2841071046f04786bffd5e6a247e1fca": {
      "model_module": "@jupyter-widgets/controls",
      "model_module_version": "1.3.0",
      "model_name": "AccordionModel",
      "state": {
       "_titles": {
        "0": "Construction Method"
       },
       "children": [
        "IPY_MODEL_b30ec053b3844d269252b702e5db73dd"
       ],
       "layout": "IPY_MODEL_f3a8f25bd79d47ca90aa3cc7ecf9ee50"
      }
     },
     "288466d2823244a1ba9b0933e37238e3": {
      "model_module": "@jupyter-widgets/controls",
      "model_module_version": "1.3.0",
      "model_name": "CheckboxModel",
      "state": {
       "description": "Coordinate-Uniform evaluation",
       "disabled": false,
       "layout": "IPY_MODEL_e002352bdcd142dc97fe567f479dbd99",
       "style": "IPY_MODEL_7c1d2b93a99849c0a9713d06a07aacc2",
       "value": true
      }
     },
     "29d30f2dd5cc4481957f54f78c4ab131": {
      "model_module": "@jupyter-widgets/base",
      "model_module_version": "1.1.0",
      "model_name": "LayoutModel",
      "state": {
       "height": "200px",
       "width": "600px"
      }
     },
     "2a01ad7b3b1847dda742bb926948d831": {
      "model_module": "@jupyter-widgets/controls",
      "model_module_version": "1.3.0",
      "model_name": "LabelModel",
      "state": {
       "layout": "IPY_MODEL_a2acbe5356d247aa9443f9759d220362",
       "style": "IPY_MODEL_4067cd5ae56e47e2af69cb5e225aab6f"
      }
     },
     "2a7b3d1875864c5b951a3499ecf7dba2": {
      "model_module": "@jupyter-widgets/controls",
      "model_module_version": "1.3.0",
      "model_name": "DescriptionStyleModel",
      "state": {
       "description_width": "initial"
      }
     },
     "2a94292f76f742fd9cbbf9cc6257a6c2": {
      "model_module": "@jupyter-widgets/controls",
      "model_module_version": "1.3.0",
      "model_name": "TextModel",
      "state": {
       "layout": "IPY_MODEL_45a39c1bb65147d18d3f12bdd0900077",
       "style": "IPY_MODEL_1054d50d56d047818c7653525ef6b053",
       "value": "0.8"
      }
     },
     "2aca7a90a1ba4f10a75431293c5bd483": {
      "model_module": "@jupyter-widgets/controls",
      "model_module_version": "1.3.0",
      "model_name": "DescriptionStyleModel",
      "state": {
       "description_width": "initial"
      }
     },
     "2af6bcf2549446f48edb29e06e776432": {
      "model_module": "@jupyter-widgets/base",
      "model_module_version": "1.1.0",
      "model_name": "LayoutModel",
      "state": {
       "height": "500px",
       "width": "600px"
      }
     },
     "2afbcfa44fa84f978ac6bdba5d1184a2": {
      "model_module": "@jupyter-widgets/base",
      "model_module_version": "1.1.0",
      "model_name": "LayoutModel",
      "state": {
       "width": "900px"
      }
     },
     "2be2b04e5cef4d56aa7fef6efbb09f29": {
      "model_module": "@jupyter-widgets/controls",
      "model_module_version": "1.3.0",
      "model_name": "HBoxModel",
      "state": {
       "children": [
        "IPY_MODEL_86aa5f00668a4fd59741fb8098d5f218",
        "IPY_MODEL_9973561c2ee94431a524e7fff1e0736e",
        "IPY_MODEL_7d349fd4892443fd9ea4fa2dedf3c6ab",
        "IPY_MODEL_b8703011660a47f58a0fad7a17928b0f"
       ],
       "layout": "IPY_MODEL_a804fb90cd96423abdcac1b5f562e95f"
      }
     },
     "2c3d5ece53e34389b6a7eeaff8c8ac8f": {
      "model_module": "@jupyter-widgets/controls",
      "model_module_version": "1.3.0",
      "model_name": "CheckboxModel",
      "state": {
       "description": "Normalization",
       "disabled": false,
       "layout": "IPY_MODEL_9d44033a1e5a4b3aaefa88b1c9b0b129",
       "style": "IPY_MODEL_0e05a4246a3c46138e7cbb0087eee1d4",
       "value": false
      }
     },
     "2c82fbb72ccd498e9a2b102d293949a2": {
      "model_module": "@jupyter-widgets/controls",
      "model_module_version": "1.3.0",
      "model_name": "TextModel",
      "state": {
       "description": "Max Level (optional):",
       "layout": "IPY_MODEL_b49c43714c394b2ab017faec04f0977f",
       "placeholder": "10",
       "style": "IPY_MODEL_0ac9339c0fae4341b744dd3a8130d614"
      }
     },
     "2c89664c239e4962a6413a1593a2d21b": {
      "model_module": "@jupyter-widgets/controls",
      "model_module_version": "1.3.0",
      "model_name": "DescriptionStyleModel",
      "state": {
       "description_width": "initial"
      }
     },
     "2cdde462845b445098eb219e474798b9": {
      "model_module": "@jupyter-widgets/base",
      "model_module_version": "1.1.0",
      "model_name": "LayoutModel",
      "state": {}
     },
     "2df622ee4e7443db973169fe70b7cbbd": {
      "model_module": "@jupyter-widgets/controls",
      "model_module_version": "1.3.0",
      "model_name": "DescriptionStyleModel",
      "state": {
       "description_width": "initial"
      }
     },
     "2e1a20df219e482b94fa4f80d7de2eec": {
      "model_module": "@jupyter-widgets/controls",
      "model_module_version": "1.3.0",
      "model_name": "HBoxModel",
      "state": {
       "children": [
        "IPY_MODEL_3d00b6be41e04504b3642b6f91b019fc",
        "IPY_MODEL_457a988edf6941df9315c2f4fc8c02cd",
        "IPY_MODEL_a7f4c315a4ff4eddbd8f9cfd2f192b42"
       ],
       "layout": "IPY_MODEL_c33dc05c43154f5ba69f1c6b97b62484"
      }
     },
     "2e2cb44003c442b9921fc0fec4434cf0": {
      "model_module": "@jupyter-widgets/controls",
      "model_module_version": "1.3.0",
      "model_name": "HBoxModel",
      "state": {
       "children": [
        "IPY_MODEL_9fdb9a3c8638480cba328b80d1e78c86",
        "IPY_MODEL_e2da75fbdbe44d1497fb2ab6fae9e3c2",
        "IPY_MODEL_141027ee1b814d7a9a2fa73a1b434f9c"
       ],
       "layout": "IPY_MODEL_9c511370e7f3496fb1615e24cc98ed8e"
      }
     },
     "2edae8ee19c64b4da96fbc64ddbd1256": {
      "model_module": "@jupyter-widgets/controls",
      "model_module_version": "1.3.0",
      "model_name": "HBoxModel",
      "state": {
       "children": [
        "IPY_MODEL_045ea6e0f03c4c47b41cf61f4880ff44",
        "IPY_MODEL_abcf02c3eada46ddba34b90a9e6a9695"
       ],
       "layout": "IPY_MODEL_09a01a55a7b34ac39b404a51531bfd91"
      }
     },
     "2f2842959c6b4fabbb2d3fc12e168bb3": {
      "model_module": "@jupyter-widgets/base",
      "model_module_version": "1.1.0",
      "model_name": "LayoutModel",
      "state": {
       "margin": "0px 0px 0px 80px",
       "width": "550px"
      }
     },
     "2f5a9fafef5249bdab6cab770d4eb691": {
      "model_module": "@jupyter-widgets/controls",
      "model_module_version": "1.3.0",
      "model_name": "AccordionModel",
      "state": {
       "_titles": {
        "0": "Exploration Method"
       },
       "children": [
        "IPY_MODEL_17340070a3284e3db27d3c7763c1ad61"
       ],
       "layout": "IPY_MODEL_1ba3c39c26d54ac6b920d98e8a28a2c7"
      }
     },
     "2f8081f8410c47eba13743da8a73eadb": {
      "model_module": "@jupyter-widgets/controls",
      "model_module_version": "1.3.0",
      "model_name": "DescriptionStyleModel",
      "state": {
       "description_width": "initial"
      }
     },
     "3029290bc40a48588cb41c69c0de817c": {
      "model_module": "@jupyter-widgets/base",
      "model_module_version": "1.1.0",
      "model_name": "LayoutModel",
      "state": {}
     },
     "3174b0b8fe36453f9f1722a66f36c830": {
      "model_module": "@jupyter-widgets/controls",
      "model_module_version": "1.3.0",
      "model_name": "DescriptionStyleModel",
      "state": {
       "description_width": "initial"
      }
     },
     "317734211a59407a94b886df118a072f": {
      "model_module": "@jupyter-widgets/base",
      "model_module_version": "1.1.0",
      "model_name": "LayoutModel",
      "state": {
       "width": "50px"
      }
     },
     "31e614c265bc4ff2b5bd7dd830842df7": {
      "model_module": "@jupyter-widgets/controls",
      "model_module_version": "1.3.0",
      "model_name": "ButtonModel",
      "state": {
       "description": "Remove",
       "layout": "IPY_MODEL_c0b8c61cf82d4ae9a9060beafba22413",
       "style": "IPY_MODEL_6d1325b9f10b4ef49e27488c95eff920",
       "tooltip": "Remove this type of weights"
      }
     },
     "32bf74e042e94e3e85df3e1caa7fa05d": {
      "model_module": "@jupyter-widgets/base",
      "model_module_version": "1.1.0",
      "model_name": "LayoutModel",
      "state": {
       "display": "none"
      }
     },
     "32d62e5443f2405ab5fca991bc43c93d": {
      "model_module": "@jupyter-widgets/controls",
      "model_module_version": "1.3.0",
      "model_name": "DescriptionStyleModel",
      "state": {
       "description_width": "initial"
      }
     },
     "336386267ad444d1adfc6fe3dbb917bf": {
      "model_module": "@jupyter-widgets/controls",
      "model_module_version": "1.3.0",
      "model_name": "VBoxModel",
      "state": {
       "children": [
        "IPY_MODEL_f91212998e3c42e69e73ca7ce1a789f1",
        "IPY_MODEL_bb8cd827881c4e70a18086f3fd685f34"
       ],
       "layout": "IPY_MODEL_fc70fddbafcd4803a27230a03888f836"
      }
     },
     "33834a8e7a394610b32d6c1b96d4b56a": {
      "model_module": "@jupyter-widgets/base",
      "model_module_version": "1.1.0",
      "model_name": "LayoutModel",
      "state": {}
     },
     "33b60ce959db4e8180b3e1586cee4d00": {
      "model_module": "@jupyter-widgets/base",
      "model_module_version": "1.1.0",
      "model_name": "LayoutModel",
      "state": {}
     },
     "33e6ba386ed948438bd9b5b64e8f9610": {
      "model_module": "@jupyter-widgets/base",
      "model_module_version": "1.1.0",
      "model_name": "LayoutModel",
      "state": {}
     },
     "340e6931aa9343848ed08c797a6399c7": {
      "model_module": "@jupyter-widgets/controls",
      "model_module_version": "1.3.0",
      "model_name": "DescriptionStyleModel",
      "state": {
       "description_width": "initial"
      }
     },
     "344580ca923840178e21fdf5a86f5538": {
      "model_module": "@jupyter-widgets/controls",
      "model_module_version": "1.3.0",
      "model_name": "VBoxModel",
      "state": {
       "children": [
        "IPY_MODEL_4c53df97f8244d179603a097aad3151f",
        "IPY_MODEL_cd9706821bbb4e6b9b9a2f0b1757e200",
        "IPY_MODEL_815a9e5a2681441685dbf8404ecaf877"
       ],
       "layout": "IPY_MODEL_a824392c2aa04bad975ca8fb27d502fc"
      }
     },
     "34a9be0fce9c4290b11b7d5ab317a5f5": {
      "model_module": "@jupyter-widgets/controls",
      "model_module_version": "1.3.0",
      "model_name": "ProgressStyleModel",
      "state": {
       "description_width": "initial"
      }
     },
     "364b96c1a4ec480caba6d62240f922e6": {
      "model_module": "@jupyter-widgets/base",
      "model_module_version": "1.1.0",
      "model_name": "LayoutModel",
      "state": {}
     },
     "3776c65db1e94453b9c361e5e80350dc": {
      "model_module": "@jupyter-widgets/controls",
      "model_module_version": "1.3.0",
      "model_name": "DescriptionStyleModel",
      "state": {
       "description_width": ""
      }
     },
     "379abb9832dd4f10ba26fae67bfb7404": {
      "model_module": "@jupyter-widgets/base",
      "model_module_version": "1.1.0",
      "model_name": "LayoutModel",
      "state": {
       "width": "100px"
      }
     },
     "379c75481c114618a40db35013137f1e": {
      "model_module": "@jupyter-widgets/controls",
      "model_module_version": "1.3.0",
      "model_name": "HTMLMathModel",
      "state": {
       "layout": "IPY_MODEL_da1900c099da45c1aa6965f9f6e5fea9",
       "style": "IPY_MODEL_532e942b548f4675aa455182d2a1b166",
       "value": "<p> Please note (and see the documentation for more details) that: </p>                         <ul>                            <li> The list of available figures of merit depend on the point set type and the interlacing factor. </li>                            <li> The \\(P_\\alpha \\) method requires \\( \\alpha \\in \\{ 2, 4, 6 \\} \\), while \\(R_\\alpha \\) and \\(IA_\\alpha \\) require \\( \\alpha > 0 \\). </li>                             <li> The Coordinate-Uniform (CU) evaluation method is generally faster, but requires q = 2.<br>Depending on the point set type and the figure, this option is mandatory, optional or impossible.</li>                             <li> The possibility to choose the norm type depends on the point set type, the figure, and the CU option.</li>                            <li> The t-value is the only figure for which weights, norm type and CU evaluation do not make sense.</li>                        </ul>"
      }
     },
     "3884f53116124923889b12142921318a": {
      "model_module": "@jupyter-widgets/base",
      "model_module_version": "1.1.0",
      "model_name": "LayoutModel",
      "state": {
       "margin": "0px 0px 0px 80px",
       "width": "550px"
      }
     },
     "388dd05912ed4fd4a8b702ecb6d653d7": {
      "model_module": "@jupyter-widgets/controls",
      "model_module_version": "1.3.0",
      "model_name": "DescriptionStyleModel",
      "state": {
       "description_width": ""
      }
     },
     "39a43cda4d064bdb941153143f7f290d": {
      "model_module": "@jupyter-widgets/base",
      "model_module_version": "1.1.0",
      "model_name": "LayoutModel",
      "state": {}
     },
     "3a11ec029f814fa08838f1a940547e11": {
      "model_module": "@jupyter-widgets/controls",
      "model_module_version": "1.3.0",
      "model_name": "VBoxModel",
      "state": {
       "children": [
        "IPY_MODEL_4dfeca7ae69242399f06ea8da8f7a5f2",
        "IPY_MODEL_e3f5703f903c439e87d4ec13f5ed7ab1"
       ],
       "layout": "IPY_MODEL_882c719c6a1b4e7488268ed62270224d"
      }
     },
     "3b2b8c308eb2444a9359fbd94747daba": {
      "model_module": "@jupyter-widgets/base",
      "model_module_version": "1.1.0",
      "model_name": "LayoutModel",
      "state": {
       "width": "270px"
      }
     },
     "3b4e56fddb6b4d2789d753d72c6c1dbe": {
      "model_module": "@jupyter-widgets/base",
      "model_module_version": "1.1.0",
      "model_name": "LayoutModel",
      "state": {
       "width": "180px"
      }
     },
     "3b5a9b115a354cc0920e1d1f9adaee5c": {
      "model_module": "@jupyter-widgets/controls",
      "model_module_version": "1.3.0",
      "model_name": "TextareaModel",
      "state": {
       "layout": "IPY_MODEL_80361b1cc0004918b604ef47c56e6265",
       "placeholder": "1 0 0\n0 1 0\n0 0 1\n\n1 1 0\n1 0 1\n0 1 1",
       "style": "IPY_MODEL_84ea8f9b942d45a89e092fc177a6b0e3"
      }
     },
     "3b7669fc795941aba2e8e47f5baa8565": {
      "model_module": "@jupyter-widgets/controls",
      "model_module_version": "1.3.0",
      "model_name": "TextModel",
      "state": {
       "layout": "IPY_MODEL_88c2afb189a94788bf1e4cb750994048",
       "style": "IPY_MODEL_2f8081f8410c47eba13743da8a73eadb",
       "value": "1"
      }
     },
     "3b915ba3eeb3429a9fd5379b7b856985": {
      "model_module": "@jupyter-widgets/controls",
      "model_module_version": "1.3.0",
      "model_name": "VBoxModel",
      "state": {
       "children": [
        "IPY_MODEL_27645d5d80e64bd786c309a24c3b116b",
        "IPY_MODEL_72b0a00312fe401d8ac895471a4fa9ae"
       ],
       "layout": "IPY_MODEL_987be98ca85d4b2d81b82e7105605803"
      }
     },
     "3c19a6375e8047a19c39a795bb3f0de6": {
      "model_module": "@jupyter-widgets/controls",
      "model_module_version": "1.3.0",
      "model_name": "AccordionModel",
      "state": {
       "_titles": {
        "0": "Lattice Type"
       },
       "children": [
        "IPY_MODEL_fc4f61ce4ad849ed8ee6caf7f25cd9b0"
       ],
       "layout": "IPY_MODEL_33b60ce959db4e8180b3e1586cee4d00"
      }
     },
     "3c8fce3adfac4992a6f03739f15bf426": {
      "model_module": "@jupyter-widgets/controls",
      "model_module_version": "1.3.0",
      "model_name": "TextModel",
      "state": {
       "layout": "IPY_MODEL_55fc21f4bf4b439cb381645b90242b71",
       "style": "IPY_MODEL_340e6931aa9343848ed08c797a6399c7",
       "value": "1"
      }
     },
     "3cdd5b3bffc54dbeb7e3e8f7b7f45afb": {
      "model_module": "@jupyter-widgets/controls",
      "model_module_version": "1.3.0",
      "model_name": "DescriptionStyleModel",
      "state": {
       "description_width": ""
      }
     },
     "3d00b6be41e04504b3642b6f91b019fc": {
      "model_module": "@jupyter-widgets/controls",
      "model_module_version": "1.3.0",
      "model_name": "ButtonModel",
      "state": {
       "description": "Search",
       "layout": "IPY_MODEL_065bb978030a4273bdd59bdffb95ab24",
       "style": "IPY_MODEL_080396bac16346dfb9de720dd552f689"
      }
     },
     "3d14896d96f740b59a40d727b6718c97": {
      "model_module": "@jupyter-widgets/controls",
      "model_module_version": "1.3.0",
      "model_name": "ButtonModel",
      "state": {
       "description": "Search",
       "layout": "IPY_MODEL_00a608aa0bd84d8fbe91df7c7fa567f5",
       "style": "IPY_MODEL_b0f3e10fbfe34487a1b050ce3106e1fe"
      }
     },
     "3d41b720a5d94263be117ba74edf7168": {
      "model_module": "@jupyter-widgets/base",
      "model_module_version": "1.1.0",
      "model_name": "LayoutModel",
      "state": {}
     },
     "3db853f274084c5796009db968fe3f64": {
      "model_module": "@jupyter-widgets/base",
      "model_module_version": "1.1.0",
      "model_name": "LayoutModel",
      "state": {
       "display": "none"
      }
     },
     "3e9ef11655824b3d92607e5dc2cf0eaf": {
      "model_module": "@jupyter-widgets/base",
      "model_module_version": "1.1.0",
      "model_name": "LayoutModel",
      "state": {}
     },
     "3ea4bb8ffe8747f3a8a4b44a92f94fc4": {
      "model_module": "@jupyter-widgets/base",
      "model_module_version": "1.1.0",
      "model_name": "LayoutModel",
      "state": {
       "width": "170px"
      }
     },
     "3ed7b7acb80f46028edc9397510f4385": {
      "model_module": "@jupyter-widgets/base",
      "model_module_version": "1.1.0",
      "model_name": "LayoutModel",
      "state": {
       "width": "200px"
      }
     },
     "3f46740097004fcda7b5c51fcb5102fa": {
      "model_module": "@jupyter-widgets/base",
      "model_module_version": "1.1.0",
      "model_name": "LayoutModel",
      "state": {}
     },
     "4019f17562bd48ef91c36dc1271481fb": {
      "model_module": "@jupyter-widgets/controls",
      "model_module_version": "1.3.0",
      "model_name": "DescriptionStyleModel",
      "state": {
       "description_width": "initial"
      }
     },
     "403bdea77fe04fa4b556fde2aa03e54e": {
      "model_module": "@jupyter-widgets/base",
      "model_module_version": "1.1.0",
      "model_name": "LayoutModel",
      "state": {}
     },
     "4067cd5ae56e47e2af69cb5e225aab6f": {
      "model_module": "@jupyter-widgets/controls",
      "model_module_version": "1.3.0",
      "model_name": "DescriptionStyleModel",
      "state": {
       "description_width": ""
      }
     },
     "407eaa8079794bd49c994ccc06b3103c": {
      "model_module": "@jupyter-widgets/base",
      "model_module_version": "1.1.0",
      "model_name": "LayoutModel",
      "state": {}
     },
     "411b118c257e46259cd93979efa8c0ce": {
      "model_module": "@jupyter-widgets/base",
      "model_module_version": "1.1.0",
      "model_name": "LayoutModel",
      "state": {}
     },
     "413e3dc6b8ba43bebe5175a69713d62b": {
      "model_module": "@jupyter-widgets/controls",
      "model_module_version": "1.3.0",
      "model_name": "DescriptionStyleModel",
      "state": {
       "description_width": ""
      }
     },
     "4263312355f741ef9de91138f273079e": {
      "model_module": "@jupyter-widgets/base",
      "model_module_version": "1.1.0",
      "model_name": "LayoutModel",
      "state": {
       "width": "15%"
      }
     },
     "434b1d3ce5bf40e3aef04713242a3aea": {
      "model_module": "@jupyter-widgets/base",
      "model_module_version": "1.1.0",
      "model_name": "LayoutModel",
      "state": {}
     },
     "43535789e8f647ed85bae6e0bf0d2749": {
      "model_module": "@jupyter-widgets/controls",
      "model_module_version": "1.3.0",
      "model_name": "DescriptionStyleModel",
      "state": {
       "description_width": "initial"
      }
     },
     "4358e18d6fd847c0b8de116a52f25aaf": {
      "model_module": "@jupyter-widgets/controls",
      "model_module_version": "1.3.0",
      "model_name": "BoundedIntTextModel",
      "state": {
       "description": "Dimension s:",
       "layout": "IPY_MODEL_1fd642a25e474fc8af4a23bc82382eb2",
       "min": 1,
       "style": "IPY_MODEL_b61f5d368a4e467c88a79b806d1f726d",
       "value": 3
      }
     },
     "447ed80901b942a09eb30781933e1321": {
      "model_module": "@jupyter-widgets/base",
      "model_module_version": "1.1.0",
      "model_name": "LayoutModel",
      "state": {}
     },
     "44bebba0f3bd43539d28188896c3fec9": {
      "model_module": "@jupyter-widgets/controls",
      "model_module_version": "1.3.0",
      "model_name": "ToggleButtonsStyleModel",
      "state": {
       "button_width": "",
       "description_width": "initial"
      }
     },
     "457a988edf6941df9315c2f4fc8c02cd": {
      "model_module": "@jupyter-widgets/controls",
      "model_module_version": "1.3.0",
      "model_name": "ToggleButtonModel",
      "state": {
       "description": "Abort search",
       "disabled": true,
       "layout": "IPY_MODEL_9ba67f8990804355a9b5389ad9781806",
       "style": "IPY_MODEL_e8fede89c0ac4005aa15ba108c868924"
      }
     },
     "459aa008c1de4d948552722fb1cc36c1": {
      "model_module": "@jupyter-widgets/controls",
      "model_module_version": "1.3.0",
      "model_name": "DescriptionStyleModel",
      "state": {
       "description_width": "initial"
      }
     },
     "45a39c1bb65147d18d3f12bdd0900077": {
      "model_module": "@jupyter-widgets/base",
      "model_module_version": "1.1.0",
      "model_name": "LayoutModel",
      "state": {
       "width": "50px"
      }
     },
     "45ed4ec711fc49899588b28db3f7bf32": {
      "model_module": "@jupyter-widgets/controls",
      "model_module_version": "1.3.0",
      "model_name": "DescriptionStyleModel",
      "state": {
       "description_width": "initial"
      }
     },
     "481f9a3b3f3d402fb476b22d881ec62c": {
      "model_module": "@jupyter-widgets/controls",
      "model_module_version": "1.3.0",
      "model_name": "TextModel",
      "state": {
       "description": "Modulus n=",
       "layout": "IPY_MODEL_bba81b9a39aa47ec939c28e5f5ba78fb",
       "placeholder": "e.g. 2^10 (default) or 1024",
       "style": "IPY_MODEL_ffd68edbd7d4477ab98ef70803bce7a8"
      }
     },
     "481fbc3099864d41a648f580a84fa351": {
      "model_module": "@jupyter-widgets/base",
      "model_module_version": "1.1.0",
      "model_name": "LayoutModel",
      "state": {
       "width": "100px"
      }
     },
     "486c187c8d854ba6b96ec410fead0a8b": {
      "model_module": "@jupyter-widgets/base",
      "model_module_version": "1.1.0",
      "model_name": "LayoutModel",
      "state": {}
     },
     "48e5c2205f2e4e69b3affaaa59d885fb": {
      "model_module": "@jupyter-widgets/base",
      "model_module_version": "1.1.0",
      "model_name": "LayoutModel",
      "state": {
       "display": "none",
       "margin": "0px 10px 0px 0px",
       "width": "180px"
      }
     },
     "499046215c2e46a5a6ff770eb8b419f2": {
      "model_module": "@jupyter-widgets/controls",
      "model_module_version": "1.3.0",
      "model_name": "DescriptionStyleModel",
      "state": {
       "description_width": "initial"
      }
     },
     "4a0a9a5b6f054d2fb33383801ad1a3ba": {
      "model_module": "@jupyter-widgets/controls",
      "model_module_version": "1.3.0",
      "model_name": "ToggleButtonsStyleModel",
      "state": {
       "button_width": "",
       "description_width": "initial"
      }
     },
     "4ae687b69d6949b49e1b2223ae468e5f": {
      "model_module": "@jupyter-widgets/controls",
      "model_module_version": "1.3.0",
      "model_name": "HTMLModel",
      "state": {
       "description": "<b> Command line: </b>",
       "layout": "IPY_MODEL_4c157c6c7b80498ebdc72cf96555c985",
       "style": "IPY_MODEL_43535789e8f647ed85bae6e0bf0d2749"
      }
     },
     "4b194676fb354975bbcc142bebb07b3b": {
      "model_module": "@jupyter-widgets/base",
      "model_module_version": "1.1.0",
      "model_name": "LayoutModel",
      "state": {
       "width": "100px"
      }
     },
     "4b4ec0f57a7749cea22d27ef12896a52": {
      "model_module": "@jupyter-widgets/base",
      "model_module_version": "1.1.0",
      "model_name": "LayoutModel",
      "state": {
       "display": "none"
      }
     },
     "4bca322a39d2465abce474b1a1c75ddd": {
      "model_module": "@jupyter-widgets/controls",
      "model_module_version": "1.3.0",
      "model_name": "TextModel",
      "state": {
       "layout": "IPY_MODEL_f89b1047c9224f24b183815377f926b8",
       "style": "IPY_MODEL_f4d70e9da55442eea093d3ae31e1e849",
       "value": "1"
      }
     },
     "4c157c6c7b80498ebdc72cf96555c985": {
      "model_module": "@jupyter-widgets/base",
      "model_module_version": "1.1.0",
      "model_name": "LayoutModel",
      "state": {
       "width": "900px"
      }
     },
     "4c53df97f8244d179603a097aad3151f": {
      "model_module": "@jupyter-widgets/controls",
      "model_module_version": "1.3.0",
      "model_name": "HTMLMathModel",
      "state": {
       "layout": "IPY_MODEL_bddfe1e3bf754c3c9ac57b7254978470",
       "style": "IPY_MODEL_388dd05912ed4fd4a8b702ecb6d653d7",
       "value": "The weights are of the form: \\(\\gamma_u^q (u \\subseteq \\{1, ... s\\})\\). You can specify below type of weights with their values (the actual weights are the sum of these).See <a href=\"https://github.com/PierreMarion23/latbuilder/tree/dev/web-ui/weights_guidelines.md\" target=\"_blank\">this GitHub page</a> for guidelines on the choice of weights."
      }
     },
     "4cf64178dcfe4ac1946c3e43ae8a2cec": {
      "model_module": "@jupyter-widgets/base",
      "model_module_version": "1.1.0",
      "model_name": "LayoutModel",
      "state": {
       "width": "50px"
      }
     },
     "4dd1330d935944f7afe96e2551210c9b": {
      "model_module": "@jupyter-widgets/controls",
      "model_module_version": "1.3.0",
      "model_name": "HBoxModel",
      "state": {
       "children": [
        "IPY_MODEL_4bca322a39d2465abce474b1a1c75ddd",
        "IPY_MODEL_8378bed377fd40149ed9e1f0e199849e",
        "IPY_MODEL_8b4724d8ed964517a3d0f5f07192b2ad"
       ],
       "layout": "IPY_MODEL_17e731e3938941da9797b39a30126963"
      }
     },
     "4dfeca7ae69242399f06ea8da8f7a5f2": {
      "model_module": "@jupyter-widgets/controls",
      "model_module_version": "1.3.0",
      "model_name": "HBoxModel",
      "state": {
       "children": [
        "IPY_MODEL_ca17b0ba33654b258f8b89925e89be41",
        "IPY_MODEL_3c8fce3adfac4992a6f03739f15bf426",
        "IPY_MODEL_24e51b20a4cd4ae49ff515addae208be"
       ],
       "layout": "IPY_MODEL_f402095f85ea428c92fe404a9d0e3906"
      }
     },
     "4e56918779af43bfb330e0a565895241": {
      "model_module": "@jupyter-widgets/controls",
      "model_module_version": "1.3.0",
      "model_name": "HTMLMathModel",
      "state": {
       "layout": "IPY_MODEL_9d429d64dd984d0abd2b23c6ad9eea47",
       "style": "IPY_MODEL_7a3ed934a750490ba9a7428463f21add",
       "value": "<p> Please note (and see the documentation for more details) that: </p>                         <ul>                            <li> The list of available figures of merit depend on the point set type and the interlacing factor. </li>                            <li> The \\(P_\\alpha \\) method requires \\( \\alpha \\in \\{ 2, 4, 6 \\} \\), while \\(R_\\alpha \\) and \\(IA_\\alpha \\) require \\( \\alpha > 0 \\). </li>                             <li> The Coordinate-Uniform (CU) evaluation method is generally faster, but requires q = 2.<br>Depending on the point set type and the figure, this option is mandatory, optional or impossible.</li>                             <li> The possibility to choose the norm type depends on the point set type, the figure, and the CU option.</li>                            <li> The t-value is the only figure for which weights, norm type and CU evaluation do not make sense.</li>                        </ul>"
      }
     },
     "4e70fc96a95b4a3a9bd6983d75673b62": {
      "model_module": "@jupyter-widgets/controls",
      "model_module_version": "1.3.0",
      "model_name": "DescriptionStyleModel",
      "state": {
       "description_width": "initial"
      }
     },
     "4e90645d961c4ddbb835b40b77cb7502": {
      "model_module": "@jupyter-widgets/controls",
      "model_module_version": "1.3.0",
      "model_name": "DescriptionStyleModel",
      "state": {
       "description_width": "initial"
      }
     },
     "4f11c9a6652d403d9d4f981a452b57df": {
      "model_module": "@jupyter-widgets/controls",
      "model_module_version": "1.3.0",
      "model_name": "VBoxModel",
      "state": {
       "children": [
        "IPY_MODEL_691513632be34d4990948c8d5c7ba7c5",
        "IPY_MODEL_c7f79a0c5e07480b99d07262b57b30a8"
       ],
       "layout": "IPY_MODEL_673b88a50fa14c9eba618f890caf08a1"
      }
     },
     "4f1fc6c5bc4a468ea3ae9a6debeb82d4": {
      "model_module": "@jupyter-widgets/controls",
      "model_module_version": "1.3.0",
      "model_name": "TextareaModel",
      "state": {
       "layout": "IPY_MODEL_e6d5d725929b4c30822b187a8911057d",
       "placeholder": "0\n1\n1,1\n1,3,5",
       "style": "IPY_MODEL_413e3dc6b8ba43bebe5175a69713d62b"
      }
     },
     "4fa857172de245eeb6901bc1fe062fac": {
      "model_module": "@jupyter-widgets/base",
      "model_module_version": "1.1.0",
      "model_name": "LayoutModel",
      "state": {}
     },
     "4fc57a6c71f042419a6a867cab5db693": {
      "model_module": "@jupyter-widgets/controls",
      "model_module_version": "1.3.0",
      "model_name": "HTMLMathModel",
      "state": {
       "layout": "IPY_MODEL_3ea4bb8ffe8747f3a8a4b44a92f94fc4",
       "style": "IPY_MODEL_5a4d34c76b7748168402a8427e65ff50",
       "value": "Set Order Weights \\( \\Gamma_k^q \\):"
      }
     },
     "5063782b790345848a6ca1459ca6f91c": {
      "model_module": "@jupyter-widgets/base",
      "model_module_version": "1.1.0",
      "model_name": "LayoutModel",
      "state": {}
     },
     "515b5914031c42718c216cdbc740a5ca": {
      "model_module": "@jupyter-widgets/controls",
      "model_module_version": "1.3.0",
      "model_name": "HTMLModel",
      "state": {
       "description": "<b> Result: </b>",
       "layout": "IPY_MODEL_203560a883b8436fad3df22d05985386",
       "style": "IPY_MODEL_c7189383ae8e41f3babebba5e48030cf",
       "value": "<span> <b> Number of points </b>: 1024 </span><p> <b> Generating Vector </b>: [1, 275, 167] </p><p> <b> Merit value </b>: 0.00327879 </p> <p> <b> CPU Time </b>: 0.00350443 seconds </p>"
      }
     },
     "532e942b548f4675aa455182d2a1b166": {
      "model_module": "@jupyter-widgets/controls",
      "model_module_version": "1.3.0",
      "model_name": "DescriptionStyleModel",
      "state": {
       "description_width": ""
      }
     },
     "53852fbda98841a29eb8a0957cfcb8a5": {
      "model_module": "@jupyter-widgets/controls",
      "model_module_version": "1.3.0",
      "model_name": "VBoxModel",
      "state": {
       "children": [
        "IPY_MODEL_f90a02b5d1874808a49fa5ecb492a9df",
        "IPY_MODEL_2edae8ee19c64b4da96fbc64ddbd1256",
        "IPY_MODEL_a9892ee38bbe46d3892080083e3054b0",
        "IPY_MODEL_3a11ec029f814fa08838f1a940547e11",
        "IPY_MODEL_3b5a9b115a354cc0920e1d1f9adaee5c",
        "IPY_MODEL_56598511b0894d6db649b7dde71aaa91",
        "IPY_MODEL_553849578807442484bea305ca61e5a6",
        "IPY_MODEL_afa78fff462842a188e8557d8d400f04"
       ],
       "layout": "IPY_MODEL_f4f849ec6c0d41f2a224bb60e981fe4b"
      }
     },
     "548502c65c4d496fb5b5b146f77d23ed": {
      "model_module": "@jupyter-widgets/base",
      "model_module_version": "1.1.0",
      "model_name": "LayoutModel",
      "state": {
       "justify_content": "space-around"
      }
     },
     "54b08ac141914f84808d204548a3f89b": {
      "model_module": "@jupyter-widgets/controls",
      "model_module_version": "1.3.0",
      "model_name": "DescriptionStyleModel",
      "state": {
       "description_width": "initial"
      }
     },
     "553849578807442484bea305ca61e5a6": {
      "model_module": "@jupyter-widgets/controls",
      "model_module_version": "1.3.0",
      "model_name": "BoundedIntTextModel",
      "state": {
       "description": "Minimal random dimension:",
       "disabled": true,
       "layout": "IPY_MODEL_c12fcdca76bd48f4984237af5d37288b",
       "min": 1,
       "style": "IPY_MODEL_893eed2cdf1c44c8ab3ae495a088c681",
       "value": 1
      }
     },
     "55a2d24c2df44d6bbc0e7e8d757f9646": {
      "model_module": "@jupyter-widgets/base",
      "model_module_version": "1.1.0",
      "model_name": "LayoutModel",
      "state": {}
     },
     "55fc21f4bf4b439cb381645b90242b71": {
      "model_module": "@jupyter-widgets/base",
      "model_module_version": "1.1.0",
      "model_name": "LayoutModel",
      "state": {
       "width": "100px"
      }
     },
     "56598511b0894d6db649b7dde71aaa91": {
      "model_module": "@jupyter-widgets/controls",
      "model_module_version": "1.3.0",
      "model_name": "HBoxModel",
      "state": {
       "children": [
        "IPY_MODEL_93dc5d6cf1e24242924e005d4a63b2c2",
        "IPY_MODEL_6d721274674a45d18c6a04a9da3831ca"
       ],
       "layout": "IPY_MODEL_a0c21467d7aa4cba9ab4592480d975bc"
      }
     },
     "571bab765b00440a963cb30872c505b8": {
      "model_module": "@jupyter-widgets/controls",
      "model_module_version": "1.3.0",
      "model_name": "DescriptionStyleModel",
      "state": {
       "description_width": ""
      }
     },
     "574ca72c7c0d4274991b0055be6900b7": {
      "model_module": "@jupyter-widgets/controls",
      "model_module_version": "1.3.0",
      "model_name": "ToggleButtonsModel",
      "state": {
       "_options_labels": [
        "Evaluate/Extend",
        "All space",
        "Korobov",
        "CBC",
        "Fast CBC"
       ],
       "button_style": "",
       "description": "Choose one:",
       "icons": [],
       "index": 4,
       "layout": "IPY_MODEL_7fa2bbd35cd5428c81138c01a4a91030",
       "style": "IPY_MODEL_44bebba0f3bd43539d28188896c3fec9",
       "tooltips": []
      }
     },
     "5855bb16c2674634bc4117eb22239f37": {
      "model_module": "@jupyter-widgets/controls",
      "model_module_version": "1.3.0",
      "model_name": "FloatProgressModel",
      "state": {
       "bar_style": "info",
       "description": "Number of nets explored:",
       "layout": "IPY_MODEL_3db853f274084c5796009db968fe3f64",
       "max": 1,
       "style": "IPY_MODEL_69c1890149a641b39cb78e7bb2b50030"
      }
     },
     "58c23de73e9a4832bdea50834c49bc9c": {
      "model_module": "@jupyter-widgets/base",
      "model_module_version": "1.1.0",
      "model_name": "LayoutModel",
      "state": {}
     },
     "58d501d73ee84b1f830aa6ed27c9f585": {
      "model_module": "@jupyter-widgets/controls",
      "model_module_version": "1.3.0",
      "model_name": "HBoxModel",
      "state": {
       "children": [
        "IPY_MODEL_eef8240f0fb84bcf9f4046bd9dc0c0c7",
        "IPY_MODEL_de97e3d31a654852a70e3a8cd71f9dee",
        "IPY_MODEL_e122fd561a1a4e1db660d4ce41ed7958"
       ],
       "layout": "IPY_MODEL_88d920fa94344e269fed090ed6a1549d"
      }
     },
     "595f4390db164f79b116177d418dbf6e": {
      "model_module": "@jupyter-widgets/controls",
      "model_module_version": "1.3.0",
      "model_name": "HBoxModel",
      "state": {
       "children": [
        "IPY_MODEL_14aa011a20404331868bc29d9eb029c8",
        "IPY_MODEL_63a721c3f27548558d41b43b0a160819"
       ],
       "layout": "IPY_MODEL_b768936969b04955826cc2d974846259"
      }
     },
     "5a4d34c76b7748168402a8427e65ff50": {
      "model_module": "@jupyter-widgets/controls",
      "model_module_version": "1.3.0",
      "model_name": "DescriptionStyleModel",
      "state": {
       "description_width": ""
      }
     },
     "5a8c81386cde46e2af02a5e6926bde35": {
      "model_module": "@jupyter-widgets/base",
      "model_module_version": "1.1.0",
      "model_name": "LayoutModel",
      "state": {
       "display": "none"
      }
     },
     "5cd7e32153fb4ec891619ddd79147ad3": {
      "model_module": "@jupyter-widgets/controls",
      "model_module_version": "1.3.0",
      "model_name": "AccordionModel",
      "state": {
       "_titles": {
        "0": "Basic Lattice properties"
       },
       "children": [
        "IPY_MODEL_58d501d73ee84b1f830aa6ed27c9f585"
       ],
       "layout": "IPY_MODEL_6115d6d7dbf745268554e66a0f43c4b7"
      }
     },
     "5d0c72abad73498ebb5605647489fd0e": {
      "model_module": "@jupyter-widgets/base",
      "model_module_version": "1.1.0",
      "model_name": "LayoutModel",
      "state": {
       "width": "90%"
      }
     },
     "5d8d0d2b5a1e48649aded96506faa88f": {
      "model_module": "@jupyter-widgets/controls",
      "model_module_version": "1.3.0",
      "model_name": "TextModel",
      "state": {
       "description": "Min Level (optional):",
       "layout": "IPY_MODEL_48e5c2205f2e4e69b3affaaa59d885fb",
       "placeholder": "1",
       "style": "IPY_MODEL_2c89664c239e4962a6413a1593a2d21b"
      }
     },
     "5daf21fe8d854dea80cf904a9d39ed4e": {
      "model_module": "@jupyter-widgets/controls",
      "model_module_version": "1.3.0",
      "model_name": "HBoxModel",
      "state": {
       "children": [
        "IPY_MODEL_1b8e133439d148359e7019495c134ca1",
        "IPY_MODEL_bb3aa028a6b14bbeba59612d71fed3cc",
        "IPY_MODEL_fd0d9eacfe4144efa56bb2153143e59d"
       ],
       "layout": "IPY_MODEL_8eeae469c2fe4151902c4a5829e406c3"
      }
     },
     "5f15982489c444b79a2caeb9877e429d": {
      "model_module": "@jupyter-widgets/controls",
      "model_module_version": "1.3.0",
      "model_name": "HTMLMathModel",
      "state": {
       "layout": "IPY_MODEL_403bdea77fe04fa4b556fde2aa03e54e",
       "style": "IPY_MODEL_e5d8f0607d1b42e69a9e9a9941ab690e",
       "value": "<p> The nets follow the Sobol construction, and the direction numbers are optimized. The first matrix is always the same (reversed identity), so the first direction number is arbitrarly set to 0.</p>"
      }
     },
     "5fd2d244403a4129a3b9032fdcbf6b2f": {
      "model_module": "@jupyter-widgets/base",
      "model_module_version": "1.1.0",
      "model_name": "LayoutModel",
      "state": {
       "display": "none"
      }
     },
     "6005b2be26f640c7880c18690136ad81": {
      "model_module": "@jupyter-widgets/base",
      "model_module_version": "1.1.0",
      "model_name": "LayoutModel",
      "state": {
       "width": "270px"
      }
     },
     "605e63c00e8f4402a0cd57ef94c13ae2": {
      "model_module": "@jupyter-widgets/controls",
      "model_module_version": "1.3.0",
      "model_name": "TextareaModel",
      "state": {
       "layout": "IPY_MODEL_d8ca2d609cad4e21b348f1169adbfcff",
       "style": "IPY_MODEL_0eb2eaf5ea674bec8d2878b5a0c02e86",
       "value": "int n = 1024;\nint s = 3;\nint a[] =  { 1, 275, 167 } ;\ndouble points[n][s];\nint i, j;\nfor (i = 0; i < n; i++){\n    for (j = 0; j < s; j++){\n        points[i][j] = ((long long)i * a[j]) % n / (double)n;\n    }\n}"
      }
     },
     "605ec10ced564fe098db4ee2c0767138": {
      "model_module": "@jupyter-widgets/base",
      "model_module_version": "1.1.0",
      "model_name": "LayoutModel",
      "state": {
       "display": "none",
       "width": "15%"
      }
     },
     "6075edd785ea4db9abc69c66520751b7": {
      "model_module": "@jupyter-widgets/controls",
      "model_module_version": "1.3.0",
      "model_name": "DescriptionStyleModel",
      "state": {
       "description_width": "initial"
      }
     },
     "6083484323484ee59a81bb9e366ee870": {
      "model_module": "@jupyter-widgets/output",
      "model_module_version": "1.0.0",
      "model_name": "OutputModel",
      "state": {
       "layout": "IPY_MODEL_a6450de76dfc483abefe70cf1afe5640",
       "outputs": [
        {
         "data": {
          "image/png": "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\n",
          "text/plain": "<Figure size 576x576 with 1 Axes>"
         },
         "metadata": {},
         "output_type": "display_data"
        }
       ]
      }
     },
     "60ed3e2c2d1e48ea9a09bc1d5a1972c2": {
      "model_module": "@jupyter-widgets/controls",
      "model_module_version": "1.3.0",
      "model_name": "DescriptionStyleModel",
      "state": {
       "description_width": ""
      }
     },
     "6115d6d7dbf745268554e66a0f43c4b7": {
      "model_module": "@jupyter-widgets/base",
      "model_module_version": "1.1.0",
      "model_name": "LayoutModel",
      "state": {}
     },
     "61501a6a1e1248359dd26b9fb59bd6ec": {
      "model_module": "@jupyter-widgets/controls",
      "model_module_version": "1.3.0",
      "model_name": "DescriptionStyleModel",
      "state": {
       "description_width": ""
      }
     },
     "620d0f0f86bc48b9a4b5f597c7a50590": {
      "model_module": "@jupyter-widgets/base",
      "model_module_version": "1.1.0",
      "model_name": "LayoutModel",
      "state": {
       "width": "50px"
      }
     },
     "62234f4966fb42869b43d07e4e97c88f": {
      "model_module": "@jupyter-widgets/controls",
      "model_module_version": "1.3.0",
      "model_name": "HBoxModel",
      "state": {
       "children": [
        "IPY_MODEL_07bfa78ccae74f88ba466e608ba2a5e6",
        "IPY_MODEL_0a7e7b68aca84a009e599f00def51724"
       ],
       "layout": "IPY_MODEL_548502c65c4d496fb5b5b146f77d23ed"
      }
     },
     "62b418710b60466e82514051b61d9eda": {
      "model_module": "@jupyter-widgets/controls",
      "model_module_version": "1.3.0",
      "model_name": "DropdownModel",
      "state": {
       "_options_labels": [
        "weighted sum",
        "maximum weighted value",
        "weighted value of the highest level",
        "weighted value of a specific level"
       ],
       "description": "Combiner:",
       "index": 0,
       "layout": "IPY_MODEL_5063782b790345848a6ca1459ca6f91c",
       "style": "IPY_MODEL_91342df648c54147bfb33715b85f8cf0"
      }
     },
     "63176e725f704056b11fa0b754adaa59": {
      "model_module": "@jupyter-widgets/controls",
      "model_module_version": "1.3.0",
      "model_name": "DescriptionStyleModel",
      "state": {
       "description_width": "initial"
      }
     },
     "63822e1f3728497ab7278398656c44c6": {
      "model_module": "@jupyter-widgets/controls",
      "model_module_version": "1.3.0",
      "model_name": "DescriptionStyleModel",
      "state": {
       "description_width": "initial"
      }
     },
     "63a721c3f27548558d41b43b0a160819": {
      "model_module": "@jupyter-widgets/controls",
      "model_module_version": "1.3.0",
      "model_name": "TextModel",
      "state": {
       "description": "Low-Pass Threshold",
       "layout": "IPY_MODEL_8370e72989f2476981c1c2c4189ba053",
       "style": "IPY_MODEL_54b08ac141914f84808d204548a3f89b",
       "value": "1"
      }
     },
     "64193f08c1b74665a7804079030ce785": {
      "model_module": "@jupyter-widgets/base",
      "model_module_version": "1.1.0",
      "model_name": "LayoutModel",
      "state": {
       "width": "90%"
      }
     },
     "659f57a7f55b4d10b32108adba8b4547": {
      "model_module": "@jupyter-widgets/controls",
      "model_module_version": "1.3.0",
      "model_name": "TextareaModel",
      "state": {
       "layout": "IPY_MODEL_aa60a7d1c7fc4449aa53d7482b74d45c",
       "style": "IPY_MODEL_8f855624d3b34fe896cb3d57b0d01735",
       "value": "n = 1024\na = [1, 275, 167]\npoints = [[(i * aj % n) / float(n) for aj in a] for i in range(n)]"
      }
     },
     "65a8254fcb6a4cf697b4a5bed5d38e3f": {
      "model_module": "@jupyter-widgets/base",
      "model_module_version": "1.1.0",
      "model_name": "LayoutModel",
      "state": {}
     },
     "65b74bd263684b24a5669807c3bdf24a": {
      "model_module": "@jupyter-widgets/controls",
      "model_module_version": "1.3.0",
      "model_name": "HBoxModel",
      "state": {
       "children": [
        "IPY_MODEL_0761853cdcf24e5e929b01c293c28122",
        "IPY_MODEL_feb456aabd794c32b7af8c1dd63558d7",
        "IPY_MODEL_288466d2823244a1ba9b0933e37238e3",
        "IPY_MODEL_947f413bb8034c0a8c403fa352357202"
       ],
       "layout": "IPY_MODEL_af766d694e094c9d9a4d4d9f26eb6cfb"
      }
     },
     "673b88a50fa14c9eba618f890caf08a1": {
      "model_module": "@jupyter-widgets/base",
      "model_module_version": "1.1.0",
      "model_name": "LayoutModel",
      "state": {}
     },
     "68aac5d448564e07aecab218b1e7ffe5": {
      "model_module": "@jupyter-widgets/controls",
      "model_module_version": "1.3.0",
      "model_name": "HTMLModel",
      "state": {
       "layout": "IPY_MODEL_1662ad5482014c8f9246de8c5ad12653",
       "style": "IPY_MODEL_63176e725f704056b11fa0b754adaa59",
       "value": "Optional <b>path to the folder for the outputs of LatNeBuilder</b>. The contents of the folder may be overwritten. If the folder does not exist, it is created. If no path is provided, no output folder is created."
      }
     },
     "68edd9023aa44f4eb22ec577188266c8": {
      "model_module": "@jupyter-widgets/controls",
      "model_module_version": "1.3.0",
      "model_name": "HBoxModel",
      "state": {
       "children": [
        "IPY_MODEL_ccd75289d6b04732851bb5d783b04dae",
        "IPY_MODEL_ed76563d63634264b4aae618dc0761d2"
       ],
       "layout": "IPY_MODEL_bbe8b1fee4a845a8a475fc7808cc30cc"
      }
     },
     "691513632be34d4990948c8d5c7ba7c5": {
      "model_module": "@jupyter-widgets/controls",
      "model_module_version": "1.3.0",
      "model_name": "BoundedIntTextModel",
      "state": {
       "description": "Coordinate on x-axis",
       "layout": "IPY_MODEL_09d5289b1acb46f5b0ab3203e3838545",
       "max": 3,
       "min": 1,
       "style": "IPY_MODEL_7b08a96a1a904e1da795a8aec215db22",
       "value": 1
      }
     },
     "69c1890149a641b39cb78e7bb2b50030": {
      "model_module": "@jupyter-widgets/controls",
      "model_module_version": "1.3.0",
      "model_name": "ProgressStyleModel",
      "state": {
       "description_width": "initial"
      }
     },
     "6a9f67d2619f41ef95ece4e00a081760": {
      "model_module": "@jupyter-widgets/controls",
      "model_module_version": "1.3.0",
      "model_name": "HTMLMathModel",
      "state": {
       "layout": "IPY_MODEL_364b96c1a4ec480caba6d62240f922e6",
       "style": "IPY_MODEL_1063d6db89694bf1af3c786331ce47c7",
       "value": "Fully projection-regular rank-1 Ordinary Lattice Rules"
      }
     },
     "6af2b635a1354a378bd1caa0fd301781": {
      "model_module": "@jupyter-widgets/base",
      "model_module_version": "1.1.0",
      "model_name": "LayoutModel",
      "state": {
       "justify_content": "space-around"
      }
     },
     "6b559ab3bf5448eb8b94ccd0805fee01": {
      "model_module": "@jupyter-widgets/base",
      "model_module_version": "1.1.0",
      "model_name": "LayoutModel",
      "state": {}
     },
     "6d1325b9f10b4ef49e27488c95eff920": {
      "model_module": "@jupyter-widgets/controls",
      "model_module_version": "1.3.0",
      "model_name": "ButtonStyleModel",
      "state": {}
     },
     "6d36885a3bc04b15af2e8af0b3768072": {
      "model_module": "@jupyter-widgets/controls",
      "model_module_version": "1.3.0",
      "model_name": "DescriptionStyleModel",
      "state": {
       "description_width": ""
      }
     },
     "6d721274674a45d18c6a04a9da3831ca": {
      "model_module": "@jupyter-widgets/controls",
      "model_module_version": "1.3.0",
      "model_name": "TextModel",
      "state": {
       "description": "Set r:",
       "layout": "IPY_MODEL_b8b39a097522409b86ad00fd0ff8e53d",
       "style": "IPY_MODEL_61501a6a1e1248359dd26b9fb59bd6ec",
       "value": "10"
      }
     },
     "6d890ee39a3540598e7240b3e12c0b2f": {
      "model_module": "@jupyter-widgets/base",
      "model_module_version": "1.1.0",
      "model_name": "LayoutModel",
      "state": {
       "width": "95%"
      }
     },
     "6e0ff947556743fba63642e3e524c8b3": {
      "model_module": "@jupyter-widgets/base",
      "model_module_version": "1.1.0",
      "model_name": "LayoutModel",
      "state": {
       "width": "170px"
      }
     },
     "6ec423fdd6e64cbc94a07bba9ce733ed": {
      "model_module": "@jupyter-widgets/controls",
      "model_module_version": "1.3.0",
      "model_name": "HTMLModel",
      "state": {
       "layout": "IPY_MODEL_486c187c8d854ba6b96ec410fead0a8b",
       "style": "IPY_MODEL_3cdd5b3bffc54dbeb7e3e8f7b7f45afb",
       "value": "<b> Order-Dependent Weights </b>"
      }
     },
     "6ef1f1052bf54ac09bd1458da58331c8": {
      "model_module": "@jupyter-widgets/controls",
      "model_module_version": "1.3.0",
      "model_name": "VBoxModel",
      "state": {
       "children": [
        "IPY_MODEL_a48c3371d42c47f98a4d9b139a078d9b",
        "IPY_MODEL_e95271bfa0374b0f9e9eb103ece4d1e1"
       ],
       "layout": "IPY_MODEL_3029290bc40a48588cb41c69c0de817c"
      }
     },
     "6f67afa32ab74200a66ee12e22f25af3": {
      "model_module": "@jupyter-widgets/controls",
      "model_module_version": "1.3.0",
      "model_name": "HTMLMathModel",
      "state": {
       "layout": "IPY_MODEL_4fa857172de245eeb6901bc1fe062fac",
       "style": "IPY_MODEL_d39d8fb5338b49cab63659ff46a07e34",
       "value": "Fully projection-regular rank-1 Ordinary Lattice Rules"
      }
     },
     "705ca8450d5f4a16bb536e402641a89c": {
      "model_module": "@jupyter-widgets/controls",
      "model_module_version": "1.3.0",
      "model_name": "DescriptionStyleModel",
      "state": {
       "description_width": "initial"
      }
     },
     "707a38f3e6ba402f95119e38d6dea246": {
      "model_module": "@jupyter-widgets/base",
      "model_module_version": "1.1.0",
      "model_name": "LayoutModel",
      "state": {
       "display": "none",
       "margin": "0px 0px 0px 80px",
       "width": "250px"
      }
     },
     "7121da21377249e1ab73dbf8f688a630": {
      "model_module": "@jupyter-widgets/controls",
      "model_module_version": "1.3.0",
      "model_name": "LabelModel",
      "state": {
       "layout": "IPY_MODEL_0f0ef00e736541a38095cb2b418095d7",
       "style": "IPY_MODEL_de0c06eb48b84fe7b72e79035bcf2321",
       "value": "$$\\gamma_u=\\Gamma_{|u|}$$"
      }
     },
     "7132b722002a423988bc7c064593c86f": {
      "model_module": "@jupyter-widgets/controls",
      "model_module_version": "1.3.0",
      "model_name": "HTMLMathModel",
      "state": {
       "layout": "IPY_MODEL_bc75fa03708f4e27bf21ba9bbbba48ea",
       "style": "IPY_MODEL_0332bf99fb5e438d83d7b18d09b79786",
       "value": "The weights are of the form: \\(\\gamma_u^q (u \\subseteq \\{1, ... s\\})\\). You can specify below type of weights with their values (the actual weights are the sum of these).See <a href=\"https://github.com/PierreMarion23/latbuilder/tree/dev/web-ui/weights_guidelines.md\" target=\"_blank\">this GitHub page</a> for guidelines on the choice of weights."
      }
     },
     "715e5e4d6408427495bdfc38d8c42ef9": {
      "model_module": "@jupyter-widgets/base",
      "model_module_version": "1.1.0",
      "model_name": "LayoutModel",
      "state": {}
     },
     "71a42e8f5e6c49f285999fad8a2e1c31": {
      "model_module": "@jupyter-widgets/controls",
      "model_module_version": "1.3.0",
      "model_name": "AccordionModel",
      "state": {
       "_titles": {
        "0": "Figure of Merit"
       },
       "children": [
        "IPY_MODEL_04eede84c91e44178f2e448a58dd85ea"
       ],
       "layout": "IPY_MODEL_16c2145e553d46818fb5629f82325ba9"
      }
     },
     "72b0a00312fe401d8ac895471a4fa9ae": {
      "model_module": "@jupyter-widgets/controls",
      "model_module_version": "1.3.0",
      "model_name": "TextModel",
      "state": {
       "description": "If you want to extend, please specify the former modulus:",
       "layout": "IPY_MODEL_cd807d6177404641b4086d6f92601c06",
       "placeholder": "e.g. 2^8 or 256",
       "style": "IPY_MODEL_2aca7a90a1ba4f10a75431293c5bd483"
      }
     },
     "731a116a599043bda94c3bcc61323423": {
      "model_module": "@jupyter-widgets/base",
      "model_module_version": "1.1.0",
      "model_name": "LayoutModel",
      "state": {}
     },
     "73b299c6c6d240059976e578f0ec52e5": {
      "model_module": "@jupyter-widgets/controls",
      "model_module_version": "1.3.0",
      "model_name": "DescriptionStyleModel",
      "state": {
       "description_width": ""
      }
     },
     "750e196403784db5990ab27a963fa49d": {
      "model_module": "@jupyter-widgets/controls",
      "model_module_version": "1.3.0",
      "model_name": "TextModel",
      "state": {
       "description": "Min Level (optional):",
       "layout": "IPY_MODEL_26d9a9c5aa114961849745488e56c721",
       "placeholder": "1",
       "style": "IPY_MODEL_1a66f56b000248188c126516e7f1775a"
      }
     },
     "7570f2ef7b0e49e5b2626f8953459093": {
      "model_module": "@jupyter-widgets/base",
      "model_module_version": "1.1.0",
      "model_name": "LayoutModel",
      "state": {}
     },
     "76a59af9b44c401cb20d42cd6ee54187": {
      "model_module": "@jupyter-widgets/controls",
      "model_module_version": "1.3.0",
      "model_name": "ButtonStyleModel",
      "state": {}
     },
     "775c639efca64e1f9432a0c532f6e522": {
      "model_module": "@jupyter-widgets/base",
      "model_module_version": "1.1.0",
      "model_name": "LayoutModel",
      "state": {}
     },
     "77aa708800eb453ab32a9aac254f58d4": {
      "model_module": "@jupyter-widgets/controls",
      "model_module_version": "1.3.0",
      "model_name": "CheckboxModel",
      "state": {
       "description": "Low-Pass Filter",
       "disabled": false,
       "layout": "IPY_MODEL_a5c50bb6cf2840ef9ea0b36686e0e1fa",
       "style": "IPY_MODEL_499046215c2e46a5a6ff770eb8b419f2",
       "value": false
      }
     },
     "78d37050220b4bc8b2e1402d27fb3934": {
      "model_module": "@jupyter-widgets/controls",
      "model_module_version": "1.3.0",
      "model_name": "HTMLModel",
      "state": {
       "description": "<b> Command line: </b>",
       "layout": "IPY_MODEL_2afbcfa44fa84f978ac6bdba5d1184a2",
       "style": "IPY_MODEL_8b1c2422b06c4041a6287c411f100011"
      }
     },
     "7951b096070e4997811cece61cdd6516": {
      "model_module": "@jupyter-widgets/base",
      "model_module_version": "1.1.0",
      "model_name": "LayoutModel",
      "state": {}
     },
     "797525f309f742fa8f8704f8670600da": {
      "model_module": "@jupyter-widgets/controls",
      "model_module_version": "1.3.0",
      "model_name": "ToggleButtonsStyleModel",
      "state": {
       "button_width": "",
       "description_width": "initial"
      }
     },
     "7a3ed934a750490ba9a7428463f21add": {
      "model_module": "@jupyter-widgets/controls",
      "model_module_version": "1.3.0",
      "model_name": "DescriptionStyleModel",
      "state": {
       "description_width": ""
      }
     },
     "7b08a96a1a904e1da795a8aec215db22": {
      "model_module": "@jupyter-widgets/controls",
      "model_module_version": "1.3.0",
      "model_name": "DescriptionStyleModel",
      "state": {
       "description_width": "initial"
      }
     },
     "7c1d2b93a99849c0a9713d06a07aacc2": {
      "model_module": "@jupyter-widgets/controls",
      "model_module_version": "1.3.0",
      "model_name": "DescriptionStyleModel",
      "state": {
       "description_width": "initial"
      }
     },
     "7c4c26f2b680407b89f55e670e8b3c21": {
      "model_module": "@jupyter-widgets/controls",
      "model_module_version": "1.3.0",
      "model_name": "ToggleButtonsStyleModel",
      "state": {
       "button_width": "",
       "description_width": "initial"
      }
     },
     "7c8baa9a7a564009aa89ef96184500f8": {
      "model_module": "@jupyter-widgets/controls",
      "model_module_version": "1.3.0",
      "model_name": "TextareaModel",
      "state": {
       "layout": "IPY_MODEL_d5be81f76ee040bc93503925a618fe0b",
       "style": "IPY_MODEL_8def6a8a0f534301993b96fc9f084992",
       "value": "n = 1024;\na = [1, 275, 167];\npoints = zeros(n,length(a));\nfor i = 1:n\n    points(i,:) = mod((i - 1) * a, n) / n;\nend"
      }
     },
     "7d349fd4892443fd9ea4fa2dedf3c6ab": {
      "model_module": "@jupyter-widgets/controls",
      "model_module_version": "1.3.0",
      "model_name": "CheckboxModel",
      "state": {
       "description": "Coordinate-Uniform evaluation",
       "disabled": false,
       "layout": "IPY_MODEL_8eca84c045474fa585cf3dac282c7081",
       "style": "IPY_MODEL_def7b5f17fcf4eb9b8e0644e4d65c576",
       "value": true
      }
     },
     "7df87be1b55b4df98f92185bb8ded7a9": {
      "model_module": "@jupyter-widgets/controls",
      "model_module_version": "1.3.0",
      "model_name": "HTMLModel",
      "state": {
       "description": "<b> Result: </b>",
       "layout": "IPY_MODEL_c2646348d9234a1ea5cbd4c38742409a",
       "style": "IPY_MODEL_9009c8fa37af4e99ace999027ee2e806",
       "value": "<span> <b> Number of points </b>: 1024 </span><p> <b> Generating Vector </b>: [1, 275, 167] </p><p> <b> Merit value </b>: 0.00327879 </p> <p> <b> CPU Time </b>: 0.00257371 seconds </p>"
      }
     },
     "7fa2bbd35cd5428c81138c01a4a91030": {
      "model_module": "@jupyter-widgets/base",
      "model_module_version": "1.1.0",
      "model_name": "LayoutModel",
      "state": {}
     },
     "7fc076a14d4e4d91bddcb255d58cb330": {
      "model_module": "@jupyter-widgets/controls",
      "model_module_version": "1.3.0",
      "model_name": "DescriptionStyleModel",
      "state": {
       "description_width": "initial"
      }
     },
     "7fee26d5961240099d6129c149bb438e": {
      "model_module": "@jupyter-widgets/controls",
      "model_module_version": "1.3.0",
      "model_name": "TabModel",
      "state": {
       "layout": "IPY_MODEL_9ac55eb9b0354d22827c083010c34530"
      }
     },
     "80361b1cc0004918b604ef47c56e6265": {
      "model_module": "@jupyter-widgets/base",
      "model_module_version": "1.1.0",
      "model_name": "LayoutModel",
      "state": {
       "display": "none",
       "height": "150px",
       "width": "inherit"
      }
     },
     "805ab00915d0424c91cce492f30fd02b": {
      "model_module": "@jupyter-widgets/controls",
      "model_module_version": "1.3.0",
      "model_name": "TextareaModel",
      "state": {
       "layout": "IPY_MODEL_cd46e03fc6884fb88ab85b3333f39b0a",
       "style": "IPY_MODEL_c2c2614732df43309b271acc0a8519b2",
       "value": "n = 1024;\na = [1, 275, 167];\npoints = zeros(n,length(a));\nfor i = 1:n\n    points(i,:) = mod((i - 1) * a, n) / n;\nend"
      }
     },
     "815a9e5a2681441685dbf8404ecaf877": {
      "model_module": "@jupyter-widgets/controls",
      "model_module_version": "1.3.0",
      "model_name": "VBoxModel",
      "state": {
       "children": [
        "IPY_MODEL_a9aa2c3adf884e0e8e34150de638e416"
       ],
       "layout": "IPY_MODEL_b491751531ab4ac795aa153dc74bbcd2"
      }
     },
     "825b337c78d74799a99ff27e6119e0b1": {
      "model_module": "@jupyter-widgets/controls",
      "model_module_version": "1.3.0",
      "model_name": "DescriptionStyleModel",
      "state": {
       "description_width": ""
      }
     },
     "82c38f55841144238a0b16930b6c7513": {
      "model_module": "@jupyter-widgets/base",
      "model_module_version": "1.1.0",
      "model_name": "LayoutModel",
      "state": {
       "display": "none",
       "width": "180px"
      }
     },
     "8370e72989f2476981c1c2c4189ba053": {
      "model_module": "@jupyter-widgets/base",
      "model_module_version": "1.1.0",
      "model_name": "LayoutModel",
      "state": {
       "display": "none",
       "width": "25%"
      }
     },
     "8378bed377fd40149ed9e1f0e199849e": {
      "model_module": "@jupyter-widgets/controls",
      "model_module_version": "1.3.0",
      "model_name": "TextModel",
      "state": {
       "layout": "IPY_MODEL_4b194676fb354975bbcc142bebb07b3b",
       "style": "IPY_MODEL_dee77176007d4b8483293f4981266d70",
       "value": "1"
      }
     },
     "8468cd49fecd406493fcf651ef48aab6": {
      "model_module": "@jupyter-widgets/controls",
      "model_module_version": "1.3.0",
      "model_name": "DescriptionStyleModel",
      "state": {
       "description_width": "initial"
      }
     },
     "84ea8f9b942d45a89e092fc177a6b0e3": {
      "model_module": "@jupyter-widgets/controls",
      "model_module_version": "1.3.0",
      "model_name": "DescriptionStyleModel",
      "state": {
       "description_width": ""
      }
     },
     "85b707029a924e9bb96bbddb077e3f2c": {
      "model_module": "@jupyter-widgets/base",
      "model_module_version": "1.1.0",
      "model_name": "LayoutModel",
      "state": {
       "width": "20%"
      }
     },
     "85f7e7ec35484bbfb25b49a4048b2a0b": {
      "model_module": "@jupyter-widgets/controls",
      "model_module_version": "1.3.0",
      "model_name": "VBoxModel",
      "state": {
       "children": [
        "IPY_MODEL_4e56918779af43bfb330e0a565895241",
        "IPY_MODEL_2be2b04e5cef4d56aa7fef6efbb09f29",
        "IPY_MODEL_e2ab7dd122684ac9ae1d7382b28c06aa",
        "IPY_MODEL_9899ba27713a45469d6f9381fff96ca9",
        "IPY_MODEL_c3ee96589a1642868f59ce3e12aa51e7"
       ],
       "layout": "IPY_MODEL_55a2d24c2df44d6bbc0e7e8d757f9646"
      }
     },
     "86aa5f00668a4fd59741fb8098d5f218": {
      "model_module": "@jupyter-widgets/controls",
      "model_module_version": "1.3.0",
      "model_name": "DropdownModel",
      "state": {
       "_options_labels": [
        "Palpha",
        "Ralpha",
        "Spectral"
       ],
       "description": "Figure:",
       "index": 0,
       "layout": "IPY_MODEL_85b707029a924e9bb96bbddb077e3f2c",
       "style": "IPY_MODEL_9e67142b4c9b4a0b8f63d05526271cee"
      }
     },
     "8812846f69df41d5a395b0fc20c4db1b": {
      "model_module": "@jupyter-widgets/controls",
      "model_module_version": "1.3.0",
      "model_name": "DescriptionStyleModel",
      "state": {
       "description_width": ""
      }
     },
     "882c719c6a1b4e7488268ed62270224d": {
      "model_module": "@jupyter-widgets/base",
      "model_module_version": "1.1.0",
      "model_name": "LayoutModel",
      "state": {
       "display": "none"
      }
     },
     "88c2afb189a94788bf1e4cb750994048": {
      "model_module": "@jupyter-widgets/base",
      "model_module_version": "1.1.0",
      "model_name": "LayoutModel",
      "state": {
       "width": "100px"
      }
     },
     "88d920fa94344e269fed090ed6a1549d": {
      "model_module": "@jupyter-widgets/base",
      "model_module_version": "1.1.0",
      "model_name": "LayoutModel",
      "state": {
       "align_items": "center"
      }
     },
     "893eed2cdf1c44c8ab3ae495a088c681": {
      "model_module": "@jupyter-widgets/controls",
      "model_module_version": "1.3.0",
      "model_name": "DescriptionStyleModel",
      "state": {
       "description_width": "initial"
      }
     },
     "8a33e43f4357426fa1f4a8200c8b8ac2": {
      "model_module": "@jupyter-widgets/controls",
      "model_module_version": "1.3.0",
      "model_name": "TextModel",
      "state": {
       "layout": "IPY_MODEL_317734211a59407a94b886df118a072f",
       "style": "IPY_MODEL_a72a437701fc4951a0f27804ac654456",
       "value": "0.512"
      }
     },
     "8a7a76863075490096b49acd947a840c": {
      "model_module": "@jupyter-widgets/base",
      "model_module_version": "1.1.0",
      "model_name": "LayoutModel",
      "state": {
       "width": "15%"
      }
     },
     "8ab7c360ee7a449b8c8d917c973dfaa8": {
      "model_module": "@jupyter-widgets/base",
      "model_module_version": "1.1.0",
      "model_name": "LayoutModel",
      "state": {
       "display": "flex"
      }
     },
     "8b1c2422b06c4041a6287c411f100011": {
      "model_module": "@jupyter-widgets/controls",
      "model_module_version": "1.3.0",
      "model_name": "DescriptionStyleModel",
      "state": {
       "description_width": "initial"
      }
     },
     "8b4724d8ed964517a3d0f5f07192b2ad": {
      "model_module": "@jupyter-widgets/controls",
      "model_module_version": "1.3.0",
      "model_name": "TextModel",
      "state": {
       "layout": "IPY_MODEL_e2e78857ebe646c6a2ac9cb55a8b1879",
       "style": "IPY_MODEL_2a7b3d1875864c5b951a3499ecf7dba2",
       "value": "1"
      }
     },
     "8bc9969c91aa4a1497a3d54e4b6d5a7a": {
      "model_module": "@jupyter-widgets/base",
      "model_module_version": "1.1.0",
      "model_name": "LayoutModel",
      "state": {
       "width": "50px"
      }
     },
     "8cf19fb331d244a681073f0036503a37": {
      "model_module": "@jupyter-widgets/controls",
      "model_module_version": "1.3.0",
      "model_name": "AccordionModel",
      "state": {
       "_titles": {
        "0": "Weights"
       },
       "children": [
        "IPY_MODEL_07b818790a914b0293ea6c0d29671d8b"
       ],
       "layout": "IPY_MODEL_1691f0108b0d49578199cc62407e5bc1"
      }
     },
     "8d0e23add2b9481da7a92ad51f0ce287": {
      "model_module": "@jupyter-widgets/base",
      "model_module_version": "1.1.0",
      "model_name": "LayoutModel",
      "state": {}
     },
     "8d226ff9457a4982a48735626e0bb12a": {
      "model_module": "@jupyter-widgets/controls",
      "model_module_version": "1.3.0",
      "model_name": "AccordionModel",
      "state": {
       "_titles": {
        "0": "Basic Lattice properties"
       },
       "children": [
        "IPY_MODEL_2e2cb44003c442b9921fc0fec4434cf0"
       ],
       "layout": "IPY_MODEL_bfc8039ea4a3485591c4d51ef0324f17"
      }
     },
     "8d4262b92c3e4851924daaaa235553cc": {
      "model_module": "@jupyter-widgets/base",
      "model_module_version": "1.1.0",
      "model_name": "LayoutModel",
      "state": {}
     },
     "8d4e33abcdfa4d518701d533e795a253": {
      "model_module": "@jupyter-widgets/controls",
      "model_module_version": "1.3.0",
      "model_name": "BoundedIntTextModel",
      "state": {
       "description": "Dimension s:",
       "layout": "IPY_MODEL_64193f08c1b74665a7804079030ce785",
       "min": 1,
       "style": "IPY_MODEL_63822e1f3728497ab7278398656c44c6",
       "value": 3
      }
     },
     "8d552f73d6cb4f458c513ef21eb4b59f": {
      "model_module": "@jupyter-widgets/base",
      "model_module_version": "1.1.0",
      "model_name": "LayoutModel",
      "state": {
       "display": "none"
      }
     },
     "8de04df574f149968d21ec0e467f48b3": {
      "model_module": "@jupyter-widgets/controls",
      "model_module_version": "1.3.0",
      "model_name": "BoundedIntTextModel",
      "state": {
       "description": "Interlacing d:",
       "disabled": true,
       "layout": "IPY_MODEL_e0b4360d9bcd4404b4b6b5fa9626b20b",
       "min": 1,
       "style": "IPY_MODEL_fd604de316674c86bcff0da7dfcd1b87",
       "value": 1
      }
     },
     "8def6a8a0f534301993b96fc9f084992": {
      "model_module": "@jupyter-widgets/controls",
      "model_module_version": "1.3.0",
      "model_name": "DescriptionStyleModel",
      "state": {
       "description_width": ""
      }
     },
     "8eca84c045474fa585cf3dac282c7081": {
      "model_module": "@jupyter-widgets/base",
      "model_module_version": "1.1.0",
      "model_name": "LayoutModel",
      "state": {}
     },
     "8eeae469c2fe4151902c4a5829e406c3": {
      "model_module": "@jupyter-widgets/base",
      "model_module_version": "1.1.0",
      "model_name": "LayoutModel",
      "state": {
       "justify_content": "space-around"
      }
     },
     "8f1ffcba627c48c7be66b2ce3132da74": {
      "model_module": "@jupyter-widgets/base",
      "model_module_version": "1.1.0",
      "model_name": "LayoutModel",
      "state": {
       "width": "900px"
      }
     },
     "8f855624d3b34fe896cb3d57b0d01735": {
      "model_module": "@jupyter-widgets/controls",
      "model_module_version": "1.3.0",
      "model_name": "DescriptionStyleModel",
      "state": {
       "description_width": ""
      }
     },
     "9009c8fa37af4e99ace999027ee2e806": {
      "model_module": "@jupyter-widgets/controls",
      "model_module_version": "1.3.0",
      "model_name": "DescriptionStyleModel",
      "state": {
       "description_width": ""
      }
     },
     "90c6015ef4e94369b5d563135d965a66": {
      "model_module": "@jupyter-widgets/controls",
      "model_module_version": "1.3.0",
      "model_name": "DescriptionStyleModel",
      "state": {
       "description_width": ""
      }
     },
     "91342df648c54147bfb33715b85f8cf0": {
      "model_module": "@jupyter-widgets/controls",
      "model_module_version": "1.3.0",
      "model_name": "DescriptionStyleModel",
      "state": {
       "description_width": "initial"
      }
     },
     "9283b8574516462aa18a41477e26f564": {
      "model_module": "@jupyter-widgets/controls",
      "model_module_version": "1.3.0",
      "model_name": "CheckboxModel",
      "state": {
       "description": "Random choice of r points",
       "disabled": false,
       "layout": "IPY_MODEL_b0bcb1ac64b64dc7995a133c2897ed7b",
       "style": "IPY_MODEL_8812846f69df41d5a395b0fc20c4db1b",
       "value": false
      }
     },
     "92a7e171c6694448a2387984d85258fa": {
      "model_module": "@jupyter-widgets/controls",
      "model_module_version": "1.3.0",
      "model_name": "ToggleButtonsModel",
      "state": {
       "_options_labels": [
        "Ordinary",
        "Polynomial"
       ],
       "button_style": "",
       "description": "Choose one:",
       "icons": [],
       "index": 0,
       "layout": "IPY_MODEL_fb49b3e0dc924be8895848b0cfbe012f",
       "style": "IPY_MODEL_9403bef6a6b9479bae93ec0ca76186f6",
       "tooltips": []
      }
     },
     "93933e6b1a5f42ff9040b5e278e5bfda": {
      "model_module": "@jupyter-widgets/controls",
      "model_module_version": "1.3.0",
      "model_name": "DescriptionStyleModel",
      "state": {
       "description_width": "initial"
      }
     },
     "93dc5d6cf1e24242924e005d4a63b2c2": {
      "model_module": "@jupyter-widgets/controls",
      "model_module_version": "1.3.0",
      "model_name": "CheckboxModel",
      "state": {
       "description": "Random choice of r points",
       "disabled": false,
       "layout": "IPY_MODEL_14481eab4af44e98b97bc862bb4c55fe",
       "style": "IPY_MODEL_99893f22155e4802812b4fcaab5b5bc2",
       "value": false
      }
     },
     "9403bef6a6b9479bae93ec0ca76186f6": {
      "model_module": "@jupyter-widgets/controls",
      "model_module_version": "1.3.0",
      "model_name": "ToggleButtonsStyleModel",
      "state": {
       "button_width": "",
       "description_width": "initial"
      }
     },
     "947f413bb8034c0a8c403fa352357202": {
      "model_module": "@jupyter-widgets/controls",
      "model_module_version": "1.3.0",
      "model_name": "TextModel",
      "state": {
       "description": "Norm type q > 0 or q = \"inf\":",
       "disabled": true,
       "layout": "IPY_MODEL_ace3fb5a2952480a9621ae5b7192020d",
       "style": "IPY_MODEL_027349f87d8e414ea3175249d2bfdce8",
       "value": "2"
      }
     },
     "953934a7d0d04dc69c0e68db4dd7cfd6": {
      "model_module": "@jupyter-widgets/controls",
      "model_module_version": "1.3.0",
      "model_name": "LabelModel",
      "state": {
       "layout": "IPY_MODEL_09a8e37ac1eb4bf0a9ad160bf8d74811",
       "style": "IPY_MODEL_571bab765b00440a963cb30872c505b8"
      }
     },
     "9653ce62322f4fb3b06b17a1a8ea7493": {
      "model_module": "@jupyter-widgets/base",
      "model_module_version": "1.1.0",
      "model_name": "LayoutModel",
      "state": {}
     },
     "967c118cdce74a10ba9e8dd5f9e74f94": {
      "model_module": "@jupyter-widgets/controls",
      "model_module_version": "1.3.0",
      "model_name": "FloatProgressModel",
      "state": {
       "bar_style": "info",
       "description": "Number of dim explored:",
       "layout": "IPY_MODEL_dd8c6a12112040a585a67f78dc774b01",
       "max": 1,
       "style": "IPY_MODEL_34a9be0fce9c4290b11b7d5ab317a5f5"
      }
     },
     "978e5505cff342f08d3b824e7e4822fc": {
      "model_module": "@jupyter-widgets/base",
      "model_module_version": "1.1.0",
      "model_name": "LayoutModel",
      "state": {
       "display": "none"
      }
     },
     "97e4dd4ab8c0428ca07af08f54ffe683": {
      "model_module": "@jupyter-widgets/controls",
      "model_module_version": "1.3.0",
      "model_name": "ToggleButtonsStyleModel",
      "state": {
       "button_width": "",
       "description_width": "initial"
      }
     },
     "9833fb8a452f4615b6d39c05bea33de0": {
      "model_module": "@jupyter-widgets/base",
      "model_module_version": "1.1.0",
      "model_name": "LayoutModel",
      "state": {}
     },
     "987be98ca85d4b2d81b82e7105605803": {
      "model_module": "@jupyter-widgets/base",
      "model_module_version": "1.1.0",
      "model_name": "LayoutModel",
      "state": {
       "display": "none"
      }
     },
     "9899ba27713a45469d6f9381fff96ca9": {
      "model_module": "@jupyter-widgets/controls",
      "model_module_version": "1.3.0",
      "model_name": "HBoxModel",
      "state": {
       "children": [
        "IPY_MODEL_2c3d5ece53e34389b6a7eeaff8c8ac8f",
        "IPY_MODEL_750e196403784db5990ab27a963fa49d",
        "IPY_MODEL_2c82fbb72ccd498e9a2b102d293949a2"
       ],
       "layout": "IPY_MODEL_58c23de73e9a4832bdea50834c49bc9c"
      }
     },
     "98da988ce0e4488b911eaba9b7faba2b": {
      "model_module": "@jupyter-widgets/controls",
      "model_module_version": "1.3.0",
      "model_name": "AccordionModel",
      "state": {
       "_titles": {
        "0": "Lattice Type"
       },
       "children": [
        "IPY_MODEL_b60b5a591820489dbdc499e3cd34ec35"
       ],
       "layout": "IPY_MODEL_15903decfc0a4780b27f673555728ad2"
      }
     },
     "98ea3892343c4dc2a0197fe49e1cc47d": {
      "model_module": "@jupyter-widgets/controls",
      "model_module_version": "1.3.0",
      "model_name": "TabModel",
      "state": {
       "_titles": {
        "0": "Plot",
        "1": "C code",
        "2": "Python code",
        "3": "Matlab code"
       },
       "children": [
        "IPY_MODEL_9cb7c619df3f4e948a41c45b02ddd128",
        "IPY_MODEL_b44286fa36964e23a3cac9ae6d12256e",
        "IPY_MODEL_b44674f1feda415d820562c09ac08707",
        "IPY_MODEL_7c8baa9a7a564009aa89ef96184500f8"
       ],
       "layout": "IPY_MODEL_b617c1e928cb43879cf0a9e7b34ad783"
      }
     },
     "9973561c2ee94431a524e7fff1e0736e": {
      "model_module": "@jupyter-widgets/controls",
      "model_module_version": "1.3.0",
      "model_name": "TextModel",
      "state": {
       "description": "Value of \\(\\alpha\\):",
       "layout": "IPY_MODEL_8a7a76863075490096b49acd947a840c",
       "style": "IPY_MODEL_f8c7641c1138454d98997a2e02098823",
       "value": "2"
      }
     },
     "99893f22155e4802812b4fcaab5b5bc2": {
      "model_module": "@jupyter-widgets/controls",
      "model_module_version": "1.3.0",
      "model_name": "DescriptionStyleModel",
      "state": {
       "description_width": ""
      }
     },
     "9a3e4bad56cf48fb8f5c8f892aa5918d": {
      "model_module": "@jupyter-widgets/controls",
      "model_module_version": "1.3.0",
      "model_name": "DescriptionStyleModel",
      "state": {
       "description_width": "initial"
      }
     },
     "9a92e9055bfa43ef8fc4bf8cbae1a4e3": {
      "model_module": "@jupyter-widgets/base",
      "model_module_version": "1.1.0",
      "model_name": "LayoutModel",
      "state": {
       "width": "900px"
      }
     },
     "9ac55eb9b0354d22827c083010c34530": {
      "model_module": "@jupyter-widgets/base",
      "model_module_version": "1.1.0",
      "model_name": "LayoutModel",
      "state": {
       "display": "none"
      }
     },
     "9ba67f8990804355a9b5389ad9781806": {
      "model_module": "@jupyter-widgets/base",
      "model_module_version": "1.1.0",
      "model_name": "LayoutModel",
      "state": {}
     },
     "9c511370e7f3496fb1615e24cc98ed8e": {
      "model_module": "@jupyter-widgets/base",
      "model_module_version": "1.1.0",
      "model_name": "LayoutModel",
      "state": {
       "align_items": "center"
      }
     },
     "9cb7c619df3f4e948a41c45b02ddd128": {
      "model_module": "@jupyter-widgets/controls",
      "model_module_version": "1.3.0",
      "model_name": "HBoxModel",
      "state": {
       "children": [
        "IPY_MODEL_6083484323484ee59a81bb9e366ee870",
        "IPY_MODEL_4f11c9a6652d403d9d4f981a452b57df"
       ],
       "layout": "IPY_MODEL_e668f5471c38406d83d0ebcca354b691"
      }
     },
     "9d429d64dd984d0abd2b23c6ad9eea47": {
      "model_module": "@jupyter-widgets/base",
      "model_module_version": "1.1.0",
      "model_name": "LayoutModel",
      "state": {}
     },
     "9d44033a1e5a4b3aaefa88b1c9b0b129": {
      "model_module": "@jupyter-widgets/base",
      "model_module_version": "1.1.0",
      "model_name": "LayoutModel",
      "state": {}
     },
     "9e255366103d466c84666610d80eb419": {
      "model_module": "@jupyter-widgets/base",
      "model_module_version": "1.1.0",
      "model_name": "LayoutModel",
      "state": {
       "width": "900px"
      }
     },
     "9e67142b4c9b4a0b8f63d05526271cee": {
      "model_module": "@jupyter-widgets/controls",
      "model_module_version": "1.3.0",
      "model_name": "DescriptionStyleModel",
      "state": {
       "description_width": "initial"
      }
     },
     "9ed89c39d7c040f4b7a400ef01d48385": {
      "model_module": "@jupyter-widgets/controls",
      "model_module_version": "1.3.0",
      "model_name": "VBoxModel",
      "state": {
       "children": [
        "IPY_MODEL_68aac5d448564e07aecab218b1e7ffe5",
        "IPY_MODEL_bf943be8550740299181b8a85099c02b"
       ],
       "layout": "IPY_MODEL_20a3ce2709d541f5abe0caaf021da7e9"
      }
     },
     "9f272925292742e8b0418afd7106dcaa": {
      "model_module": "@jupyter-widgets/base",
      "model_module_version": "1.1.0",
      "model_name": "LayoutModel",
      "state": {
       "height": "50px",
       "width": "100px"
      }
     },
     "9fdb9a3c8638480cba328b80d1e78c86": {
      "model_module": "@jupyter-widgets/controls",
      "model_module_version": "1.3.0",
      "model_name": "VBoxModel",
      "state": {
       "children": [
        "IPY_MODEL_203aaa7918e043ff90a1be6cd0d1587b",
        "IPY_MODEL_953934a7d0d04dc69c0e68db4dd7cfd6"
       ],
       "layout": "IPY_MODEL_14a28fb71f57458e9cf052608596cadc"
      }
     },
     "9feb295ba07d4b6ea59d20ef8a690328": {
      "model_module": "@jupyter-widgets/controls",
      "model_module_version": "1.3.0",
      "model_name": "ButtonStyleModel",
      "state": {}
     },
     "a0c21467d7aa4cba9ab4592480d975bc": {
      "model_module": "@jupyter-widgets/base",
      "model_module_version": "1.1.0",
      "model_name": "LayoutModel",
      "state": {
       "display": "none"
      }
     },
     "a102da5a5b794625bda9f851631dd078": {
      "model_module": "@jupyter-widgets/controls",
      "model_module_version": "1.3.0",
      "model_name": "VBoxModel",
      "state": {
       "children": [
        "IPY_MODEL_3c19a6375e8047a19c39a795bb3f0de6",
        "IPY_MODEL_2841071046f04786bffd5e6a247e1fca",
        "IPY_MODEL_8d226ff9457a4982a48735626e0bb12a",
        "IPY_MODEL_099a90a749a84a36a1d601a73ddd06a6",
        "IPY_MODEL_dbb9cbc395284173b43d10877d91a549",
        "IPY_MODEL_26482a90d1434cb19eb914dfdea1ed9b",
        "IPY_MODEL_bc67386baa084cc398d3a6c72fb8f5ee",
        "IPY_MODEL_2e1a20df219e482b94fa4f80d7de2eec",
        "IPY_MODEL_cbbc2f6cf44147c388d05ba4c66a4710",
        "IPY_MODEL_15c12b2f8b394e2992ee151b07b044eb",
        "IPY_MODEL_037d3bbc0e99411a8782682def5546ae",
        "IPY_MODEL_7df87be1b55b4df98f92185bb8ded7a9",
        "IPY_MODEL_0df894b8f0a44ac69d36b7ead3f36887"
       ],
       "layout": "IPY_MODEL_aff98debf1b247fa9d172dec1787121c"
      }
     },
     "a2718cf676c54f639bed3349e10428a6": {
      "model_module": "@jupyter-widgets/base",
      "model_module_version": "1.1.0",
      "model_name": "LayoutModel",
      "state": {
       "width": "180px"
      }
     },
     "a2acbe5356d247aa9443f9759d220362": {
      "model_module": "@jupyter-widgets/base",
      "model_module_version": "1.1.0",
      "model_name": "LayoutModel",
      "state": {
       "display": "none"
      }
     },
     "a48c3371d42c47f98a4d9b139a078d9b": {
      "model_module": "@jupyter-widgets/controls",
      "model_module_version": "1.3.0",
      "model_name": "ToggleButtonsModel",
      "state": {
       "_options_labels": [
        "Sobol",
        "Polynomial",
        "Explicit"
       ],
       "button_style": "",
       "description": "Choose one:",
       "icons": [],
       "index": 0,
       "layout": "IPY_MODEL_447ed80901b942a09eb30781933e1321",
       "style": "IPY_MODEL_4a0a9a5b6f054d2fb33383801ad1a3ba",
       "tooltips": []
      }
     },
     "a535b283bbde439a929c282163284bcb": {
      "model_module": "@jupyter-widgets/controls",
      "model_module_version": "1.3.0",
      "model_name": "HBoxModel",
      "state": {
       "children": [
        "IPY_MODEL_18f4b98fab3f40e4b2a6ec880b2735dc",
        "IPY_MODEL_e7a7f010eb5a47e7a8c780ff1436684c",
        "IPY_MODEL_8a33e43f4357426fa1f4a8200c8b8ac2"
       ],
       "layout": "IPY_MODEL_407eaa8079794bd49c994ccc06b3103c"
      }
     },
     "a5c50bb6cf2840ef9ea0b36686e0e1fa": {
      "model_module": "@jupyter-widgets/base",
      "model_module_version": "1.1.0",
      "model_name": "LayoutModel",
      "state": {}
     },
     "a5f82f35701048a9b599aa95a671e965": {
      "model_module": "@jupyter-widgets/base",
      "model_module_version": "1.1.0",
      "model_name": "LayoutModel",
      "state": {
       "width": "50px"
      }
     },
     "a5fc361309e44fbeb2380aac4afed18b": {
      "model_module": "@jupyter-widgets/controls",
      "model_module_version": "1.3.0",
      "model_name": "BoundedIntTextModel",
      "state": {
       "description": "Minimal random dimension:",
       "disabled": true,
       "layout": "IPY_MODEL_707a38f3e6ba402f95119e38d6dea246",
       "min": 1,
       "style": "IPY_MODEL_4e70fc96a95b4a3a9bd6983d75673b62",
       "value": 1
      }
     },
     "a6450de76dfc483abefe70cf1afe5640": {
      "model_module": "@jupyter-widgets/base",
      "model_module_version": "1.1.0",
      "model_name": "LayoutModel",
      "state": {
       "height": "500px",
       "width": "600px"
      }
     },
     "a72a437701fc4951a0f27804ac654456": {
      "model_module": "@jupyter-widgets/controls",
      "model_module_version": "1.3.0",
      "model_name": "DescriptionStyleModel",
      "state": {
       "description_width": ""
      }
     },
     "a742d71869ee4590b278ace8b06d2b43": {
      "model_module": "@jupyter-widgets/controls",
      "model_module_version": "1.3.0",
      "model_name": "ButtonModel",
      "state": {
       "description": "Joe and Kuo direction numbers",
       "layout": "IPY_MODEL_6005b2be26f640c7880c18690136ad81",
       "style": "IPY_MODEL_27348ff4cf6f43f3bc0ff96d36985e2b"
      }
     },
     "a7f4c315a4ff4eddbd8f9cfd2f192b42": {
      "model_module": "@jupyter-widgets/controls",
      "model_module_version": "1.3.0",
      "model_name": "ButtonModel",
      "state": {
       "description": "Construct command line",
       "layout": "IPY_MODEL_3ed7b7acb80f46028edc9397510f4385",
       "style": "IPY_MODEL_9feb295ba07d4b6ea59d20ef8a690328"
      }
     },
     "a804fb90cd96423abdcac1b5f562e95f": {
      "model_module": "@jupyter-widgets/base",
      "model_module_version": "1.1.0",
      "model_name": "LayoutModel",
      "state": {
       "justify_content": "space-between"
      }
     },
     "a824392c2aa04bad975ca8fb27d502fc": {
      "model_module": "@jupyter-widgets/base",
      "model_module_version": "1.1.0",
      "model_name": "LayoutModel",
      "state": {}
     },
     "a871c1cc96144039a209cdca7583ac4d": {
      "model_module": "@jupyter-widgets/base",
      "model_module_version": "1.1.0",
      "model_name": "LayoutModel",
      "state": {
       "margin": "30px 0px 0px 0px"
      }
     },
     "a94679122764460a947490db4bb9c197": {
      "model_module": "@jupyter-widgets/controls",
      "model_module_version": "1.3.0",
      "model_name": "HTMLModel",
      "state": {
       "description": "<b> Result: </b>",
       "layout": "IPY_MODEL_fb5690f02e2c4c42ac8a49d2c868f49a",
       "style": "IPY_MODEL_825b337c78d74799a99ff27e6119e0b1"
      }
     },
     "a9892ee38bbe46d3892080083e3054b0": {
      "model_module": "@jupyter-widgets/controls",
      "model_module_version": "1.3.0",
      "model_name": "HBoxModel",
      "state": {
       "children": [
        "IPY_MODEL_abbe09f62bac4b82bd2b0b2833dcb6d8",
        "IPY_MODEL_3b7669fc795941aba2e8e47f5baa8565",
        "IPY_MODEL_f3ab9f82469e4c40becde01b713779b3"
       ],
       "layout": "IPY_MODEL_aa58748c5cde425a82180a032cecff46"
      }
     },
     "a9aa2c3adf884e0e8e34150de638e416": {
      "model_module": "@jupyter-widgets/controls",
      "model_module_version": "1.3.0",
      "model_name": "VBoxModel",
      "state": {
       "children": [
        "IPY_MODEL_f680fa6aa3174849927a4ffe214f72c6",
        "IPY_MODEL_c2ab7b8bdadf4e18ba491424432169fe"
       ],
       "layout": "IPY_MODEL_a871c1cc96144039a209cdca7583ac4d"
      }
     },
     "a9d5776e39e94d329067f05b81dbdfff": {
      "model_module": "@jupyter-widgets/controls",
      "model_module_version": "1.3.0",
      "model_name": "DescriptionStyleModel",
      "state": {
       "description_width": ""
      }
     },
     "aa58748c5cde425a82180a032cecff46": {
      "model_module": "@jupyter-widgets/base",
      "model_module_version": "1.1.0",
      "model_name": "LayoutModel",
      "state": {
       "display": "none"
      }
     },
     "aa60a7d1c7fc4449aa53d7482b74d45c": {
      "model_module": "@jupyter-widgets/base",
      "model_module_version": "1.1.0",
      "model_name": "LayoutModel",
      "state": {
       "height": "100px",
       "width": "600px"
      }
     },
     "aac544996b36434dbe94a60b06a2080a": {
      "model_module": "@jupyter-widgets/controls",
      "model_module_version": "1.3.0",
      "model_name": "DescriptionStyleModel",
      "state": {
       "description_width": ""
      }
     },
     "aaea76343b964379bf4740153195dc88": {
      "model_module": "@jupyter-widgets/controls",
      "model_module_version": "1.3.0",
      "model_name": "DropdownModel",
      "state": {
       "_options_labels": [
        "weighted sum",
        "maximum weighted value",
        "weighted value of the highest level",
        "weighted value of a specific level"
       ],
       "description": "Combiner:",
       "index": 0,
       "layout": "IPY_MODEL_bef41f05ed7c4602b50bb8c6ea5a91a1",
       "style": "IPY_MODEL_4e90645d961c4ddbb835b40b77cb7502"
      }
     },
     "abbe09f62bac4b82bd2b0b2833dcb6d8": {
      "model_module": "@jupyter-widgets/controls",
      "model_module_version": "1.3.0",
      "model_name": "TextModel",
      "state": {
       "layout": "IPY_MODEL_c915ed5a091a427cbc69d3fba09d3687",
       "style": "IPY_MODEL_aed4673fcdb94b4db3d57fd404f4b3e0",
       "value": "1"
      }
     },
     "abcf02c3eada46ddba34b90a9e6a9695": {
      "model_module": "@jupyter-widgets/controls",
      "model_module_version": "1.3.0",
      "model_name": "ButtonModel",
      "state": {
       "description": "Evaluate from previous search",
       "layout": "IPY_MODEL_face98b7f0c24eff8f77135ac2297501",
       "style": "IPY_MODEL_27eb9f315a014ec5910d557d7f83d4f0"
      }
     },
     "ac3ae388234d4bcba420bd5fb325f483": {
      "model_module": "@jupyter-widgets/controls",
      "model_module_version": "1.3.0",
      "model_name": "DescriptionStyleModel",
      "state": {
       "description_width": ""
      }
     },
     "acbe83db0f1844e89c43d9b95207dc62": {
      "model_module": "@jupyter-widgets/controls",
      "model_module_version": "1.3.0",
      "model_name": "DescriptionStyleModel",
      "state": {
       "description_width": ""
      }
     },
     "ace3fb5a2952480a9621ae5b7192020d": {
      "model_module": "@jupyter-widgets/base",
      "model_module_version": "1.1.0",
      "model_name": "LayoutModel",
      "state": {
       "width": "24%"
      }
     },
     "ad24f1c386cb4e6a850b40b5d89ab561": {
      "model_module": "@jupyter-widgets/base",
      "model_module_version": "1.1.0",
      "model_name": "LayoutModel",
      "state": {
       "display": "none"
      }
     },
     "aed4673fcdb94b4db3d57fd404f4b3e0": {
      "model_module": "@jupyter-widgets/controls",
      "model_module_version": "1.3.0",
      "model_name": "DescriptionStyleModel",
      "state": {
       "description_width": "initial"
      }
     },
     "af51f80e07f645839d7f440b64d11b0d": {
      "model_module": "@jupyter-widgets/controls",
      "model_module_version": "1.3.0",
      "model_name": "DescriptionStyleModel",
      "state": {
       "description_width": "initial"
      }
     },
     "af766d694e094c9d9a4d4d9f26eb6cfb": {
      "model_module": "@jupyter-widgets/base",
      "model_module_version": "1.1.0",
      "model_name": "LayoutModel",
      "state": {
       "justify_content": "space-between"
      }
     },
     "afa78fff462842a188e8557d8d400f04": {
      "model_module": "@jupyter-widgets/controls",
      "model_module_version": "1.3.0",
      "model_name": "VBoxModel",
      "state": {
       "children": [
        "IPY_MODEL_fc25014707834456a7846fb835523aa9",
        "IPY_MODEL_df072a373a014addb66d745de6a07541"
       ],
       "layout": "IPY_MODEL_978e5505cff342f08d3b824e7e4822fc"
      }
     },
     "aff98debf1b247fa9d172dec1787121c": {
      "model_module": "@jupyter-widgets/base",
      "model_module_version": "1.1.0",
      "model_name": "LayoutModel",
      "state": {}
     },
     "b0a15a37aeae4774a9f6e1545be5366d": {
      "model_module": "@jupyter-widgets/controls",
      "model_module_version": "1.3.0",
      "model_name": "TextModel",
      "state": {
       "description": "OR set all at once with (valid Python) expression: \\( \\Gamma_k^q \\) =",
       "layout": "IPY_MODEL_3884f53116124923889b12142921318a",
       "placeholder": "0.8^k * (k <= 3)",
       "style": "IPY_MODEL_fd95bcc325c54ea08428127593765710"
      }
     },
     "b0bcb1ac64b64dc7995a133c2897ed7b": {
      "model_module": "@jupyter-widgets/base",
      "model_module_version": "1.1.0",
      "model_name": "LayoutModel",
      "state": {}
     },
     "b0f3e10fbfe34487a1b050ce3106e1fe": {
      "model_module": "@jupyter-widgets/controls",
      "model_module_version": "1.3.0",
      "model_name": "ButtonStyleModel",
      "state": {}
     },
     "b18ff4ab4c7747af9d057bea078b0468": {
      "model_module": "@jupyter-widgets/base",
      "model_module_version": "1.1.0",
      "model_name": "LayoutModel",
      "state": {}
     },
     "b1bf1352103f48c0ae076f3519d37402": {
      "model_module": "@jupyter-widgets/controls",
      "model_module_version": "1.3.0",
      "model_name": "HTMLModel",
      "state": {
       "description": "<b> Result: </b>",
       "layout": "IPY_MODEL_8f1ffcba627c48c7be66b2ce3132da74",
       "style": "IPY_MODEL_ecf24da43c514a44997de3c020ad8876"
      }
     },
     "b2f890ab9d3148b0bb4f7f199af59fcf": {
      "model_module": "@jupyter-widgets/controls",
      "model_module_version": "1.3.0",
      "model_name": "CheckboxModel",
      "state": {
       "description": "Normalization",
       "disabled": false,
       "layout": "IPY_MODEL_258cda373b2d4819b5a07782b2f5eec6",
       "style": "IPY_MODEL_26367bb864d545549de883009ea094b1",
       "value": false
      }
     },
     "b30ec053b3844d269252b702e5db73dd": {
      "model_module": "@jupyter-widgets/controls",
      "model_module_version": "1.3.0",
      "model_name": "VBoxModel",
      "state": {
       "children": [
        "IPY_MODEL_15189f6dcccd41fe824fcdd9c25d29f1",
        "IPY_MODEL_5f15982489c444b79a2caeb9877e429d"
       ],
       "layout": "IPY_MODEL_d25d76f3ea0e4926a54b1e477fe90375"
      }
     },
     "b339dfdaec78479abda543aca47a9a42": {
      "model_module": "@jupyter-widgets/base",
      "model_module_version": "1.1.0",
      "model_name": "LayoutModel",
      "state": {}
     },
     "b3f80e06084941f891763e13ad6fc9e5": {
      "model_module": "@jupyter-widgets/base",
      "model_module_version": "1.1.0",
      "model_name": "LayoutModel",
      "state": {
       "display": "none"
      }
     },
     "b44286fa36964e23a3cac9ae6d12256e": {
      "model_module": "@jupyter-widgets/controls",
      "model_module_version": "1.3.0",
      "model_name": "TextareaModel",
      "state": {
       "layout": "IPY_MODEL_29d30f2dd5cc4481957f54f78c4ab131",
       "style": "IPY_MODEL_60ed3e2c2d1e48ea9a09bc1d5a1972c2",
       "value": "int n = 1024;\nint s = 3;\nint a[] =  { 1, 275, 167 } ;\ndouble points[n][s];\nint i, j;\nfor (i = 0; i < n; i++){\n    for (j = 0; j < s; j++){\n        points[i][j] = ((long long)i * a[j]) % n / (double)n;\n    }\n}"
      }
     },
     "b44674f1feda415d820562c09ac08707": {
      "model_module": "@jupyter-widgets/controls",
      "model_module_version": "1.3.0",
      "model_name": "TextareaModel",
      "state": {
       "layout": "IPY_MODEL_f96fb3b8e6114bf9bc9eafbf048e87e7",
       "style": "IPY_MODEL_fdc0b597f0cf4ff3a87f3ef418811c9b",
       "value": "n = 1024\na = [1, 275, 167]\npoints = [[(i * aj % n) / float(n) for aj in a] for i in range(n)]"
      }
     },
     "b491751531ab4ac795aa153dc74bbcd2": {
      "model_module": "@jupyter-widgets/base",
      "model_module_version": "1.1.0",
      "model_name": "LayoutModel",
      "state": {}
     },
     "b49c43714c394b2ab017faec04f0977f": {
      "model_module": "@jupyter-widgets/base",
      "model_module_version": "1.1.0",
      "model_name": "LayoutModel",
      "state": {
       "display": "none",
       "width": "180px"
      }
     },
     "b60b5a591820489dbdc499e3cd34ec35": {
      "model_module": "@jupyter-widgets/controls",
      "model_module_version": "1.3.0",
      "model_name": "VBoxModel",
      "state": {
       "children": [
        "IPY_MODEL_f0217250051c498f9a0f69c5228a2091",
        "IPY_MODEL_6f67afa32ab74200a66ee12e22f25af3"
       ],
       "layout": "IPY_MODEL_715e5e4d6408427495bdfc38d8c42ef9"
      }
     },
     "b617c1e928cb43879cf0a9e7b34ad783": {
      "model_module": "@jupyter-widgets/base",
      "model_module_version": "1.1.0",
      "model_name": "LayoutModel",
      "state": {
       "display": "flex"
      }
     },
     "b61f5d368a4e467c88a79b806d1f726d": {
      "model_module": "@jupyter-widgets/controls",
      "model_module_version": "1.3.0",
      "model_name": "DescriptionStyleModel",
      "state": {
       "description_width": "initial"
      }
     },
     "b68f519d786f44b2b582d5ca8bd03527": {
      "model_module": "@jupyter-widgets/base",
      "model_module_version": "1.1.0",
      "model_name": "LayoutModel",
      "state": {
       "width": "20%"
      }
     },
     "b6c7f424c1874af9b532f9fc8103b11d": {
      "model_module": "@jupyter-widgets/base",
      "model_module_version": "1.1.0",
      "model_name": "LayoutModel",
      "state": {
       "width": "500px"
      }
     },
     "b768936969b04955826cc2d974846259": {
      "model_module": "@jupyter-widgets/base",
      "model_module_version": "1.1.0",
      "model_name": "LayoutModel",
      "state": {}
     },
     "b80b1122190445a485ab9bfb70649f43": {
      "model_module": "@jupyter-widgets/controls",
      "model_module_version": "1.3.0",
      "model_name": "BoundedIntTextModel",
      "state": {
       "description": "Interlacing d:",
       "disabled": true,
       "layout": "IPY_MODEL_5d0c72abad73498ebb5605647489fd0e",
       "min": 1,
       "style": "IPY_MODEL_195ae6c8b69442c9ab1dea3444590f02",
       "value": 1
      }
     },
     "b8703011660a47f58a0fad7a17928b0f": {
      "model_module": "@jupyter-widgets/controls",
      "model_module_version": "1.3.0",
      "model_name": "TextModel",
      "state": {
       "description": "Norm type q > 0 or q = \"inf\":",
       "disabled": true,
       "layout": "IPY_MODEL_be16fff5085440329d6652a047630fe2",
       "style": "IPY_MODEL_6075edd785ea4db9abc69c66520751b7",
       "value": "2"
      }
     },
     "b88470cc8b8247688171be8c9aee3897": {
      "model_module": "@jupyter-widgets/controls",
      "model_module_version": "1.3.0",
      "model_name": "HBoxModel",
      "state": {
       "children": [
        "IPY_MODEL_9283b8574516462aa18a41477e26f564",
        "IPY_MODEL_23661e0c73ec4815aa21a0014b11644f"
       ],
       "layout": "IPY_MODEL_ad24f1c386cb4e6a850b40b5d89ab561"
      }
     },
     "b8b39a097522409b86ad00fd0ff8e53d": {
      "model_module": "@jupyter-widgets/base",
      "model_module_version": "1.1.0",
      "model_name": "LayoutModel",
      "state": {
       "display": "none"
      }
     },
     "bb3aa028a6b14bbeba59612d71fed3cc": {
      "model_module": "@jupyter-widgets/controls",
      "model_module_version": "1.3.0",
      "model_name": "LabelModel",
      "state": {
       "layout": "IPY_MODEL_9f272925292742e8b0418afd7106dcaa",
       "style": "IPY_MODEL_90c6015ef4e94369b5d563135d965a66",
       "value": "$$\\gamma_u=\\Gamma_{|u|}$$"
      }
     },
     "bb8cd827881c4e70a18086f3fd685f34": {
      "model_module": "@jupyter-widgets/controls",
      "model_module_version": "1.3.0",
      "model_name": "BoundedIntTextModel",
      "state": {
       "description": "Coordinate on y-axis",
       "layout": "IPY_MODEL_a2718cf676c54f639bed3349e10428a6",
       "max": 3,
       "min": 1,
       "style": "IPY_MODEL_4019f17562bd48ef91c36dc1271481fb",
       "value": 2
      }
     },
     "bba81b9a39aa47ec939c28e5f5ba78fb": {
      "model_module": "@jupyter-widgets/base",
      "model_module_version": "1.1.0",
      "model_name": "LayoutModel",
      "state": {
       "width": "95%"
      }
     },
     "bbe8b1fee4a845a8a475fc7808cc30cc": {
      "model_module": "@jupyter-widgets/base",
      "model_module_version": "1.1.0",
      "model_name": "LayoutModel",
      "state": {}
     },
     "bc33681d7c80478397aa7ce1d2748e8f": {
      "model_module": "@jupyter-widgets/controls",
      "model_module_version": "1.3.0",
      "model_name": "VBoxModel",
      "state": {
       "children": [
        "IPY_MODEL_a742d71869ee4590b278ace8b06d2b43",
        "IPY_MODEL_4f1fc6c5bc4a468ea3ae9a6debeb82d4"
       ],
       "layout": "IPY_MODEL_5a8c81386cde46e2af02a5e6926bde35"
      }
     },
     "bc67386baa084cc398d3a6c72fb8f5ee": {
      "model_module": "@jupyter-widgets/controls",
      "model_module_version": "1.3.0",
      "model_name": "VBoxModel",
      "state": {
       "children": [
        "IPY_MODEL_c953dcded4aa4dc1a9846088470ec41b",
        "IPY_MODEL_24119223049a4cf8869660e69ce770b0"
       ],
       "layout": "IPY_MODEL_c6f8c5d29159455fa0cdc83d3f306eba"
      }
     },
     "bc75fa03708f4e27bf21ba9bbbba48ea": {
      "model_module": "@jupyter-widgets/base",
      "model_module_version": "1.1.0",
      "model_name": "LayoutModel",
      "state": {
       "width": "inherit"
      }
     },
     "bc9dd76dbd96444ab5afceff1fcd780b": {
      "model_module": "@jupyter-widgets/base",
      "model_module_version": "1.1.0",
      "model_name": "LayoutModel",
      "state": {}
     },
     "bddfe1e3bf754c3c9ac57b7254978470": {
      "model_module": "@jupyter-widgets/base",
      "model_module_version": "1.1.0",
      "model_name": "LayoutModel",
      "state": {
       "width": "inherit"
      }
     },
     "be16fff5085440329d6652a047630fe2": {
      "model_module": "@jupyter-widgets/base",
      "model_module_version": "1.1.0",
      "model_name": "LayoutModel",
      "state": {
       "width": "24%"
      }
     },
     "bef41f05ed7c4602b50bb8c6ea5a91a1": {
      "model_module": "@jupyter-widgets/base",
      "model_module_version": "1.1.0",
      "model_name": "LayoutModel",
      "state": {}
     },
     "bf943be8550740299181b8a85099c02b": {
      "model_module": "@jupyter-widgets/controls",
      "model_module_version": "1.3.0",
      "model_name": "TextModel",
      "state": {
       "description": "Path:",
       "layout": "IPY_MODEL_b6c7f424c1874af9b532f9fc8103b11d",
       "placeholder": "e.g. output or /home/output",
       "style": "IPY_MODEL_459aa008c1de4d948552722fb1cc36c1"
      }
     },
     "bfa6bd2fa09e4d9ea4408d91de44e061": {
      "model_module": "@jupyter-widgets/base",
      "model_module_version": "1.1.0",
      "model_name": "LayoutModel",
      "state": {
       "display": "none",
       "width": "25%"
      }
     },
     "bfc8039ea4a3485591c4d51ef0324f17": {
      "model_module": "@jupyter-widgets/base",
      "model_module_version": "1.1.0",
      "model_name": "LayoutModel",
      "state": {}
     },
     "c052a44047844e6cb1d2d89bb105befd": {
      "model_module": "@jupyter-widgets/controls",
      "model_module_version": "1.3.0",
      "model_name": "DescriptionStyleModel",
      "state": {
       "description_width": ""
      }
     },
     "c0b8c61cf82d4ae9a9060beafba22413": {
      "model_module": "@jupyter-widgets/base",
      "model_module_version": "1.1.0",
      "model_name": "LayoutModel",
      "state": {}
     },
     "c12fcdca76bd48f4984237af5d37288b": {
      "model_module": "@jupyter-widgets/base",
      "model_module_version": "1.1.0",
      "model_name": "LayoutModel",
      "state": {
       "display": "none",
       "margin": "0px 0px 0px 80px",
       "width": "250px"
      }
     },
     "c142b57cebb541739314326805ff9a2a": {
      "model_module": "@jupyter-widgets/controls",
      "model_module_version": "1.3.0",
      "model_name": "DescriptionStyleModel",
      "state": {
       "description_width": "initial"
      }
     },
     "c2646348d9234a1ea5cbd4c38742409a": {
      "model_module": "@jupyter-widgets/base",
      "model_module_version": "1.1.0",
      "model_name": "LayoutModel",
      "state": {
       "width": "900px"
      }
     },
     "c2ab7b8bdadf4e18ba491424432169fe": {
      "model_module": "@jupyter-widgets/controls",
      "model_module_version": "1.3.0",
      "model_name": "VBoxModel",
      "state": {
       "children": [
        "IPY_MODEL_68edd9023aa44f4eb22ec577188266c8",
        "IPY_MODEL_e3a0010969984315bf86dee112865506"
       ],
       "layout": "IPY_MODEL_731a116a599043bda94c3bcc61323423"
      }
     },
     "c2c2614732df43309b271acc0a8519b2": {
      "model_module": "@jupyter-widgets/controls",
      "model_module_version": "1.3.0",
      "model_name": "DescriptionStyleModel",
      "state": {
       "description_width": ""
      }
     },
     "c31e1d5a85be4e37a34432d36e8c3546": {
      "model_module": "@jupyter-widgets/controls",
      "model_module_version": "1.3.0",
      "model_name": "VBoxModel",
      "state": {
       "children": [
        "IPY_MODEL_5daf21fe8d854dea80cf904a9d39ed4e",
        "IPY_MODEL_1b70ca58dd8547c5b5c187adfef65647"
       ],
       "layout": "IPY_MODEL_ea094064afab4e88921959b8dbb83ffb"
      }
     },
     "c33dc05c43154f5ba69f1c6b97b62484": {
      "model_module": "@jupyter-widgets/base",
      "model_module_version": "1.1.0",
      "model_name": "LayoutModel",
      "state": {
       "margin": "30px 0px 0px 0px"
      }
     },
     "c34c712ee7304d9ebaea209b009bc728": {
      "model_module": "@jupyter-widgets/controls",
      "model_module_version": "1.3.0",
      "model_name": "TabModel",
      "state": {
       "layout": "IPY_MODEL_4b4ec0f57a7749cea22d27ef12896a52"
      }
     },
     "c3ee96589a1642868f59ce3e12aa51e7": {
      "model_module": "@jupyter-widgets/controls",
      "model_module_version": "1.3.0",
      "model_name": "HBoxModel",
      "state": {
       "children": [
        "IPY_MODEL_77aa708800eb453ab32a9aac254f58d4",
        "IPY_MODEL_f31ed31585394a42a238054fa2c4b88d"
       ],
       "layout": "IPY_MODEL_3d41b720a5d94263be117ba74edf7168"
      }
     },
     "c4084a40dc7148178c89b81a590bf3fd": {
      "model_module": "@jupyter-widgets/controls",
      "model_module_version": "1.3.0",
      "model_name": "TabModel",
      "state": {
       "_titles": {
        "0": "Ordinary Lattice",
        "1": "Digital Net"
       },
       "children": [
        "IPY_MODEL_fb7ae11b160049bb811b197d5b785223",
        "IPY_MODEL_fb7ae11b160049bb811b197d5b785223"
       ],
       "layout": "IPY_MODEL_fd74dac459c343f3b70abae1c121ca02"
      }
     },
     "c6f8c5d29159455fa0cdc83d3f306eba": {
      "model_module": "@jupyter-widgets/base",
      "model_module_version": "1.1.0",
      "model_name": "LayoutModel",
      "state": {}
     },
     "c7189383ae8e41f3babebba5e48030cf": {
      "model_module": "@jupyter-widgets/controls",
      "model_module_version": "1.3.0",
      "model_name": "DescriptionStyleModel",
      "state": {
       "description_width": ""
      }
     },
     "c74772b4075a48109d4ff195c6ef11f4": {
      "model_module": "@jupyter-widgets/base",
      "model_module_version": "1.1.0",
      "model_name": "LayoutModel",
      "state": {
       "width": "100px"
      }
     },
     "c7b03bd9af7b41248ef5fbd7caff42cb": {
      "model_module": "@jupyter-widgets/output",
      "model_module_version": "1.0.0",
      "model_name": "OutputModel",
      "state": {
       "layout": "IPY_MODEL_2af6bcf2549446f48edb29e06e776432",
       "outputs": [
        {
         "data": {
          "image/png": "iVBORw0KGgoAAAANSUhEUgAAAesAAAHWCAYAAABXF6HSAAAABHNCSVQICAgIfAhkiAAAAAlwSFlzAAALEgAACxIB0t1+/AAAADl0RVh0U29mdHdhcmUAbWF0cGxvdGxpYiB2ZXJzaW9uIDIuMi4yLCBodHRwOi8vbWF0cGxvdGxpYi5vcmcvhp/UCwAAIABJREFUeJztnX2MbedZ3ddzHYPj4OCmLqrlD5KqpoASWcBtDEIqqUioG8mxIvHhhLQNDViiDZWAIFGoQhQklAYhFFQLcNMoBcmEDwl6jUxTqQ0CIWzZKHXAriIZQ5ybWArBcWJhDNfct3/MXHIyzMdeZ84577v2/v2kq8zcOXO8s393PevZ55w5U601AQAAwLic6X0AAAAAcDyUNQAAwOBQ1gAAAINDWQMAAAwOZQ0AADA4lDUAAMDgnFjWVfW+qvpUVf3REV+vqvqZqnqsqj5SVV+7+cMEAABYLlOurN8v6dZjvv4vJd20/+dOST97+sMCAACAS5xY1q2135H01DE3uV3SL7Q97pd0dVVdu6kDBAAAWDqbeM76OkkfX/n8/P7fAQAAwAZ4wQbuow75u0Pfw7Sq7tTeQ+V60Yte9HVf+ZVfuYH//Py52JqefvaCrr7ycp2pw043zAl8L4en/uKv9Ymn/1LXXf1CveRFX9T7cGDL/MEf/MGnW2v/YJ3v3URZn5d0w8rn10v65GE3bK3dLeluSTp79mx76KGHNvCfnz/3PPCEfuTX/1Bve/0r9MZbbux9OBE889wF3fvwk7rt5mt11RWX9z4cC3x7JLtOPvYepJ+vqvrYut+7ibI+J+mtVfUBSbdI+mxr7ckN3O9GSZZ8283XfsH/wsnc+/CT+pFf/0NJiis8fHsku77qist3fszJszDZ9Wk5sayr6pckvUrSNVV1XtKPSbpcklprPyfpPkmvlfSYpGclfde2DvY0JEvuEWgpO9TJhccA90h23YPkWbhk1yeWdWvtDSd8vUn69xs7oi2xZMnrkhxqCs8D1x7JrpNn4ZIvXDbxMHgEBNonOdQ9SC48XHsku15y4a3LCL4XU9Y9GEHwaWDB8UguPFx7JLvuRfI8HMH38GVNoJdFcqApPA9ceyS7lrLnYa9HI1YZvqwJtE9yqJMD3YPkfODaI9m1xIJzWoYvawLtkxxqAu2RnA9ceyS77kXyLDzI8GXN1akPofZIDjSF54Frn2Tfc5qFw5d1Lwi1B4FeDsnZwLVPsu85zULK+ggItQeB9mC56QNXpz7JvnuwrVlIWR8BA9yDQHuw3HgkZ0PCt0uy723NwtmVdbJkAu2R7JrlxiM5GxK+XZJ9b2sWzq6skyX3CHRy4SW7ZrnxSC87fHuk+94GsyvrZMk9Ap1ceMmue5DsmueaffDtMbrr2ZU1kj2SCw/XHsmue5FcePj2GN317Mq6B6NLPg4KzwPXPsm+kwuPbHuM7nqYskbyckguPFz7JPum8DxwvT2GKWskeyQHOrnwuDr1Sfbdg+RZiOvtMUxZI9kjOdAsNz749kj2nTwLcb09hilrJHskB7oHyWUn4dsl2Tez0CPZtcMwZd2DZMkE2iO97PDtke571yTPwqW4XnRZL0XypkgONM81++DbI9l18ixciutFl/VSJG+K5ED3Irnw8O2R7JpZ6NHD9aLLugcE2ic51MmFxwD3SHbdg+RZ2MN1ZFkT6GWRHGoKzwPXHsmuk2dhD9eRZU2gPZIDLWWHugfJ+cC1R7JrHqnziCxrfjuVR3KgJRYcl+TCw7VHsutepM7DyLLmt1N5EGifZN8UngeuPZJdS7nzMLKse5AqWOLhpnVI9t2D5MLDtUeya6nvgqM6c2bd+6CsJ0Lh+SSHmisWj+TCw7VHsuteXJqFZ1744pesex+U9eAkFx6h9kh2TeF54Non2felGfid7/7cU+vexyLKeg6SEwuPAe6R7LoHyYWHa59k35dm4Xe2ixfXvY9FlPUcJO+S5MLDtUey6+TC4+rUJ9n3JlhEWS9dskty4eHaI9k1y40Pvj1G8r2Isl66ZJfkwsO1R7LrHiSXnYRvl5F8L6KsezCSZBcKzwPXHsmu08sO3x4j+R66rJG8HJILD9ceya55rtkH35th6LJGskdyoJMLD9ceya57kTwL8b0Zhi5rJHskB5rC88C1T7Lv5FlItjfD0GWNZI/kQPcgufBw7ZPsm1nokez6KIYu6x4kSybQHsmFx9WpT7LvHiTPwjm6pqwPMEfJ2yQ50Cw3Pvj2SPadPAvn6JqyPsAcJW+T5ED3ILnsJHy7JPtmFnps2/VsyhrJfSDQHullh2+PdN+7JnkWbtv1bMoaycsh2TXPNfvg2yPZdfIs3Lbr2ZQ1kj0I9LJILjx8eyS7ZhYezWzKGskeBNon2Xdy4ZFtj2TXPUiZhbMp6x6kSD4MAu2T7JvC88C1R7LrlFnYvayR3AcC7ZPsuwfJhYdrj2TXI73/93F0L2skeyQXXrJrCd8uyYWHa49k1yl0L2skeyQXHq59kn1TeB649kh2vQ7dyxrJHsmFxwvDfJJ99yC58HDtkex6HbqXdQ+SJVN4Pvj2SHadXHi49kh2vQ6LLOulSd4EyYWHb49k1xSeB659evleZFkvTfImSC48BrhHsuseJBcern16+V5kWfciOdQUngeuPZJdJxceFy4+vXxHlXWyYCk71D1ILjxceyS7ZrnxwbdPVFknC5YItUty4eHaI9l1D9JnYQ/fyfmQwsqaQPskh5rC88C1R7Lr9FnYw3dyPqSwsub5FZ/0UO+a5EDj2iPZNbPQJz0fUWXdC0LtQaD7gGuPZNe9YBZ6bDIflPUECLUHgfZILjxc+yT7ZhZ6bDIflPUEGOAeBNojufBw7ZPsm1noscl8zLqskyUTaI9k18mFx9WpT7LvHjAL95h1WSdLJtAeya5Zbnzw7ZHsm1m4x6zLOlkygfZIdt2D5LKT8O2S7JtZuMesyxrJHgTaI9l1etnh2yPd964ZcRbOuqx7MKLkqRBoj2TXPNfsg2+PZNcjzsIhyxrJfSDQHsmue5FcePj2SHbda5k9jiHLGskeyYWHa59k38mFR7Y9kl2PyJBljWSP5MLDtU+ybwrPA9ceya5PYsiyRrJHcuFxdeqT7LsHyYWHa49k1ycxZFn3IFkyy40Pvj2SfScXHq49kl2fBGW9z5wlb4PkspPw7ZLsm8LzwLXHrlxT1vvMWfI2SC87fHuk+941yYXXw3VyNnblmrLuSHKgea7ZB98eya6Tl5serpOzsSvX8WVNoJcFoV4Oya5ZbjySs7Er1/FlTaB9CHUfGOAeya57wCz0ScpHfFkTaB9C7ZEU6IPg2iPZNbPQJykf8WVNoH0ItUdSoA+Ca49k18xCn6R8nJlyo6q6tao+WlWPVdUPH/L1G6vqQ1X14ar6SFW99qT7vNia7nngCT3z3IV1jrsrlwJ978NP9j6UtbgU6l2G65nnLsT6vu3ma/UTr39FRKAPgmuPZNc9YBbujhOvrKvqMkl3SXqNpPOSHqyqc621R1du9p8k/Upr7Wer6qsl3Sfppcfd79PPXojdYJO2sVHgisUj+YoF1x7JrpmFu2PKw+CvlPRYa+1xSaqqD0i6XdJqWTdJL97/+EslffKkO736ysv1ttANlhdD+BBqj+TCw7VHsmtm4e6YUtbXSfr4yufnJd1y4DbvkPS/qur7JL1I0qtPutMzVUg2IdQeya6TCw/XHsmue5E8C9dlSlnXIX/XDnz+Bknvb639VFV9g6RfrKqXt9YufsEdVd0p6U5JuvHGPic4WTKh9kh2TeF54Non2fcSZ+GUsj4v6YaVz6/X332Y+y2SbpWk1trvV9UVkq6R9KnVG7XW7pZ0tySdPXv2YOHvhGTJDHCPZNc9SC48XPsk+17iLJxS1g9KuqmqXibpE5LukPTGA7d5QtI3S3p/VX2VpCsk/dkmD3RTLFHyaSDQHsmukwuPq1OfZN896D0LTyzr1trzVfVWSR+UdJmk97XWHqmqd0p6qLV2TtIPSvqvVfX92nuI/M2ttS5XziPSW/JpINAeya5Zbnzw7ZHsu/csnPSmKK21+7T341irf/f2lY8flfSNmz20LwTJfSDQHsmue5BcdhK+XZJ993r05hIx72CGZI/kwsO1R7Lr9LLDt0e6757ElDWSPZILD9ceya55rtkH3x7JrleJKWskeyQXHq49kl33IrnwevhOzkey61ViyroHyZIpPA9c+yT7Tl5wevhOzkey61Uo62OYi+RdQaCXRbJvllmP5HzMxTVlfQxzkbwrCLQPvpcDy41Hcja24ZqyHgwC7ZEcaAnfLsm+WW48krOxDdezLGsCvRySAy3h2yXZN8uNR3I2tuF6lmVNoD0IdD/w7ZHue9cwCz1GzsYsy5pAexBon5FDfRL49kh2zSz0GDkbsyxrAu1BoH1GDvVJ4Nsj2TWz0GPkbAxV1smSCbRPsu+RQ30SDHCPZNc9YBZuh6HKOlkygfZJ9k3heeDaI9k1s3A7DFXWyZIJtE+y7x4kFx6uPZJdMwu3w1BljWSP5EBL+HZJLjxceyS77kH6LJzCUGXdg2TJBNon2TeF54Frj2TXS5iFiy/rZMm8MMwn2XcPkguP307lkex6CbNw8WW9BMmbhlB7JLtOXm747VQeya57sUvfiy/rXhDq5ZDsmuXGIzkbXLj47NJ3dFkjuQ8McI9k1z1gufFJzge+pxFd1kj2INB9wLUHy41Pcj7wPY3oskayB4FeDsmuWW58kvOB72lElzWSPQi0B66XQ/JyI5EPl0Tf0WXdg0TJlyDQHrj2SHbNcuOTnI9E35S1SaLknhDo5ZDsmheG+STno9cye+bKq69Z9/spaxOuWDwItAeulwULjkdyPu59+Em94MXXfPm6339mkwcD2+FSoO99+Mneh2JzKdC7DNYzz13QPQ88oWeeu7Cz/+amwLVPsu/bbr5WP/H6V7DgTCQ5H7fdfK2e/9ynP7bu9y/myjp5I+OKxSP5agXXPsm+uTr1SM7HVVdcrovPPv3pdb9/MWVNoD0IdB947tQn2XcPmIUeo2RjMWVNoD0ItMcogV4XfHsk+2YWeoySjcWUNYH2INAeowR6XfDtkeybWegxSjaGL+tkyQTaI9n1KIFeF3x7pPveNczC0zN8WSdLJtAeya55rtkH3x7JrpmFp2f4sk6WTKA9kl33IrnwevhOzkeya2bh6Rm+rJHsQaB9kn0nLzg9fCfnI9l1D5JdH8bwZd2DZMkE2ifZN8usR3I+cO2R7PowKOtDSJZMoH2SffeA5cYjOR+49tima8r6EOYmedskB1rCtwvLjUdyPnDtsU3XlPUgEOhlkeyb5cYjOR+49tim61mVNZL7wAvDfJJ994DlxiM5G7g+nFmVNZJ9CHUfGOAeLDceydnA9eHMqqyR7EOol0Oya5Ybj+RscOFyOLMqayT7EGoPXC8Hlhuf5HyM7ntWZd2L0SUfB4XngWuPZNcsNz7J+Rjd9xBlnRxoaXzJo0Ggl0Oya5Ybn+R8jPILO45iiLJODrREqF0ItAeulwOz0Cc5Hw5DlDWB9kkONYH2wLVHsmtmoU9yPhyGKGteDOFDqD2SA81vp/JIds0s9FnKLByirHtBqD0IdB/47VQeya57kex7KbNw0WVNqD0ItAfLTR+4OvVJ9t2DHrNw0WXNAPcg0B4sNz7J+cC3R7LrHrMwsqyTJRNoj2TXLDc+yfnAt0ey6x6zMLKskyUTaI9k1yw3Psn5wLdHsuseRJZ1smQC7ZHsugfJy41EPlySfePaI7KskexBoD2SXbPc+CTnA98eya4jy7oHyZIJtEeya14Y5pOcD5ZZj2TXlPVEkiUTaI9k171gwfFIzgeuPVZdnwbKeiK9JRPo3cHVqQ8LjkdyPnDtser6NFDWA0Ogl0Wyb5ZZj+R84NpjU65nX9ZI7gOB9kn23QOWG4/kfOB6AWWNZA8C3Q98e7DceCTnA9cLKGskexDoZZHsm+XGIzkfuF5AWSPZg0D74Hs5sNx4JGdjNNezL+sejCbZgcLzwbdHsmuWG4/kbIzmetiyJtDLglB7JOcj2TXLjUfyLOx14XIUw5Y1gfYh1H3o4Ts5H8mue5Dsmlm4OYYtawLtQ6g9kgOdnA9ceyS77kXyLDyKYcuaQPsQao/kQJMPD1x7JLuW5jkLhy3rHiQHWiLULnMM9DZJzgeuPZJdS/OchZT1CgTaJznUcwz0NknOB649kl33YtuzkLJegRdD+BBqD5Ybj+Rs4Non2fe2Z+FsyjpZMqH2SHbNcuORnA1c+yT73vYsnE1ZJ0sm1B7JrlluPJKzwdWpT7LvbTObsk6WzAD3SHbdA5Ybn+R84NsjxfVsyhrJHgTaI9k1y41Pcj7w7ZHiejZl3YMUyYdBoD2SXbPc+CTnA98eKa67lzWS+0CgPZJd9yB5uZHIh0uy79HeA/woupc1kj0IdB9w7cFy45OcD3xvn0llXVW3SnqPpMskvbe19q5DbvPtkt4hqUl6uLX2xin3jWQPAu2RXHjJrnlhmE/yLGSZ3T4nlnVVXSbpLkmvkXRe0oNVda619ujKbW6S9B8lfWNr7TNV9WVTDwDJHgTaI7nwkl33Itk3s9Aj2fU6TLmyfqWkx1prj0tSVX1A0u2SHl25zfdIuqu19hlJaq19atMHukmSJRNoj+TC4+rUJ9l3D5Jn4dJcTynr6yR9fOXz85JuOXCbr5Ckqvo97T1U/o7W2v/cyBFugaVJPi3JgWa58cG3R7Lv5Fm4NNdTyroO+bt2yP3cJOlVkq6X9LtV9fLW2tNfcEdVd0q6U5JuvLHfEFia5NOSHOgeJJedhG+XZN/MQo+erqeU9XlJN6x8fr2kTx5ym/tbaxck/UlVfVR75f3g6o1aa3dLuluSzp49e7DwZw2B9kgOdHrZ4dsj3feuSZ6FPV1PKesHJd1UVS+T9AlJd0g6+Erv35D0Bknvr6prtPew+OObPFCJQC+J5EDzXLMPvj2SXSfPwp4/k31iWbfWnq+qt0r6oPaej35fa+2RqnqnpIdaa+f2v/YtVfWopL+R9EOttT/f9MESaA8CvSyS84Fvj2TXzML1mPRz1q21+yTdd+Dv3r7ycZP0A/t/tgaB9iDQPsmhTs4HA9wj2XUPkmfhJbq/g5kDgfYg0D7JoSYfHrj2SHY9h1kYVdY9INA+hHo5JOcD1x7JrucwCynrEyDQPoTag+WmD7j2SHbdi03OQsr6BAi0D6H2YLnxSM4Hrj2SXUubnYWzLetkycmBlgi1C8uNR3I+cO2R7Fra7CycbVknSybQPsm+WW48kvOBa49k15tmtmWdLHkOL4bYNcm+e8By45GcDVz7jOh7tmWNZB9C7ZHsmuXGIzkbuPYZ0fdsy7oXI0qeSo9QJxdesmuWG4/kwuPCxWdE38OVdbJgaUzJU+kR6uTCS3bdg2TXFJ4PvjfLcGWdLFjiisUlufBw7ZHsuhfJ8xDfm2W4skawT3KgKTwPXHsku5ay5yG+N8twZc3DTT7Jge5BcuHh2iPZtUThuaT7Po7hyroXyZIJtEdy4eHaI9l1L5Jn4Zx9U9b7zFnyNkgONIXngWufZN/Js3DO2aas95mz5G2QHOgeJBcern2SfTMLPXblmrLuCIH2SA50cuFxdeqT7LsHybNwV67jy5pAL4fkQLPc+ODbI9l38izclev4sibQHgR6OSRnQ8K3S7JvZuHJxJc1gfYg0B5pgV4lPRv49kj3vWvSZmF8WRNoDwLtkRboVXiu2QffHsmu02Zht7K+2JrueeCJSMkE2oNAL4vkfODbI9n1iO//fRzdyvrpZy/ESua3U3kQaJ9k38mFxzLrkew6jW5lffWVl+ttr39FpGR+O5UHgfZJ9k3heeDaI9n1aehW1meqkGyQXHhcnfok++5BcuHh2iPZ9WmIf4GZQ7JkNlgffHsk+04uPFx7JLs+DYsq66VKXpfkspPw7ZLsm8LzwLXHCK4XVdZLlbwu6WWHb49037smufBw7TGC60WVdQ9GkLwuPNfsg2+PZNfJhYdrjxFcR5Q1kpdFcuHh2yPZNYXngevTEVHWSPZJDnVy4THAPZJd9yB5FuL6dESUNZJ9kkNN4Xng2iPZdfIs5MLldESUNYH2SQ51D5ILD9ceya4pPJ9k36tElHUP0gWz4HgkFx6uPZJd9yJ5Hs7FN2V9BHMRvEuSA03heeDaI9m1lD0P5+Kbsj4CHm7ySQ50D5ILD9ceya6l+RTertiGb8p6MJJDTaA9kgsP1x7JrnuRPAu34XuWZU2ol0NyoCk8D1z7JPtOnoXb8D3LsibUHgR6OSRnA9c+yb6ZhV/ILMu6R6hHlnwSBNoj2XVy4XF16pPsuwcjz8JZlnWPUI8s+SQItEeya5YbH3x7JPseeRYOVdZI7gOB9kh23YPkspPw7ZLse4T3AD+KocoayR7JhYdrj2TX6WWHb49036MyVFkj2SO58HDtkeya55p98O2R7HoqQ5U1kj2SCw/XHsmue5FcePj2SHY9laHKugfJkik8D1z7JPtOLjyy7ZHseiqLL+slSN4kyYWHa59k3xSeB649du168WW9BMmbJLnwuDr1Sfbdg+TCw7XHrl0vvqx7kBxolhsffHsk+04uPFx77Np1bFkjeTkkl52Eb5dk3xSeB66nE1vWSPZIDnR62eHbI933rkmehbieTmxZI9kjOdA81+yDb49k18mzENfTiS1rJHskB7oXyYWHb49k18xCj1TXsWXdg1TJElen65BceAxwj2TXPUiehb1cP/PcBZ258upr1v1+ytqAQPskh5rC88C1R7Lr5FnY68Ll3oef1AtefM2Xr/v9lLUBgfZJDnUPkgsP1x7Jrnmkzue2m6/V85/79MfW/f5FlHWy4ORASyw4LsmFh2uPZNe9SJ6HV11xuS4++/Sn1/3+RZR1smAC7ZPsm8LzwLVHsmtp2fNwEWWdLJiHm3ySffcgufBw7ZHsWlr2grOIsqbwfJJDveRAr0Ny4eHaI9l1L0aZhYso616MInkdCLVHsmsKzwPXPsm+R5mFw5c1kvvAAPdIdt2D5MLDtU+y714LzkGGL2skeyQXHq49kl0nFx5Xpz7Jvkdh+LJGskdy4eHaI9k1y40Pvj3SfR9k+LJGskdy4eHaI9l1D5LLTsK3S7rvgwxf1j1IlkzheeDaI9l1etnh2yPd90Eo60OYm+Rtk1x4uPZIds1zzT749tima8r6EOYmedskFx6uPZJd9yK58PDtsU3XlPUgJAeawvPAtU+y7+TCI9se23Q9q7JG8nJILjxc+yT7pvA8cH04syprJHskBzq58Lg69Un23YPkWdjDdUI2ZlXWBNojOdAsNz749kj2nTwLe7hOyMasyppAeyQHugcJgT4OfHsk+2YWeiRkY4iyTpZMoD2SXScE+jjw7ZHue9cwC7fLEGWdLJlAeyS75rlmH3x7JLtmFm6XIco6WTKB9kh23YvkwsO3R7JrZuF2GaKskexBoH2SfScXHtn2SHbdg+RZ6DJEWfcgWTKB9kn2TeF54Noj2fWSZuGksq6qWyW9R9Jlkt7bWnvXEbf7Vkm/KumfttYe2thRboFkyQTaJ9l3D5ILD9ceya6X9EjdiWVdVZdJukvSaySdl/RgVZ1rrT164HZXSfoPkh7YxoFuGgrPIznQEr5dkgsP1x7JrnvRYx5OubJ+paTHWmuPS1JVfUDS7ZIePXC7H5f0bklv2+gRzojkwiPQPsm+KTwPXHsku5b6zMMpZX2dpI+vfH5e0i2rN6iqr5F0Q2vtN6tqq2WdLDm58Jb0cNOmSPbdg+TCw7VHsmupzzycUtZ1yN+1v/1i1RlJPy3pzSfeUdWdku6UpBtvXO//aLJkCs8H3x7JrpMLD9ceya57MaWsz0u6YeXz6yV9cuXzqyS9XNJvV5Uk/UNJ56rqdQdfZNZau1vS3ZJ09uzZpjVAsk9y4eHbI9k1heeBa59k31PK+kFJN1XVyyR9QtIdkt546Yuttc9KuubS51X125Letq1XgyPZJ7nwGOAeya57kFx4uPZJ9n1iWbfWnq+qt0r6oPZ+dOt9rbVHquqdkh5qrZ3b9kGOQLJkCs8D1x7JrpMLjwsXn2Tfk37OurV2n6T7Dvzd24+47atOf1jjkSy5B8mFh2uPZNcsNz749lj1fRoW+w5mLr0lp4U6ufBw7ZHsugfJZSf18Z2cj1Xfp4GyHpjkUFN4Hrj2SHadvtz08J2cj035nn1ZE+rlQKCXQ7Jrnmv2Sc7HpnzPvqwJtQeB7gOuPZJd94JZ6DFaPmZf1oTag0B7jBZoB1z7JPtmFnqMlo/ZlzUD3INAe4wWaAdc+yT7ZhZ6jJaPYcs6WTKB9kh2PVqgHbg69Un23QNm4eYYtqyTJRNoj2TXLDc++PZI9s0s3BzDlnWyZALtkey6B8llJ+HbJdk3s3BzDFvWSPYg0B7JrtPLDt8e6b53TfIsPI5hy7oHyZIJtEeya55r9sG3R7Lruc5CynqFZMkE2iPZdS+SCw/fHsmu5zoLKesV5ip5WxBon2TfyYVHtj2SXfdgF7OQsu5McuERaJ9k3xSeB649kl3vYhbOoqyR3AcC7ZPsuwfJhcdvp/JIdr2LWTiLskayB4HuB749kpcbfjuVR7LrXTCLskayB4FeFsm+WW48kvOB6+OZRVkj2YNA++B7ObDceCRnI8n1LMq6B0mSD0Lh+eDbI9k1y41HcjaSXHctawK9LAj1ckh2zXLjkZyN0X5Zx3F0LWsC7UOo+8AA90h23QNmoU9yPtaha1kTaB9C7ZEcaFx7JLtmFvok52MdupY1gfYh1B7Jgca1R7JrZqHP0vKxuBeYJQdaItQuyYHGtUey6x4wC3165mNxZU2gfZJDvbRAnxZceyS7Zhb69MzH4sqaF0P4EGqP5MLDtUeya2ahT898RJV1smRC7ZHsOrnwcO2R7LoXzML1iCrrZMmE2iPZNYXngWufZN/MwvWIKutkyQxwj2TXPUguPFz7JPtmFq5HVFkj2YNAeyS7Ti48rk59kn33IHkWXiKqrHuQLJlAeyS7ZrnxwbdHsu85zELK+gSSJRNoj2TXPUguO6mP7+R8JPuewyykrE9gDpJ3CYH2SHadvtz08J2cj3Tfu2bTrin7USK1AAASiElEQVTrASHQyyHZNc81+yTng2XWY9OuZ1vWSO4DgfZIdt0LFhyP5Hzg+vPMtqyR7EGg+8DVqQ8LjkdyPnD9eWZb1kj2INDLItk3y6xHcj5w/XlmW9ZI9iDQPvheDiw3HsnZGNX1bMu6B6NKngKB9sG3R7JvlhuP5GyM6nq4sibQyyE50BK+XZJ9s9x4JGej5y/rOI7hyppAexDofuDbI933rmEWeiRnYwrDlTWB9iDQPsmhxrdHsmtmoUdyNqYwXFkTaA8C7ZMcanx7JLtmFnrMPRvDlXUPCLQPoe4DA9wj2XUPmIU+u8oHZS0CvQ6E2iO58HDtkeyaWeizq3xQ1iLQ60CoPZILj99O5ZHsmlnos6t8RJd1suTkQEuE2iV5ueG3U3kku+5Bsmtpd/mILutkyQTaJ9k3y41Hcj5w7ZHsepdEl3Wy5Lm/GGIbJPvuAcuNR3I2cO2T5ju6rJHsQ6g9kl2z3HgkZwPXPmm+o8u6F2mSVyHUHsmuWW48krPBhYtPmu9uZX2xNd3zwBNI3jEMcI9k1z1gufFJzge+d0e3sn762QtINiDQfcC1B8uNT3I+8L07upX11Vderre9/hVIngiBXg7JrllufJLzge/d0a2sz1Qh2YBAe+B6OSQvNxL5cEn3vS6LeoFZsmQC7YFrj2TXLDc+yflYqu9FlfVSJa8LgV4Oya55YZhPcj6WuswuqqyXKnldCLQHrpcFC45Hcj5GcL2osu7BCJLXhUB74Non2TcLjkdyPkZwHVHWBHo5EOhlkeybZdYjOR8j/Ex2RFkTaA8C3QeuTn2SffeAWeiRnI2DRJQ1gfYg0B7pgca3R7JvZqFHcjYOElHWBNqDQHukB7qH7+R8JPtmFnrMaRZGlHUPCLQHge5HD9/J+Uj3vWuSXc9pFlLWR0CgPQi0DwtOH+Y0wHdBsusebGsWUtZHQKA9CLQPC45Hcj5w7ZHseluzcHZlnSyZQPsk+2bB8UjOB649kl1vaxbOrqyTJRNon2TfXLF4JOcD1x7JrrfF7Mo6WTKB9kn23QOWG4/kfODaY3TXsytrJHskB1rCtwvLjUdyPnDtMbrr2ZV1D0aXfBwE2ifZN8uNR3I+cO0xuuthyhrJfeCFYT7JvnvAcuORnA1cb49hyhrJPoS6DwxwD5Ybj+Rs4Hp7DFPWSPYh1Msh2TXLjUdyNrhw2R7DlDWSfQi1B66XA8uNT3I+kn1PZZiy7kWyZArPA9ceya5ZbnyS87EE34sv6yVI3iQE2iO58JJds9z4JM/CJfhefFkvQfImIdAeyYWX7LoHya4lZqHLrn1PKuuqulXSeyRdJum9rbV3Hfj6D0j6bknPS/ozSf+2tfaxDR/rbEgONYH2SC48XHsku+5F8izcte8Ty7qqLpN0l6TXSDov6cGqOtdae3TlZh+WdLa19mxVfa+kd0v6jm0c8CUI9XJIDjSF54Frn2TfybNw176nXFm/UtJjrbXHJamqPiDpdkl/W9attQ+t3P5+SW/a5EEeBqH2INDLITkbuPZJ9s0snM6Usr5O0sdXPj8v6ZZjbv8WSb91moOaAqH2INAeqYGWsrPB1alPsu8epM7CKWVdh/xdO/SGVW+SdFbSNx3x9Tsl3SlJN954upPEAPcg0B6pgZYovHXAt0ey69RZOKWsz0u6YeXz6yV98uCNqurVkn5U0je11v7qsDtqrd0t6W5JOnv27KGFPzIE2oNAL4vkfODbI9l1z1moOnNm3fuYUtYPSrqpql4m6ROS7pD0xtUbVNXXSPp5Sbe21j617sGMDoH2INAeycuNlJ0PfHsku+7BpVl45oUvfsm693Fiy7fWnpf0VkkflPT/JP1Ka+2RqnpnVb1u/2Y/KelLJP1qVf3fqjq37gGNzKVA7zJYzzx3Qfc88ISeee7Czv6bm+K2m6/VT7z+FQR6IpcCfe/DT/Y+lLUgHx7JvnHtcWkWXvzLzz217n1M+jnr1tp9ku478HdvX/n41esewC5I3mC5OvVIds3Vik9yPvDtkez60iz8znbx4rr3sYh3MEuWTKA9kl3zwjCf5HywzHoku94EiyjrZMkE2iPZdS9YcDyS84Frj5FcL6Ksly7ZhUD7JPtmwfFIzgeuPUZyvYiy7sFIkl0ItE+yb5ZZj+R84NpjJNdDlzWS+0CgfZJ994DlxiM5H7jeDEOXNZI9CHQ/8O3BcuORnA9cb4ahyxrJHgTaJ7nwkn2z3Hgkz0Jcb4ahyxrJHgTaJ7nwkn33INk1s9Aj2fVRDF3WPUiWzCuhfZILjwHukey6B8mzcI6uKesDzFHytkkONYXngWuPZNfJs3COFy6U9QHmKHnbJIe6B8mFh2uPZNfMQp9t+qasB4FQeyQHOrnwcO2R7LoXybNwm75nU9bJgZYItUtyoCk8D1x7JLuWsmfhNn3PpqyTAy0RapfkQPcgOR+49kh2LTELj2I2ZU2gfZJDTaA9kvOBa49k171ImIWzKWteDOFDqD0SAn0UFJ4Hrn2SfSfMwiHKOlkyofZIdp0Q6JFIzgaufZJ9j/Qe4EcxRFknSybUHsmuWW48krPB1alPsu8EhijrZMkMcI9k1z1gufFJzge+PZJduwxR1kj2INAeya5ZbnyS84Fvj2TXLkOUdQ+SJfcIdHLhJbtmufFJLjx8eyS7dllsWSdL7hHo5MJLdt2DZNcSheeS7HtJrhdb1kuSvAmSCw/XHsmue5FcePj26OV6sWXdg+RAU3geuPZJ9p1ceGTbo5fruLJG8nJILjxc+yT7pvA8cO0TV9ZI9kgOdHLhcXXqk+y7B8mzENc+cWWNZI/kQLPc+ODbI9l38izEtU9cWSPZIznQPUguOwnfLsm+mYUeya6lwLLuQbJkAu2RXnb49kj3vWuSZ2G6a8p6AumSd01yoHmu2QffHsmuk2dhumvKegLpkndNcqB7kVx4+PZIds0s9Nika8p6UAi0T3KokwuPAe6R7LoHybNwk65nXdYEelkkh5rC88C1R7Lr5Fm4SdezLmsC7UOol0NyPnDtkeyaWbjHrMuaQPsQao/RAu2QnA9ceyS77sVos3DWZU2gfQi1x2iBdiAfHrj2SHYtjTcLhyzrZMnJgZYItctogR6d5Hzg2iPZtdTv4fejGLKskyX3CnRy4SX7ZrnxSC48XHskux6RIcs6WXKvbSy58JJ99yDZNYXngWufZN/HMWRZI9knufAY4B7JrnuQXHi49kn2fRxDlnUvkiVTeB649kh2nVx4XLj4JPs+Dsp6hblK3hbJhYdrj2TXFJ4Pvj124ZqyXmGukrdFcuHh2iPZdS+SCw/fHrtwTVl3JjnQFJ4Hrj2SXUvZhYdvj124nkVZI3k5JBcerj2SXUsUnkuy7124nkVZI9kjOdDJhYdrj2TXvUiehfg+nlmUNZI9kgNN4Xng2ifZd/IsJNvHM4uyRrJHcqB7kFx4uPZJ9s0s9EhyPYuy7kGS5IMQaI/kwuPq1CfZdw+SZ2GS665lTaCXQ3KgWW588O2R7Dt5Fo72yzqOo2tZE2gPAr0ckrMh4dsl2TezcDd0LesegU6WTKA9kl2nlx2+PdJ975rkWbguXcu6R6CTJRNoj2TXPNfsg2+PZNdLnIWLe4FZsmQC7ZHsuhfJhYdvj2TXS5yFiyvrJUo+DQTaJ9l3cuGRbY9k1z3oPQsXV9Y96C35NBBon2TfFJ4Hrj2SXfeehTFljeQ+cHXqk+y7B8mFh2uPZNe9f8wrpqyR7JFcdhK+XZJ9Jxcerj2SXfcmpqyR7JFcdhK+XZJ9U3geuPZIdr1KTFkj2SO97PDtke571yQXHq49kl2vElPWPUiWzHPNPvj2SHadXHi49kh2vQplfQxzkbxLkgsP3x7Jrik8D1z7bNo3ZX0Mc5G8S5ILjwHukey6B8mFh2ufTfumrAckOdQUngeuPZJdJxceFy4+m/Y9y7JOFixlh7oHyYWHa49k1xSeD74/zyzLOlmwxBWLS3Lh4doj2XUvkuchvj/PLMsawT7JgabwPHDtkexayp6H+P48syxrHm7ySQ50D5ILD9ceya4lCs9lVN/DlTWS+0CgPZILD9ceya57kTwLR/U9XFkjeTkku6bwPHDtk+w7eRb2/oUdRzFcWSPZg0Avh+TCw7VPsm9m4eYZrqyR7EGgPZJdJxceV6c+yb57kDwLpzBcWfcgWTKB9kh2zXLjg2+PZN9zn4WUtbIlE2iPZNc9SC47Cd8uyb7nPgspa81f8qYh0B7JrtPLDt8e6b53zS5nIWXdieTCI9Aeya55rtkH3x7Jrnc5C6PLGsl9INAeya57kVx4+PZIdr3LWRhd1kj2SC48XPsk+04uPLLtkex6l0wq66q6VdJ7JF0m6b2ttXcd+PoXS/oFSV8n6c8lfUdr7U83e6h/FyR7JBcern2SfVN4Hrj2SHR9YllX1WWS7pL0GknnJT1YVedaa4+u3Owtkj7TWvvHVXWHpP8s6Tu2ccCrINkjufC4OvVJ9t2D5MLDtUei6ylX1q+U9Fhr7XFJqqoPSLpd0mpZ3y7pHfsf/5qk/1JV1VprGzzWIUiUfAmWGx98eyT7Ti48XHskup5S1tdJ+vjK5+cl3XLUbVprz1fVZyX9fUmfPupOn/qLv9Yzz11A8sxJLjsJ3y7Jvkd9T+hRwfVuqZMufqvq2yT9i9bad+9//q8kvbK19n0rt3lk/zbn9z//4/3b/PmB+7pT0p2SpMte8HVnvvhLPnbx2aePLHQ4NdfomIVpJ9SZM2de+OKXXPzLzz2ldvFi12PZHv3P8yhszzfnePt453gZ2d40/6S1dtU63zjlyvq8pBtWPr9e0iePuM35qnqBpC+V9NTBO2qt3S3pbkmqqof+5i8+c3adg4ZpVNVDrTXO8ZbhPG8fzvH24Rxvn6p6aN3vPTPhNg9KuqmqXlZVXyTpDknnDtzmnKR/s//xt0r6P3N8vhoAAKAHJ15Z7z8H/VZJH9Tej269r7X2SFW9U9JDrbVzkv6bpF+sqse0d0V9xzYPGgAAYElM+jnr1tp9ku478HdvX/n4OUnfZv637zZvDz6c493Aed4+nOPtwznePmuf4xNfYAYAAAB9mfKcNQAAAHRk62VdVbdW1Uer6rGq+uFDvv7FVfXL+19/oKpeuu1jmhsTzvEPVNWjVfWRqvrfVfXlPY4zmZPO8crtvrWqWlXxqto1mHKeq+rb9/89P1JV9+z6GNOZMC9urKoPVdWH92fGa3scZzJV9b6q+lRV/dERX6+q+pl9Bx+pqq898U5ba1v7o70XpP2xpH8k6YskPSzpqw/c5t9J+rn9j++Q9MvbPKa5/Zl4jv+5pCv3P/5ezvHmz/H+7a6S9DuS7pd0tvdxp/2Z+G/5JkkflvT39j//st7HnfRn4jm+W9L37n/81ZL+tPdxp/2R9M8kfa2kPzri66+V9FuSStLXS3rgpPvc9pX1375VaWvtryVdeqvSVW6X9N/3P/41Sd9cVbXl45oTJ57j1tqHWmvP7n96v/Z+Vh6mM+XfsST9uKR3S3pulwc3I6ac5++RdFdr7TOS1Fr71I6PMZ0p57hJevH+x1+qv/u+GnACrbXf0SHvNbLC7ZJ+oe1xv6Srq+rYt0ncdlkf9lal1x11m9ba85IuvVUpTGPKOV7lLdrb6GA6J57jqvoaSTe01n5zlwc2M6b8W/4KSV9RVb9XVffv/0ZAmM6Uc/wOSW+qqvPa+ymg7xNsGndub/33WR92hXzw5edTbgNHM/n8VdWbJJ2V9E1bPaL5cew5rqozkn5a0pt3dUAzZcq/5Rdo76HwV2nvEaLfraqXt9ae3vKxzYUp5/gNkt7fWvupqvoG7b2Hxstba7yl6Oawe2/bV9bOW5XquLcqhSOZco5VVa+W9KOSXtda+6sdHdtcOOkcXyXp5ZJ+u6r+VHvPQZ3jRWY2U+fF/2itXWit/Ymkj2qvvGEaU87xWyT9iiS11n5f0hXae99w2ByT5vYq2y5r3qp0+5x4jvcfov157RU1z/H5HHuOW2ufba1d01p7aWvtpdp7XcDrWmtrvw/wQpkyL35Dey+YVFVdo72HxR/f6VFmM+UcPyHpmyWpqr5Ke2X9Zzs9yvlzTtK/3n9V+NdL+mxr7cnjvmGrD4M33qp060w8xz8p6Usk/er+a/eeaK29rttBhzHxHMMpmXiePyjpW6rqUUl/I+mH2oHf7gdHM/Ec/6Ck/1pV36+9h2bfzAWUR1X9kvaeqrlm/7n/H5N0uSS11n5Oe68FeK2kxyQ9K+m7TrxPHAAAAIwN72AGAAAwOJQ1AADA4FDWAAAAg0NZAwAADA5lDQAAMDiUNQAAwOBQ1gAAAINDWQMAAAzO/wdZplIqksHUSAAAAABJRU5ErkJggg==\n",
          "text/plain": "<Figure size 576x576 with 1 Axes>"
         },
         "metadata": {},
         "output_type": "display_data"
        }
       ]
      }
     },
     "c7ba9f580e2f44f8ac3909cd4c8f07ca": {
      "model_module": "@jupyter-widgets/controls",
      "model_module_version": "1.3.0",
      "model_name": "TextModel",
      "state": {
       "layout": "IPY_MODEL_379abb9832dd4f10ba26fae67bfb7404",
       "style": "IPY_MODEL_3174b0b8fe36453f9f1722a66f36c830",
       "value": "1"
      }
     },
     "c7f79a0c5e07480b99d07262b57b30a8": {
      "model_module": "@jupyter-widgets/controls",
      "model_module_version": "1.3.0",
      "model_name": "BoundedIntTextModel",
      "state": {
       "description": "Coordinate on y-axis",
       "layout": "IPY_MODEL_f7225f7a6c2c405c86a47546c7301d43",
       "max": 3,
       "min": 1,
       "style": "IPY_MODEL_93933e6b1a5f42ff9040b5e278e5bfda",
       "value": 2
      }
     },
     "c915ed5a091a427cbc69d3fba09d3687": {
      "model_module": "@jupyter-widgets/base",
      "model_module_version": "1.1.0",
      "model_name": "LayoutModel",
      "state": {
       "width": "100px"
      }
     },
     "c93972de2a0740f9ac9c7cc8d4987423": {
      "model_module": "@jupyter-widgets/base",
      "model_module_version": "1.1.0",
      "model_name": "LayoutModel",
      "state": {
       "display": "none",
       "height": "150px",
       "width": "inherit"
      }
     },
     "c953dcded4aa4dc1a9846088470ec41b": {
      "model_module": "@jupyter-widgets/controls",
      "model_module_version": "1.3.0",
      "model_name": "HTMLModel",
      "state": {
       "layout": "IPY_MODEL_e46ff1c1188b4766ab710ffc669cfdb6",
       "style": "IPY_MODEL_e994f605e25540428f9fdcf5b01a83ca",
       "value": "Optional <b>path to the folder for the outputs of LatNeBuilder</b>. The contents of the folder may be overwritten. If the folder does not exist, it is created. If no path is provided, no output folder is created."
      }
     },
     "c9d70d68738d4f298605fc32647b6972": {
      "model_module": "@jupyter-widgets/controls",
      "model_module_version": "1.3.0",
      "model_name": "DescriptionStyleModel",
      "state": {
       "description_width": "initial"
      }
     },
     "ca129c325d904f57bfe51eae8842a0ca": {
      "model_module": "@jupyter-widgets/base",
      "model_module_version": "1.1.0",
      "model_name": "LayoutModel",
      "state": {
       "width": "50%"
      }
     },
     "ca17b0ba33654b258f8b89925e89be41": {
      "model_module": "@jupyter-widgets/controls",
      "model_module_version": "1.3.0",
      "model_name": "TextModel",
      "state": {
       "layout": "IPY_MODEL_1dd30479c1124c0ea1c961ed7a108c51",
       "style": "IPY_MODEL_c142b57cebb541739314326805ff9a2a",
       "value": "1"
      }
     },
     "cbaeca9b50794abeb66ee72cfdc5e43b": {
      "model_module": "@jupyter-widgets/controls",
      "model_module_version": "1.3.0",
      "model_name": "ProgressStyleModel",
      "state": {
       "description_width": "initial"
      }
     },
     "cbbc2f6cf44147c388d05ba4c66a4710": {
      "model_module": "@jupyter-widgets/controls",
      "model_module_version": "1.3.0",
      "model_name": "HTMLModel",
      "state": {
       "description": "<b> Command line: </b>",
       "layout": "IPY_MODEL_9e255366103d466c84666610d80eb419",
       "style": "IPY_MODEL_106eda9ae8954fe7bf0d03378a776c6e"
      }
     },
     "ccd75289d6b04732851bb5d783b04dae": {
      "model_module": "@jupyter-widgets/controls",
      "model_module_version": "1.3.0",
      "model_name": "HTMLMathModel",
      "state": {
       "layout": "IPY_MODEL_6e0ff947556743fba63642e3e524c8b3",
       "style": "IPY_MODEL_aac544996b36434dbe94a60b06a2080a",
       "value": "Set Order Weights \\( \\Gamma_k^q \\):"
      }
     },
     "cd05205a23fb4120af0fdf7a84ea00d5": {
      "model_module": "@jupyter-widgets/controls",
      "model_module_version": "1.3.0",
      "model_name": "DescriptionStyleModel",
      "state": {
       "description_width": "initial"
      }
     },
     "cd46e03fc6884fb88ab85b3333f39b0a": {
      "model_module": "@jupyter-widgets/base",
      "model_module_version": "1.1.0",
      "model_name": "LayoutModel",
      "state": {
       "height": "130px",
       "width": "600px"
      }
     },
     "cd807d6177404641b4086d6f92601c06": {
      "model_module": "@jupyter-widgets/base",
      "model_module_version": "1.1.0",
      "model_name": "LayoutModel",
      "state": {
       "width": "65%"
      }
     },
     "cd9706821bbb4e6b9b9a2f0b1757e200": {
      "model_module": "@jupyter-widgets/controls",
      "model_module_version": "1.3.0",
      "model_name": "DropdownModel",
      "state": {
       "_options_labels": [
        "Select type of weights",
        "Product",
        "Order-Dependent",
        "POD",
        "Projection-Dependent"
       ],
       "description": "<b> Add new weights: </b>",
       "index": 0,
       "layout": "IPY_MODEL_bc9dd76dbd96444ab5afceff1fcd780b",
       "style": "IPY_MODEL_32d62e5443f2405ab5fca991bc43c93d"
      }
     },
     "cdfa4c07b8974e03b998701ca1adf4b3": {
      "model_module": "@jupyter-widgets/controls",
      "model_module_version": "1.3.0",
      "model_name": "ButtonStyleModel",
      "state": {}
     },
     "cf1f401b32ff4c5ba4dc370e677d8579": {
      "model_module": "@jupyter-widgets/controls",
      "model_module_version": "1.3.0",
      "model_name": "DescriptionStyleModel",
      "state": {
       "description_width": "initial"
      }
     },
     "d05a855c8ac546d7899c1bdfabb5ea0f": {
      "model_module": "@jupyter-widgets/controls",
      "model_module_version": "1.3.0",
      "model_name": "DescriptionStyleModel",
      "state": {
       "description_width": ""
      }
     },
     "d141dda1546e44f89e36c24cd2b5be40": {
      "model_module": "@jupyter-widgets/controls",
      "model_module_version": "1.3.0",
      "model_name": "DescriptionStyleModel",
      "state": {
       "description_width": "initial"
      }
     },
     "d25d76f3ea0e4926a54b1e477fe90375": {
      "model_module": "@jupyter-widgets/base",
      "model_module_version": "1.1.0",
      "model_name": "LayoutModel",
      "state": {}
     },
     "d2d0cca5f81b4982b5c9cd1e9d229908": {
      "model_module": "@jupyter-widgets/controls",
      "model_module_version": "1.3.0",
      "model_name": "ToggleButtonModel",
      "state": {
       "description": "Abort search",
       "disabled": true,
       "layout": "IPY_MODEL_edc98637c0b4401bb9ab89f3b59cd2e8",
       "style": "IPY_MODEL_ac3ae388234d4bcba420bd5fb325f483"
      }
     },
     "d2da0d952b3343d6b93a0a435b10cd52": {
      "model_module": "@jupyter-widgets/controls",
      "model_module_version": "1.3.0",
      "model_name": "TabModel",
      "state": {
       "_titles": {
        "0": "Ordinary Lattice",
        "1": "Digital Net"
       },
       "children": [
        "IPY_MODEL_a102da5a5b794625bda9f851631dd078",
        "IPY_MODEL_a102da5a5b794625bda9f851631dd078"
       ],
       "layout": "IPY_MODEL_775c639efca64e1f9432a0c532f6e522"
      }
     },
     "d39d8fb5338b49cab63659ff46a07e34": {
      "model_module": "@jupyter-widgets/controls",
      "model_module_version": "1.3.0",
      "model_name": "DescriptionStyleModel",
      "state": {
       "description_width": ""
      }
     },
     "d5483944464645d596032ed16d1291d7": {
      "model_module": "@jupyter-widgets/base",
      "model_module_version": "1.1.0",
      "model_name": "LayoutModel",
      "state": {}
     },
     "d5be81f76ee040bc93503925a618fe0b": {
      "model_module": "@jupyter-widgets/base",
      "model_module_version": "1.1.0",
      "model_name": "LayoutModel",
      "state": {
       "height": "130px",
       "width": "600px"
      }
     },
     "d8ca2d609cad4e21b348f1169adbfcff": {
      "model_module": "@jupyter-widgets/base",
      "model_module_version": "1.1.0",
      "model_name": "LayoutModel",
      "state": {
       "height": "200px",
       "width": "600px"
      }
     },
     "da1900c099da45c1aa6965f9f6e5fea9": {
      "model_module": "@jupyter-widgets/base",
      "model_module_version": "1.1.0",
      "model_name": "LayoutModel",
      "state": {}
     },
     "da43ccf5a93c4786a414751246de3a48": {
      "model_module": "@jupyter-widgets/base",
      "model_module_version": "1.1.0",
      "model_name": "LayoutModel",
      "state": {}
     },
     "db67a18b8856456eab435564ed2b7fac": {
      "model_module": "@jupyter-widgets/base",
      "model_module_version": "1.1.0",
      "model_name": "LayoutModel",
      "state": {}
     },
     "dbb9cbc395284173b43d10877d91a549": {
      "model_module": "@jupyter-widgets/controls",
      "model_module_version": "1.3.0",
      "model_name": "AccordionModel",
      "state": {
       "_titles": {
        "0": "Figure of Merit"
       },
       "children": [
        "IPY_MODEL_85f7e7ec35484bbfb25b49a4048b2a0b"
       ],
       "layout": "IPY_MODEL_da43ccf5a93c4786a414751246de3a48"
      }
     },
     "dc6b2c23d1ca46fba2132824e0f0c1ab": {
      "model_module": "@jupyter-widgets/base",
      "model_module_version": "1.1.0",
      "model_name": "LayoutModel",
      "state": {
       "width": "20%"
      }
     },
     "dd8c6a12112040a585a67f78dc774b01": {
      "model_module": "@jupyter-widgets/base",
      "model_module_version": "1.1.0",
      "model_name": "LayoutModel",
      "state": {
       "display": "none"
      }
     },
     "de0c06eb48b84fe7b72e79035bcf2321": {
      "model_module": "@jupyter-widgets/controls",
      "model_module_version": "1.3.0",
      "model_name": "DescriptionStyleModel",
      "state": {
       "description_width": ""
      }
     },
     "de24d758eeb144748ac9648cc76ec5c8": {
      "model_module": "@jupyter-widgets/base",
      "model_module_version": "1.1.0",
      "model_name": "LayoutModel",
      "state": {
       "width": "100px"
      }
     },
     "de97e3d31a654852a70e3a8cd71f9dee": {
      "model_module": "@jupyter-widgets/controls",
      "model_module_version": "1.3.0",
      "model_name": "CheckboxModel",
      "state": {
       "description": "Multilevel",
       "disabled": false,
       "layout": "IPY_MODEL_411b118c257e46259cd93979efa8c0ce",
       "style": "IPY_MODEL_0bb69b4140c84cbf8a383993983a9ea3",
       "value": false
      }
     },
     "dee77176007d4b8483293f4981266d70": {
      "model_module": "@jupyter-widgets/controls",
      "model_module_version": "1.3.0",
      "model_name": "DescriptionStyleModel",
      "state": {
       "description_width": "initial"
      }
     },
     "def7b5f17fcf4eb9b8e0644e4d65c576": {
      "model_module": "@jupyter-widgets/controls",
      "model_module_version": "1.3.0",
      "model_name": "DescriptionStyleModel",
      "state": {
       "description_width": "initial"
      }
     },
     "df072a373a014addb66d745de6a07541": {
      "model_module": "@jupyter-widgets/controls",
      "model_module_version": "1.3.0",
      "model_name": "TextareaModel",
      "state": {
       "layout": "IPY_MODEL_0c55a0d6967449feba5a721cb0abb1b5",
       "placeholder": "0\n1\n1,1\n1,3,5",
       "style": "IPY_MODEL_0bdcb7c0478343d2ae33dbf0bb485d8d"
      }
     },
     "e002352bdcd142dc97fe567f479dbd99": {
      "model_module": "@jupyter-widgets/base",
      "model_module_version": "1.1.0",
      "model_name": "LayoutModel",
      "state": {}
     },
     "e0b4360d9bcd4404b4b6b5fa9626b20b": {
      "model_module": "@jupyter-widgets/base",
      "model_module_version": "1.1.0",
      "model_name": "LayoutModel",
      "state": {
       "width": "90%"
      }
     },
     "e122fd561a1a4e1db660d4ce41ed7958": {
      "model_module": "@jupyter-widgets/controls",
      "model_module_version": "1.3.0",
      "model_name": "VBoxModel",
      "state": {
       "children": [
        "IPY_MODEL_4358e18d6fd847c0b8de116a52f25aaf",
        "IPY_MODEL_b80b1122190445a485ab9bfb70649f43"
       ],
       "layout": "IPY_MODEL_dc6b2c23d1ca46fba2132824e0f0c1ab"
      }
     },
     "e1ef8d8821c640638142ad800a07f8f2": {
      "model_module": "@jupyter-widgets/base",
      "model_module_version": "1.1.0",
      "model_name": "LayoutModel",
      "state": {
       "display": "none"
      }
     },
     "e2ab7dd122684ac9ae1d7382b28c06aa": {
      "model_module": "@jupyter-widgets/controls",
      "model_module_version": "1.3.0",
      "model_name": "HBoxModel",
      "state": {
       "children": [
        "IPY_MODEL_aaea76343b964379bf4740153195dc88",
        "IPY_MODEL_043448852b5e4dd78ea2bf5458a5f53c"
       ],
       "layout": "IPY_MODEL_5fd2d244403a4129a3b9032fdcbf6b2f"
      }
     },
     "e2da75fbdbe44d1497fb2ab6fae9e3c2": {
      "model_module": "@jupyter-widgets/controls",
      "model_module_version": "1.3.0",
      "model_name": "CheckboxModel",
      "state": {
       "description": "Multilevel",
       "disabled": false,
       "layout": "IPY_MODEL_434b1d3ce5bf40e3aef04713242a3aea",
       "style": "IPY_MODEL_d05a855c8ac546d7899c1bdfabb5ea0f",
       "value": false
      }
     },
     "e2e78857ebe646c6a2ac9cb55a8b1879": {
      "model_module": "@jupyter-widgets/base",
      "model_module_version": "1.1.0",
      "model_name": "LayoutModel",
      "state": {
       "width": "100px"
      }
     },
     "e3942d363bc746d9b307edbe0bc4d16e": {
      "model_module": "@jupyter-widgets/controls",
      "model_module_version": "1.3.0",
      "model_name": "DescriptionStyleModel",
      "state": {
       "description_width": "initial"
      }
     },
     "e3a0010969984315bf86dee112865506": {
      "model_module": "@jupyter-widgets/controls",
      "model_module_version": "1.3.0",
      "model_name": "TextModel",
      "state": {
       "description": "OR set all at once with (valid Python) expression: \\( \\Gamma_k^q \\) =",
       "layout": "IPY_MODEL_2f2842959c6b4fabbb2d3fc12e168bb3",
       "placeholder": "0.8^k * (k <= 3)",
       "style": "IPY_MODEL_26f70408d6c44586a1e054b5d994282c"
      }
     },
     "e3f5703f903c439e87d4ec13f5ed7ab1": {
      "model_module": "@jupyter-widgets/controls",
      "model_module_version": "1.3.0",
      "model_name": "TextModel",
      "state": {
       "description": "If you want to extend, please specify the former modulus:",
       "layout": "IPY_MODEL_00aaa13758fc40e592f705f02e732245",
       "placeholder": "e.g. 2^8 or 256",
       "style": "IPY_MODEL_d141dda1546e44f89e36c24cd2b5be40"
      }
     },
     "e4410fa931114e38b08b1347b15a423e": {
      "model_module": "@jupyter-widgets/controls",
      "model_module_version": "1.3.0",
      "model_name": "HBoxModel",
      "state": {
       "children": [
        "IPY_MODEL_c7b03bd9af7b41248ef5fbd7caff42cb",
        "IPY_MODEL_336386267ad444d1adfc6fe3dbb917bf"
       ],
       "layout": "IPY_MODEL_2809bb18c17546d4b906a3658dc162a8"
      }
     },
     "e46d50e240a14e2491c00c03e5b05b96": {
      "model_module": "@jupyter-widgets/base",
      "model_module_version": "1.1.0",
      "model_name": "LayoutModel",
      "state": {
       "display": "none"
      }
     },
     "e46ff1c1188b4766ab710ffc669cfdb6": {
      "model_module": "@jupyter-widgets/base",
      "model_module_version": "1.1.0",
      "model_name": "LayoutModel",
      "state": {}
     },
     "e58dd2b0883942dc8698f6878852e9b2": {
      "model_module": "@jupyter-widgets/controls",
      "model_module_version": "1.3.0",
      "model_name": "DescriptionStyleModel",
      "state": {
       "description_width": "initial"
      }
     },
     "e5d8f0607d1b42e69a9e9a9941ab690e": {
      "model_module": "@jupyter-widgets/controls",
      "model_module_version": "1.3.0",
      "model_name": "DescriptionStyleModel",
      "state": {
       "description_width": ""
      }
     },
     "e668f5471c38406d83d0ebcca354b691": {
      "model_module": "@jupyter-widgets/base",
      "model_module_version": "1.1.0",
      "model_name": "LayoutModel",
      "state": {
       "align_items": "center"
      }
     },
     "e6d5d725929b4c30822b187a8911057d": {
      "model_module": "@jupyter-widgets/base",
      "model_module_version": "1.1.0",
      "model_name": "LayoutModel",
      "state": {
       "height": "150px",
       "width": "inherit"
      }
     },
     "e7a7f010eb5a47e7a8c780ff1436684c": {
      "model_module": "@jupyter-widgets/controls",
      "model_module_version": "1.3.0",
      "model_name": "TextModel",
      "state": {
       "layout": "IPY_MODEL_a5f82f35701048a9b599aa95a671e965",
       "style": "IPY_MODEL_22fe7cc15b8746fea2c73bdb48c53e1d",
       "value": "0.64"
      }
     },
     "e8fede89c0ac4005aa15ba108c868924": {
      "model_module": "@jupyter-widgets/controls",
      "model_module_version": "1.3.0",
      "model_name": "DescriptionStyleModel",
      "state": {
       "description_width": ""
      }
     },
     "e95271bfa0374b0f9e9eb103ece4d1e1": {
      "model_module": "@jupyter-widgets/controls",
      "model_module_version": "1.3.0",
      "model_name": "HTMLMathModel",
      "state": {
       "layout": "IPY_MODEL_db67a18b8856456eab435564ed2b7fac",
       "style": "IPY_MODEL_6d36885a3bc04b15af2e8af0b3768072",
       "value": "<p> The nets follow the Sobol construction, and the direction numbers are optimized. The first matrix is always the same (reversed identity), so the first direction number is arbitrarly set to 0.</p>"
      }
     },
     "e994f605e25540428f9fdcf5b01a83ca": {
      "model_module": "@jupyter-widgets/controls",
      "model_module_version": "1.3.0",
      "model_name": "DescriptionStyleModel",
      "state": {
       "description_width": "initial"
      }
     },
     "ea094064afab4e88921959b8dbb83ffb": {
      "model_module": "@jupyter-widgets/base",
      "model_module_version": "1.1.0",
      "model_name": "LayoutModel",
      "state": {
       "margin": "30px 0px 0px 0px"
      }
     },
     "ecf24da43c514a44997de3c020ad8876": {
      "model_module": "@jupyter-widgets/controls",
      "model_module_version": "1.3.0",
      "model_name": "DescriptionStyleModel",
      "state": {
       "description_width": ""
      }
     },
     "ed76563d63634264b4aae618dc0761d2": {
      "model_module": "@jupyter-widgets/controls",
      "model_module_version": "1.3.0",
      "model_name": "HBoxModel",
      "state": {
       "children": [
        "IPY_MODEL_2a94292f76f742fd9cbbf9cc6257a6c2",
        "IPY_MODEL_228183c606aa4b9aa231b7fe0d72b2c7",
        "IPY_MODEL_0c898e25cedc4d05a30b76332221b878"
       ],
       "layout": "IPY_MODEL_0ab6d543767f41f688d2cd2a6f82619f"
      }
     },
     "ed8e0b0b83054ade9b9057cb26baec83": {
      "model_module": "@jupyter-widgets/controls",
      "model_module_version": "1.3.0",
      "model_name": "DescriptionStyleModel",
      "state": {
       "description_width": ""
      }
     },
     "edc98637c0b4401bb9ab89f3b59cd2e8": {
      "model_module": "@jupyter-widgets/base",
      "model_module_version": "1.1.0",
      "model_name": "LayoutModel",
      "state": {}
     },
     "ee452c5d60fa48f19654102588b72171": {
      "model_module": "@jupyter-widgets/controls",
      "model_module_version": "1.3.0",
      "model_name": "DescriptionStyleModel",
      "state": {
       "description_width": "initial"
      }
     },
     "ee5b9e1814864d5bb3438b9bdc7cfeb7": {
      "model_module": "@jupyter-widgets/controls",
      "model_module_version": "1.3.0",
      "model_name": "ButtonStyleModel",
      "state": {}
     },
     "eee54475bd234b64b3b9c99d9bbf12ad": {
      "model_module": "@jupyter-widgets/controls",
      "model_module_version": "1.3.0",
      "model_name": "TextareaModel",
      "state": {
       "layout": "IPY_MODEL_c93972de2a0740f9ac9c7cc8d4987423",
       "placeholder": "1 0 0\n0 1 0\n0 0 1\n\n1 1 0\n1 0 1\n0 1 1",
       "style": "IPY_MODEL_ed8e0b0b83054ade9b9057cb26baec83"
      }
     },
     "eef8240f0fb84bcf9f4046bd9dc0c0c7": {
      "model_module": "@jupyter-widgets/controls",
      "model_module_version": "1.3.0",
      "model_name": "VBoxModel",
      "state": {
       "children": [
        "IPY_MODEL_481f9a3b3f3d402fb476b22d881ec62c",
        "IPY_MODEL_2a01ad7b3b1847dda742bb926948d831"
       ],
       "layout": "IPY_MODEL_ca129c325d904f57bfe51eae8842a0ca"
      }
     },
     "ef172eef77924a5488c25854dda2bdcb": {
      "model_module": "@jupyter-widgets/base",
      "model_module_version": "1.1.0",
      "model_name": "LayoutModel",
      "state": {
       "width": "100px"
      }
     },
     "ef8ecc09790e43c8ae5773de34e14dcb": {
      "model_module": "@jupyter-widgets/controls",
      "model_module_version": "1.3.0",
      "model_name": "DescriptionStyleModel",
      "state": {
       "description_width": "initial"
      }
     },
     "f0217250051c498f9a0f69c5228a2091": {
      "model_module": "@jupyter-widgets/controls",
      "model_module_version": "1.3.0",
      "model_name": "ToggleButtonsModel",
      "state": {
       "_options_labels": [
        "Ordinary",
        "Polynomial"
       ],
       "button_style": "",
       "description": "Choose one:",
       "icons": [],
       "index": 0,
       "layout": "IPY_MODEL_03064919683b49d3a72ad959b7cfc4a9",
       "style": "IPY_MODEL_7c4c26f2b680407b89f55e670e8b3c21",
       "tooltips": []
      }
     },
     "f31ed31585394a42a238054fa2c4b88d": {
      "model_module": "@jupyter-widgets/controls",
      "model_module_version": "1.3.0",
      "model_name": "TextModel",
      "state": {
       "description": "Low-Pass Threshold",
       "layout": "IPY_MODEL_bfa6bd2fa09e4d9ea4408d91de44e061",
       "style": "IPY_MODEL_c9d70d68738d4f298605fc32647b6972",
       "value": "1"
      }
     },
     "f3a8f25bd79d47ca90aa3cc7ecf9ee50": {
      "model_module": "@jupyter-widgets/base",
      "model_module_version": "1.1.0",
      "model_name": "LayoutModel",
      "state": {
       "display": "none"
      }
     },
     "f3ab9f82469e4c40becde01b713779b3": {
      "model_module": "@jupyter-widgets/controls",
      "model_module_version": "1.3.0",
      "model_name": "TextModel",
      "state": {
       "layout": "IPY_MODEL_481fbc3099864d41a648f580a84fa351",
       "style": "IPY_MODEL_e3942d363bc746d9b307edbe0bc4d16e",
       "value": "1"
      }
     },
     "f402095f85ea428c92fe404a9d0e3906": {
      "model_module": "@jupyter-widgets/base",
      "model_module_version": "1.1.0",
      "model_name": "LayoutModel",
      "state": {}
     },
     "f4d70e9da55442eea093d3ae31e1e849": {
      "model_module": "@jupyter-widgets/controls",
      "model_module_version": "1.3.0",
      "model_name": "DescriptionStyleModel",
      "state": {
       "description_width": "initial"
      }
     },
     "f4f849ec6c0d41f2a224bb60e981fe4b": {
      "model_module": "@jupyter-widgets/base",
      "model_module_version": "1.1.0",
      "model_name": "LayoutModel",
      "state": {}
     },
     "f5ef5cb6d0784b048e1aeb3457d12429": {
      "model_module": "@jupyter-widgets/controls",
      "model_module_version": "1.3.0",
      "model_name": "TextModel",
      "state": {
       "layout": "IPY_MODEL_de24d758eeb144748ac9648cc76ec5c8",
       "style": "IPY_MODEL_cf1f401b32ff4c5ba4dc370e677d8579",
       "value": "1"
      }
     },
     "f680fa6aa3174849927a4ffe214f72c6": {
      "model_module": "@jupyter-widgets/controls",
      "model_module_version": "1.3.0",
      "model_name": "HBoxModel",
      "state": {
       "children": [
        "IPY_MODEL_6ec423fdd6e64cbc94a07bba9ce733ed",
        "IPY_MODEL_7121da21377249e1ab73dbf8f688a630",
        "IPY_MODEL_31e614c265bc4ff2b5bd7dd830842df7"
       ],
       "layout": "IPY_MODEL_6af2b635a1354a378bd1caa0fd301781"
      }
     },
     "f7225f7a6c2c405c86a47546c7301d43": {
      "model_module": "@jupyter-widgets/base",
      "model_module_version": "1.1.0",
      "model_name": "LayoutModel",
      "state": {
       "width": "180px"
      }
     },
     "f87788ba83fe4e0aa5071e7f099f1f9e": {
      "model_module": "@jupyter-widgets/controls",
      "model_module_version": "1.3.0",
      "model_name": "TextModel",
      "state": {
       "description": "Max Level (optional):",
       "layout": "IPY_MODEL_82c38f55841144238a0b16930b6c7513",
       "placeholder": "10",
       "style": "IPY_MODEL_705ca8450d5f4a16bb536e402641a89c"
      }
     },
     "f89b1047c9224f24b183815377f926b8": {
      "model_module": "@jupyter-widgets/base",
      "model_module_version": "1.1.0",
      "model_name": "LayoutModel",
      "state": {
       "width": "100px"
      }
     },
     "f8c7641c1138454d98997a2e02098823": {
      "model_module": "@jupyter-widgets/controls",
      "model_module_version": "1.3.0",
      "model_name": "DescriptionStyleModel",
      "state": {
       "description_width": "initial"
      }
     },
     "f90a02b5d1874808a49fa5ecb492a9df": {
      "model_module": "@jupyter-widgets/controls",
      "model_module_version": "1.3.0",
      "model_name": "ToggleButtonsModel",
      "state": {
       "_options_labels": [
        "Evaluate/Extend",
        "All space",
        "Korobov",
        "CBC",
        "Fast CBC"
       ],
       "button_style": "",
       "description": "Choose one:",
       "icons": [],
       "index": 4,
       "layout": "IPY_MODEL_2cdde462845b445098eb219e474798b9",
       "style": "IPY_MODEL_97e4dd4ab8c0428ca07af08f54ffe683",
       "tooltips": []
      }
     },
     "f91212998e3c42e69e73ca7ce1a789f1": {
      "model_module": "@jupyter-widgets/controls",
      "model_module_version": "1.3.0",
      "model_name": "BoundedIntTextModel",
      "state": {
       "description": "Coordinate on x-axis",
       "layout": "IPY_MODEL_3b4e56fddb6b4d2789d753d72c6c1dbe",
       "max": 3,
       "min": 1,
       "style": "IPY_MODEL_e58dd2b0883942dc8698f6878852e9b2",
       "value": 1
      }
     },
     "f96fb3b8e6114bf9bc9eafbf048e87e7": {
      "model_module": "@jupyter-widgets/base",
      "model_module_version": "1.1.0",
      "model_name": "LayoutModel",
      "state": {
       "height": "100px",
       "width": "600px"
      }
     },
     "face98b7f0c24eff8f77135ac2297501": {
      "model_module": "@jupyter-widgets/base",
      "model_module_version": "1.1.0",
      "model_name": "LayoutModel",
      "state": {
       "display": "none",
       "margin": "40px 0px 0px 0px",
       "width": "200px"
      }
     },
     "fb49b3e0dc924be8895848b0cfbe012f": {
      "model_module": "@jupyter-widgets/base",
      "model_module_version": "1.1.0",
      "model_name": "LayoutModel",
      "state": {}
     },
     "fb5690f02e2c4c42ac8a49d2c868f49a": {
      "model_module": "@jupyter-widgets/base",
      "model_module_version": "1.1.0",
      "model_name": "LayoutModel",
      "state": {
       "width": "900px"
      }
     },
     "fb7ae11b160049bb811b197d5b785223": {
      "model_module": "@jupyter-widgets/controls",
      "model_module_version": "1.3.0",
      "model_name": "VBoxModel",
      "state": {
       "children": [
        "IPY_MODEL_98da988ce0e4488b911eaba9b7faba2b",
        "IPY_MODEL_127b4ff4bc4846acb599c1433069cba8",
        "IPY_MODEL_5cd7e32153fb4ec891619ddd79147ad3",
        "IPY_MODEL_2f5a9fafef5249bdab6cab770d4eb691",
        "IPY_MODEL_71a42e8f5e6c49f285999fad8a2e1c31",
        "IPY_MODEL_8cf19fb331d244a681073f0036503a37",
        "IPY_MODEL_9ed89c39d7c040f4b7a400ef01d48385",
        "IPY_MODEL_1af81b448b704bbdb8623d037824901c",
        "IPY_MODEL_78d37050220b4bc8b2e1402d27fb3934",
        "IPY_MODEL_967c118cdce74a10ba9e8dd5f9e74f94",
        "IPY_MODEL_5855bb16c2674634bc4117eb22239f37",
        "IPY_MODEL_515b5914031c42718c216cdbc740a5ca",
        "IPY_MODEL_98ea3892343c4dc2a0197fe49e1cc47d"
       ],
       "layout": "IPY_MODEL_3e9ef11655824b3d92607e5dc2cf0eaf"
      }
     },
     "fc25014707834456a7846fb835523aa9": {
      "model_module": "@jupyter-widgets/controls",
      "model_module_version": "1.3.0",
      "model_name": "ButtonModel",
      "state": {
       "description": "Joe and Kuo direction numbers",
       "layout": "IPY_MODEL_3b2b8c308eb2444a9359fbd94747daba",
       "style": "IPY_MODEL_cdfa4c07b8974e03b998701ca1adf4b3"
      }
     },
     "fc2d4e97867f4a36815ca19adc4c1634": {
      "model_module": "@jupyter-widgets/controls",
      "model_module_version": "1.3.0",
      "model_name": "DescriptionStyleModel",
      "state": {
       "description_width": ""
      }
     },
     "fc4f61ce4ad849ed8ee6caf7f25cd9b0": {
      "model_module": "@jupyter-widgets/controls",
      "model_module_version": "1.3.0",
      "model_name": "VBoxModel",
      "state": {
       "children": [
        "IPY_MODEL_92a7e171c6694448a2387984d85258fa",
        "IPY_MODEL_6a9f67d2619f41ef95ece4e00a081760"
       ],
       "layout": "IPY_MODEL_3f46740097004fcda7b5c51fcb5102fa"
      }
     },
     "fc70fddbafcd4803a27230a03888f836": {
      "model_module": "@jupyter-widgets/base",
      "model_module_version": "1.1.0",
      "model_name": "LayoutModel",
      "state": {}
     },
     "fd0d9eacfe4144efa56bb2153143e59d": {
      "model_module": "@jupyter-widgets/controls",
      "model_module_version": "1.3.0",
      "model_name": "ButtonModel",
      "state": {
       "description": "Remove",
       "layout": "IPY_MODEL_0fe05035ed494dcda50beac173659a75",
       "style": "IPY_MODEL_ee5b9e1814864d5bb3438b9bdc7cfeb7",
       "tooltip": "Remove this type of weights"
      }
     },
     "fd4187ff568f4a8e8359941593f7d469": {
      "model_module": "@jupyter-widgets/controls",
      "model_module_version": "1.3.0",
      "model_name": "ProgressStyleModel",
      "state": {
       "description_width": "initial"
      }
     },
     "fd604de316674c86bcff0da7dfcd1b87": {
      "model_module": "@jupyter-widgets/controls",
      "model_module_version": "1.3.0",
      "model_name": "DescriptionStyleModel",
      "state": {
       "description_width": "initial"
      }
     },
     "fd74dac459c343f3b70abae1c121ca02": {
      "model_module": "@jupyter-widgets/base",
      "model_module_version": "1.1.0",
      "model_name": "LayoutModel",
      "state": {}
     },
     "fd95bcc325c54ea08428127593765710": {
      "model_module": "@jupyter-widgets/controls",
      "model_module_version": "1.3.0",
      "model_name": "DescriptionStyleModel",
      "state": {
       "description_width": "initial"
      }
     },
     "fdc0b597f0cf4ff3a87f3ef418811c9b": {
      "model_module": "@jupyter-widgets/controls",
      "model_module_version": "1.3.0",
      "model_name": "DescriptionStyleModel",
      "state": {
       "description_width": ""
      }
     },
     "feb456aabd794c32b7af8c1dd63558d7": {
      "model_module": "@jupyter-widgets/controls",
      "model_module_version": "1.3.0",
      "model_name": "TextModel",
      "state": {
       "description": "Value of \\(\\alpha\\):",
       "layout": "IPY_MODEL_4263312355f741ef9de91138f273079e",
       "style": "IPY_MODEL_7fc076a14d4e4d91bddcb255d58cb330",
       "value": "2"
      }
     },
     "ffd68edbd7d4477ab98ef70803bce7a8": {
      "model_module": "@jupyter-widgets/controls",
      "model_module_version": "1.3.0",
      "model_name": "DescriptionStyleModel",
      "state": {
       "description_width": "initial"
      }
     }
    },
    "version_major": 2,
    "version_minor": 0
   }
  }
 },
 "nbformat": 4,
 "nbformat_minor": 2
}
